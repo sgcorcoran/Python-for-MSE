{
 "cells": [
  {
   "cell_type": "markdown",
   "metadata": {},
   "source": [
    "# Short Lesson: Markdown"
   ]
  },
  {
   "cell_type": "markdown",
   "metadata": {},
   "source": [
    "### Here is a simple numbered list"
   ]
  },
  {
   "cell_type": "markdown",
   "metadata": {},
   "source": [
    "1. import libraries numpy, sympy, matplotlib  \n",
    "2. symbolically manipulate an equation using sympy.solve()  \n",
    "3. generate x and y data for a function using numpy.arange()  \n",
    "4. plot the x, y data using matplotlib.pyplot.plot()  \n",
    "5. add horizontal lines and text to a plot  "
   ]
  },
  {
   "cell_type": "markdown",
   "metadata": {},
   "source": [
    "### Here is an example of including equations in markdown"
   ]
  },
  {
   "cell_type": "markdown",
   "metadata": {},
   "source": [
    "For equations, place laytex code between $\\text{\\$\\$}$ e.g.   \n",
    "$$\\text{\\$\\$ x = 3 \\$\\$}$$ which gives us: \n",
    "$$ x=3 $$"
   ]
  },
  {
   "cell_type": "markdown",
   "metadata": {},
   "source": [
    "If we type for example:  \n",
    "$$ \\text {\\$\\$ \\text{% crystallinity} =  \\frac{\\rho_c (\\rho_s - \\rho_a)}{\\rho_s (\\rho_c - \\rho_a)} \\$\\$} $$  \n",
    "we will get:  \n",
    " $$  \\mathbf{\\text{% crystallinity} =  \\frac{\\rho_c (\\rho_s - \\rho_a)}{\\rho_s (\\rho_c - \\rho_a)}} $$"
   ]
  },
  {
   "cell_type": "markdown",
   "metadata": {},
   "source": [
    "Use an online laytex equation editor to get your code and then just paste between the double dollar signs.  Just search \"laytex equation editor\" in google to find one.  "
   ]
  },
  {
   "cell_type": "code",
   "execution_count": null,
   "metadata": {},
   "outputs": [],
   "source": []
  }
 ],
 "metadata": {
  "jupytext": {
   "formats": "ipynb,md"
  },
  "kernelspec": {
   "display_name": "Python 3 (ipykernel)",
   "language": "python",
   "name": "python3"
  },
  "language_info": {
   "codemirror_mode": {
    "name": "ipython",
    "version": 3
   },
   "file_extension": ".py",
   "mimetype": "text/x-python",
   "name": "python",
   "nbconvert_exporter": "python",
   "pygments_lexer": "ipython3",
   "version": "3.10.6"
  }
 },
 "nbformat": 4,
 "nbformat_minor": 4
}
