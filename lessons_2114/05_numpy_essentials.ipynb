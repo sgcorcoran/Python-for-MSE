{
 "cells": [
  {
   "cell_type": "markdown",
   "metadata": {},
   "source": [
    "# Reviewing essential concepts of Numpy"
   ]
  },
  {
   "cell_type": "markdown",
   "metadata": {
    "tags": []
   },
   "source": [
    ":::{admonition} Learning Objectives  \n",
    "Be able to:\n",
    "* import libraries `numpy`, `sympy`, `matplotlib`;\n",
    "* symbolically manipulate an equation using `sympy.solve()`;\n",
    "* generate x and y data for a function using `numpy.linspace()`;\n",
    "* plot the x, y data using `matplotlib.pyplot.plot()`;\n",
    "* add horizontal lines and text to a plot; and\n",
    "* use pandas `read_csv` to open a data file\n",
    "* group (aggregate) data using pandas:  `groupby()`, `sum()`, `mean()`\n",
    ":::"
   ]
  },
  {
   "cell_type": "markdown",
   "metadata": {},
   "source": [
    "*You will need the following extensions:*"
   ]
  },
  {
   "cell_type": "code",
   "execution_count": 1,
   "metadata": {
    "tags": []
   },
   "outputs": [],
   "source": [
    "import numpy as np\n",
    "import matplotlib.pyplot as plt\n",
    "import pandas as pd\n",
    "from sympy.solvers import solve #for solving equations symbolically\n",
    "from sympy import symbols #for solving equations symbolically"
   ]
  },
  {
   "cell_type": "markdown",
   "metadata": {},
   "source": [
    "Suggested video lessons:\n",
    "\n",
    "Why use numpy arrays (7 min):  https://www.linkedin.com/learning/numpy-data-science-essential-training/create-arrays-from-python-structures?u=57888345\n",
    "\n",
    "Array creation (7 min): https://www.linkedin.com/learning/numpy-data-science-essential-training/intrinsic-creation-using-numpy-methods?u=57888345\n",
    "\n",
    "linspace(), zeros(), ones() and numpy data types (9 min):  https://www.linkedin.com/learning/numpy-data-science-essential-training/linspace-zeros-ones-data-types?u=57888345\n"
   ]
  },
  {
   "cell_type": "markdown",
   "metadata": {},
   "source": [
    "## Anisotropy of thermal expansion coefficient"
   ]
  },
  {
   "cell_type": "markdown",
   "metadata": {},
   "source": [
    "Let's take a look at the anisotropy of thermal expansion in a crystal of zinc. We will take the z-axis to be perpendicular to the close-packed planes.  In the x-y plane, the thermal expansion is isotropic but in the x-z or y-z plane zinc is highly anisotropic.  The thermal expansion in a [uvw] direction can be found from: $$\\alpha_{uvw} = \\alpha_x\\times(n_x^2+n_y^2)+\\alpha_z\\times n_z^2$$ where $n_x, n_y, n_z$ are the x,y,z components of the unit vector $\\frac{[u v w]}{\\sqrt{u^2+v^2+w^2}}$ i.e. $$(n_x, n_y, n_z)=\\frac{(u,v,w)}{\\sqrt{u^2+v^2+w^2}}$$. \n",
    "\n"
   ]
  },
  {
   "cell_type": "code",
   "execution_count": null,
   "metadata": {},
   "outputs": [],
   "source": [
    "import numpy as np\n",
    "import matplotlib.pyplot as plt"
   ]
  },
  {
   "cell_type": "markdown",
   "metadata": {},
   "source": [
    "### Let's look at an example for zinc\n",
    "For zinc $\\alpha_{x}=14\\times 10^{-6} \\ \\ {^\\circ C}^{-1}$ and $\\alpha_{z}=55\\times 10^{-6} \\ \\ {^\\circ} C^{-1}$"
   ]
  },
  {
   "cell_type": "markdown",
   "metadata": {},
   "source": [
    "First let's write a function to find the unit vector in the direction of u,v,w"
   ]
  },
  {
   "cell_type": "code",
   "execution_count": null,
   "metadata": {},
   "outputs": [],
   "source": [
    "def unitvec(u,v,w):\n",
    "    mag=np.sqrt(u**2+v**2+w**2)\n",
    "    return [u,v,w]/mag"
   ]
  },
  {
   "cell_type": "code",
   "execution_count": null,
   "metadata": {},
   "outputs": [],
   "source": [
    "# let's test some values for our function unitvec()\n",
    "print(unitvec(1,0,0))\n",
    "print(unitvec(1,1,0))\n",
    "print(unitvec(1,1,1))"
   ]
  },
  {
   "cell_type": "code",
   "execution_count": null,
   "metadata": {},
   "outputs": [],
   "source": [
    "# What would the values of nx, ny, and nz be for a [uvw] direction = [120]\n",
    "print(f'unit vector in direction [012] is: {unitvec(0,1,2)}')\n",
    "print(f'therefore nx is just the first value = {unitvec(0,1,2)[0]}')\n",
    "print(f'ny the second = {unitvec(0,1,2)[1]}')\n",
    "print(f'and nz the third = {unitvec(0,1,2)[2]}')"
   ]
  },
  {
   "cell_type": "markdown",
   "metadata": {},
   "source": [
    "Substituting into the following (with $\\alpha_x = 14$ and $\\alpha_z=55$)\n",
    "$$\\alpha_{uvw} = \\alpha_x\\times(n_x^2+n_y^2)+\\alpha_z\\times n_z^2$$\n",
    "gives the thermal expansion in the [012] direction"
   ]
  },
  {
   "cell_type": "code",
   "execution_count": null,
   "metadata": {},
   "outputs": [],
   "source": [
    "# alpha_x*(nx**2+ny**2)+alpha_z*nz**2\n",
    "14*(0**2+0.4472136**2)+55*0.89442719**2  #in units 10^-6 C^-1"
   ]
  },
  {
   "cell_type": "code",
   "execution_count": null,
   "metadata": {},
   "outputs": [],
   "source": [
    "# write a def to find alpha\n",
    "def alpha(nx,ny,nz,ax,az):\n",
    "    return ax*(nx**2+ny**2)+az*nz**2"
   ]
  },
  {
   "cell_type": "code",
   "execution_count": null,
   "metadata": {},
   "outputs": [],
   "source": [
    "# let's find alpha in a couple of additional directions\n",
    "#first let's confirm our answer above [012] that we did above\n",
    "uvw012=unitvec(0,1,2)\n",
    "alpha(uvw012[0],uvw012[1],uvw012[2], 14, 55)"
   ]
  },
  {
   "cell_type": "code",
   "execution_count": null,
   "metadata": {},
   "outputs": [],
   "source": [
    "# let's look at directions [[0,1,2], [0,0,1], [0,1,0], [0,1,1]]\n",
    "#in your problem you would find these using random number and \n",
    "#in your problem the w values are all zero rather than the u values as below\n",
    "ulist=np.array([0,0,0,0]) \n",
    "vlist=np.array([1,0,1,1])\n",
    "wlist=np.array([2,1,0,1])\n",
    "#unitvectors\n",
    "u_unit=unitvec(ulist,vlist,wlist)[0]\n",
    "v_unit=unitvec(ulist,vlist,wlist)[1]\n",
    "w_unit=unitvec(ulist,vlist,wlist)[2]\n",
    "#corresponding expansion coeff.\n",
    "alphalist= alpha(u_unit,v_unit,w_unit, 14, 55)\n",
    "print(alphalist)"
   ]
  },
  {
   "cell_type": "code",
   "execution_count": null,
   "metadata": {},
   "outputs": [],
   "source": [
    "# here we take unit vector components v & w and scale by alpha\n",
    "xdata=alphalist*v_unit \n",
    "ydata=alphalist*w_unit\n",
    "# plot direction (v_unit,w_unit)*alphalist\n",
    "plt.plot(xdata, ydata, 'ro')\n",
    "plt.axes().set_aspect('equal')\n",
    "plt.show()"
   ]
  },
  {
   "cell_type": "markdown",
   "metadata": {},
   "source": [
    ">If you imagine a vector from (0,0) to any point in the figure above. The length of that vector is equal to the thermal expansion coefficient in that direction.  "
   ]
  },
  {
   "cell_type": "markdown",
   "metadata": {},
   "source": [
    "There are many ways to improve the visual appeal of our plot.  "
   ]
  },
  {
   "cell_type": "code",
   "execution_count": null,
   "metadata": {},
   "outputs": [],
   "source": [
    "# main plot of xdata, ydata defined previously\n",
    "plt.plot(xdata, ydata, 'bo') # 'bo' means blue point\n",
    "plt.axes().set_aspect('equal')  # aspect ratio set equal so that scales on x and y are equal\n",
    "\n",
    "# comment out the line below when you don't know the axes limits\n",
    "plt.axis([0,30,0,60]) # setting plot axes [xmin, xmax, ymin, ymax]\n",
    "\n",
    "# add title and label axes\n",
    "plt.title('Thermal expansion coeff')\n",
    "plt.xlabel(r'$10^{-6}\\ ^\\circ C^{-1}$', fontsize=14) \n",
    "plt.ylabel(r'$10^{-6}\\ ^\\circ C^{-1}$', fontsize=14)\n",
    "\n",
    "# add arrows (xstart, ystart, change in x, change in y)\n",
    "# arrow(startx,starty,length_in_x, length_in_y)\n",
    "plt.arrow(0,0,34.5*unitvec(0,1,1)[1], 34.5*unitvec(0,1,1)[2], length_includes_head=True,width=0.5,head_length=4, head_width=3)\n",
    "\n",
    "# add text xy=[xcoord,ycoord] use plot axis values to place text\n",
    "plt.annotate('[011]',xy=[17,27])\n",
    "\n",
    "# put it all together\n",
    "plt.show()"
   ]
  },
  {
   "cell_type": "markdown",
   "metadata": {},
   "source": [
    "Practice problem P1:  your on your own!"
   ]
  }
 ],
 "metadata": {
  "jupytext": {
   "formats": "ipynb,md"
  },
  "kernelspec": {
   "display_name": "Python 3 (ipykernel)",
   "language": "python",
   "name": "python3"
  },
  "language_info": {
   "codemirror_mode": {
    "name": "ipython",
    "version": 3
   },
   "file_extension": ".py",
   "mimetype": "text/x-python",
   "name": "python",
   "nbconvert_exporter": "python",
   "pygments_lexer": "ipython3",
   "version": "3.10.6"
  },
  "toc": {
   "base_numbering": 1,
   "nav_menu": {},
   "number_sections": true,
   "sideBar": true,
   "skip_h1_title": false,
   "title_cell": "Table of Contents",
   "title_sidebar": "Contents",
   "toc_cell": false,
   "toc_position": {},
   "toc_section_display": true,
   "toc_window_display": false
  }
 },
 "nbformat": 4,
 "nbformat_minor": 4
}
