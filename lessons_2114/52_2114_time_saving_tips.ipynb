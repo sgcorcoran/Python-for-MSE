{
 "cells": [
  {
   "cell_type": "markdown",
   "id": "606e1178-df50-4fc2-beba-4db227e9f73e",
   "metadata": {},
   "source": [
    "# Time Saving Tips & Tricks"
   ]
  },
  {
   "cell_type": "markdown",
   "id": "46242808-4404-410c-ad6a-a836e5f53ded",
   "metadata": {},
   "source": [
    "## Commenting out multiple lines of code"
   ]
  },
  {
   "cell_type": "markdown",
   "id": "9073cf61-6095-4618-9036-537b95c832f1",
   "metadata": {},
   "source": [
    "To comment out multiple lines of code:  \n",
    "1. Highlight the lines you want to comment\n",
    "2. press CTRL+/\n",
    "\n",
    "To uncomment, just repeat the above.  "
   ]
  },
  {
   "cell_type": "markdown",
   "id": "8ad4e823-b30a-458e-a144-a038bca1d0c9",
   "metadata": {},
   "source": [
    "## Switching values between two (or multiple) variables"
   ]
  },
  {
   "cell_type": "markdown",
   "id": "2a1df855-885d-4007-bca9-34b460363982",
   "metadata": {},
   "source": [
    "Rather than doing something like: "
   ]
  },
  {
   "cell_type": "code",
   "execution_count": 7,
   "id": "58a0f3e9-54e6-4fa4-870c-9ab7da42f9e1",
   "metadata": {},
   "outputs": [
    {
     "name": "stdout",
     "output_type": "stream",
     "text": [
      " a = 4 and b = 6\n",
      " a = 6 and b = 4\n"
     ]
    }
   ],
   "source": [
    "a,b=4,6\n",
    "print(f' a = {a} and b = {b}')\n",
    "t=a\n",
    "a=b\n",
    "b=t\n",
    "print(f' a = {a} and b = {b}')"
   ]
  },
  {
   "cell_type": "markdown",
   "id": "1846c6a2-f92c-4bbd-8794-3021656438ca",
   "metadata": {},
   "source": [
    "you can do this: "
   ]
  },
  {
   "cell_type": "code",
   "execution_count": 8,
   "id": "184e5469-ddaa-4ed7-a6d7-0a39db0b95ad",
   "metadata": {},
   "outputs": [
    {
     "name": "stdout",
     "output_type": "stream",
     "text": [
      " a = 4 and b = 6\n",
      " a = 6 and b = 4\n"
     ]
    }
   ],
   "source": [
    "a,b=4,6\n",
    "print(f' a = {a} and b = {b}')\n",
    "a,b = b,a  # you can assign multiple values at once with python\n",
    "print(f' a = {a} and b = {b}')"
   ]
  },
  {
   "cell_type": "markdown",
   "id": "77a06fa7-71c7-4270-a187-ddaacc28d469",
   "metadata": {},
   "source": [
    "The previous is not only shorter but it is much easier to read and understand.  "
   ]
  },
  {
   "cell_type": "markdown",
   "id": "6ea82c31-31a2-4e36-8214-dea638f86d0e",
   "metadata": {},
   "source": [
    "## Greek Letters:"
   ]
  },
  {
   "cell_type": "markdown",
   "id": "5ff5ce40-6021-4f17-b3a1-298d150600d2",
   "metadata": {},
   "source": [
    "Within a **markdown cells**, type `$\\mu$` to get $\\mu$.  Use LaTeX code between the dollar signs. There are LaTeX helper apps online that will give you the LaTeX code for an equation that you create with a graphical interface. Double dollar signs `$$\\mu=\\sqrt{\\psi}$$` will place the equation on its own line. $$\\mu=\\sqrt{\\psi} $$ "
   ]
  },
  {
   "cell_type": "markdown",
   "id": "340939a8-bb4a-4e20-97d0-e4333a254c2d",
   "metadata": {},
   "source": [
    "For **code cells**, type `\\sigma` (no dollar signs) and then press the tab key. "
   ]
  },
  {
   "cell_type": "code",
   "execution_count": null,
   "id": "42abec15-2c81-4edd-89de-654e01cd5857",
   "metadata": {},
   "outputs": [],
   "source": []
  }
 ],
 "metadata": {
  "kernelspec": {
   "display_name": "Python 3 (ipykernel)",
   "language": "python",
   "name": "python3"
  },
  "language_info": {
   "codemirror_mode": {
    "name": "ipython",
    "version": 3
   },
   "file_extension": ".py",
   "mimetype": "text/x-python",
   "name": "python",
   "nbconvert_exporter": "python",
   "pygments_lexer": "ipython3",
   "version": "3.10.6"
  }
 },
 "nbformat": 4,
 "nbformat_minor": 5
}
