{
 "cells": [
  {
   "cell_type": "markdown",
   "id": "276043ac-646b-4cb1-a877-3740de68d7c8",
   "metadata": {},
   "source": [
    "# 2114 ... under development"
   ]
  },
  {
   "cell_type": "markdown",
   "id": "f6d7a781-5240-47ed-9e90-d7ab036b5484",
   "metadata": {},
   "source": [
    "The remaining lessons from 2114 will be added after I complete the lessons for 3114"
   ]
  },
  {
   "cell_type": "code",
   "execution_count": null,
   "id": "1a9c3cf4-e767-4fc7-b056-4c42e8554109",
   "metadata": {},
   "outputs": [],
   "source": []
  }
 ],
 "metadata": {
  "kernelspec": {
   "display_name": "Python 3 (ipykernel)",
   "language": "python",
   "name": "python3"
  },
  "language_info": {
   "codemirror_mode": {
    "name": "ipython",
    "version": 3
   },
   "file_extension": ".py",
   "mimetype": "text/x-python",
   "name": "python",
   "nbconvert_exporter": "python",
   "pygments_lexer": "ipython3",
   "version": "3.9.12"
  }
 },
 "nbformat": 4,
 "nbformat_minor": 5
}
