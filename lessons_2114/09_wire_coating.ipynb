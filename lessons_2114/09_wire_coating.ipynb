{
 "cells": [
  {
   "cell_type": "markdown",
   "metadata": {
    "tags": []
   },
   "source": [
    "# Application: Plastic wire coating data"
   ]
  },
  {
   "cell_type": "markdown",
   "metadata": {},
   "source": [
    "## Background"
   ]
  },
  {
   "cell_type": "markdown",
   "metadata": {},
   "source": [
    ":::{index} application wire coating\n",
    ":::"
   ]
  },
  {
   "cell_type": "markdown",
   "metadata": {},
   "source": [
    "In this lesson, we are going to look at over 2 million records containing data for the thickness of a PVC coating versus several processing parameters.  These records were taken over a 3 year period.  "
   ]
  },
  {
   "cell_type": "markdown",
   "metadata": {},
   "source": [
    "<img src=\"../images/09_extrusion.png\" alt=\"extrusion diagram\" width=\"500px\">"
   ]
  },
  {
   "cell_type": "markdown",
   "metadata": {},
   "source": [
    "The basic operation of an coating extruder is shown above and details of the cooling pool is shown below.  Some of the machine parameters would be the wire coating speed (LineSpeed $m\\ sec^{-1}$), temperature of the extruder (ExtrTemp $^{\\circ} C$), temperature of the water in the cooling pool (WaterTemp $^{\\circ} C$), date of the coating (Date) and perhaps the location of the machine (City).  Each of these variables will be included in our dataset along with the measured coating thickenss (Measure $\\mu m$).  "
   ]
  },
  {
   "cell_type": "markdown",
   "metadata": {},
   "source": [
    "<img src=\"../images/extrusion_coating_cooling.jpg\" alt=\"extrusion coating cooling\" width=\"300px\">"
   ]
  },
  {
   "cell_type": "markdown",
   "metadata": {
    "tags": []
   },
   "source": [
    ":::{admonition} Learning Objectives  \n",
    "Be able to:\n",
    "* Read two text files containing 1 million points each and combine into a single dataframe \n",
    "* Perform all necessary cleaning, organizing, and sorting steps as needed  \n",
    "* Perform corrections on data values when spelling variations exist for the same same record (e.g. city name) \n",
    "* Use conditionals to filter data when multiple conditions are required\n",
    "* Display the data using matplotlib.pyplot\n",
    "  \n",
    "Date files needed: \n",
    "* First 1 million data records: [insulation1.csv](https://drive.google.com/uc?export=download&id=1bWIIA9ivM9SdZi6fzUItj8WM1tu_Tirz)\n",
    "* Second 1 million data records: [insulation2.csv](https://drive.google.com/uc?export=download&id=1PZp0scqkttXh4LnPlWQ6izrX1bJmCLDM)  \n",
    ":::"
   ]
  },
  {
   "cell_type": "code",
   "execution_count": 6,
   "metadata": {},
   "outputs": [],
   "source": [
    "import pandas as pd\n",
    "import numpy as np\n",
    "import matplotlib.pyplot as plt"
   ]
  },
  {
   "cell_type": "markdown",
   "metadata": {},
   "source": [
    "## Read, Combine and Clean the Data"
   ]
  },
  {
   "cell_type": "markdown",
   "metadata": {},
   "source": [
    "Let's read in the \"insulation1.csv\" data directly from the google drive it is stored. Every file in Drive has a unique identifyer that never changes.  If you hover over the links above or right click and select copy link you will see \"https://drive.google.com/uc?export=download&id=1bWIIA9ivM9SdZi6fzUItj8WM1tu_Tirz\".  The file identifyer is everything after  \"id=\" or in this case \"1bWIIA9ivM9SdZi6fzUItj8WM1tu_Tirz\".  Now that we have the identifyer we can use pandas to read the file.  "
   ]
  },
  {
   "cell_type": "code",
   "execution_count": 4,
   "metadata": {},
   "outputs": [],
   "source": [
    "import warnings\n",
    "warnings.filterwarnings(\"ignore\")"
   ]
  },
  {
   "cell_type": "markdown",
   "metadata": {},
   "source": [
    ":::{index} pandas read_csv, read_csv, warnings, quiet warnings\n",
    ":::"
   ]
  },
  {
   "cell_type": "code",
   "execution_count": 7,
   "metadata": {},
   "outputs": [
    {
     "name": "stdout",
     "output_type": "stream",
     "text": [
      "<class 'pandas.core.frame.DataFrame'>\n",
      "RangeIndex: 1000003 entries, 0 to 1000002\n",
      "Data columns (total 8 columns):\n",
      " #   Column     Non-Null Count    Dtype \n",
      "---  ------     --------------    ----- \n",
      " 0   ID         1000003 non-null  int64 \n",
      " 1   Date       1000003 non-null  object\n",
      " 2   Shifts     1000001 non-null  object\n",
      " 3   ExtrTemp   1000003 non-null  object\n",
      " 4   LineSpeed  1000003 non-null  object\n",
      " 5   WaterTemp  1000003 non-null  object\n",
      " 6   Measure    1000003 non-null  object\n",
      " 7   City       1000003 non-null  object\n",
      "dtypes: int64(1), object(7)\n",
      "memory usage: 61.0+ MB\n"
     ]
    }
   ],
   "source": [
    "raw=pd.read_csv('https://drive.google.com/uc?id=1bWIIA9ivM9SdZi6fzUItj8WM1tu_Tirz')\n",
    "# if I had a second file to read I would look at use concat to combine the files\n",
    "# example usage  new_df=pd.concat([df_1,df_2,df_3, etc...],ignore_index=True)\n",
    "raw.info()"
   ]
  },
  {
   "cell_type": "markdown",
   "metadata": {},
   "source": [
    "You probably got a DtypeWarning but the file was read correctly.  Just ignore that for now.  Several of the data columns have entries other than numbers (e.g. \"\\*\") so the data type for that column is set to \"object.\"  This is not memory efficient.  We will fix the data types now.  Let's see what we currently have.  "
   ]
  },
  {
   "cell_type": "code",
   "execution_count": 6,
   "metadata": {},
   "outputs": [
    {
     "name": "stdout",
     "output_type": "stream",
     "text": [
      "<class 'pandas.core.frame.DataFrame'>\n",
      "RangeIndex: 1000003 entries, 0 to 1000002\n",
      "Data columns (total 8 columns):\n",
      " #   Column     Non-Null Count    Dtype \n",
      "---  ------     --------------    ----- \n",
      " 0   ID         1000003 non-null  int64 \n",
      " 1   Date       1000003 non-null  object\n",
      " 2   Shifts     1000001 non-null  object\n",
      " 3   ExtrTemp   1000003 non-null  object\n",
      " 4   LineSpeed  1000003 non-null  object\n",
      " 5   WaterTemp  1000003 non-null  object\n",
      " 6   Measure    1000003 non-null  object\n",
      " 7   City       1000003 non-null  object\n",
      "dtypes: int64(1), object(7)\n",
      "memory usage: 61.0+ MB\n"
     ]
    }
   ],
   "source": [
    "raw.info()"
   ]
  },
  {
   "cell_type": "markdown",
   "metadata": {},
   "source": [
    "So we have just over 1 million entries.  Dtype \"object\" means that the column contains at least some text values (or non-numeric values).  We don't want non-numeric values in Columns 3-6 so let's convert these columns `to_numeric` and replace all non-numeric values with `NaN` using the option `coerce`.  Likewise we will use `pd.to_datetime` to convert column 1.   "
   ]
  },
  {
   "cell_type": "markdown",
   "metadata": {},
   "source": [
    ":::{index} to_numeric, to_datetime, pandas copy, pandas to_datetime, pandas to_numeric, pandas coerce, coerce\n",
    ":::"
   ]
  },
  {
   "cell_type": "code",
   "execution_count": 67,
   "metadata": {},
   "outputs": [
    {
     "data": {
      "text/plain": [
       "ID                    int64\n",
       "Date         datetime64[ns]\n",
       "Shifts               object\n",
       "ExtrTemp            float64\n",
       "LineSpeed           float64\n",
       "WaterTemp           float64\n",
       "Measure             float64\n",
       "City                 object\n",
       "dtype: object"
      ]
     },
     "execution_count": 67,
     "metadata": {},
     "output_type": "execute_result"
    }
   ],
   "source": [
    "df=raw.copy()\n",
    "df['Date']=pd.to_datetime(df['Date'], errors='coerce')\n",
    "df['ExtrTemp'] = pd.to_numeric(df['ExtrTemp'], errors='coerce')\n",
    "df['LineSpeed'] = pd.to_numeric(df['LineSpeed'], errors='coerce')\n",
    "df['WaterTemp'] = pd.to_numeric(df['WaterTemp'], errors='coerce')\n",
    "df['Measure'] = pd.to_numeric(df['Measure'], errors='coerce')\n",
    "df.dtypes"
   ]
  },
  {
   "cell_type": "markdown",
   "metadata": {},
   "source": [
    "Notice that in column \"Measure\" the \"\\*\" has been replaced with NaN.  "
   ]
  },
  {
   "cell_type": "code",
   "execution_count": 23,
   "metadata": {},
   "outputs": [
    {
     "data": {
      "text/html": [
       "<div>\n",
       "<style scoped>\n",
       "    .dataframe tbody tr th:only-of-type {\n",
       "        vertical-align: middle;\n",
       "    }\n",
       "\n",
       "    .dataframe tbody tr th {\n",
       "        vertical-align: top;\n",
       "    }\n",
       "\n",
       "    .dataframe thead th {\n",
       "        text-align: right;\n",
       "    }\n",
       "</style>\n",
       "<table border=\"1\" class=\"dataframe\">\n",
       "  <thead>\n",
       "    <tr style=\"text-align: right;\">\n",
       "      <th></th>\n",
       "      <th>ID</th>\n",
       "      <th>Date</th>\n",
       "      <th>Shifts</th>\n",
       "      <th>ExtrTemp</th>\n",
       "      <th>LineSpeed</th>\n",
       "      <th>WaterTemp</th>\n",
       "      <th>Measure</th>\n",
       "      <th>City</th>\n",
       "    </tr>\n",
       "  </thead>\n",
       "  <tbody>\n",
       "    <tr>\n",
       "      <th>0</th>\n",
       "      <td>1</td>\n",
       "      <td>2016-02-01</td>\n",
       "      <td>Shifts1</td>\n",
       "      <td>234.83</td>\n",
       "      <td>55.28</td>\n",
       "      <td>26.67</td>\n",
       "      <td>170.67</td>\n",
       "      <td>Kairo</td>\n",
       "    </tr>\n",
       "    <tr>\n",
       "      <th>1</th>\n",
       "      <td>2</td>\n",
       "      <td>2016-02-01</td>\n",
       "      <td>Shifts1</td>\n",
       "      <td>235.09</td>\n",
       "      <td>54.13</td>\n",
       "      <td>26.97</td>\n",
       "      <td>182.86</td>\n",
       "      <td>Kairo</td>\n",
       "    </tr>\n",
       "    <tr>\n",
       "      <th>2</th>\n",
       "      <td>3</td>\n",
       "      <td>2016-02-01</td>\n",
       "      <td>Shifts1</td>\n",
       "      <td>235.09</td>\n",
       "      <td>54.33</td>\n",
       "      <td>27.46</td>\n",
       "      <td>182.74</td>\n",
       "      <td>Kairo</td>\n",
       "    </tr>\n",
       "    <tr>\n",
       "      <th>3</th>\n",
       "      <td>4</td>\n",
       "      <td>2016-02-01</td>\n",
       "      <td>Shifts1</td>\n",
       "      <td>235.05</td>\n",
       "      <td>55.00</td>\n",
       "      <td>26.83</td>\n",
       "      <td>175.49</td>\n",
       "      <td>Kairo</td>\n",
       "    </tr>\n",
       "    <tr>\n",
       "      <th>4</th>\n",
       "      <td>5</td>\n",
       "      <td>2016-02-01</td>\n",
       "      <td>Shifts1</td>\n",
       "      <td>234.99</td>\n",
       "      <td>54.03</td>\n",
       "      <td>27.04</td>\n",
       "      <td>NaN</td>\n",
       "      <td>Kairo</td>\n",
       "    </tr>\n",
       "  </tbody>\n",
       "</table>\n",
       "</div>"
      ],
      "text/plain": [
       "   ID       Date   Shifts  ExtrTemp  LineSpeed  WaterTemp  Measure   City\n",
       "0   1 2016-02-01  Shifts1    234.83      55.28      26.67   170.67  Kairo\n",
       "1   2 2016-02-01  Shifts1    235.09      54.13      26.97   182.86  Kairo\n",
       "2   3 2016-02-01  Shifts1    235.09      54.33      27.46   182.74  Kairo\n",
       "3   4 2016-02-01  Shifts1    235.05      55.00      26.83   175.49  Kairo\n",
       "4   5 2016-02-01  Shifts1    234.99      54.03      27.04      NaN  Kairo"
      ]
     },
     "execution_count": 23,
     "metadata": {},
     "output_type": "execute_result"
    }
   ],
   "source": [
    "df.head()"
   ]
  },
  {
   "cell_type": "markdown",
   "metadata": {},
   "source": [
    "We want a complete data set so let's drop all rows that contain 'NaN' in columns 3 - 6.  "
   ]
  },
  {
   "cell_type": "code",
   "execution_count": 68,
   "metadata": {},
   "outputs": [
    {
     "name": "stdout",
     "output_type": "stream",
     "text": [
      "<class 'pandas.core.frame.DataFrame'>\n",
      "Int64Index: 999995 entries, 0 to 1000002\n",
      "Data columns (total 8 columns):\n",
      " #   Column     Non-Null Count   Dtype         \n",
      "---  ------     --------------   -----         \n",
      " 0   ID         999995 non-null  int64         \n",
      " 1   Date       999995 non-null  datetime64[ns]\n",
      " 2   Shifts     999995 non-null  object        \n",
      " 3   ExtrTemp   999995 non-null  float64       \n",
      " 4   LineSpeed  999995 non-null  float64       \n",
      " 5   WaterTemp  999995 non-null  float64       \n",
      " 6   Measure    999995 non-null  float64       \n",
      " 7   City       999995 non-null  object        \n",
      "dtypes: datetime64[ns](1), float64(4), int64(1), object(2)\n",
      "memory usage: 68.7+ MB\n"
     ]
    }
   ],
   "source": [
    "df=df.dropna(axis='rows', how='any')\n",
    "df.info()"
   ]
  },
  {
   "cell_type": "markdown",
   "metadata": {},
   "source": [
    "After dropping rows with missing values we are left with 999,995 records.  "
   ]
  },
  {
   "cell_type": "markdown",
   "metadata": {},
   "source": [
    "## Insulation thickness versus line speed"
   ]
  },
  {
   "cell_type": "code",
   "execution_count": 69,
   "metadata": {
    "tags": []
   },
   "outputs": [
    {
     "data": {
      "image/png": "[encoded data removed]",
      "text/plain": [
       "<Figure size 640x480 with 1 Axes>"
      ]
     },
     "metadata": {},
     "output_type": "display_data"
    }
   ],
   "source": [
    "xdata=df.loc[:,'LineSpeed']\n",
    "ydata=df.loc[:,'Measure']\n",
    "plt.plot(xdata, ydata, 'k.')\n",
    "plt.xlabel('Linespeed, m/sec')\n",
    "plt.ylabel('Measured Thickness, microns')\n",
    "plt.show()"
   ]
  },
  {
   "cell_type": "markdown",
   "metadata": {},
   "source": [
    "### Filtering Data using Conditionals"
   ]
  },
  {
   "cell_type": "markdown",
   "metadata": {},
   "source": [
    ":::{index} pandas conditionals, pandas filtering data, conditionals, unique, pandas replace, replace\n",
    ":::"
   ]
  },
  {
   "cell_type": "markdown",
   "metadata": {},
   "source": [
    ":::{note}\n",
    "Let's talk about selecting subsets of the data for analysis or plotting etc.  You can setup as many conditions as you want and combine them as needed. It is important here to use parentheses for grouping our conditions together between the logical operators in this case '&'.  \n",
    "  \n",
    "Boolean operators we could use:  \n",
    "\n",
    "'&' = and  \n",
    "'|' = or  this is the pipe symbol above '\\' on your keyboard  \n",
    "'~' = not  \n",
    "'>' = greater than  \n",
    "'>=' = greater than or equal to  \n",
    "'<'  = less than  \n",
    "'<=' = less than or equal to  \n",
    "'!=' not equal to  \n",
    "'==' equal to  \n",
    ":::\n"
   ]
  },
  {
   "cell_type": "markdown",
   "metadata": {},
   "source": [
    "That is a lot of data.  What if we wanted to plot only the data from City Kairo and for the year 2016.  "
   ]
  },
  {
   "cell_type": "code",
   "execution_count": 70,
   "metadata": {},
   "outputs": [
    {
     "data": {
      "text/html": [
       "<div>\n",
       "<style scoped>\n",
       "    .dataframe tbody tr th:only-of-type {\n",
       "        vertical-align: middle;\n",
       "    }\n",
       "\n",
       "    .dataframe tbody tr th {\n",
       "        vertical-align: top;\n",
       "    }\n",
       "\n",
       "    .dataframe thead th {\n",
       "        text-align: right;\n",
       "    }\n",
       "</style>\n",
       "<table border=\"1\" class=\"dataframe\">\n",
       "  <thead>\n",
       "    <tr style=\"text-align: right;\">\n",
       "      <th></th>\n",
       "      <th>ID</th>\n",
       "      <th>Date</th>\n",
       "      <th>Shifts</th>\n",
       "      <th>ExtrTemp</th>\n",
       "      <th>LineSpeed</th>\n",
       "      <th>WaterTemp</th>\n",
       "      <th>Measure</th>\n",
       "      <th>City</th>\n",
       "    </tr>\n",
       "  </thead>\n",
       "  <tbody>\n",
       "    <tr>\n",
       "      <th>0</th>\n",
       "      <td>1</td>\n",
       "      <td>2016-02-01</td>\n",
       "      <td>Shifts1</td>\n",
       "      <td>234.83</td>\n",
       "      <td>55.28</td>\n",
       "      <td>26.67</td>\n",
       "      <td>170.67</td>\n",
       "      <td>Kairo</td>\n",
       "    </tr>\n",
       "    <tr>\n",
       "      <th>1</th>\n",
       "      <td>2</td>\n",
       "      <td>2016-02-01</td>\n",
       "      <td>Shifts1</td>\n",
       "      <td>235.09</td>\n",
       "      <td>54.13</td>\n",
       "      <td>26.97</td>\n",
       "      <td>182.86</td>\n",
       "      <td>Kairo</td>\n",
       "    </tr>\n",
       "    <tr>\n",
       "      <th>2</th>\n",
       "      <td>3</td>\n",
       "      <td>2016-02-01</td>\n",
       "      <td>Shifts1</td>\n",
       "      <td>235.09</td>\n",
       "      <td>54.33</td>\n",
       "      <td>27.46</td>\n",
       "      <td>182.74</td>\n",
       "      <td>Kairo</td>\n",
       "    </tr>\n",
       "    <tr>\n",
       "      <th>3</th>\n",
       "      <td>4</td>\n",
       "      <td>2016-02-01</td>\n",
       "      <td>Shifts1</td>\n",
       "      <td>235.05</td>\n",
       "      <td>55.00</td>\n",
       "      <td>26.83</td>\n",
       "      <td>175.49</td>\n",
       "      <td>Kairo</td>\n",
       "    </tr>\n",
       "    <tr>\n",
       "      <th>5</th>\n",
       "      <td>6</td>\n",
       "      <td>2016-02-01</td>\n",
       "      <td>Shifts2</td>\n",
       "      <td>235.04</td>\n",
       "      <td>55.26</td>\n",
       "      <td>26.62</td>\n",
       "      <td>172.80</td>\n",
       "      <td>Kairo</td>\n",
       "    </tr>\n",
       "  </tbody>\n",
       "</table>\n",
       "</div>"
      ],
      "text/plain": [
       "   ID       Date   Shifts  ExtrTemp  LineSpeed  WaterTemp  Measure   City\n",
       "0   1 2016-02-01  Shifts1    234.83      55.28      26.67   170.67  Kairo\n",
       "1   2 2016-02-01  Shifts1    235.09      54.13      26.97   182.86  Kairo\n",
       "2   3 2016-02-01  Shifts1    235.09      54.33      27.46   182.74  Kairo\n",
       "3   4 2016-02-01  Shifts1    235.05      55.00      26.83   175.49  Kairo\n",
       "5   6 2016-02-01  Shifts2    235.04      55.26      26.62   172.80  Kairo"
      ]
     },
     "execution_count": 70,
     "metadata": {},
     "output_type": "execute_result"
    }
   ],
   "source": [
    "#define our conditions in \"()\" \n",
    "cond1=(df['City']==\"Kairo\")\n",
    "cond2=(df['Date']>'2016-01-01')\n",
    "cond3=(df['Date']<'2016-12-31')\n",
    "\n",
    "#use these to filter data with \"&\" = AND and \"|\" = OR\n",
    "df_slice=df[cond1&cond2&cond3]\n",
    "df_slice.head()"
   ]
  },
  {
   "cell_type": "code",
   "execution_count": 71,
   "metadata": {},
   "outputs": [
    {
     "data": {
      "image/png": "[encoded data removed]",
      "text/plain": [
       "<Figure size 640x480 with 1 Axes>"
      ]
     },
     "metadata": {},
     "output_type": "display_data"
    }
   ],
   "source": [
    "# all data\n",
    "xdata=df.loc[:,'LineSpeed']\n",
    "ydata=df.loc[:,'Measure']\n",
    "plt.plot(xdata, ydata, 'k.')\n",
    "# only 2016 data in Kairo\n",
    "xdata=df_slice.loc[:,'LineSpeed']\n",
    "ydata=df_slice.loc[:,'Measure']\n",
    "plt.plot(xdata, ydata, 'co')\n",
    "\n",
    "plt.xlabel('Linespeed, m/sec')\n",
    "plt.ylabel('Measured Thickness, microns')\n",
    "plt.show()"
   ]
  },
  {
   "cell_type": "markdown",
   "metadata": {},
   "source": [
    "Let's take a look at what cities are included in our data.  We can use the `.unique()` function for this.  "
   ]
  },
  {
   "cell_type": "code",
   "execution_count": 72,
   "metadata": {
    "tags": []
   },
   "outputs": [
    {
     "data": {
      "text/plain": [
       "array(['Kairo', 'Cairo', 'CAI', 'Alexandria', 'Alex'], dtype=object)"
      ]
     },
     "execution_count": 72,
     "metadata": {},
     "output_type": "execute_result"
    }
   ],
   "source": [
    "df['City'].unique()"
   ]
  },
  {
   "cell_type": "markdown",
   "metadata": {},
   "source": [
    "Interesting...  so \"Cairo\" shows up as both \"Kairo\" and \"CAI\" while \"Alexandria\" shows also as \"Alex\""
   ]
  },
  {
   "cell_type": "markdown",
   "metadata": {},
   "source": [
    "We don't want multiple labels this way so lets make the following substitutions:  \n",
    "`{'Kairo':'Cairo', 'CAI':'Cairo', 'Alex':'Alexandria'}`"
   ]
  },
  {
   "cell_type": "code",
   "execution_count": 73,
   "metadata": {},
   "outputs": [
    {
     "data": {
      "text/plain": [
       "array(['Cairo', 'Alexandria', 'Alex'], dtype=object)"
      ]
     },
     "execution_count": 73,
     "metadata": {},
     "output_type": "execute_result"
    }
   ],
   "source": [
    "df['City']=df['City'].replace({'Kairo':'Cairo', 'CAI':'Cairo'})\n",
    "df['City'].unique()"
   ]
  },
  {
   "cell_type": "markdown",
   "metadata": {},
   "source": [
    "We fixed the entries for Cairo.  We still have to fix those for Alexandria.  "
   ]
  },
  {
   "cell_type": "code",
   "execution_count": 74,
   "metadata": {},
   "outputs": [
    {
     "data": {
      "text/html": [
       "<div>\n",
       "<style scoped>\n",
       "    .dataframe tbody tr th:only-of-type {\n",
       "        vertical-align: middle;\n",
       "    }\n",
       "\n",
       "    .dataframe tbody tr th {\n",
       "        vertical-align: top;\n",
       "    }\n",
       "\n",
       "    .dataframe thead th {\n",
       "        text-align: right;\n",
       "    }\n",
       "</style>\n",
       "<table border=\"1\" class=\"dataframe\">\n",
       "  <thead>\n",
       "    <tr style=\"text-align: right;\">\n",
       "      <th></th>\n",
       "      <th>ID</th>\n",
       "      <th>Date</th>\n",
       "      <th>Shifts</th>\n",
       "      <th>ExtrTemp</th>\n",
       "      <th>LineSpeed</th>\n",
       "      <th>WaterTemp</th>\n",
       "      <th>Measure</th>\n",
       "      <th>City</th>\n",
       "    </tr>\n",
       "  </thead>\n",
       "  <tbody>\n",
       "    <tr>\n",
       "      <th>0</th>\n",
       "      <td>1</td>\n",
       "      <td>2016-02-01</td>\n",
       "      <td>Shifts1</td>\n",
       "      <td>234.83</td>\n",
       "      <td>55.28</td>\n",
       "      <td>26.67</td>\n",
       "      <td>170.67</td>\n",
       "      <td>Cairo</td>\n",
       "    </tr>\n",
       "    <tr>\n",
       "      <th>1</th>\n",
       "      <td>2</td>\n",
       "      <td>2016-02-01</td>\n",
       "      <td>Shifts1</td>\n",
       "      <td>235.09</td>\n",
       "      <td>54.13</td>\n",
       "      <td>26.97</td>\n",
       "      <td>182.86</td>\n",
       "      <td>Cairo</td>\n",
       "    </tr>\n",
       "    <tr>\n",
       "      <th>2</th>\n",
       "      <td>3</td>\n",
       "      <td>2016-02-01</td>\n",
       "      <td>Shifts1</td>\n",
       "      <td>235.09</td>\n",
       "      <td>54.33</td>\n",
       "      <td>27.46</td>\n",
       "      <td>182.74</td>\n",
       "      <td>Cairo</td>\n",
       "    </tr>\n",
       "    <tr>\n",
       "      <th>3</th>\n",
       "      <td>4</td>\n",
       "      <td>2016-02-01</td>\n",
       "      <td>Shifts1</td>\n",
       "      <td>235.05</td>\n",
       "      <td>55.00</td>\n",
       "      <td>26.83</td>\n",
       "      <td>175.49</td>\n",
       "      <td>Cairo</td>\n",
       "    </tr>\n",
       "    <tr>\n",
       "      <th>5</th>\n",
       "      <td>6</td>\n",
       "      <td>2016-02-01</td>\n",
       "      <td>Shifts2</td>\n",
       "      <td>235.04</td>\n",
       "      <td>55.26</td>\n",
       "      <td>26.62</td>\n",
       "      <td>172.80</td>\n",
       "      <td>Cairo</td>\n",
       "    </tr>\n",
       "  </tbody>\n",
       "</table>\n",
       "</div>"
      ],
      "text/plain": [
       "   ID       Date   Shifts  ExtrTemp  LineSpeed  WaterTemp  Measure   City\n",
       "0   1 2016-02-01  Shifts1    234.83      55.28      26.67   170.67  Cairo\n",
       "1   2 2016-02-01  Shifts1    235.09      54.13      26.97   182.86  Cairo\n",
       "2   3 2016-02-01  Shifts1    235.09      54.33      27.46   182.74  Cairo\n",
       "3   4 2016-02-01  Shifts1    235.05      55.00      26.83   175.49  Cairo\n",
       "5   6 2016-02-01  Shifts2    235.04      55.26      26.62   172.80  Cairo"
      ]
     },
     "execution_count": 74,
     "metadata": {},
     "output_type": "execute_result"
    }
   ],
   "source": [
    "df.head()"
   ]
  },
  {
   "cell_type": "markdown",
   "metadata": {},
   "source": [
    "Here's an interesting case.  Say we want all cities except those labeled \"Cairo\""
   ]
  },
  {
   "cell_type": "code",
   "execution_count": 76,
   "metadata": {},
   "outputs": [
    {
     "data": {
      "text/html": [
       "<div>\n",
       "<style scoped>\n",
       "    .dataframe tbody tr th:only-of-type {\n",
       "        vertical-align: middle;\n",
       "    }\n",
       "\n",
       "    .dataframe tbody tr th {\n",
       "        vertical-align: top;\n",
       "    }\n",
       "\n",
       "    .dataframe thead th {\n",
       "        text-align: right;\n",
       "    }\n",
       "</style>\n",
       "<table border=\"1\" class=\"dataframe\">\n",
       "  <thead>\n",
       "    <tr style=\"text-align: right;\">\n",
       "      <th></th>\n",
       "      <th>ID</th>\n",
       "      <th>Date</th>\n",
       "      <th>Shifts</th>\n",
       "      <th>ExtrTemp</th>\n",
       "      <th>LineSpeed</th>\n",
       "      <th>WaterTemp</th>\n",
       "      <th>Measure</th>\n",
       "      <th>City</th>\n",
       "    </tr>\n",
       "  </thead>\n",
       "  <tbody>\n",
       "    <tr>\n",
       "      <th>437</th>\n",
       "      <td>438</td>\n",
       "      <td>2016-03-01</td>\n",
       "      <td>Shifts1</td>\n",
       "      <td>235.04</td>\n",
       "      <td>54.36</td>\n",
       "      <td>26.88</td>\n",
       "      <td>180.33</td>\n",
       "      <td>Alexandria</td>\n",
       "    </tr>\n",
       "    <tr>\n",
       "      <th>438</th>\n",
       "      <td>439</td>\n",
       "      <td>2016-03-01</td>\n",
       "      <td>Shifts1</td>\n",
       "      <td>234.86</td>\n",
       "      <td>55.66</td>\n",
       "      <td>27.15</td>\n",
       "      <td>169.56</td>\n",
       "      <td>Alexandria</td>\n",
       "    </tr>\n",
       "    <tr>\n",
       "      <th>439</th>\n",
       "      <td>440</td>\n",
       "      <td>2016-03-01</td>\n",
       "      <td>Shifts1</td>\n",
       "      <td>234.75</td>\n",
       "      <td>56.11</td>\n",
       "      <td>27.23</td>\n",
       "      <td>165.24</td>\n",
       "      <td>Alexandria</td>\n",
       "    </tr>\n",
       "    <tr>\n",
       "      <th>440</th>\n",
       "      <td>441</td>\n",
       "      <td>2016-03-01</td>\n",
       "      <td>Shifts1</td>\n",
       "      <td>235.10</td>\n",
       "      <td>54.52</td>\n",
       "      <td>26.80</td>\n",
       "      <td>179.43</td>\n",
       "      <td>Alexandria</td>\n",
       "    </tr>\n",
       "    <tr>\n",
       "      <th>441</th>\n",
       "      <td>442</td>\n",
       "      <td>2016-03-01</td>\n",
       "      <td>Shifts1</td>\n",
       "      <td>235.08</td>\n",
       "      <td>55.13</td>\n",
       "      <td>26.88</td>\n",
       "      <td>175.01</td>\n",
       "      <td>Alexandria</td>\n",
       "    </tr>\n",
       "  </tbody>\n",
       "</table>\n",
       "</div>"
      ],
      "text/plain": [
       "      ID       Date   Shifts  ExtrTemp  LineSpeed  WaterTemp  Measure  \\\n",
       "437  438 2016-03-01  Shifts1    235.04      54.36      26.88   180.33   \n",
       "438  439 2016-03-01  Shifts1    234.86      55.66      27.15   169.56   \n",
       "439  440 2016-03-01  Shifts1    234.75      56.11      27.23   165.24   \n",
       "440  441 2016-03-01  Shifts1    235.10      54.52      26.80   179.43   \n",
       "441  442 2016-03-01  Shifts1    235.08      55.13      26.88   175.01   \n",
       "\n",
       "           City  \n",
       "437  Alexandria  \n",
       "438  Alexandria  \n",
       "439  Alexandria  \n",
       "440  Alexandria  \n",
       "441  Alexandria  "
      ]
     },
     "execution_count": 76,
     "metadata": {},
     "output_type": "execute_result"
    }
   ],
   "source": [
    "#define our conditions in \"()\" \n",
    "cond1=(df['City']==\"Cairo\")\n",
    "\n",
    "# use \"~\" before a condition to indicate the reverse of the condition or NOT cond1\n",
    "df_slice=df[~cond1]\n",
    "df_slice.head()"
   ]
  },
  {
   "cell_type": "code",
   "execution_count": 78,
   "metadata": {},
   "outputs": [
    {
     "data": {
      "text/plain": [
       "array(['Alexandria', 'Alex'], dtype=object)"
      ]
     },
     "execution_count": 78,
     "metadata": {},
     "output_type": "execute_result"
    }
   ],
   "source": [
    "#notice we filtered out \"Cairo\" with the above conditional\n",
    "df_slice['City'].unique()"
   ]
  },
  {
   "cell_type": "markdown",
   "metadata": {},
   "source": [
    ":::{index} pandas value_counts, value_counts\n",
    ":::"
   ]
  },
  {
   "cell_type": "code",
   "execution_count": 79,
   "metadata": {},
   "outputs": [
    {
     "data": {
      "text/plain": [
       "Alexandria    502458\n",
       "Cairo         497293\n",
       "Alex             244\n",
       "Name: City, dtype: int64"
      ]
     },
     "execution_count": 79,
     "metadata": {},
     "output_type": "execute_result"
    }
   ],
   "source": [
    "df['City'].value_counts() # unique values and number of times found in column"
   ]
  },
  {
   "cell_type": "markdown",
   "metadata": {},
   "source": [
    "## Exercises"
   ]
  },
  {
   "cell_type": "markdown",
   "metadata": {},
   "source": [
    ":::{important}  \n",
    "For all problems, use both the insulation1 and insulation2 datasets.  Combine these so that you have approximately 2 million data points.  For any problem below that uses a city name you should make sure you use all appropriate labels for that city.  That is, fix the city names as we did above in the lesson.  Use the `.unique()` function to make sure you fixed all the names.  \n",
    ":::  "
   ]
  },
  {
   "cell_type": "markdown",
   "metadata": {},
   "source": [
    ":::{hint}  \n",
    "If things are running slow, I would make a separate dataframe with only a few 100 rows until your code works.  Then use the full dataframe.  Try something like:  \n",
    "`ran_list=[np.random.randint(0,990000) for i in range(200)]`  \n",
    "`df_short=df.loc[ran_list,:]`  \n",
    "to make a short dataframe \"df_short\" with 200 rows randomly selected from a dataframe named \"df\"\n",
    ":::"
   ]
  },
  {
   "cell_type": "markdown",
   "metadata": {},
   "source": [
    "### Problem 1"
   ]
  },
  {
   "cell_type": "markdown",
   "metadata": {},
   "source": [
    "Plot x='LineSpeed', y='Measure' for the following on one plot: \n",
    "* Alexandria in blue circles\n",
    "* Cairo in red points\n",
    "For the conditions:  \n",
    "* 234.85 < ExtrTemp < 234.9 and 26.83 < WaterTemp < 26.9"
   ]
  },
  {
   "cell_type": "markdown",
   "metadata": {},
   "source": [
    "### Problem 2"
   ]
  },
  {
   "cell_type": "markdown",
   "metadata": {},
   "source": [
    "Plot the measured thickness 'Measure' vs the extruder temperature 'ExtrTemp' for \n",
    "1. Alexandria  as black small filled circles 'ko'\n",
    "2. Cairo  as green small points 'g.'  \n",
    "\n",
    "for:  55.0 < LineSpeed < 55.05 and 26.83 < WaterTemp < 26.9"
   ]
  },
  {
   "cell_type": "markdown",
   "metadata": {},
   "source": [
    "### Problem 3"
   ]
  },
  {
   "cell_type": "markdown",
   "metadata": {},
   "source": [
    "Plot the measured thickness 'Measure' vs the water temperature 'WaterTemp' for \n",
    "1. Alexandria  as blue small points 'b.'\n",
    "2. Cairo  as red small points 'r.'  \n",
    "\n",
    "for:  55.0 < LineSpeed < 55.05 and 234.85 < ExtrTemp < 234.9"
   ]
  },
  {
   "cell_type": "markdown",
   "metadata": {},
   "source": [
    "### Problem 4"
   ]
  },
  {
   "cell_type": "markdown",
   "metadata": {},
   "source": [
    "Plot the measured thickness 'Measure' vs the date 'Date' for\n",
    "\n",
    "Alexandria as blue small points 'b.'\n",
    "Cairo as red small points 'r.'\n",
    "for:  \n",
    "\n",
    ">    55.0 < LineSpeed < 55.05 and  \n",
    ">    234.85 < ExtrTemp < 234.9 and  \n",
    ">    26.83 < WaterTemp < 26.9\n"
   ]
  },
  {
   "cell_type": "markdown",
   "metadata": {},
   "source": [
    "### Problem  5"
   ]
  },
  {
   "cell_type": "markdown",
   "metadata": {},
   "source": [
    "Break up the data \"Measure\" into 20 groups based upon its value, i.e each group will have a size = ((max of Measure)-(min of Measure))/20.  For each group find the average of the \"Measure\" and average of the corresponding \"LineSpeed\".  You should have 20 pairs of points when you are done: (Measure, Linespeed).  Plot these values with Linespeed on the y-axis.  "
   ]
  },
  {
   "cell_type": "markdown",
   "metadata": {},
   "source": [
    "There are many ways to think about doing this.  You could create another column in your dataframe called \"group\" and assign a group number from 1 to 20 for everypoint in your dataframe based on the value of \"Measure\".  Then you could use a groupby('group').mean() to find the mean of all points in each group.  \n",
    "\n",
    "You could find all records within a given range of \"Measure\" values, find the mean of this group and append the value to an array.  Then iterate through all the ranges for a for loop.  \n",
    "\n",
    "You could make a new column of data in your dataframe with values equal to pd.cut(df['Measure'],20), then consider what groupby could do...  \n",
    "\n",
    "... and many other options.\n",
    "\n"
   ]
  }
 ],
 "metadata": {
  "jupytext": {
   "formats": "ipynb,md"
  },
  "kernelspec": {
   "display_name": "Python 3 (ipykernel)",
   "language": "python",
   "name": "python3"
  },
  "language_info": {
   "codemirror_mode": {
    "name": "ipython",
    "version": 3
   },
   "file_extension": ".py",
   "mimetype": "text/x-python",
   "name": "python",
   "nbconvert_exporter": "python",
   "pygments_lexer": "ipython3",
   "version": "3.10.9"
  },
  "toc": {
   "base_numbering": 1,
   "nav_menu": {},
   "number_sections": true,
   "sideBar": true,
   "skip_h1_title": false,
   "title_cell": "Table of Contents",
   "title_sidebar": "Contents",
   "toc_cell": false,
   "toc_position": {},
   "toc_section_display": true,
   "toc_window_display": false
  },
  "widgets": {
   "application/vnd.jupyter.widget-state+json": {
    "state": {},
    "version_major": 2,
    "version_minor": 0
   }
  }
 },
 "nbformat": 4,
 "nbformat_minor": 4
}
