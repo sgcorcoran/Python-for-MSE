{
 "cells": [
  {
   "cell_type": "markdown",
   "metadata": {},
   "source": [
    "# Welcome to MSE 2114\n",
    "<hr style=\"height: 3.0px\"/>"
   ]
  },
  {
   "cell_type": "markdown",
   "metadata": {},
   "source": [
    ":::{important}  \n",
    "See our [course Canvas site](https://canvas.vt.edu/courses/168196) for information on homework requirements, due dates, course expectations, grading, regrading, and announcements. \n",
    ":::"
   ]
  },
  {
   "cell_type": "markdown",
   "metadata": {},
   "source": [
    "Make sure you follow these links to setup the Anaconda version of python on your computer: \n",
    "*  [Anaconda install](https://docs.anaconda.com/anaconda/install/index.html)\n",
    "*  [Setup your linked-in learning account](https://canvas.vt.edu/courses/168196/pages/create-your-linked-in-learning-account)\n",
    "*  [Getting Started with Python](https://www.linkedin.com/learning/python-quick-start)\n",
    "\n",
    "After watching and following along with \"Getting Started with Python,\" you should be able to answer this week's homework problems.  Below are just a few additional comments and examples that might help.  "
   ]
  },
  {
   "cell_type": "markdown",
   "metadata": {},
   "source": [
    "The following `functions` and *topics* are discussed below:  \n",
    "\n",
    "* `if`-`else`  \n",
    "* *f-string*  \n",
    "* `def`  \n",
    "* `for` loop  \n",
    "* `import numpy`  \n",
    "* *list comprehension*  \n",
    "* `np.log` vs `np.log10`\n"
   ]
  },
  {
   "cell_type": "markdown",
   "metadata": {},
   "source": [
    ":::{note}\n",
    "There are many apps for your phone that also teach python.  Linked-in learning has an app as well so you can watch our first lesson directly on your phone.  The app Python 3 Tutorials is pretty good and you can try searching for apps related to Data Science or Python Pandas.\n",
    ":::"
   ]
  },
  {
   "cell_type": "markdown",
   "metadata": {},
   "source": [
    "### Converting your jupyter notebook to pdf for submission in Canvas\n",
    "\n",
    "The menu File / Download as / pdf -- does not work well.  \n",
    "\n",
    "You need to use File/Print Preview and then right click to select print.  From the print dialogue, change the printer to `Save as PDF` or `Print to PDF Annotator`.  "
   ]
  },
  {
   "cell_type": "markdown",
   "metadata": {
    "tags": [
     "remove-cell"
    ]
   },
   "source": [
    "<img alt=\"../images/print_to_pdf.png\" src=\"../images/print_to_pdf.png\" width=200>"
   ]
  },
  {
   "cell_type": "markdown",
   "metadata": {
    "tags": [
     "remove-input"
    ]
   },
   "source": [
    ":::{figure} ../images/print_to_pdf.png\n",
    ":height: 300px\n",
    "\n",
    "In the print menu, select \"Save as PDF\" or \"Print to PDF Annotator\"\n",
    ":::"
   ]
  },
  {
   "cell_type": "markdown",
   "metadata": {},
   "source": [
    "### Importing numpy"
   ]
  },
  {
   "cell_type": "markdown",
   "metadata": {
    "tags": [
     "margin"
    ]
   },
   "source": [
    "At the top of your notebook, you should import the numpy extension to python.  You will need this for several of the problems this week.  \n",
    "\n",
    "```python\n",
    "import numpy as np\n",
    "```\n",
    "\n",
    "The \"np\" is an alias so you can type `np.sqrt()` for example rather than `numpy.sqrt()`.  "
   ]
  },
  {
   "cell_type": "markdown",
   "metadata": {},
   "source": [
    "In Canvas there is a folder called \"short lessons.\"  These can be helpful as quick reminders on how to do something.  You can also search in google or use the help menu in the jupyter notebook.  You might want to look at the short lesson \"math operations.\"  "
   ]
  },
  {
   "cell_type": "markdown",
   "metadata": {
    "tags": [
     "remove-input"
    ]
   },
   "source": [
    ":::{note}\n",
    "It is important to start keeping a notebook called \"cheat sheet\" where you place common codes that you will need over and over again or how to do certain tasks such as import an excel file, etc.  There is also an android app called \"Data Science Cheat Sheets\" that contains a nice cheat sheet for Python.\n",
    ":::"
   ]
  },
  {
   "cell_type": "code",
   "execution_count": 95,
   "metadata": {
    "tags": []
   },
   "outputs": [],
   "source": [
    "import numpy as np #we need this for all statements below that begin np. for example np.log()"
   ]
  },
  {
   "cell_type": "markdown",
   "metadata": {},
   "source": [
    "### Writing your own functions and the if-else statement\n",
    "\n",
    "Functions are extremely useful in python.  An example is given below.  The formatting is very important especially the indents.  If a line ends with a colon, the next line must be indented.  The function below also gives the formatting for the if, else conditional statement.  Again, notice the indented formatting.  "
   ]
  },
  {
   "cell_type": "code",
   "execution_count": 76,
   "metadata": {},
   "outputs": [],
   "source": [
    "def is_even(x):\n",
    "    if x%2==0:  #the mod function \"%\" gives the remainder after dividing in this case by 2\n",
    "        print( \"That number is even\")\n",
    "    else:\n",
    "        print(\"That number is odd\")"
   ]
  },
  {
   "cell_type": "code",
   "execution_count": 77,
   "metadata": {},
   "outputs": [
    {
     "name": "stdout",
     "output_type": "stream",
     "text": [
      "That number is odd\n"
     ]
    }
   ],
   "source": [
    "is_even(5)"
   ]
  },
  {
   "cell_type": "markdown",
   "metadata": {
    "tags": []
   },
   "source": [
    ":::{warning}  \n",
    "Don't use input() statements in your code.  Write functions instead for changing variables for a repeated calculation.  \n",
    ":::"
   ]
  },
  {
   "cell_type": "markdown",
   "metadata": {},
   "source": [
    "Let's just look at the if-else statement by itself.  Here we have to set x to a value before entering our if-else. Try copying the code below into your own notebook and change the value of x.  "
   ]
  },
  {
   "cell_type": "code",
   "execution_count": 45,
   "metadata": {},
   "outputs": [
    {
     "name": "stdout",
     "output_type": "stream",
     "text": [
      "No, x is not divisible by 3\n"
     ]
    }
   ],
   "source": [
    "x=5\n",
    "if x%3==0:  #the mod function here is checking if x is divisible by 3\n",
    "    print( \"Yes, x is divisible by 3\")\n",
    "else:\n",
    "    print(\"No, x is not divisible by 3\")\n"
   ]
  },
  {
   "cell_type": "markdown",
   "metadata": {},
   "source": [
    "It is very important in programming to always think logically step by step through your code.  Flow charts are a great way of visualizing what your code is doing (or what you intend your code to do).  Below is a flow chart for the if-else statement.  You can see here that the if-else is just a logical test with two outcomes -> True or False"
   ]
  },
  {
   "cell_type": "markdown",
   "metadata": {
    "tags": [
     "remove-cell"
    ]
   },
   "source": [
    "<img alt=\"../images/flow_if_else.png\" src=\"../images/flow_if_else.png\" width=450>"
   ]
  },
  {
   "cell_type": "markdown",
   "metadata": {
    "tags": [
     "remove-input"
    ]
   },
   "source": [
    "```{figure} ../images//flow_if_else.png\n",
    ":width: 350px\n",
    ":name: if-else flow chart\n",
    "\n",
    "Visualizing the 'if-else' statement\n",
    "```"
   ]
  },
  {
   "cell_type": "markdown",
   "metadata": {},
   "source": [
    "### f-string for formatted output"
   ]
  },
  {
   "cell_type": "markdown",
   "metadata": {},
   "source": [
    "It would be nice if our output replaced \"x\" with its actual value so that our output was more helpful.  We can do this with the f-string. The f located in front of the string \" \" says to look for { } and replace the variables with values. Let's write a function to check if a number is divisible by 3 and return the number along with whether it is or is not divisible by 3.    "
   ]
  },
  {
   "cell_type": "code",
   "execution_count": 2,
   "metadata": {},
   "outputs": [],
   "source": [
    "def isdiv3(x):\n",
    "    if x%3==0:  #the mod function gives the remainder after dividing x/3\n",
    "        print(f\"Yes, {x} is divisible by 3\")  ## notice the f in front of our string \" \"\n",
    "    else: \n",
    "        print(f'No, {x} is not divisible by 3') ## notice the use of { } around our variable"
   ]
  },
  {
   "cell_type": "code",
   "execution_count": 3,
   "metadata": {},
   "outputs": [
    {
     "name": "stdout",
     "output_type": "stream",
     "text": [
      "Yes, 18 is divisible by 3\n",
      "No, 19 is not divisible by 3\n"
     ]
    }
   ],
   "source": [
    "isdiv3(18)\n",
    "isdiv3(19)"
   ]
  },
  {
   "cell_type": "markdown",
   "metadata": {},
   "source": [
    ":::{note}\n",
    "The f-string example above might be one of those things you save in your cheatsheet notebook.\n",
    ":::"
   ]
  },
  {
   "cell_type": "markdown",
   "metadata": {},
   "source": [
    "### numpy log functions"
   ]
  },
  {
   "cell_type": "markdown",
   "metadata": {},
   "source": [
    "The `numpy.log()` function is base \"e\" and `numpy.log10()` is base \"10\""
   ]
  },
  {
   "cell_type": "markdown",
   "metadata": {},
   "source": [
    "This is typically true of most programming languages.  You could also write your own functions so that you could just use ln() and log()."
   ]
  },
  {
   "cell_type": "markdown",
   "metadata": {},
   "source": [
    "We should have already run the code:  `import numpy as np` previously in this notebook.  If not, run it now.  "
   ]
  },
  {
   "cell_type": "code",
   "execution_count": 90,
   "metadata": {},
   "outputs": [],
   "source": [
    "def ln(x):\n",
    "    return np.log(x)\n",
    "    \n",
    "def log(x):\n",
    "    return np.log10(x)"
   ]
  },
  {
   "cell_type": "code",
   "execution_count": 84,
   "metadata": {},
   "outputs": [
    {
     "data": {
      "text/plain": [
       "4.605170185988092"
      ]
     },
     "execution_count": 84,
     "metadata": {},
     "output_type": "execute_result"
    }
   ],
   "source": [
    "ln(100)"
   ]
  },
  {
   "cell_type": "code",
   "execution_count": 86,
   "metadata": {},
   "outputs": [
    {
     "data": {
      "text/plain": [
       "2.0"
      ]
     },
     "execution_count": 86,
     "metadata": {},
     "output_type": "execute_result"
    }
   ],
   "source": [
    "log(100)"
   ]
  },
  {
   "cell_type": "markdown",
   "metadata": {},
   "source": [
    "Also, the constant *e* can be obtained by `np.e`"
   ]
  },
  {
   "cell_type": "code",
   "execution_count": 105,
   "metadata": {},
   "outputs": [
    {
     "data": {
      "text/plain": [
       "2.718281828459045"
      ]
     },
     "execution_count": 105,
     "metadata": {},
     "output_type": "execute_result"
    }
   ],
   "source": [
    "np.e"
   ]
  },
  {
   "cell_type": "code",
   "execution_count": 103,
   "metadata": {
    "tags": [
     "remove-cell"
    ]
   },
   "outputs": [],
   "source": [
    "from jupytercards import display_flashcards\n",
    "\n",
    "cards=[\n",
    "    {\n",
    "        \"name\": \"numpy log example 1\",\n",
    "        \"front\": \"np.log(10)\",\n",
    "        \"back\": \"2.3026\"\n",
    "    },\n",
    "    {\n",
    "        \"name\": \"numpy log10 example 1\",\n",
    "        \"front\": \"np.log10(10)\",\n",
    "        \"back\": \"1.0\"\n",
    "    },\n",
    "    {\n",
    "        \"name\": \"numpy log10 example 2\",\n",
    "        \"front\": \"np.log10(100)\",\n",
    "        \"back\": \"2.0\"\n",
    "    },\n",
    "    {\n",
    "        \"name\": \"numpy log10 example 3\",\n",
    "        \"front\": \"np.log(np.e)\",\n",
    "        \"back\": \"1.0\"\n",
    "    },\n",
    "    {\n",
    "        \"name\": \"numpy log example 2\",\n",
    "        \"front\": \"np.log(np.e**2)\",\n",
    "        \"back\": \"2.0\"\n",
    "    }\n",
    "]"
   ]
  },
  {
   "cell_type": "code",
   "execution_count": 104,
   "metadata": {
    "tags": [
     "remove-input"
    ]
   },
   "outputs": [
    {
     "name": "stdout",
     "output_type": "stream",
     "text": [
      "Click on the card below to view the answer. Click Next> to advance to the next card.\n",
      "\n"
     ]
    },
    {
     "data": {
      "text/html": [
       "<style>\n",
       ":root{\n",
       "  --asparagus: #87a878ff;\n",
       "  --terra-cotta: #e26d5aff;\n",
       "  --cyan-process: #5bc0ebff;\n",
       "  --dark-blue-gray: #666a86ff;\n",
       "  --snow: #fffafbff;\n",
       "  --rich-black-fogra-39: #090c08ff;\n",
       "}\n",
       "\n",
       "\n",
       "/* entire container, keeps perspective */\n",
       ".flip-container {\n",
       "\tperspective: 1000px;\n",
       "  touch-action: pinch-zoom pan-y;\n",
       "}\n",
       "\n",
       "\n",
       ".flip-container.flip .flipper {\n",
       "\ttransform: rotateY(180deg);\n",
       "\t/*transform: rotateY(180deg)  translateX(-10%); */\n",
       "}\n",
       "\n",
       "\n",
       ".flip-container.slide .flipper.frontcard {\n",
       "    filter: brightness(90%);\n",
       "    position:absolute;\n",
       "    z-index: -20;\n",
       "}\n",
       "\n",
       ".flip-container.prepare .flipper.backcard {\n",
       "    opacity:1;\n",
       "    transition: display 0s;\n",
       "    transform:  translateX(20px); \n",
       "}\n",
       "\n",
       "\n",
       ".flip-container.slide .flipper.backcard {\n",
       "    filter: brightness(115%);\n",
       "    height: 360px;\n",
       "    opacity:1;\n",
       "\t  transform:  rotateY(3deg)  translateX(700px) translateZ(20px) scale(1, 1.05) rotate(3deg);\n",
       "    z-index: 20;\n",
       "}\n",
       "\n",
       "\n",
       "\n",
       "\n",
       ".flip-container.slideback .flipper.backcard {\n",
       "    filter: brightness(100%);\n",
       "    opacity: 1;\n",
       "\t  transform: translateX(0px) translateZ(20px) rotateY(0deg);\n",
       "    z-index: 10;\n",
       "}\n",
       "\n",
       ".flip-container.slideback .flipper.frontcard {\n",
       "    filter: brightness(90%);\n",
       "    transform: translateX(0px) translateZ(-20px);\n",
       "    z-index: -10;\n",
       "}\n",
       "\n",
       "\n",
       ".flip-container, .front, .back {\n",
       "\t  height: 200px;\n",
       "\t  width: 100%;\n",
       "}\n",
       "\n",
       "\n",
       "\n",
       "\n",
       ".flipper.frontcard {\n",
       "    position:absolute;\n",
       "\t  transform: translateX(0px) rotateY(0deg) translateZ(20px);\n",
       "    z-index: 10;\n",
       "}\n",
       "\n",
       ".flipper.backcard {\n",
       "    filter: brightness(90%);\n",
       "    opacity:0;\n",
       "    position:absolute;\n",
       "    transform: translateX(0px) translateZ(-20px);\n",
       "    z-index: -10;\n",
       "}\n",
       "\n",
       "\n",
       "\n",
       "\n",
       "/* flip speed goes here */\n",
       ".flipper {\n",
       "    cursor:pointer;\n",
       "\t  height: 200px;\n",
       "    margin-left:10px;\n",
       "\t  position: absolute;\n",
       "    top: 0;\n",
       "\t  transform-style: preserve-3d;\n",
       "\t  transition: 0.6s;\n",
       "    width: 95%;\n",
       "}\n",
       "\n",
       ".flashcardtext{\n",
       "    color: var(--snow);\n",
       "    margin-left:3%;\n",
       "    position:absolute;\n",
       "    text-align:center;\n",
       "    top: 50%;\n",
       "    transform: translate(0, -50%);\n",
       "    width:90%;\n",
       "    font-size: 1.5em;\n",
       "}\n",
       "\n",
       ".back .flashcardtext{\n",
       "    font-size: 1.2em;\n",
       "}\n",
       "\n",
       "\n",
       "\n",
       "/* hide back of pane during swap */\n",
       ".front, .back {\n",
       "    -webkit-backface-visibility: hidden;\n",
       "\t  backface-visibility: hidden;\n",
       "\t  left: 0;\n",
       "\t  position: absolute;\n",
       "\t  top: 0;\n",
       "}\n",
       "\n",
       "/* front pane, placed above back */\n",
       ".front {\n",
       "\t  backface-visibility: hidden;\n",
       "    background: var(--asparagus);\n",
       "    transform: rotateY(0deg);\n",
       "\t  z-index: 2;\n",
       "}\n",
       "\n",
       "/* back, initially hidden pane */\n",
       ".back {\n",
       "\t  backface-visibility: hidden;\n",
       "    background: var(--dark-blue-gray);\n",
       "\t  transform: rotateY(180deg);\n",
       "}\n",
       "\n",
       ".jp-OutputArea-output .back {\n",
       "\t  transform: rotateY(180deg) translateX(7.5%);\n",
       "}\n",
       "\n",
       ".next {\n",
       "    color: var(--rich-black-fogra-39);\n",
       "    cursor:pointer;\n",
       "    font-size: 1.5em;\n",
       "    /*left:90%; */\n",
       "    margin-left: 70%;\n",
       "    width: 100pt;\n",
       "    height: 22pt;\n",
       "    opacity:0.3;\n",
       "    position:relative; \n",
       "    top:-1em;\n",
       "}\n",
       "\n",
       ".next svg {\n",
       "    height:16pt;\n",
       "    width:16pt;\n",
       "    position:relative;\n",
       "    top:-2pt;\n",
       "}\n",
       "\n",
       ".jp-OutputArea-output .next svg {\n",
       "    top: 1pt;\n",
       "}\n",
       "\n",
       ".next.flipped {\n",
       "    opacity:1;\n",
       "}\n",
       "\n",
       ".next.hide {\n",
       "    opacity:0;\n",
       "}\n",
       "\n",
       "\n",
       ".flashcard{\n",
       "    border-radius: 10px;\n",
       "    outline: none;\n",
       "    color: #fafafa;\n",
       "    display:block;\n",
       "    padding:10px;\n",
       "  \n",
       "}\n",
       "\n",
       ".flashcardtext li{\n",
       "    text-align: left;\n",
       "}\n",
       "\n",
       "@media only screen and (min-width:1000px) {\n",
       "\n",
       "    .flip-container, .front, .back {\n",
       "\t      height: 300px;\n",
       "\t      width: 640px;\n",
       "    }\n",
       "\n",
       "    .flipper {\n",
       "        margin-left:20px;\n",
       "\t      height: 300px;\n",
       "        width: 600px;\n",
       "    }\n",
       "\n",
       "    .flashcardtext{\n",
       "        font-size: 20pt;\n",
       "    }\n",
       "\n",
       "    .next {\n",
       "        font-size: 16pt;\n",
       "        left:438pt;\n",
       "        margin-left: 0;\n",
       "        width: 100pt;\n",
       "        height: 22pt;\n",
       "        top:-0.5em;\n",
       "    }\n",
       "\n",
       "    .back .flashcardtext{\n",
       "        font-size: 1.5em;\n",
       "    }\n",
       "\n",
       "}\n",
       "\n",
       "@media only screen and (min-width:660px) and (max-width:999px) {\n",
       "    .next {\n",
       "        left:0;\n",
       "        margin-left: 80%;\n",
       "    }\n",
       "\n",
       "}\n",
       "\n",
       "@media only screen and (max-width:680px) and (min-height:376px) {\n",
       "    .flip-container, .front, .back {\n",
       "\t      height: 300px;\n",
       "    }\n",
       "\n",
       "    .flipper {\n",
       "\t      height: 300px;\n",
       "    }\n",
       "\n",
       "}\n",
       "\n",
       "@media only screen and (max-width:330px) and (max-height:600px) {\n",
       "\n",
       "    .back .flashcardtext{\n",
       "        font-size: 1em;\n",
       "    }\n",
       "    .next {\n",
       "        margin-left: 65%;\n",
       "    }\n",
       "\n",
       "}\n",
       "\n",
       "</style>"
      ],
      "text/plain": [
       "<IPython.core.display.HTML object>"
      ]
     },
     "metadata": {},
     "output_type": "display_data"
    },
    {
     "data": {
      "text/html": [
       "<div style=\"height:40px\"></div><div class=\"flip-container\" id=\"sAvxFkJWNyFL\" tabindex=\"0\" style=\"outline:none;\"></div><div style=\"height:40px\"></div><div class=\"next\" id=\"sAvxFkJWNyFL-next\" onclick=\"window.checkFlip('sAvxFkJWNyFL')\"> </div> <div style=\"height:40px\"></div>"
      ],
      "text/plain": [
       "<IPython.core.display.HTML object>"
      ]
     },
     "metadata": {},
     "output_type": "display_data"
    },
    {
     "data": {
      "application/javascript": [
       "/*!\n",
       " * swiped-events.js - v1.1.4\n",
       " * Pure JavaScript swipe events\n",
       " * https://github.com/john-doherty/swiped-events\n",
       " * @inspiration https://stackoverflow.com/questions/16348031/disable-scrolling-when-touch-moving-certain-element\n",
       " * @author John Doherty <www.johndoherty.info>\n",
       " * @license MIT\n",
       " */\n",
       "!function(t,e){\"use strict\";\"function\"!=typeof t.CustomEvent&&(t.CustomEvent=function(t,n){n=n||{bubbles:!1,cancelable:!1,detail:void 0};var a=e.createEvent(\"CustomEvent\");return a.initCustomEvent(t,n.bubbles,n.cancelable,n.detail),a},t.CustomEvent.prototype=t.Event.prototype),e.addEventListener(\"touchstart\",function(t){if(\"true\"===t.target.getAttribute(\"data-swipe-ignore\"))return;s=t.target,r=Date.now(),n=t.touches[0].clientX,a=t.touches[0].clientY,u=0,i=0},!1),e.addEventListener(\"touchmove\",function(t){if(!n||!a)return;var e=t.touches[0].clientX,r=t.touches[0].clientY;u=n-e,i=a-r},!1),e.addEventListener(\"touchend\",function(t){if(s!==t.target)return;var e=parseInt(l(s,\"data-swipe-threshold\",\"20\"),10),o=parseInt(l(s,\"data-swipe-timeout\",\"500\"),10),c=Date.now()-r,d=\"\",p=t.changedTouches||t.touches||[];Math.abs(u)>Math.abs(i)?Math.abs(u)>e&&c<o&&(d=u>0?\"swiped-left\":\"swiped-right\"):Math.abs(i)>e&&c<o&&(d=i>0?\"swiped-up\":\"swiped-down\");if(\"\"!==d){var b={dir:d.replace(/swiped-/,\"\"),xStart:parseInt(n,10),xEnd:parseInt((p[0]||{}).clientX||-1,10),yStart:parseInt(a,10),yEnd:parseInt((p[0]||{}).clientY||-1,10)};s.dispatchEvent(new CustomEvent(\"swiped\",{bubbles:!0,cancelable:!0,detail:b})),s.dispatchEvent(new CustomEvent(d,{bubbles:!0,cancelable:!0,detail:b}))}n=null,a=null,r=null},!1);var n=null,a=null,u=null,i=null,r=null,s=null;function l(t,n,a){for(;t&&t!==e.documentElement;){var u=t.getAttribute(n);if(u)return u;t=t.parentNode}return a}}(window,document);\n",
       "\n",
       "function jaxify(string) {\n",
       "    var mystring = string;\n",
       "    console.log(mystring);\n",
       "\n",
       "    var count = 0;\n",
       "    var loc = mystring.search(/([^\\\\]|^)(\\$)/);\n",
       "\n",
       "    var count2 = 0;\n",
       "    var loc2 = mystring.search(/([^\\\\]|^)(\\$\\$)/);\n",
       "\n",
       "    //console.log(loc);\n",
       "\n",
       "    while ((loc >= 0) || (loc2 >= 0)) {\n",
       "\n",
       "        /* Have to replace all the double $$ first with current implementation */\n",
       "        if (loc2 >= 0) {\n",
       "            if (count2 % 2 == 0) {\n",
       "                mystring = mystring.replace(/([^\\\\]|^)(\\$\\$)/, \"$1\\\\[\");\n",
       "            } else {\n",
       "                mystring = mystring.replace(/([^\\\\]|^)(\\$\\$)/, \"$1\\\\]\");\n",
       "            }\n",
       "            count2++;\n",
       "        } else {\n",
       "            if (count % 2 == 0) {\n",
       "                mystring = mystring.replace(/([^\\\\]|^)(\\$)/, \"$1\\\\(\");\n",
       "            } else {\n",
       "                mystring = mystring.replace(/([^\\\\]|^)(\\$)/, \"$1\\\\)\");\n",
       "            }\n",
       "            count++;\n",
       "        }\n",
       "        loc = mystring.search(/([^\\\\]|^)(\\$)/);\n",
       "        loc2 = mystring.search(/([^\\\\]|^)(\\$\\$)/);\n",
       "        //console.log(mystring,\", loc:\",loc,\", loc2:\",loc2);\n",
       "    }\n",
       "\n",
       "    //console.log(mystring);\n",
       "    return mystring;\n",
       "}\n",
       "\n",
       "window.flipCard = function flipCard(ths) {\n",
       "    console.log(ths);\n",
       "    console.log(ths.id);\n",
       "    ths.classList.toggle(\"flip\"); \n",
       "    var next=document.getElementById(ths.id+'-next');\n",
       "    next.style.pointerEvents='none';\n",
       "    /* ths.blur(); */\n",
       "    next.classList.add('flipped');\n",
       "    if (typeof MathJax != 'undefined') {\n",
       "        var version = MathJax.version;\n",
       "        console.log('MathJax version', version);\n",
       "        if (version[0] == \"2\") {\n",
       "            MathJax.Hub.Queue([\"Typeset\", MathJax.Hub]);\n",
       "        } else if (version[0] == \"3\") {\n",
       "            MathJax.typeset([ths]);\n",
       "        }\n",
       "    } else {\n",
       "        console.log('MathJax not detected');\n",
       "    }\n",
       "\n",
       "\n",
       "    setTimeout(reenableNext, 600, ths, next);\n",
       "}\n",
       "\n",
       "window.checkKey = function checkKey(container, event) {\n",
       "    event.stopPropagation();\n",
       "    /*\n",
       "    console.log(container);\n",
       "    console.log(event.key);\n",
       "    console.log(event.code);\n",
       "    */\n",
       "    /* JMS:  Working here*/\n",
       "    var next=document.getElementById(container.id+'-next');\n",
       "    /* Only react if not already sliding */\n",
       "    if (! next.classList.contains(\"hide\")) {\n",
       "        if ((event.key == \"j\") || (event.key == \"Enter\") || (event.key == \"ArrowRight\")) {\n",
       "            window.checkFlip(container.id);\n",
       "        }\n",
       "        if (event.key == \" \") {\n",
       "            window.flipCard(container);\n",
       "        }\n",
       "    }\n",
       "    event.preventDefault();\n",
       "}\n",
       "\n",
       "\n",
       "function reenableNext(ths, next) {\n",
       "    next.style.pointerEvents='auto';\n",
       "    /* ths.tabIndex= 0;*/\n",
       "    /* ths.focus(); */\n",
       "}\n",
       "\n",
       "\n",
       "\n",
       "function slide2(containerId) {\n",
       "    var container = document.getElementById(containerId);\n",
       "    var next=document.getElementById(containerId+'-next');\n",
       "    var frontcard = container.children[0];\n",
       "    var backcard = container.children[1];\n",
       "    container.style.pointerEvents='none';\n",
       "    /* container.removeAttribute(\"tabindex\");*/\n",
       "    /* container.blur(); */\n",
       "    //backcard.style.pointerEvents='none';\n",
       "    next.style.pointerEvents='none';\n",
       "    next.classList.remove('flipped');\n",
       "    next.classList.add('hide');\n",
       "\n",
       "    //container.classList.add(\"prepare\");\n",
       "    \n",
       "    container.className=\"flip-container slide\";\n",
       "    backcard.parentElement.removeChild(frontcard);\n",
       "    backcard.parentElement.appendChild(frontcard);\n",
       "    setTimeout(slideback, 600, container, frontcard, backcard, next);\n",
       "    \n",
       "}\n",
       "\n",
       "\n",
       "window.checkFlip = function checkFlip(containerId) {\n",
       "    var container = document.getElementById(containerId);\n",
       "\n",
       "\n",
       "    if (container.classList.contains('flip')) {\n",
       "        container.classList.remove('flip');\n",
       "        setTimeout(slide2, 600, containerId);\n",
       "    } \n",
       "    else {\n",
       "        slide2(containerId);\n",
       "    }\n",
       "}\n",
       "\n",
       "\n",
       "function slideback(container, frontcard, backcard, next) {\n",
       "    container.className=\"flip-container slideback\";\n",
       "    setTimeout(cleanup, 550, container, frontcard, backcard, next);\n",
       "}\n",
       "\n",
       "function cleanup(container, frontcard, backcard, next) {\n",
       "    container.removeChild(frontcard);\n",
       "    backcard.className=\"flipper frontcard\";\n",
       "    container.className=\"flip-container\";\n",
       "\n",
       "    var cardnum=parseInt(container.dataset.cardnum);\n",
       "    var cards=eval('cards'+container.id);\n",
       "    var flipper=createOneCard(container, false, cards, cardnum);\n",
       "    container.append(flipper);\n",
       "    cardnum= (cardnum+1) % parseInt(container.dataset.numCards);\n",
       "    container.dataset.cardnum=cardnum;\n",
       "    if (cardnum != 1){\n",
       "        next.innerHTML=\"Next >\";\n",
       "    } else {\n",
       "        //next.innerHTML=\"Reload \\\\(\\\\circlearrowleft\\\\) \";\n",
       "        next.innerHTML='Reload <svg xmlns=\"http://www.w3.org/2000/svg\" xmlns:xlink=\"http://www.w3.org/1999/xlink\" viewbox=\"0 0 25 26\"> <path d=\"M7,6a10,10,0,1,0,9,0\" style=\"fill:none;stroke:black;stroke-width:2px\" id=\"e2_circleArc\"/> <line id=\"e3_line\" x1=\"17\" y1=\"6.5\" x2=\"17.5\" y2=\"15\" style=\"stroke:black;fill:none;stroke-width:2px\"/> <line id=\"e4_line\" x1=\"16.5\" y1=\"6.5\" x2=\"26\" y2=\"8\" style=\"stroke:black;fill:none;stroke-width:2px\"/> </svg> '\n",
       "        if (typeof MathJax != 'undefined') {\n",
       "            var version = MathJax.version;\n",
       "            console.log('MathJax version', version);\n",
       "            if (version[0] == \"2\") {\n",
       "                MathJax.Hub.Queue([\"Typeset\", MathJax.Hub]);\n",
       "            } else if (version[0] == \"3\") {\n",
       "                MathJax.typeset([next]);\n",
       "            }\n",
       "        } else {\n",
       "            console.log('MathJax not detected');\n",
       "        }\n",
       "\n",
       "\n",
       "    }\n",
       "\n",
       "    if (typeof MathJax != 'undefined') {\n",
       "        var version = MathJax.version;\n",
       "        console.log('MathJax version', version);\n",
       "        if (version[0] == \"2\") {\n",
       "            MathJax.Hub.Queue([\"Typeset\", MathJax.Hub]);\n",
       "        } else if (version[0] == \"3\") {\n",
       "            MathJax.typeset();\n",
       "        }\n",
       "    } else {\n",
       "        console.log('MathJax not detected');\n",
       "    }\n",
       "\n",
       "\n",
       "    next.style.pointerEvents='auto';\n",
       "    container.style.pointerEvents='auto';\n",
       "    /* container.tabIndex= 0; */\n",
       "    /* container.focus(); */\n",
       "    next.classList.remove('hide');\n",
       "    container.addEventListener('swiped-left', function(e) {\n",
       "        /*\n",
       "          console.log(e.detail);\n",
       "          console.log(id);\n",
       "        */\n",
       "        checkFlip(container.id);\n",
       "    }, {once: true });\n",
       "\n",
       "\n",
       "}\n",
       "\n",
       "\n",
       "function createOneCard  (mydiv, frontCard, cards, cardnum) {\n",
       "    var colors=[\n",
       "        '--asparagus',\n",
       "        '--terra-cotta',\n",
       "        '--cyan-process'\n",
       "    ]\n",
       "\n",
       "    var flipper = document.createElement('div');\n",
       "    if (frontCard){\n",
       "        flipper.className=\"flipper frontcard\";    \n",
       "    }\n",
       "    else {\n",
       "        flipper.className=\"flipper backcard\";   \n",
       "    }\n",
       "\n",
       "    var front = document.createElement('div');\n",
       "    front.className='front flashcard';\n",
       "\n",
       "    var frontSpan= document.createElement('span');\n",
       "    frontSpan.className='flashcardtext';\n",
       "    frontSpan.innerHTML=jaxify(cards[cardnum]['front']);\n",
       "    //frontSpan.textContent=jaxify(cards[cardnum]['front']);\n",
       "    front.style.background='var(' + colors[cardnum % colors.length] + ')';\n",
       "\n",
       "\n",
       "    front.append(frontSpan);\n",
       "    flipper.append(front);\n",
       "\n",
       "    var back = document.createElement('div');\n",
       "    back.className='back flashcard';\n",
       "\n",
       "    var backSpan= document.createElement('span');\n",
       "    backSpan.className='flashcardtext';\n",
       "    backSpan.innerHTML=jaxify(cards[cardnum]['back']);\n",
       "    back.append(backSpan);\n",
       "\n",
       "    flipper.append(back);\n",
       "\n",
       "    return flipper;\n",
       "\n",
       "}\n",
       "\n",
       "\n",
       "\n",
       "\n",
       "\n",
       "function createCards(id, keyControl) {\n",
       "    console.log(id);\n",
       "    \n",
       "    var mydiv=document.getElementById(id);\n",
       "    /*mydiv.onclick = window.flipCard(mydiv);*/\n",
       "    /*\n",
       "    mydiv.addEventListener('click', function(){window.flipCard(mydiv);}, false);\n",
       "    mydiv.addEventListener('keydown', function(event){window.checkKey(mydiv,event);}, true);\n",
       "    */\n",
       "    mydiv.onclick = function(){window.flipCard(mydiv);};\n",
       "    console.log(keyControl);\n",
       "    if (keyControl == \"True\"){\n",
       "        mydiv.onkeydown = function(event){window.checkKey(mydiv,event);};\n",
       "    }\n",
       "    /* mydiv.addEventListener('keydown', function(event){event.stopPropagation(); console.log(event); event.preventDefault();}, true); */\n",
       "    /*mydiv.onkeypress = function(event){console.log(event); event.preventDefault();};*/\n",
       "\n",
       "    console.log(mydiv);\n",
       "    \n",
       "    var cards=eval('cards'+id);\n",
       "    mydiv.dataset.cardnum=0;\n",
       "    mydiv.dataset.numCards=cards.length;\n",
       "    mydiv.addEventListener('swiped-left', function(e) {\n",
       "        /*\n",
       "          console.log(e.detail);\n",
       "          console.log(id);\n",
       "        */\n",
       "        checkFlip(id);\n",
       "    }, {once: true});\n",
       "\n",
       "    var cardnum=0;\n",
       "    \n",
       "    for (var i=0; i<2; i++) {\n",
       "    \n",
       "        var flipper;\n",
       "        if (i==0){\n",
       "            flipper=createOneCard(mydiv, true, cards, cardnum);\n",
       "        }\n",
       "        else {\n",
       "            flipper=createOneCard(mydiv, false, cards, cardnum);\n",
       "        }\n",
       "\n",
       "        mydiv.append(flipper);\n",
       "        if (typeof MathJax != 'undefined') {\n",
       "            var version = MathJax.version;\n",
       "            if (typeof version == 'undefined') {\n",
       "                setTimeout(function(){\n",
       "                    var version = MathJax.version;\n",
       "                    console.log('After sleep, MathJax version', version);\n",
       "                    if (version[0] == \"2\") {\n",
       "                        MathJax.Hub.Queue([\"Typeset\", MathJax.Hub]);\n",
       "                    } else if (version[0] == \"3\") {\n",
       "                        MathJax.typeset([flipper]);\n",
       "                    }\n",
       "                }, 500);\n",
       "            } else{\n",
       "                console.log('MathJax version', version);\n",
       "                if (version[0] == \"2\") {\n",
       "                    MathJax.Hub.Queue([\"Typeset\", MathJax.Hub]);\n",
       "                } else if (version[0] == \"3\") {\n",
       "                    MathJax.typeset([flipper]);\n",
       "                }\n",
       "            }\n",
       "        } else {\n",
       "            console.log('MathJax not detected');\n",
       "        }\n",
       "\n",
       "\n",
       "        cardnum = (cardnum + 1) % mydiv.dataset.numCards;\n",
       "    }\n",
       "    mydiv.dataset.cardnum = cardnum;\n",
       "\n",
       "    var next=document.getElementById(id+'-next');\n",
       "    if (cards.length==1) {\n",
       "        // Don't show next if no other cards!\n",
       "        next.style.pointerEvents='none';\n",
       "        next.classList.add('hide');\n",
       "    } else {\n",
       "        next.innerHTML=\"Next >\";\n",
       "    }\n",
       "\n",
       "    mydiv.focus();\n",
       "\n",
       "    return flipper;\n",
       "}\n",
       "\n",
       "\n",
       "\n",
       "\n",
       "\n",
       "var cardssAvxFkJWNyFL=[{\"name\": \"numpy log example 1\", \"front\": \"np.log(10)\", \"back\": \"2.3026\"}, {\"name\": \"numpy log10 example 1\", \"front\": \"np.log10(10)\", \"back\": \"1.0\"}, {\"name\": \"numpy log10 example 2\", \"front\": \"np.log10(100)\", \"back\": \"2.0\"}, {\"name\": \"numpy log10 example 3\", \"front\": \"np.log(np.e)\", \"back\": \"1.0\"}, {\"name\": \"numpy log example 2\", \"front\": \"np.log(np.e**2)\", \"back\": \"2.0\"}];\n",
       "    \n",
       "        createCards(\"sAvxFkJWNyFL\", \"True\");\n",
       "        "
      ],
      "text/plain": [
       "<IPython.core.display.Javascript object>"
      ]
     },
     "metadata": {},
     "output_type": "display_data"
    }
   ],
   "source": [
    "print(\"Click on the card below to view the answer. Click Next> to advance to the next card.\")\n",
    "display_flashcards(cards)"
   ]
  },
  {
   "cell_type": "markdown",
   "metadata": {},
   "source": [
    "### Some basic looping"
   ]
  },
  {
   "cell_type": "markdown",
   "metadata": {
    "tags": [
     "remove-cell"
    ]
   },
   "source": [
    "<img alt=\"for loop\" src=\"../images/flow_for_loop.png\" width=350>"
   ]
  },
  {
   "cell_type": "markdown",
   "metadata": {
    "tags": [
     "remove-input"
    ]
   },
   "source": [
    "::::{margin} \n",
    ":::{figure} ../images//flow_for_loop.png\n",
    ":height: 300px\n",
    "\n",
    "Visualizing the `for` loop\n",
    ":::\n",
    "::::"
   ]
  },
  {
   "cell_type": "markdown",
   "metadata": {
    "tags": [
     "remove-output"
    ]
   },
   "source": [
    "Let's start the dicussion on looping with considering the flow chart for a basic `for` loop.  The `for` loop is given a list of items to be used one-by-one in the loop body.  This could be as simple as:  \n",
    "```python\n",
    "for x in [3,5,9]:\n",
    "    print(x)\n",
    "```  \n",
    "which would give the output:  \n",
    "3  \n",
    "5  \n",
    "9"
   ]
  },
  {
   "cell_type": "code",
   "execution_count": 8,
   "metadata": {},
   "outputs": [
    {
     "name": "stdout",
     "output_type": "stream",
     "text": [
      "9\n",
      "16\n",
      "25\n",
      "36\n",
      "49\n"
     ]
    }
   ],
   "source": [
    "for x in [3,4,5,6,7]:\n",
    "    print(x**2)"
   ]
  },
  {
   "cell_type": "markdown",
   "metadata": {},
   "source": [
    "if you would like to print a list of the results rather than the result from each iteration, then we need to store the results into a list within the loop body and use `.append()` to update the list each iteration of the for loop.  Our print statement now goes outside the for loop as shown below.  "
   ]
  },
  {
   "cell_type": "code",
   "execution_count": 9,
   "metadata": {},
   "outputs": [
    {
     "name": "stdout",
     "output_type": "stream",
     "text": [
      "[9, 16, 25, 36, 49, 64]\n"
     ]
    }
   ],
   "source": [
    "y=[] #initialize an empty list for our outputs\n",
    "for x in [3,4,5,6,7,8]:\n",
    "    y.append(x**2) # append the current value of x**2 to the list y\n",
    "print(y)"
   ]
  },
  {
   "cell_type": "markdown",
   "metadata": {},
   "source": [
    "...or maybe we want to also find the sum of the squares"
   ]
  },
  {
   "cell_type": "code",
   "execution_count": 10,
   "metadata": {},
   "outputs": [
    {
     "name": "stdout",
     "output_type": "stream",
     "text": [
      "[9, 16, 25, 36, 49, 64]\n",
      "199\n"
     ]
    }
   ],
   "source": [
    "y=[] #initialize an empty list for our outputs\n",
    "sum=0 #initialize our variable sum\n",
    "for x in [3,4,5,6,7,8]:\n",
    "    y.append(x**2) # append the current value of x**2 to the list y\n",
    "    sum=sum+x**2 # add the current value of x**2 to our sum\n",
    "print(y)\n",
    "print(sum)"
   ]
  },
  {
   "cell_type": "markdown",
   "metadata": {},
   "source": [
    "`sum=sum+x**2` works because the **right side is always calculated first** and then this value is assigned to the variable named on the left. In our case it would look like:  \n",
    "> sum = 0       initial value (outside loop)  \n",
    "\n",
    "enter loop:  sum = current value of `sum` + current value of `x**2`   \n",
    "> sum = 0 + 9   first iteration  \n",
    "> sum = 9 + 16  second iteration  \n",
    "> sum = 25 + 36 third iteration  \n",
    "\n",
    "and so on..."
   ]
  },
  {
   "cell_type": "code",
   "execution_count": 93,
   "metadata": {
    "tags": [
     "remove-cell"
    ]
   },
   "outputs": [],
   "source": [
    "from jupytercards import display_flashcards\n",
    "\n",
    "cards=[\n",
    "    {\n",
    "        \"name\": \"for loop example 1\",\n",
    "        \"front\": \"<p style='text-align:left;padding-left:50px;'>y=[&nbsp]<br>for x in [3,4,5,6,7]:<br> &emsp; y.append(x**2)<br> &emsp; print(y)<br>y</p>\",\n",
    "        \"back\": \"<p>[9]<br>[9, 16]<br>[9, 16, 25]<br>[9, 16, 25, 36]<br>[9, 16, 25, 36, 49]<br>[9, 16, 25, 36, 49]</p>\"\n",
    "    },\n",
    "    {\n",
    "        \"name\": \"for loop example 2\",\n",
    "        \"front\": \"<p style='text-align:left;padding-left:50px;'>y=[&nbsp]<br>for x in [3,4,5,6,7]:<br> &emsp; y.append(x**2)<br>y</p>\",\n",
    "        \"back\": \"<p>[9, 16, 25, 36, 49]</p>\"\n",
    "    },\n",
    "    {\n",
    "        \"name\": \"for loop example 3\",\n",
    "        \"front\": \"<p style='text-align:left;padding-left:50px;'>for x in [3,4,5,6,7]:<br> &emsp; print(x**2)<br>x</p>\",\n",
    "        \"back\": \"<p>9<br>16<br>25<br>36<br>49<br>7</p>\"\n",
    "    },\n",
    "    {\n",
    "        \"name\": \"for loop example 4\",\n",
    "        \"front\": \"<p style='text-align:left;padding-left:50px;'>for x in [3,4,5]:<br> &emsp; m=m+x<br>m</p>\",\n",
    "        \"back\": \"NameError: name 'm' is not defined\"\n",
    "    },\n",
    "    {\n",
    "        \"name\": \"for loop example 4\",\n",
    "        \"front\": \"<p style='text-align:left;padding-left:50px;'>m=0<br>for x in [3,4,5]:<br> &emsp; m=m+x<br>m</p>\",\n",
    "        \"back\": \"12\"\n",
    "    }\n",
    "]"
   ]
  },
  {
   "cell_type": "code",
   "execution_count": 94,
   "metadata": {
    "tags": [
     "remove-input"
    ]
   },
   "outputs": [
    {
     "name": "stdout",
     "output_type": "stream",
     "text": [
      "Click on the card below to view the answer. Click Next> to advance to the next card.\n",
      "\n"
     ]
    },
    {
     "data": {
      "text/html": [
       "<style>\n",
       ":root{\n",
       "  --asparagus: #87a878ff;\n",
       "  --terra-cotta: #e26d5aff;\n",
       "  --cyan-process: #5bc0ebff;\n",
       "  --dark-blue-gray: #666a86ff;\n",
       "  --snow: #fffafbff;\n",
       "  --rich-black-fogra-39: #090c08ff;\n",
       "}\n",
       "\n",
       "\n",
       "/* entire container, keeps perspective */\n",
       ".flip-container {\n",
       "\tperspective: 1000px;\n",
       "  touch-action: pinch-zoom pan-y;\n",
       "}\n",
       "\n",
       "\n",
       ".flip-container.flip .flipper {\n",
       "\ttransform: rotateY(180deg);\n",
       "\t/*transform: rotateY(180deg)  translateX(-10%); */\n",
       "}\n",
       "\n",
       "\n",
       ".flip-container.slide .flipper.frontcard {\n",
       "    filter: brightness(90%);\n",
       "    position:absolute;\n",
       "    z-index: -20;\n",
       "}\n",
       "\n",
       ".flip-container.prepare .flipper.backcard {\n",
       "    opacity:1;\n",
       "    transition: display 0s;\n",
       "    transform:  translateX(20px); \n",
       "}\n",
       "\n",
       "\n",
       ".flip-container.slide .flipper.backcard {\n",
       "    filter: brightness(115%);\n",
       "    height: 360px;\n",
       "    opacity:1;\n",
       "\t  transform:  rotateY(3deg)  translateX(700px) translateZ(20px) scale(1, 1.05) rotate(3deg);\n",
       "    z-index: 20;\n",
       "}\n",
       "\n",
       "\n",
       "\n",
       "\n",
       ".flip-container.slideback .flipper.backcard {\n",
       "    filter: brightness(100%);\n",
       "    opacity: 1;\n",
       "\t  transform: translateX(0px) translateZ(20px) rotateY(0deg);\n",
       "    z-index: 10;\n",
       "}\n",
       "\n",
       ".flip-container.slideback .flipper.frontcard {\n",
       "    filter: brightness(90%);\n",
       "    transform: translateX(0px) translateZ(-20px);\n",
       "    z-index: -10;\n",
       "}\n",
       "\n",
       "\n",
       ".flip-container, .front, .back {\n",
       "\t  height: 200px;\n",
       "\t  width: 100%;\n",
       "}\n",
       "\n",
       "\n",
       "\n",
       "\n",
       ".flipper.frontcard {\n",
       "    position:absolute;\n",
       "\t  transform: translateX(0px) rotateY(0deg) translateZ(20px);\n",
       "    z-index: 10;\n",
       "}\n",
       "\n",
       ".flipper.backcard {\n",
       "    filter: brightness(90%);\n",
       "    opacity:0;\n",
       "    position:absolute;\n",
       "    transform: translateX(0px) translateZ(-20px);\n",
       "    z-index: -10;\n",
       "}\n",
       "\n",
       "\n",
       "\n",
       "\n",
       "/* flip speed goes here */\n",
       ".flipper {\n",
       "    cursor:pointer;\n",
       "\t  height: 200px;\n",
       "    margin-left:10px;\n",
       "\t  position: absolute;\n",
       "    top: 0;\n",
       "\t  transform-style: preserve-3d;\n",
       "\t  transition: 0.6s;\n",
       "    width: 95%;\n",
       "}\n",
       "\n",
       ".flashcardtext{\n",
       "    color: var(--snow);\n",
       "    margin-left:3%;\n",
       "    position:absolute;\n",
       "    text-align:center;\n",
       "    top: 50%;\n",
       "    transform: translate(0, -50%);\n",
       "    width:90%;\n",
       "    font-size: 1.5em;\n",
       "}\n",
       "\n",
       ".back .flashcardtext{\n",
       "    font-size: 1.2em;\n",
       "}\n",
       "\n",
       "\n",
       "\n",
       "/* hide back of pane during swap */\n",
       ".front, .back {\n",
       "    -webkit-backface-visibility: hidden;\n",
       "\t  backface-visibility: hidden;\n",
       "\t  left: 0;\n",
       "\t  position: absolute;\n",
       "\t  top: 0;\n",
       "}\n",
       "\n",
       "/* front pane, placed above back */\n",
       ".front {\n",
       "\t  backface-visibility: hidden;\n",
       "    background: var(--asparagus);\n",
       "    transform: rotateY(0deg);\n",
       "\t  z-index: 2;\n",
       "}\n",
       "\n",
       "/* back, initially hidden pane */\n",
       ".back {\n",
       "\t  backface-visibility: hidden;\n",
       "    background: var(--dark-blue-gray);\n",
       "\t  transform: rotateY(180deg);\n",
       "}\n",
       "\n",
       ".jp-OutputArea-output .back {\n",
       "\t  transform: rotateY(180deg) translateX(7.5%);\n",
       "}\n",
       "\n",
       ".next {\n",
       "    color: var(--rich-black-fogra-39);\n",
       "    cursor:pointer;\n",
       "    font-size: 1.5em;\n",
       "    /*left:90%; */\n",
       "    margin-left: 70%;\n",
       "    width: 100pt;\n",
       "    height: 22pt;\n",
       "    opacity:0.3;\n",
       "    position:relative; \n",
       "    top:-1em;\n",
       "}\n",
       "\n",
       ".next svg {\n",
       "    height:16pt;\n",
       "    width:16pt;\n",
       "    position:relative;\n",
       "    top:-2pt;\n",
       "}\n",
       "\n",
       ".jp-OutputArea-output .next svg {\n",
       "    top: 1pt;\n",
       "}\n",
       "\n",
       ".next.flipped {\n",
       "    opacity:1;\n",
       "}\n",
       "\n",
       ".next.hide {\n",
       "    opacity:0;\n",
       "}\n",
       "\n",
       "\n",
       ".flashcard{\n",
       "    border-radius: 10px;\n",
       "    outline: none;\n",
       "    color: #fafafa;\n",
       "    display:block;\n",
       "    padding:10px;\n",
       "  \n",
       "}\n",
       "\n",
       ".flashcardtext li{\n",
       "    text-align: left;\n",
       "}\n",
       "\n",
       "@media only screen and (min-width:1000px) {\n",
       "\n",
       "    .flip-container, .front, .back {\n",
       "\t      height: 300px;\n",
       "\t      width: 640px;\n",
       "    }\n",
       "\n",
       "    .flipper {\n",
       "        margin-left:20px;\n",
       "\t      height: 300px;\n",
       "        width: 600px;\n",
       "    }\n",
       "\n",
       "    .flashcardtext{\n",
       "        font-size: 20pt;\n",
       "    }\n",
       "\n",
       "    .next {\n",
       "        font-size: 16pt;\n",
       "        left:438pt;\n",
       "        margin-left: 0;\n",
       "        width: 100pt;\n",
       "        height: 22pt;\n",
       "        top:-0.5em;\n",
       "    }\n",
       "\n",
       "    .back .flashcardtext{\n",
       "        font-size: 1.5em;\n",
       "    }\n",
       "\n",
       "}\n",
       "\n",
       "@media only screen and (min-width:660px) and (max-width:999px) {\n",
       "    .next {\n",
       "        left:0;\n",
       "        margin-left: 80%;\n",
       "    }\n",
       "\n",
       "}\n",
       "\n",
       "@media only screen and (max-width:680px) and (min-height:376px) {\n",
       "    .flip-container, .front, .back {\n",
       "\t      height: 300px;\n",
       "    }\n",
       "\n",
       "    .flipper {\n",
       "\t      height: 300px;\n",
       "    }\n",
       "\n",
       "}\n",
       "\n",
       "@media only screen and (max-width:330px) and (max-height:600px) {\n",
       "\n",
       "    .back .flashcardtext{\n",
       "        font-size: 1em;\n",
       "    }\n",
       "    .next {\n",
       "        margin-left: 65%;\n",
       "    }\n",
       "\n",
       "}\n",
       "\n",
       "</style>"
      ],
      "text/plain": [
       "<IPython.core.display.HTML object>"
      ]
     },
     "metadata": {},
     "output_type": "display_data"
    },
    {
     "data": {
      "text/html": [
       "<div style=\"height:40px\"></div><div class=\"flip-container\" id=\"SHlHfycAmyDU\" tabindex=\"0\" style=\"outline:none;\"></div><div style=\"height:40px\"></div><div class=\"next\" id=\"SHlHfycAmyDU-next\" onclick=\"window.checkFlip('SHlHfycAmyDU')\"> </div> <div style=\"height:40px\"></div>"
      ],
      "text/plain": [
       "<IPython.core.display.HTML object>"
      ]
     },
     "metadata": {},
     "output_type": "display_data"
    },
    {
     "data": {
      "application/javascript": [
       "/*!\n",
       " * swiped-events.js - v1.1.4\n",
       " * Pure JavaScript swipe events\n",
       " * https://github.com/john-doherty/swiped-events\n",
       " * @inspiration https://stackoverflow.com/questions/16348031/disable-scrolling-when-touch-moving-certain-element\n",
       " * @author John Doherty <www.johndoherty.info>\n",
       " * @license MIT\n",
       " */\n",
       "!function(t,e){\"use strict\";\"function\"!=typeof t.CustomEvent&&(t.CustomEvent=function(t,n){n=n||{bubbles:!1,cancelable:!1,detail:void 0};var a=e.createEvent(\"CustomEvent\");return a.initCustomEvent(t,n.bubbles,n.cancelable,n.detail),a},t.CustomEvent.prototype=t.Event.prototype),e.addEventListener(\"touchstart\",function(t){if(\"true\"===t.target.getAttribute(\"data-swipe-ignore\"))return;s=t.target,r=Date.now(),n=t.touches[0].clientX,a=t.touches[0].clientY,u=0,i=0},!1),e.addEventListener(\"touchmove\",function(t){if(!n||!a)return;var e=t.touches[0].clientX,r=t.touches[0].clientY;u=n-e,i=a-r},!1),e.addEventListener(\"touchend\",function(t){if(s!==t.target)return;var e=parseInt(l(s,\"data-swipe-threshold\",\"20\"),10),o=parseInt(l(s,\"data-swipe-timeout\",\"500\"),10),c=Date.now()-r,d=\"\",p=t.changedTouches||t.touches||[];Math.abs(u)>Math.abs(i)?Math.abs(u)>e&&c<o&&(d=u>0?\"swiped-left\":\"swiped-right\"):Math.abs(i)>e&&c<o&&(d=i>0?\"swiped-up\":\"swiped-down\");if(\"\"!==d){var b={dir:d.replace(/swiped-/,\"\"),xStart:parseInt(n,10),xEnd:parseInt((p[0]||{}).clientX||-1,10),yStart:parseInt(a,10),yEnd:parseInt((p[0]||{}).clientY||-1,10)};s.dispatchEvent(new CustomEvent(\"swiped\",{bubbles:!0,cancelable:!0,detail:b})),s.dispatchEvent(new CustomEvent(d,{bubbles:!0,cancelable:!0,detail:b}))}n=null,a=null,r=null},!1);var n=null,a=null,u=null,i=null,r=null,s=null;function l(t,n,a){for(;t&&t!==e.documentElement;){var u=t.getAttribute(n);if(u)return u;t=t.parentNode}return a}}(window,document);\n",
       "\n",
       "function jaxify(string) {\n",
       "    var mystring = string;\n",
       "    console.log(mystring);\n",
       "\n",
       "    var count = 0;\n",
       "    var loc = mystring.search(/([^\\\\]|^)(\\$)/);\n",
       "\n",
       "    var count2 = 0;\n",
       "    var loc2 = mystring.search(/([^\\\\]|^)(\\$\\$)/);\n",
       "\n",
       "    //console.log(loc);\n",
       "\n",
       "    while ((loc >= 0) || (loc2 >= 0)) {\n",
       "\n",
       "        /* Have to replace all the double $$ first with current implementation */\n",
       "        if (loc2 >= 0) {\n",
       "            if (count2 % 2 == 0) {\n",
       "                mystring = mystring.replace(/([^\\\\]|^)(\\$\\$)/, \"$1\\\\[\");\n",
       "            } else {\n",
       "                mystring = mystring.replace(/([^\\\\]|^)(\\$\\$)/, \"$1\\\\]\");\n",
       "            }\n",
       "            count2++;\n",
       "        } else {\n",
       "            if (count % 2 == 0) {\n",
       "                mystring = mystring.replace(/([^\\\\]|^)(\\$)/, \"$1\\\\(\");\n",
       "            } else {\n",
       "                mystring = mystring.replace(/([^\\\\]|^)(\\$)/, \"$1\\\\)\");\n",
       "            }\n",
       "            count++;\n",
       "        }\n",
       "        loc = mystring.search(/([^\\\\]|^)(\\$)/);\n",
       "        loc2 = mystring.search(/([^\\\\]|^)(\\$\\$)/);\n",
       "        //console.log(mystring,\", loc:\",loc,\", loc2:\",loc2);\n",
       "    }\n",
       "\n",
       "    //console.log(mystring);\n",
       "    return mystring;\n",
       "}\n",
       "\n",
       "window.flipCard = function flipCard(ths) {\n",
       "    console.log(ths);\n",
       "    console.log(ths.id);\n",
       "    ths.classList.toggle(\"flip\"); \n",
       "    var next=document.getElementById(ths.id+'-next');\n",
       "    next.style.pointerEvents='none';\n",
       "    /* ths.blur(); */\n",
       "    next.classList.add('flipped');\n",
       "    if (typeof MathJax != 'undefined') {\n",
       "        var version = MathJax.version;\n",
       "        console.log('MathJax version', version);\n",
       "        if (version[0] == \"2\") {\n",
       "            MathJax.Hub.Queue([\"Typeset\", MathJax.Hub]);\n",
       "        } else if (version[0] == \"3\") {\n",
       "            MathJax.typeset([ths]);\n",
       "        }\n",
       "    } else {\n",
       "        console.log('MathJax not detected');\n",
       "    }\n",
       "\n",
       "\n",
       "    setTimeout(reenableNext, 600, ths, next);\n",
       "}\n",
       "\n",
       "window.checkKey = function checkKey(container, event) {\n",
       "    event.stopPropagation();\n",
       "    /*\n",
       "    console.log(container);\n",
       "    console.log(event.key);\n",
       "    console.log(event.code);\n",
       "    */\n",
       "    /* JMS:  Working here*/\n",
       "    var next=document.getElementById(container.id+'-next');\n",
       "    /* Only react if not already sliding */\n",
       "    if (! next.classList.contains(\"hide\")) {\n",
       "        if ((event.key == \"j\") || (event.key == \"Enter\") || (event.key == \"ArrowRight\")) {\n",
       "            window.checkFlip(container.id);\n",
       "        }\n",
       "        if (event.key == \" \") {\n",
       "            window.flipCard(container);\n",
       "        }\n",
       "    }\n",
       "    event.preventDefault();\n",
       "}\n",
       "\n",
       "\n",
       "function reenableNext(ths, next) {\n",
       "    next.style.pointerEvents='auto';\n",
       "    /* ths.tabIndex= 0;*/\n",
       "    /* ths.focus(); */\n",
       "}\n",
       "\n",
       "\n",
       "\n",
       "function slide2(containerId) {\n",
       "    var container = document.getElementById(containerId);\n",
       "    var next=document.getElementById(containerId+'-next');\n",
       "    var frontcard = container.children[0];\n",
       "    var backcard = container.children[1];\n",
       "    container.style.pointerEvents='none';\n",
       "    /* container.removeAttribute(\"tabindex\");*/\n",
       "    /* container.blur(); */\n",
       "    //backcard.style.pointerEvents='none';\n",
       "    next.style.pointerEvents='none';\n",
       "    next.classList.remove('flipped');\n",
       "    next.classList.add('hide');\n",
       "\n",
       "    //container.classList.add(\"prepare\");\n",
       "    \n",
       "    container.className=\"flip-container slide\";\n",
       "    backcard.parentElement.removeChild(frontcard);\n",
       "    backcard.parentElement.appendChild(frontcard);\n",
       "    setTimeout(slideback, 600, container, frontcard, backcard, next);\n",
       "    \n",
       "}\n",
       "\n",
       "\n",
       "window.checkFlip = function checkFlip(containerId) {\n",
       "    var container = document.getElementById(containerId);\n",
       "\n",
       "\n",
       "    if (container.classList.contains('flip')) {\n",
       "        container.classList.remove('flip');\n",
       "        setTimeout(slide2, 600, containerId);\n",
       "    } \n",
       "    else {\n",
       "        slide2(containerId);\n",
       "    }\n",
       "}\n",
       "\n",
       "\n",
       "function slideback(container, frontcard, backcard, next) {\n",
       "    container.className=\"flip-container slideback\";\n",
       "    setTimeout(cleanup, 550, container, frontcard, backcard, next);\n",
       "}\n",
       "\n",
       "function cleanup(container, frontcard, backcard, next) {\n",
       "    container.removeChild(frontcard);\n",
       "    backcard.className=\"flipper frontcard\";\n",
       "    container.className=\"flip-container\";\n",
       "\n",
       "    var cardnum=parseInt(container.dataset.cardnum);\n",
       "    var cards=eval('cards'+container.id);\n",
       "    var flipper=createOneCard(container, false, cards, cardnum);\n",
       "    container.append(flipper);\n",
       "    cardnum= (cardnum+1) % parseInt(container.dataset.numCards);\n",
       "    container.dataset.cardnum=cardnum;\n",
       "    if (cardnum != 1){\n",
       "        next.innerHTML=\"Next >\";\n",
       "    } else {\n",
       "        //next.innerHTML=\"Reload \\\\(\\\\circlearrowleft\\\\) \";\n",
       "        next.innerHTML='Reload <svg xmlns=\"http://www.w3.org/2000/svg\" xmlns:xlink=\"http://www.w3.org/1999/xlink\" viewbox=\"0 0 25 26\"> <path d=\"M7,6a10,10,0,1,0,9,0\" style=\"fill:none;stroke:black;stroke-width:2px\" id=\"e2_circleArc\"/> <line id=\"e3_line\" x1=\"17\" y1=\"6.5\" x2=\"17.5\" y2=\"15\" style=\"stroke:black;fill:none;stroke-width:2px\"/> <line id=\"e4_line\" x1=\"16.5\" y1=\"6.5\" x2=\"26\" y2=\"8\" style=\"stroke:black;fill:none;stroke-width:2px\"/> </svg> '\n",
       "        if (typeof MathJax != 'undefined') {\n",
       "            var version = MathJax.version;\n",
       "            console.log('MathJax version', version);\n",
       "            if (version[0] == \"2\") {\n",
       "                MathJax.Hub.Queue([\"Typeset\", MathJax.Hub]);\n",
       "            } else if (version[0] == \"3\") {\n",
       "                MathJax.typeset([next]);\n",
       "            }\n",
       "        } else {\n",
       "            console.log('MathJax not detected');\n",
       "        }\n",
       "\n",
       "\n",
       "    }\n",
       "\n",
       "    if (typeof MathJax != 'undefined') {\n",
       "        var version = MathJax.version;\n",
       "        console.log('MathJax version', version);\n",
       "        if (version[0] == \"2\") {\n",
       "            MathJax.Hub.Queue([\"Typeset\", MathJax.Hub]);\n",
       "        } else if (version[0] == \"3\") {\n",
       "            MathJax.typeset();\n",
       "        }\n",
       "    } else {\n",
       "        console.log('MathJax not detected');\n",
       "    }\n",
       "\n",
       "\n",
       "    next.style.pointerEvents='auto';\n",
       "    container.style.pointerEvents='auto';\n",
       "    /* container.tabIndex= 0; */\n",
       "    /* container.focus(); */\n",
       "    next.classList.remove('hide');\n",
       "    container.addEventListener('swiped-left', function(e) {\n",
       "        /*\n",
       "          console.log(e.detail);\n",
       "          console.log(id);\n",
       "        */\n",
       "        checkFlip(container.id);\n",
       "    }, {once: true });\n",
       "\n",
       "\n",
       "}\n",
       "\n",
       "\n",
       "function createOneCard  (mydiv, frontCard, cards, cardnum) {\n",
       "    var colors=[\n",
       "        '--asparagus',\n",
       "        '--terra-cotta',\n",
       "        '--cyan-process'\n",
       "    ]\n",
       "\n",
       "    var flipper = document.createElement('div');\n",
       "    if (frontCard){\n",
       "        flipper.className=\"flipper frontcard\";    \n",
       "    }\n",
       "    else {\n",
       "        flipper.className=\"flipper backcard\";   \n",
       "    }\n",
       "\n",
       "    var front = document.createElement('div');\n",
       "    front.className='front flashcard';\n",
       "\n",
       "    var frontSpan= document.createElement('span');\n",
       "    frontSpan.className='flashcardtext';\n",
       "    frontSpan.innerHTML=jaxify(cards[cardnum]['front']);\n",
       "    //frontSpan.textContent=jaxify(cards[cardnum]['front']);\n",
       "    front.style.background='var(' + colors[cardnum % colors.length] + ')';\n",
       "\n",
       "\n",
       "    front.append(frontSpan);\n",
       "    flipper.append(front);\n",
       "\n",
       "    var back = document.createElement('div');\n",
       "    back.className='back flashcard';\n",
       "\n",
       "    var backSpan= document.createElement('span');\n",
       "    backSpan.className='flashcardtext';\n",
       "    backSpan.innerHTML=jaxify(cards[cardnum]['back']);\n",
       "    back.append(backSpan);\n",
       "\n",
       "    flipper.append(back);\n",
       "\n",
       "    return flipper;\n",
       "\n",
       "}\n",
       "\n",
       "\n",
       "\n",
       "\n",
       "\n",
       "function createCards(id, keyControl) {\n",
       "    console.log(id);\n",
       "    \n",
       "    var mydiv=document.getElementById(id);\n",
       "    /*mydiv.onclick = window.flipCard(mydiv);*/\n",
       "    /*\n",
       "    mydiv.addEventListener('click', function(){window.flipCard(mydiv);}, false);\n",
       "    mydiv.addEventListener('keydown', function(event){window.checkKey(mydiv,event);}, true);\n",
       "    */\n",
       "    mydiv.onclick = function(){window.flipCard(mydiv);};\n",
       "    console.log(keyControl);\n",
       "    if (keyControl == \"True\"){\n",
       "        mydiv.onkeydown = function(event){window.checkKey(mydiv,event);};\n",
       "    }\n",
       "    /* mydiv.addEventListener('keydown', function(event){event.stopPropagation(); console.log(event); event.preventDefault();}, true); */\n",
       "    /*mydiv.onkeypress = function(event){console.log(event); event.preventDefault();};*/\n",
       "\n",
       "    console.log(mydiv);\n",
       "    \n",
       "    var cards=eval('cards'+id);\n",
       "    mydiv.dataset.cardnum=0;\n",
       "    mydiv.dataset.numCards=cards.length;\n",
       "    mydiv.addEventListener('swiped-left', function(e) {\n",
       "        /*\n",
       "          console.log(e.detail);\n",
       "          console.log(id);\n",
       "        */\n",
       "        checkFlip(id);\n",
       "    }, {once: true});\n",
       "\n",
       "    var cardnum=0;\n",
       "    \n",
       "    for (var i=0; i<2; i++) {\n",
       "    \n",
       "        var flipper;\n",
       "        if (i==0){\n",
       "            flipper=createOneCard(mydiv, true, cards, cardnum);\n",
       "        }\n",
       "        else {\n",
       "            flipper=createOneCard(mydiv, false, cards, cardnum);\n",
       "        }\n",
       "\n",
       "        mydiv.append(flipper);\n",
       "        if (typeof MathJax != 'undefined') {\n",
       "            var version = MathJax.version;\n",
       "            if (typeof version == 'undefined') {\n",
       "                setTimeout(function(){\n",
       "                    var version = MathJax.version;\n",
       "                    console.log('After sleep, MathJax version', version);\n",
       "                    if (version[0] == \"2\") {\n",
       "                        MathJax.Hub.Queue([\"Typeset\", MathJax.Hub]);\n",
       "                    } else if (version[0] == \"3\") {\n",
       "                        MathJax.typeset([flipper]);\n",
       "                    }\n",
       "                }, 500);\n",
       "            } else{\n",
       "                console.log('MathJax version', version);\n",
       "                if (version[0] == \"2\") {\n",
       "                    MathJax.Hub.Queue([\"Typeset\", MathJax.Hub]);\n",
       "                } else if (version[0] == \"3\") {\n",
       "                    MathJax.typeset([flipper]);\n",
       "                }\n",
       "            }\n",
       "        } else {\n",
       "            console.log('MathJax not detected');\n",
       "        }\n",
       "\n",
       "\n",
       "        cardnum = (cardnum + 1) % mydiv.dataset.numCards;\n",
       "    }\n",
       "    mydiv.dataset.cardnum = cardnum;\n",
       "\n",
       "    var next=document.getElementById(id+'-next');\n",
       "    if (cards.length==1) {\n",
       "        // Don't show next if no other cards!\n",
       "        next.style.pointerEvents='none';\n",
       "        next.classList.add('hide');\n",
       "    } else {\n",
       "        next.innerHTML=\"Next >\";\n",
       "    }\n",
       "\n",
       "    mydiv.focus();\n",
       "\n",
       "    return flipper;\n",
       "}\n",
       "\n",
       "\n",
       "\n",
       "\n",
       "\n",
       "var cardsSHlHfycAmyDU=[{\"name\": \"for loop example 1\", \"front\": \"<p style='text-align:left;padding-left:50px;'>y=[&nbsp]<br>for x in [3,4,5,6,7]:<br> &emsp; y.append(x**2)<br> &emsp; print(y)<br>y</p>\", \"back\": \"<p>[9]<br>[9, 16]<br>[9, 16, 25]<br>[9, 16, 25, 36]<br>[9, 16, 25, 36, 49]<br>[9, 16, 25, 36, 49]</p>\"}, {\"name\": \"for loop example 2\", \"front\": \"<p style='text-align:left;padding-left:50px;'>y=[&nbsp]<br>for x in [3,4,5,6,7]:<br> &emsp; y.append(x**2)<br>y</p>\", \"back\": \"<p>[9, 16, 25, 36, 49]</p>\"}, {\"name\": \"for loop example 3\", \"front\": \"<p style='text-align:left;padding-left:50px;'>for x in [3,4,5,6,7]:<br> &emsp; print(x**2)<br>x</p>\", \"back\": \"<p>9<br>16<br>25<br>36<br>49<br>7</p>\"}, {\"name\": \"for loop example 4\", \"front\": \"<p style='text-align:left;padding-left:50px;'>for x in [3,4,5]:<br> &emsp; m=m+x<br>m</p>\", \"back\": \"NameError: name 'm' is not defined\"}, {\"name\": \"for loop example 4\", \"front\": \"<p style='text-align:left;padding-left:50px;'>m=0<br>for x in [3,4,5]:<br> &emsp; m=m+x<br>m</p>\", \"back\": \"12\"}];\n",
       "    \n",
       "        createCards(\"SHlHfycAmyDU\", \"True\");\n",
       "        "
      ],
      "text/plain": [
       "<IPython.core.display.Javascript object>"
      ]
     },
     "metadata": {},
     "output_type": "display_data"
    }
   ],
   "source": [
    "print(\"Click on the card below to view the answer. Click Next> to advance to the next card.\")\n",
    "display_flashcards(cards)"
   ]
  },
  {
   "cell_type": "markdown",
   "metadata": {},
   "source": [
    "### Special loop: List Comprehension"
   ]
  },
  {
   "cell_type": "markdown",
   "metadata": {},
   "source": [
    "This gives a nice compact way of defining a loop where the returned value is a list of outputs from each iteration.  \n",
    "**[** *value_to_save* **for** *iteration_var* **in** *list_of_items* **]**"
   ]
  },
  {
   "cell_type": "code",
   "execution_count": 60,
   "metadata": {},
   "outputs": [
    {
     "data": {
      "text/plain": [
       "[9, 16, 25, 36, 49]"
      ]
     },
     "execution_count": 60,
     "metadata": {},
     "output_type": "execute_result"
    }
   ],
   "source": [
    "[x**2 for x in [3,4,5,6,7]] #list comprehension style"
   ]
  },
  {
   "cell_type": "markdown",
   "metadata": {},
   "source": [
    "Compare the above code to the for loop: "
   ]
  },
  {
   "cell_type": "code",
   "execution_count": 104,
   "metadata": {},
   "outputs": [
    {
     "data": {
      "text/plain": [
       "[9, 16, 25, 36, 49]"
      ]
     },
     "execution_count": 104,
     "metadata": {},
     "output_type": "execute_result"
    }
   ],
   "source": [
    "y=[]\n",
    "for x in [3,4,5,6,7]:\n",
    "    y.append(x**2)\n",
    "y"
   ]
  },
  {
   "cell_type": "markdown",
   "metadata": {},
   "source": [
    "## Exercises"
   ]
  },
  {
   "cell_type": "markdown",
   "metadata": {},
   "source": [
    "### Problem 1:\n",
    "<hr style=\"height: 2.0px\"/>"
   ]
  },
  {
   "cell_type": "markdown",
   "metadata": {},
   "source": [
    "Prereq: \n",
    "*  [Setup your linked-in learning account](https://canvas.vt.edu/courses/168196/pages/create-your-linked-in-learning-account)\n",
    "*  [Getting Started with Python](https://www.linkedin.com/learning/python-quick-start)\n",
    "\n",
    "Open a new Jupyter notebook and answer the questions below.  If a question below only requires a text response, just use a \"markup\" cell.  Include the problem statements below in your notebook. Use the [assignments link](https://canvas.vt.edu/courses/168196/assignments) in Canvas to upload a pdf version of your notebook.   \n",
    "\n",
    "1.  You learned that the two main types of data sequences in Python are the list and the tuple.  Explain in 3 sentences or less what the difference is between the two.  We will mainly use the \"list.\"  When might you want to use the tuple instead?  \n",
    "\n",
    "2.  Which of the following is an example of a list: a. (1,2,3,4,5),  b. [1,2,3,4,5], c. {1,2,3,4,5}, or d. <1,2,3,4,5> ?\n",
    "\n",
    "3.  Find the square root of 83.\n",
    "\n",
    "4.  Find a random integer between 10 and 50.  \n",
    "\n",
    "5.  Write a function that takes a numeric value (x) and returns 0 if x is less than 0, returns x if x is between 0 and 1, returns 1 if x is greater than 1.  \n",
    "\n",
    "6.  Using a For loop, multiply the sequence of numbers \"3,4,5,6,7\" by 7 and print the result of each iteration.  Your output should be 21, 28, 35, 42, 49.  \n",
    "\n",
    "7.  Write a function that takes the variables: load (in N), diameter ( in m), elastic_modulus (in GPa), and yield_strength (in MPa).  The function should return \"not elastic\" if the applied stress is greater than the yield_strength and return the strain if the applied stress is less than or equal to the yield_strength.  The strain should be calculated using Hooke's law.  Test values:  load = 5600 N, diameter = 10 mm, E = 97 GPa, and yield_strength = 150 MPa.  Answer:  strain = $7.35 \\times 10^{-4}$\n"
   ]
  },
  {
   "cell_type": "markdown",
   "metadata": {
    "tags": []
   },
   "source": [
    "### Problem 2: \n",
    "<hr style=\"height: 2.0px\"/>"
   ]
  },
  {
   "cell_type": "markdown",
   "metadata": {},
   "source": [
    "After completing \"Getting Started with Python\", take the exam and submit a copy of the certificate that you earned.  The link for the exam can be found at the bottom of the table of contents in the left panel.  "
   ]
  },
  {
   "cell_type": "markdown",
   "metadata": {
    "tags": [
     "remove-cell"
    ]
   },
   "source": [
    "<img alt=\"intro_python_startexam.png\" src=\"../images/intro_python_startexam.png\" width=250>"
   ]
  },
  {
   "cell_type": "markdown",
   "metadata": {
    "tags": [
     "remove-input"
    ]
   },
   "source": [
    ":::{image} ../images/intro_python_startexam.png\n",
    ":height: 200px\n",
    ":::"
   ]
  },
  {
   "cell_type": "code",
   "execution_count": null,
   "metadata": {},
   "outputs": [],
   "source": []
  }
 ],
 "metadata": {
  "jupytext": {
   "formats": "ipynb,md"
  },
  "kernelspec": {
   "display_name": "Python 3 (ipykernel)",
   "language": "python",
   "name": "python3"
  },
  "language_info": {
   "codemirror_mode": {
    "name": "ipython",
    "version": 3
   },
   "file_extension": ".py",
   "mimetype": "text/x-python",
   "name": "python",
   "nbconvert_exporter": "python",
   "pygments_lexer": "ipython3",
   "version": "3.10.6"
  }
 },
 "nbformat": 4,
 "nbformat_minor": 4
}
