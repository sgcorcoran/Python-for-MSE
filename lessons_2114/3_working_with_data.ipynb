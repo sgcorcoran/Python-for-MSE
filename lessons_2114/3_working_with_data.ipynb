{
 "cells": [
  {
   "cell_type": "markdown",
   "metadata": {},
   "source": [
    "# Working with Data"
   ]
  },
  {
   "cell_type": "markdown",
   "metadata": {
    "tags": []
   },
   "source": [
    "## Importing, Cleaning, Exporting Excel data"
   ]
  },
  {
   "cell_type": "markdown",
   "metadata": {
    "tags": []
   },
   "source": [
    "First we need to import the packages we will need in this notebook:"
   ]
  },
  {
   "cell_type": "code",
   "execution_count": 1,
   "metadata": {},
   "outputs": [],
   "source": [
    "import numpy as np\n",
    "import pandas as pd\n",
    "import matplotlib.pyplot as plt\n",
    "import matplotlib"
   ]
  },
  {
   "cell_type": "markdown",
   "metadata": {},
   "source": [
    "### How to define file paths "
   ]
  },
  {
   "cell_type": "markdown",
   "metadata": {},
   "source": [
    "First we need to define our path to the file we want to import.  If you find the file on your machine, you can right click on it and select properties. "
   ]
  },
  {
   "cell_type": "markdown",
   "metadata": {},
   "source": [
    ":::{image} ../images/file_properties.png\n",
    ":height: 600px\n",
    ":align: center\n",
    ":::"
   ]
  },
  {
   "cell_type": "markdown",
   "metadata": {
    "tags": [
     "remove-cell"
    ]
   },
   "source": [
    "<img alt=\"open google forms\" src=\"../images/file_properties.png\" width=300px>"
   ]
  },
  {
   "cell_type": "markdown",
   "metadata": {},
   "source": [
    "By highlighting the text in the \"location\" box you can copy ctrl-c and paste directly in your notebook ctrl-v.  For me this would give: \n",
    "\n",
    "C:\\Users\\Sean\\OneDrive - Virginia Tech\\Documents\\Teaching\\Course ebooks\\Python-for-MSE\\data_for_practice\n",
    "\n",
    "now I just need to add \"\\filename\" to the end.  For example, \n",
    "\n",
    "C:\\Users\\Sean\\OneDrive - Virginia Tech\\Documents\\Teaching\\Course ebooks\\Python-for-MSE\\data_for_practice\\Student credit hours dept numbers.xlsx\n",
    "\n",
    "It is very important to remember to include the file extension at the end. \n",
    "\n",
    "Below I define the path separate from the filename and then join them together.  This is often more convenient if you are grabbing multiple files from the same path. "
   ]
  },
  {
   "cell_type": "code",
   "execution_count": 2,
   "metadata": {},
   "outputs": [
    {
     "data": {
      "text/plain": [
       "'C:\\\\Users\\\\Sean\\\\OneDrive - Virginia Tech\\\\Documents\\\\Teaching\\\\Course ebooks\\\\Python-for-MSE\\\\data_for_practice\\\\Al7075.xlsx'"
      ]
     },
     "execution_count": 2,
     "metadata": {},
     "output_type": "execute_result"
    }
   ],
   "source": [
    "import os  #we use this to join our file path to our filename\n",
    "path = r'C:\\Users\\Sean\\OneDrive - Virginia Tech\\Documents\\Teaching\\Course ebooks\\Python-for-MSE\\data_for_practice'\n",
    "filename='Al7075.xlsx'\n",
    "fullpath=os.path.join(path,filename)\n",
    "fullpath"
   ]
  },
  {
   "cell_type": "markdown",
   "metadata": {
    "heading_collapsed": true
   },
   "source": [
    "(2114_import_data)=\n",
    "### Import Data using Pandas"
   ]
  },
  {
   "cell_type": "markdown",
   "metadata": {
    "hidden": true
   },
   "source": [
    "Let's take a look at some student credit hours taught for engineering departments. "
   ]
  },
  {
   "cell_type": "code",
   "execution_count": 3,
   "metadata": {
    "hidden": true
   },
   "outputs": [
    {
     "data": {
      "text/html": [
       "<div>\n",
       "<style scoped>\n",
       "    .dataframe tbody tr th:only-of-type {\n",
       "        vertical-align: middle;\n",
       "    }\n",
       "\n",
       "    .dataframe tbody tr th {\n",
       "        vertical-align: top;\n",
       "    }\n",
       "\n",
       "    .dataframe thead th {\n",
       "        text-align: right;\n",
       "    }\n",
       "</style>\n",
       "<table border=\"1\" class=\"dataframe\">\n",
       "  <thead>\n",
       "    <tr style=\"text-align: right;\">\n",
       "      <th></th>\n",
       "      <th>Unnamed: 0</th>\n",
       "      <th>Unnamed: 1</th>\n",
       "      <th>Unnamed: 2</th>\n",
       "      <th>Unnamed: 3</th>\n",
       "      <th>Unnamed: 4</th>\n",
       "      <th>Unnamed: 5</th>\n",
       "      <th>Unnamed: 6</th>\n",
       "      <th>Unnamed: 7</th>\n",
       "      <th>Unnamed: 8</th>\n",
       "      <th>Unnamed: 9</th>\n",
       "    </tr>\n",
       "  </thead>\n",
       "  <tbody>\n",
       "    <tr>\n",
       "      <th>0</th>\n",
       "      <td>NaN</td>\n",
       "      <td>NaN</td>\n",
       "      <td>NaN</td>\n",
       "      <td>NaN</td>\n",
       "      <td>NaN</td>\n",
       "      <td>NaN</td>\n",
       "      <td>NaN</td>\n",
       "      <td>NaN</td>\n",
       "      <td>NaN</td>\n",
       "      <td>NaN</td>\n",
       "    </tr>\n",
       "    <tr>\n",
       "      <th>1</th>\n",
       "      <td>NaN</td>\n",
       "      <td>NaN</td>\n",
       "      <td>NaN</td>\n",
       "      <td>NaN</td>\n",
       "      <td>NaN</td>\n",
       "      <td>NaN</td>\n",
       "      <td>NaN</td>\n",
       "      <td>NaN</td>\n",
       "      <td>NaN</td>\n",
       "      <td>NaN</td>\n",
       "    </tr>\n",
       "    <tr>\n",
       "      <th>2</th>\n",
       "      <td>NaN</td>\n",
       "      <td>NaN</td>\n",
       "      <td>NaN</td>\n",
       "      <td>NaN</td>\n",
       "      <td>NaN</td>\n",
       "      <td>NaN</td>\n",
       "      <td>NaN</td>\n",
       "      <td>NaN</td>\n",
       "      <td>NaN</td>\n",
       "      <td>NaN</td>\n",
       "    </tr>\n",
       "    <tr>\n",
       "      <th>3</th>\n",
       "      <td>NaN</td>\n",
       "      <td>NaN</td>\n",
       "      <td>NaN</td>\n",
       "      <td>NaN</td>\n",
       "      <td>NaN</td>\n",
       "      <td>NaN</td>\n",
       "      <td>NaN</td>\n",
       "      <td>NaN</td>\n",
       "      <td>NaN</td>\n",
       "      <td>NaN</td>\n",
       "    </tr>\n",
       "    <tr>\n",
       "      <th>4</th>\n",
       "      <td>NaN</td>\n",
       "      <td>NaN</td>\n",
       "      <td>NaN</td>\n",
       "      <td>NaN</td>\n",
       "      <td>NaN</td>\n",
       "      <td>NaN</td>\n",
       "      <td>NaN</td>\n",
       "      <td>NaN</td>\n",
       "      <td>NaN</td>\n",
       "      <td>NaN</td>\n",
       "    </tr>\n",
       "    <tr>\n",
       "      <th>5</th>\n",
       "      <td>NaN</td>\n",
       "      <td>NaN</td>\n",
       "      <td>NaN</td>\n",
       "      <td>NaN</td>\n",
       "      <td>NaN</td>\n",
       "      <td>NaN</td>\n",
       "      <td>Fall 2018 SCH</td>\n",
       "      <td>NaN</td>\n",
       "      <td>NaN</td>\n",
       "      <td>NaN</td>\n",
       "    </tr>\n",
       "    <tr>\n",
       "      <th>6</th>\n",
       "      <td>NaN</td>\n",
       "      <td>NaN</td>\n",
       "      <td>NaN</td>\n",
       "      <td>NaN</td>\n",
       "      <td># faculty</td>\n",
       "      <td>Dept</td>\n",
       "      <td>on campus</td>\n",
       "      <td>off campus</td>\n",
       "      <td>Total</td>\n",
       "      <td>SCH / Faculty</td>\n",
       "    </tr>\n",
       "    <tr>\n",
       "      <th>7</th>\n",
       "      <td>NaN</td>\n",
       "      <td>NaN</td>\n",
       "      <td>NaN</td>\n",
       "      <td>NaN</td>\n",
       "      <td>NaN</td>\n",
       "      <td>NaN</td>\n",
       "      <td>NaN</td>\n",
       "      <td>NaN</td>\n",
       "      <td>NaN</td>\n",
       "      <td>NaN</td>\n",
       "    </tr>\n",
       "    <tr>\n",
       "      <th>8</th>\n",
       "      <td>NaN</td>\n",
       "      <td>NaN</td>\n",
       "      <td>NaN</td>\n",
       "      <td>NaN</td>\n",
       "      <td>29</td>\n",
       "      <td>AOE</td>\n",
       "      <td>7313</td>\n",
       "      <td>318</td>\n",
       "      <td>7631</td>\n",
       "      <td>263.137931</td>\n",
       "    </tr>\n",
       "    <tr>\n",
       "      <th>9</th>\n",
       "      <td>NaN</td>\n",
       "      <td>NaN</td>\n",
       "      <td>NaN</td>\n",
       "      <td>NaN</td>\n",
       "      <td>NaN</td>\n",
       "      <td>BMES</td>\n",
       "      <td>1432</td>\n",
       "      <td>NaN</td>\n",
       "      <td>1432</td>\n",
       "      <td>NaN</td>\n",
       "    </tr>\n",
       "    <tr>\n",
       "      <th>10</th>\n",
       "      <td>NaN</td>\n",
       "      <td>NaN</td>\n",
       "      <td>NaN</td>\n",
       "      <td>NaN</td>\n",
       "      <td>58</td>\n",
       "      <td>CEE</td>\n",
       "      <td>10240</td>\n",
       "      <td>224</td>\n",
       "      <td>10464</td>\n",
       "      <td>180.413793</td>\n",
       "    </tr>\n",
       "    <tr>\n",
       "      <th>11</th>\n",
       "      <td>NaN</td>\n",
       "      <td>NaN</td>\n",
       "      <td>NaN</td>\n",
       "      <td>NaN</td>\n",
       "      <td>18</td>\n",
       "      <td>CHE</td>\n",
       "      <td>2951</td>\n",
       "      <td>NaN</td>\n",
       "      <td>2350</td>\n",
       "      <td>130.555556</td>\n",
       "    </tr>\n",
       "    <tr>\n",
       "      <th>12</th>\n",
       "      <td>NaN</td>\n",
       "      <td>NaN</td>\n",
       "      <td>NaN</td>\n",
       "      <td>NaN</td>\n",
       "      <td>NaN</td>\n",
       "      <td>CNST</td>\n",
       "      <td>2951</td>\n",
       "      <td>NaN</td>\n",
       "      <td>2951</td>\n",
       "      <td>NaN</td>\n",
       "    </tr>\n",
       "    <tr>\n",
       "      <th>13</th>\n",
       "      <td>NaN</td>\n",
       "      <td>NaN</td>\n",
       "      <td>NaN</td>\n",
       "      <td>NaN</td>\n",
       "      <td>55</td>\n",
       "      <td>CS</td>\n",
       "      <td>17257</td>\n",
       "      <td>1122</td>\n",
       "      <td>18379</td>\n",
       "      <td>334.163636</td>\n",
       "    </tr>\n",
       "    <tr>\n",
       "      <th>14</th>\n",
       "      <td>NaN</td>\n",
       "      <td>NaN</td>\n",
       "      <td>NaN</td>\n",
       "      <td>NaN</td>\n",
       "      <td>83</td>\n",
       "      <td>ECE</td>\n",
       "      <td>17017</td>\n",
       "      <td>2268</td>\n",
       "      <td>19285</td>\n",
       "      <td>232.349398</td>\n",
       "    </tr>\n",
       "    <tr>\n",
       "      <th>15</th>\n",
       "      <td>NaN</td>\n",
       "      <td>NaN</td>\n",
       "      <td>NaN</td>\n",
       "      <td>NaN</td>\n",
       "      <td>25</td>\n",
       "      <td>ENGE</td>\n",
       "      <td>5194</td>\n",
       "      <td>NaN</td>\n",
       "      <td>5194</td>\n",
       "      <td>207.76</td>\n",
       "    </tr>\n",
       "    <tr>\n",
       "      <th>16</th>\n",
       "      <td>NaN</td>\n",
       "      <td>NaN</td>\n",
       "      <td>NaN</td>\n",
       "      <td>NaN</td>\n",
       "      <td>NaN</td>\n",
       "      <td>ENGR</td>\n",
       "      <td>2104</td>\n",
       "      <td>30</td>\n",
       "      <td>2134</td>\n",
       "      <td>NaN</td>\n",
       "    </tr>\n",
       "    <tr>\n",
       "      <th>17</th>\n",
       "      <td>NaN</td>\n",
       "      <td>NaN</td>\n",
       "      <td>NaN</td>\n",
       "      <td>NaN</td>\n",
       "      <td>43</td>\n",
       "      <td>ESM + BEAM</td>\n",
       "      <td>6606</td>\n",
       "      <td>132</td>\n",
       "      <td>6738</td>\n",
       "      <td>156.697674</td>\n",
       "    </tr>\n",
       "    <tr>\n",
       "      <th>18</th>\n",
       "      <td>NaN</td>\n",
       "      <td>NaN</td>\n",
       "      <td>NaN</td>\n",
       "      <td>NaN</td>\n",
       "      <td>32</td>\n",
       "      <td>ISE</td>\n",
       "      <td>7015</td>\n",
       "      <td>118</td>\n",
       "      <td>7133</td>\n",
       "      <td>222.90625</td>\n",
       "    </tr>\n",
       "    <tr>\n",
       "      <th>19</th>\n",
       "      <td>NaN</td>\n",
       "      <td>NaN</td>\n",
       "      <td>NaN</td>\n",
       "      <td>NaN</td>\n",
       "      <td>62</td>\n",
       "      <td>ME</td>\n",
       "      <td>10416</td>\n",
       "      <td>2563</td>\n",
       "      <td>12979</td>\n",
       "      <td>209.33871</td>\n",
       "    </tr>\n",
       "    <tr>\n",
       "      <th>20</th>\n",
       "      <td>NaN</td>\n",
       "      <td>NaN</td>\n",
       "      <td>NaN</td>\n",
       "      <td>NaN</td>\n",
       "      <td>13</td>\n",
       "      <td>MINE</td>\n",
       "      <td>1095</td>\n",
       "      <td>NaN</td>\n",
       "      <td>1095</td>\n",
       "      <td>84.230769</td>\n",
       "    </tr>\n",
       "    <tr>\n",
       "      <th>21</th>\n",
       "      <td>NaN</td>\n",
       "      <td>NaN</td>\n",
       "      <td>NaN</td>\n",
       "      <td>NaN</td>\n",
       "      <td>21</td>\n",
       "      <td>MSE</td>\n",
       "      <td>3771</td>\n",
       "      <td>75</td>\n",
       "      <td>3846</td>\n",
       "      <td>183.142857</td>\n",
       "    </tr>\n",
       "    <tr>\n",
       "      <th>22</th>\n",
       "      <td>NaN</td>\n",
       "      <td>NaN</td>\n",
       "      <td>NaN</td>\n",
       "      <td>NaN</td>\n",
       "      <td>NaN</td>\n",
       "      <td>NaN</td>\n",
       "      <td>NaN</td>\n",
       "      <td>Average:</td>\n",
       "      <td>7257.928571</td>\n",
       "      <td>200.426961</td>\n",
       "    </tr>\n",
       "    <tr>\n",
       "      <th>23</th>\n",
       "      <td>NaN</td>\n",
       "      <td>NaN</td>\n",
       "      <td>NaN</td>\n",
       "      <td>NaN</td>\n",
       "      <td>NaN</td>\n",
       "      <td>NaN</td>\n",
       "      <td>NaN</td>\n",
       "      <td>Median:</td>\n",
       "      <td>5966</td>\n",
       "      <td>207.76</td>\n",
       "    </tr>\n",
       "  </tbody>\n",
       "</table>\n",
       "</div>"
      ],
      "text/plain": [
       "    Unnamed: 0  Unnamed: 1  Unnamed: 2  Unnamed: 3 Unnamed: 4  Unnamed: 5  \\\n",
       "0          NaN         NaN         NaN         NaN        NaN         NaN   \n",
       "1          NaN         NaN         NaN         NaN        NaN         NaN   \n",
       "2          NaN         NaN         NaN         NaN        NaN         NaN   \n",
       "3          NaN         NaN         NaN         NaN        NaN         NaN   \n",
       "4          NaN         NaN         NaN         NaN        NaN         NaN   \n",
       "5          NaN         NaN         NaN         NaN        NaN         NaN   \n",
       "6          NaN         NaN         NaN         NaN  # faculty        Dept   \n",
       "7          NaN         NaN         NaN         NaN        NaN         NaN   \n",
       "8          NaN         NaN         NaN         NaN         29         AOE   \n",
       "9          NaN         NaN         NaN         NaN        NaN        BMES   \n",
       "10         NaN         NaN         NaN         NaN         58         CEE   \n",
       "11         NaN         NaN         NaN         NaN         18         CHE   \n",
       "12         NaN         NaN         NaN         NaN        NaN        CNST   \n",
       "13         NaN         NaN         NaN         NaN         55          CS   \n",
       "14         NaN         NaN         NaN         NaN         83         ECE   \n",
       "15         NaN         NaN         NaN         NaN         25        ENGE   \n",
       "16         NaN         NaN         NaN         NaN        NaN        ENGR   \n",
       "17         NaN         NaN         NaN         NaN         43  ESM + BEAM   \n",
       "18         NaN         NaN         NaN         NaN         32         ISE   \n",
       "19         NaN         NaN         NaN         NaN         62          ME   \n",
       "20         NaN         NaN         NaN         NaN         13        MINE   \n",
       "21         NaN         NaN         NaN         NaN         21         MSE   \n",
       "22         NaN         NaN         NaN         NaN        NaN         NaN   \n",
       "23         NaN         NaN         NaN         NaN        NaN         NaN   \n",
       "\n",
       "       Unnamed: 6  Unnamed: 7   Unnamed: 8     Unnamed: 9  \n",
       "0             NaN         NaN          NaN            NaN  \n",
       "1             NaN         NaN          NaN            NaN  \n",
       "2             NaN         NaN          NaN            NaN  \n",
       "3             NaN         NaN          NaN            NaN  \n",
       "4             NaN         NaN          NaN            NaN  \n",
       "5   Fall 2018 SCH         NaN          NaN            NaN  \n",
       "6       on campus  off campus        Total  SCH / Faculty  \n",
       "7             NaN         NaN          NaN            NaN  \n",
       "8            7313         318         7631     263.137931  \n",
       "9            1432         NaN         1432            NaN  \n",
       "10          10240         224        10464     180.413793  \n",
       "11           2951         NaN         2350     130.555556  \n",
       "12           2951         NaN         2951            NaN  \n",
       "13          17257        1122        18379     334.163636  \n",
       "14          17017        2268        19285     232.349398  \n",
       "15           5194         NaN         5194         207.76  \n",
       "16           2104          30         2134            NaN  \n",
       "17           6606         132         6738     156.697674  \n",
       "18           7015         118         7133      222.90625  \n",
       "19          10416        2563        12979      209.33871  \n",
       "20           1095         NaN         1095      84.230769  \n",
       "21           3771          75         3846     183.142857  \n",
       "22            NaN    Average:  7257.928571     200.426961  \n",
       "23            NaN    Median:          5966         207.76  "
      ]
     },
     "execution_count": 3,
     "metadata": {},
     "output_type": "execute_result"
    }
   ],
   "source": [
    "path = r\"C:\\Users\\Sean\\OneDrive - Virginia Tech\\Documents\\Teaching\\2114 & 3114 Math I & II\\git_2114_3114\\data for practice\"\n",
    "filename='Student credit hours dept numbers.xlsx'\n",
    "fullpath=os.path.join(path,filename)\n",
    "\n",
    "raw_excel=pd.read_excel(fullpath)\n",
    "raw_excel"
   ]
  },
  {
   "cell_type": "markdown",
   "metadata": {
    "heading_collapsed": true
   },
   "source": [
    "### Clean data"
   ]
  },
  {
   "cell_type": "code",
   "execution_count": 10,
   "metadata": {
    "hidden": true
   },
   "outputs": [
    {
     "data": {
      "text/html": [
       "<div>\n",
       "<style scoped>\n",
       "    .dataframe tbody tr th:only-of-type {\n",
       "        vertical-align: middle;\n",
       "    }\n",
       "\n",
       "    .dataframe tbody tr th {\n",
       "        vertical-align: top;\n",
       "    }\n",
       "\n",
       "    .dataframe thead th {\n",
       "        text-align: right;\n",
       "    }\n",
       "</style>\n",
       "<table border=\"1\" class=\"dataframe\">\n",
       "  <thead>\n",
       "    <tr style=\"text-align: right;\">\n",
       "      <th></th>\n",
       "      <th>Unnamed: 4</th>\n",
       "      <th>Unnamed: 5</th>\n",
       "      <th>Unnamed: 6</th>\n",
       "      <th>Unnamed: 7</th>\n",
       "      <th>Unnamed: 8</th>\n",
       "      <th>Unnamed: 9</th>\n",
       "    </tr>\n",
       "  </thead>\n",
       "  <tbody>\n",
       "    <tr>\n",
       "      <th>5</th>\n",
       "      <td>NaN</td>\n",
       "      <td>NaN</td>\n",
       "      <td>Fall 2018 SCH</td>\n",
       "      <td>NaN</td>\n",
       "      <td>NaN</td>\n",
       "      <td>NaN</td>\n",
       "    </tr>\n",
       "    <tr>\n",
       "      <th>6</th>\n",
       "      <td># faculty</td>\n",
       "      <td>Dept</td>\n",
       "      <td>on campus</td>\n",
       "      <td>off campus</td>\n",
       "      <td>Total</td>\n",
       "      <td>SCH / Faculty</td>\n",
       "    </tr>\n",
       "    <tr>\n",
       "      <th>8</th>\n",
       "      <td>29</td>\n",
       "      <td>AOE</td>\n",
       "      <td>7313</td>\n",
       "      <td>318</td>\n",
       "      <td>7631</td>\n",
       "      <td>263.137931</td>\n",
       "    </tr>\n",
       "    <tr>\n",
       "      <th>9</th>\n",
       "      <td>NaN</td>\n",
       "      <td>BMES</td>\n",
       "      <td>1432</td>\n",
       "      <td>NaN</td>\n",
       "      <td>1432</td>\n",
       "      <td>NaN</td>\n",
       "    </tr>\n",
       "    <tr>\n",
       "      <th>10</th>\n",
       "      <td>58</td>\n",
       "      <td>CEE</td>\n",
       "      <td>10240</td>\n",
       "      <td>224</td>\n",
       "      <td>10464</td>\n",
       "      <td>180.413793</td>\n",
       "    </tr>\n",
       "    <tr>\n",
       "      <th>11</th>\n",
       "      <td>18</td>\n",
       "      <td>CHE</td>\n",
       "      <td>2951</td>\n",
       "      <td>NaN</td>\n",
       "      <td>2350</td>\n",
       "      <td>130.555556</td>\n",
       "    </tr>\n",
       "    <tr>\n",
       "      <th>12</th>\n",
       "      <td>NaN</td>\n",
       "      <td>CNST</td>\n",
       "      <td>2951</td>\n",
       "      <td>NaN</td>\n",
       "      <td>2951</td>\n",
       "      <td>NaN</td>\n",
       "    </tr>\n",
       "    <tr>\n",
       "      <th>13</th>\n",
       "      <td>55</td>\n",
       "      <td>CS</td>\n",
       "      <td>17257</td>\n",
       "      <td>1122</td>\n",
       "      <td>18379</td>\n",
       "      <td>334.163636</td>\n",
       "    </tr>\n",
       "    <tr>\n",
       "      <th>14</th>\n",
       "      <td>83</td>\n",
       "      <td>ECE</td>\n",
       "      <td>17017</td>\n",
       "      <td>2268</td>\n",
       "      <td>19285</td>\n",
       "      <td>232.349398</td>\n",
       "    </tr>\n",
       "    <tr>\n",
       "      <th>15</th>\n",
       "      <td>25</td>\n",
       "      <td>ENGE</td>\n",
       "      <td>5194</td>\n",
       "      <td>NaN</td>\n",
       "      <td>5194</td>\n",
       "      <td>207.76</td>\n",
       "    </tr>\n",
       "    <tr>\n",
       "      <th>16</th>\n",
       "      <td>NaN</td>\n",
       "      <td>ENGR</td>\n",
       "      <td>2104</td>\n",
       "      <td>30</td>\n",
       "      <td>2134</td>\n",
       "      <td>NaN</td>\n",
       "    </tr>\n",
       "    <tr>\n",
       "      <th>17</th>\n",
       "      <td>43</td>\n",
       "      <td>ESM + BEAM</td>\n",
       "      <td>6606</td>\n",
       "      <td>132</td>\n",
       "      <td>6738</td>\n",
       "      <td>156.697674</td>\n",
       "    </tr>\n",
       "    <tr>\n",
       "      <th>18</th>\n",
       "      <td>32</td>\n",
       "      <td>ISE</td>\n",
       "      <td>7015</td>\n",
       "      <td>118</td>\n",
       "      <td>7133</td>\n",
       "      <td>222.90625</td>\n",
       "    </tr>\n",
       "    <tr>\n",
       "      <th>19</th>\n",
       "      <td>62</td>\n",
       "      <td>ME</td>\n",
       "      <td>10416</td>\n",
       "      <td>2563</td>\n",
       "      <td>12979</td>\n",
       "      <td>209.33871</td>\n",
       "    </tr>\n",
       "    <tr>\n",
       "      <th>20</th>\n",
       "      <td>13</td>\n",
       "      <td>MINE</td>\n",
       "      <td>1095</td>\n",
       "      <td>NaN</td>\n",
       "      <td>1095</td>\n",
       "      <td>84.230769</td>\n",
       "    </tr>\n",
       "    <tr>\n",
       "      <th>21</th>\n",
       "      <td>21</td>\n",
       "      <td>MSE</td>\n",
       "      <td>3771</td>\n",
       "      <td>75</td>\n",
       "      <td>3846</td>\n",
       "      <td>183.142857</td>\n",
       "    </tr>\n",
       "    <tr>\n",
       "      <th>22</th>\n",
       "      <td>NaN</td>\n",
       "      <td>NaN</td>\n",
       "      <td>NaN</td>\n",
       "      <td>Average:</td>\n",
       "      <td>7257.928571</td>\n",
       "      <td>200.426961</td>\n",
       "    </tr>\n",
       "    <tr>\n",
       "      <th>23</th>\n",
       "      <td>NaN</td>\n",
       "      <td>NaN</td>\n",
       "      <td>NaN</td>\n",
       "      <td>Median:</td>\n",
       "      <td>5966</td>\n",
       "      <td>207.76</td>\n",
       "    </tr>\n",
       "  </tbody>\n",
       "</table>\n",
       "</div>"
      ],
      "text/plain": [
       "   Unnamed: 4  Unnamed: 5     Unnamed: 6  Unnamed: 7   Unnamed: 8  \\\n",
       "5         NaN         NaN  Fall 2018 SCH         NaN          NaN   \n",
       "6   # faculty        Dept      on campus  off campus        Total   \n",
       "8          29         AOE           7313         318         7631   \n",
       "9         NaN        BMES           1432         NaN         1432   \n",
       "10         58         CEE          10240         224        10464   \n",
       "11         18         CHE           2951         NaN         2350   \n",
       "12        NaN        CNST           2951         NaN         2951   \n",
       "13         55          CS          17257        1122        18379   \n",
       "14         83         ECE          17017        2268        19285   \n",
       "15         25        ENGE           5194         NaN         5194   \n",
       "16        NaN        ENGR           2104          30         2134   \n",
       "17         43  ESM + BEAM           6606         132         6738   \n",
       "18         32         ISE           7015         118         7133   \n",
       "19         62          ME          10416        2563        12979   \n",
       "20         13        MINE           1095         NaN         1095   \n",
       "21         21         MSE           3771          75         3846   \n",
       "22        NaN         NaN            NaN    Average:  7257.928571   \n",
       "23        NaN         NaN            NaN    Median:          5966   \n",
       "\n",
       "       Unnamed: 9  \n",
       "5             NaN  \n",
       "6   SCH / Faculty  \n",
       "8      263.137931  \n",
       "9             NaN  \n",
       "10     180.413793  \n",
       "11     130.555556  \n",
       "12            NaN  \n",
       "13     334.163636  \n",
       "14     232.349398  \n",
       "15         207.76  \n",
       "16            NaN  \n",
       "17     156.697674  \n",
       "18      222.90625  \n",
       "19      209.33871  \n",
       "20      84.230769  \n",
       "21     183.142857  \n",
       "22     200.426961  \n",
       "23         207.76  "
      ]
     },
     "execution_count": 10,
     "metadata": {},
     "output_type": "execute_result"
    }
   ],
   "source": [
    "# let's drop rows and columns that have no data\n",
    "df=raw_excel.dropna(how='all', axis=0) #removes rows\n",
    "# try changing 'all' to 'any' in these commands.  What is the result? \n",
    "df=df.dropna(how='all', axis=1) #now remove columns\n",
    "df"
   ]
  },
  {
   "cell_type": "markdown",
   "metadata": {
    "hidden": true
   },
   "source": [
    "looks like we have an extra row at the top.  Let's drop that one also.  Notice the left column which is the row index is 5 so we drop by identifying the index.  "
   ]
  },
  {
   "cell_type": "code",
   "execution_count": 11,
   "metadata": {
    "hidden": true
   },
   "outputs": [
    {
     "data": {
      "text/html": [
       "<div>\n",
       "<style scoped>\n",
       "    .dataframe tbody tr th:only-of-type {\n",
       "        vertical-align: middle;\n",
       "    }\n",
       "\n",
       "    .dataframe tbody tr th {\n",
       "        vertical-align: top;\n",
       "    }\n",
       "\n",
       "    .dataframe thead th {\n",
       "        text-align: right;\n",
       "    }\n",
       "</style>\n",
       "<table border=\"1\" class=\"dataframe\">\n",
       "  <thead>\n",
       "    <tr style=\"text-align: right;\">\n",
       "      <th></th>\n",
       "      <th>num faculty</th>\n",
       "      <th>dept</th>\n",
       "      <th>on campus</th>\n",
       "      <th>off campus</th>\n",
       "      <th>total</th>\n",
       "      <th>SCH per faculty</th>\n",
       "    </tr>\n",
       "  </thead>\n",
       "  <tbody>\n",
       "    <tr>\n",
       "      <th>6</th>\n",
       "      <td># faculty</td>\n",
       "      <td>Dept</td>\n",
       "      <td>on campus</td>\n",
       "      <td>off campus</td>\n",
       "      <td>Total</td>\n",
       "      <td>SCH / Faculty</td>\n",
       "    </tr>\n",
       "    <tr>\n",
       "      <th>8</th>\n",
       "      <td>29</td>\n",
       "      <td>AOE</td>\n",
       "      <td>7313</td>\n",
       "      <td>318</td>\n",
       "      <td>7631</td>\n",
       "      <td>263.137931</td>\n",
       "    </tr>\n",
       "    <tr>\n",
       "      <th>9</th>\n",
       "      <td>NaN</td>\n",
       "      <td>BMES</td>\n",
       "      <td>1432</td>\n",
       "      <td>NaN</td>\n",
       "      <td>1432</td>\n",
       "      <td>NaN</td>\n",
       "    </tr>\n",
       "    <tr>\n",
       "      <th>10</th>\n",
       "      <td>58</td>\n",
       "      <td>CEE</td>\n",
       "      <td>10240</td>\n",
       "      <td>224</td>\n",
       "      <td>10464</td>\n",
       "      <td>180.413793</td>\n",
       "    </tr>\n",
       "    <tr>\n",
       "      <th>11</th>\n",
       "      <td>18</td>\n",
       "      <td>CHE</td>\n",
       "      <td>2951</td>\n",
       "      <td>NaN</td>\n",
       "      <td>2350</td>\n",
       "      <td>130.555556</td>\n",
       "    </tr>\n",
       "    <tr>\n",
       "      <th>12</th>\n",
       "      <td>NaN</td>\n",
       "      <td>CNST</td>\n",
       "      <td>2951</td>\n",
       "      <td>NaN</td>\n",
       "      <td>2951</td>\n",
       "      <td>NaN</td>\n",
       "    </tr>\n",
       "    <tr>\n",
       "      <th>13</th>\n",
       "      <td>55</td>\n",
       "      <td>CS</td>\n",
       "      <td>17257</td>\n",
       "      <td>1122</td>\n",
       "      <td>18379</td>\n",
       "      <td>334.163636</td>\n",
       "    </tr>\n",
       "    <tr>\n",
       "      <th>14</th>\n",
       "      <td>83</td>\n",
       "      <td>ECE</td>\n",
       "      <td>17017</td>\n",
       "      <td>2268</td>\n",
       "      <td>19285</td>\n",
       "      <td>232.349398</td>\n",
       "    </tr>\n",
       "    <tr>\n",
       "      <th>15</th>\n",
       "      <td>25</td>\n",
       "      <td>ENGE</td>\n",
       "      <td>5194</td>\n",
       "      <td>NaN</td>\n",
       "      <td>5194</td>\n",
       "      <td>207.76</td>\n",
       "    </tr>\n",
       "    <tr>\n",
       "      <th>16</th>\n",
       "      <td>NaN</td>\n",
       "      <td>ENGR</td>\n",
       "      <td>2104</td>\n",
       "      <td>30</td>\n",
       "      <td>2134</td>\n",
       "      <td>NaN</td>\n",
       "    </tr>\n",
       "    <tr>\n",
       "      <th>17</th>\n",
       "      <td>43</td>\n",
       "      <td>ESM + BEAM</td>\n",
       "      <td>6606</td>\n",
       "      <td>132</td>\n",
       "      <td>6738</td>\n",
       "      <td>156.697674</td>\n",
       "    </tr>\n",
       "    <tr>\n",
       "      <th>18</th>\n",
       "      <td>32</td>\n",
       "      <td>ISE</td>\n",
       "      <td>7015</td>\n",
       "      <td>118</td>\n",
       "      <td>7133</td>\n",
       "      <td>222.90625</td>\n",
       "    </tr>\n",
       "    <tr>\n",
       "      <th>19</th>\n",
       "      <td>62</td>\n",
       "      <td>ME</td>\n",
       "      <td>10416</td>\n",
       "      <td>2563</td>\n",
       "      <td>12979</td>\n",
       "      <td>209.33871</td>\n",
       "    </tr>\n",
       "    <tr>\n",
       "      <th>20</th>\n",
       "      <td>13</td>\n",
       "      <td>MINE</td>\n",
       "      <td>1095</td>\n",
       "      <td>NaN</td>\n",
       "      <td>1095</td>\n",
       "      <td>84.230769</td>\n",
       "    </tr>\n",
       "    <tr>\n",
       "      <th>21</th>\n",
       "      <td>21</td>\n",
       "      <td>MSE</td>\n",
       "      <td>3771</td>\n",
       "      <td>75</td>\n",
       "      <td>3846</td>\n",
       "      <td>183.142857</td>\n",
       "    </tr>\n",
       "    <tr>\n",
       "      <th>22</th>\n",
       "      <td>NaN</td>\n",
       "      <td>NaN</td>\n",
       "      <td>NaN</td>\n",
       "      <td>Average:</td>\n",
       "      <td>7257.928571</td>\n",
       "      <td>200.426961</td>\n",
       "    </tr>\n",
       "    <tr>\n",
       "      <th>23</th>\n",
       "      <td>NaN</td>\n",
       "      <td>NaN</td>\n",
       "      <td>NaN</td>\n",
       "      <td>Median:</td>\n",
       "      <td>5966</td>\n",
       "      <td>207.76</td>\n",
       "    </tr>\n",
       "  </tbody>\n",
       "</table>\n",
       "</div>"
      ],
      "text/plain": [
       "   num faculty        dept  on campus  off campus        total SCH per faculty\n",
       "6    # faculty        Dept  on campus  off campus        Total   SCH / Faculty\n",
       "8           29         AOE       7313         318         7631      263.137931\n",
       "9          NaN        BMES       1432         NaN         1432             NaN\n",
       "10          58         CEE      10240         224        10464      180.413793\n",
       "11          18         CHE       2951         NaN         2350      130.555556\n",
       "12         NaN        CNST       2951         NaN         2951             NaN\n",
       "13          55          CS      17257        1122        18379      334.163636\n",
       "14          83         ECE      17017        2268        19285      232.349398\n",
       "15          25        ENGE       5194         NaN         5194          207.76\n",
       "16         NaN        ENGR       2104          30         2134             NaN\n",
       "17          43  ESM + BEAM       6606         132         6738      156.697674\n",
       "18          32         ISE       7015         118         7133       222.90625\n",
       "19          62          ME      10416        2563        12979       209.33871\n",
       "20          13        MINE       1095         NaN         1095       84.230769\n",
       "21          21         MSE       3771          75         3846      183.142857\n",
       "22         NaN         NaN        NaN    Average:  7257.928571      200.426961\n",
       "23         NaN         NaN        NaN    Median:          5966          207.76"
      ]
     },
     "execution_count": 11,
     "metadata": {},
     "output_type": "execute_result"
    }
   ],
   "source": [
    "df=df.drop(5)\n",
    "# now lets rename our columns\n",
    "df.columns=['num faculty','dept','on campus','off campus', 'total', 'SCH per faculty']\n",
    "df"
   ]
  },
  {
   "cell_type": "code",
   "execution_count": 12,
   "metadata": {
    "hidden": true
   },
   "outputs": [
    {
     "data": {
      "text/html": [
       "<div>\n",
       "<style scoped>\n",
       "    .dataframe tbody tr th:only-of-type {\n",
       "        vertical-align: middle;\n",
       "    }\n",
       "\n",
       "    .dataframe tbody tr th {\n",
       "        vertical-align: top;\n",
       "    }\n",
       "\n",
       "    .dataframe thead th {\n",
       "        text-align: right;\n",
       "    }\n",
       "</style>\n",
       "<table border=\"1\" class=\"dataframe\">\n",
       "  <thead>\n",
       "    <tr style=\"text-align: right;\">\n",
       "      <th></th>\n",
       "      <th>num faculty</th>\n",
       "      <th>dept</th>\n",
       "      <th>on campus</th>\n",
       "      <th>off campus</th>\n",
       "      <th>total</th>\n",
       "      <th>SCH per faculty</th>\n",
       "    </tr>\n",
       "  </thead>\n",
       "  <tbody>\n",
       "    <tr>\n",
       "      <th>0</th>\n",
       "      <td>29</td>\n",
       "      <td>AOE</td>\n",
       "      <td>7313</td>\n",
       "      <td>318</td>\n",
       "      <td>7631.000000</td>\n",
       "      <td>263.137931</td>\n",
       "    </tr>\n",
       "    <tr>\n",
       "      <th>1</th>\n",
       "      <td>0</td>\n",
       "      <td>BMES</td>\n",
       "      <td>1432</td>\n",
       "      <td>0</td>\n",
       "      <td>1432.000000</td>\n",
       "      <td>0.000000</td>\n",
       "    </tr>\n",
       "    <tr>\n",
       "      <th>2</th>\n",
       "      <td>58</td>\n",
       "      <td>CEE</td>\n",
       "      <td>10240</td>\n",
       "      <td>224</td>\n",
       "      <td>10464.000000</td>\n",
       "      <td>180.413793</td>\n",
       "    </tr>\n",
       "    <tr>\n",
       "      <th>3</th>\n",
       "      <td>18</td>\n",
       "      <td>CHE</td>\n",
       "      <td>2951</td>\n",
       "      <td>0</td>\n",
       "      <td>2350.000000</td>\n",
       "      <td>130.555556</td>\n",
       "    </tr>\n",
       "    <tr>\n",
       "      <th>4</th>\n",
       "      <td>0</td>\n",
       "      <td>CNST</td>\n",
       "      <td>2951</td>\n",
       "      <td>0</td>\n",
       "      <td>2951.000000</td>\n",
       "      <td>0.000000</td>\n",
       "    </tr>\n",
       "    <tr>\n",
       "      <th>5</th>\n",
       "      <td>55</td>\n",
       "      <td>CS</td>\n",
       "      <td>17257</td>\n",
       "      <td>1122</td>\n",
       "      <td>18379.000000</td>\n",
       "      <td>334.163636</td>\n",
       "    </tr>\n",
       "    <tr>\n",
       "      <th>6</th>\n",
       "      <td>83</td>\n",
       "      <td>ECE</td>\n",
       "      <td>17017</td>\n",
       "      <td>2268</td>\n",
       "      <td>19285.000000</td>\n",
       "      <td>232.349398</td>\n",
       "    </tr>\n",
       "    <tr>\n",
       "      <th>7</th>\n",
       "      <td>25</td>\n",
       "      <td>ENGE</td>\n",
       "      <td>5194</td>\n",
       "      <td>0</td>\n",
       "      <td>5194.000000</td>\n",
       "      <td>207.760000</td>\n",
       "    </tr>\n",
       "    <tr>\n",
       "      <th>8</th>\n",
       "      <td>0</td>\n",
       "      <td>ENGR</td>\n",
       "      <td>2104</td>\n",
       "      <td>30</td>\n",
       "      <td>2134.000000</td>\n",
       "      <td>0.000000</td>\n",
       "    </tr>\n",
       "    <tr>\n",
       "      <th>9</th>\n",
       "      <td>43</td>\n",
       "      <td>ESM + BEAM</td>\n",
       "      <td>6606</td>\n",
       "      <td>132</td>\n",
       "      <td>6738.000000</td>\n",
       "      <td>156.697674</td>\n",
       "    </tr>\n",
       "    <tr>\n",
       "      <th>10</th>\n",
       "      <td>32</td>\n",
       "      <td>ISE</td>\n",
       "      <td>7015</td>\n",
       "      <td>118</td>\n",
       "      <td>7133.000000</td>\n",
       "      <td>222.906250</td>\n",
       "    </tr>\n",
       "    <tr>\n",
       "      <th>11</th>\n",
       "      <td>62</td>\n",
       "      <td>ME</td>\n",
       "      <td>10416</td>\n",
       "      <td>2563</td>\n",
       "      <td>12979.000000</td>\n",
       "      <td>209.338710</td>\n",
       "    </tr>\n",
       "    <tr>\n",
       "      <th>12</th>\n",
       "      <td>13</td>\n",
       "      <td>MINE</td>\n",
       "      <td>1095</td>\n",
       "      <td>0</td>\n",
       "      <td>1095.000000</td>\n",
       "      <td>84.230769</td>\n",
       "    </tr>\n",
       "    <tr>\n",
       "      <th>13</th>\n",
       "      <td>21</td>\n",
       "      <td>MSE</td>\n",
       "      <td>3771</td>\n",
       "      <td>75</td>\n",
       "      <td>3846.000000</td>\n",
       "      <td>183.142857</td>\n",
       "    </tr>\n",
       "    <tr>\n",
       "      <th>14</th>\n",
       "      <td>0</td>\n",
       "      <td>0</td>\n",
       "      <td>0</td>\n",
       "      <td>Average:</td>\n",
       "      <td>7257.928571</td>\n",
       "      <td>200.426961</td>\n",
       "    </tr>\n",
       "    <tr>\n",
       "      <th>15</th>\n",
       "      <td>0</td>\n",
       "      <td>0</td>\n",
       "      <td>0</td>\n",
       "      <td>Median:</td>\n",
       "      <td>5966.000000</td>\n",
       "      <td>207.760000</td>\n",
       "    </tr>\n",
       "  </tbody>\n",
       "</table>\n",
       "</div>"
      ],
      "text/plain": [
       "    num faculty        dept  on campus off campus         total  \\\n",
       "0            29         AOE       7313        318   7631.000000   \n",
       "1             0        BMES       1432          0   1432.000000   \n",
       "2            58         CEE      10240        224  10464.000000   \n",
       "3            18         CHE       2951          0   2350.000000   \n",
       "4             0        CNST       2951          0   2951.000000   \n",
       "5            55          CS      17257       1122  18379.000000   \n",
       "6            83         ECE      17017       2268  19285.000000   \n",
       "7            25        ENGE       5194          0   5194.000000   \n",
       "8             0        ENGR       2104         30   2134.000000   \n",
       "9            43  ESM + BEAM       6606        132   6738.000000   \n",
       "10           32         ISE       7015        118   7133.000000   \n",
       "11           62          ME      10416       2563  12979.000000   \n",
       "12           13        MINE       1095          0   1095.000000   \n",
       "13           21         MSE       3771         75   3846.000000   \n",
       "14            0           0          0   Average:   7257.928571   \n",
       "15            0           0          0   Median:    5966.000000   \n",
       "\n",
       "    SCH per faculty  \n",
       "0        263.137931  \n",
       "1          0.000000  \n",
       "2        180.413793  \n",
       "3        130.555556  \n",
       "4          0.000000  \n",
       "5        334.163636  \n",
       "6        232.349398  \n",
       "7        207.760000  \n",
       "8          0.000000  \n",
       "9        156.697674  \n",
       "10       222.906250  \n",
       "11       209.338710  \n",
       "12        84.230769  \n",
       "13       183.142857  \n",
       "14       200.426961  \n",
       "15       207.760000  "
      ]
     },
     "execution_count": 12,
     "metadata": {},
     "output_type": "execute_result"
    }
   ],
   "source": [
    "df=df.drop(6) # we don't need the first row again now labeled \"6\"\n",
    "df=df.reset_index(drop=True) #reset row numbering\n",
    "df=df.fillna(0) #replace NaN with 0\n",
    "df"
   ]
  },
  {
   "cell_type": "markdown",
   "metadata": {
    "heading_collapsed": true
   },
   "source": [
    "### Analysis"
   ]
  },
  {
   "cell_type": "markdown",
   "metadata": {
    "heading_collapsed": true,
    "hidden": true
   },
   "source": [
    "#### sorting, slicing, math on columns, adding new columns"
   ]
  },
  {
   "cell_type": "code",
   "execution_count": 28,
   "metadata": {
    "hidden": true
   },
   "outputs": [
    {
     "data": {
      "text/html": [
       "<div>\n",
       "<style scoped>\n",
       "    .dataframe tbody tr th:only-of-type {\n",
       "        vertical-align: middle;\n",
       "    }\n",
       "\n",
       "    .dataframe tbody tr th {\n",
       "        vertical-align: top;\n",
       "    }\n",
       "\n",
       "    .dataframe thead th {\n",
       "        text-align: right;\n",
       "    }\n",
       "</style>\n",
       "<table border=\"1\" class=\"dataframe\">\n",
       "  <thead>\n",
       "    <tr style=\"text-align: right;\">\n",
       "      <th></th>\n",
       "      <th>num faculty</th>\n",
       "      <th>dept</th>\n",
       "      <th>on campus</th>\n",
       "      <th>off campus</th>\n",
       "      <th>total</th>\n",
       "      <th>SCH per faculty</th>\n",
       "    </tr>\n",
       "  </thead>\n",
       "  <tbody>\n",
       "    <tr>\n",
       "      <th>0</th>\n",
       "      <td>0</td>\n",
       "      <td>0</td>\n",
       "      <td>0</td>\n",
       "      <td>Average:</td>\n",
       "      <td>7257.928571</td>\n",
       "      <td>200.426961</td>\n",
       "    </tr>\n",
       "    <tr>\n",
       "      <th>1</th>\n",
       "      <td>0</td>\n",
       "      <td>0</td>\n",
       "      <td>0</td>\n",
       "      <td>Median:</td>\n",
       "      <td>5966.000000</td>\n",
       "      <td>207.760000</td>\n",
       "    </tr>\n",
       "    <tr>\n",
       "      <th>2</th>\n",
       "      <td>0</td>\n",
       "      <td>BMES</td>\n",
       "      <td>1432</td>\n",
       "      <td>0</td>\n",
       "      <td>1432.000000</td>\n",
       "      <td>0.000000</td>\n",
       "    </tr>\n",
       "    <tr>\n",
       "      <th>3</th>\n",
       "      <td>0</td>\n",
       "      <td>CNST</td>\n",
       "      <td>2951</td>\n",
       "      <td>0</td>\n",
       "      <td>2951.000000</td>\n",
       "      <td>0.000000</td>\n",
       "    </tr>\n",
       "    <tr>\n",
       "      <th>4</th>\n",
       "      <td>0</td>\n",
       "      <td>ENGR</td>\n",
       "      <td>2104</td>\n",
       "      <td>30</td>\n",
       "      <td>2134.000000</td>\n",
       "      <td>0.000000</td>\n",
       "    </tr>\n",
       "    <tr>\n",
       "      <th>5</th>\n",
       "      <td>13</td>\n",
       "      <td>MINE</td>\n",
       "      <td>1095</td>\n",
       "      <td>0</td>\n",
       "      <td>1095.000000</td>\n",
       "      <td>84.230769</td>\n",
       "    </tr>\n",
       "    <tr>\n",
       "      <th>6</th>\n",
       "      <td>18</td>\n",
       "      <td>CHE</td>\n",
       "      <td>2951</td>\n",
       "      <td>0</td>\n",
       "      <td>2350.000000</td>\n",
       "      <td>130.555556</td>\n",
       "    </tr>\n",
       "    <tr>\n",
       "      <th>7</th>\n",
       "      <td>21</td>\n",
       "      <td>MSE</td>\n",
       "      <td>3771</td>\n",
       "      <td>75</td>\n",
       "      <td>3846.000000</td>\n",
       "      <td>183.142857</td>\n",
       "    </tr>\n",
       "    <tr>\n",
       "      <th>8</th>\n",
       "      <td>25</td>\n",
       "      <td>ENGE</td>\n",
       "      <td>5194</td>\n",
       "      <td>0</td>\n",
       "      <td>5194.000000</td>\n",
       "      <td>207.760000</td>\n",
       "    </tr>\n",
       "    <tr>\n",
       "      <th>9</th>\n",
       "      <td>29</td>\n",
       "      <td>AOE</td>\n",
       "      <td>7313</td>\n",
       "      <td>318</td>\n",
       "      <td>7631.000000</td>\n",
       "      <td>263.137931</td>\n",
       "    </tr>\n",
       "    <tr>\n",
       "      <th>10</th>\n",
       "      <td>32</td>\n",
       "      <td>ISE</td>\n",
       "      <td>7015</td>\n",
       "      <td>118</td>\n",
       "      <td>7133.000000</td>\n",
       "      <td>222.906250</td>\n",
       "    </tr>\n",
       "    <tr>\n",
       "      <th>11</th>\n",
       "      <td>43</td>\n",
       "      <td>ESM + BEAM</td>\n",
       "      <td>6606</td>\n",
       "      <td>132</td>\n",
       "      <td>6738.000000</td>\n",
       "      <td>156.697674</td>\n",
       "    </tr>\n",
       "    <tr>\n",
       "      <th>12</th>\n",
       "      <td>55</td>\n",
       "      <td>CS</td>\n",
       "      <td>17257</td>\n",
       "      <td>1122</td>\n",
       "      <td>18379.000000</td>\n",
       "      <td>334.163636</td>\n",
       "    </tr>\n",
       "    <tr>\n",
       "      <th>13</th>\n",
       "      <td>58</td>\n",
       "      <td>CEE</td>\n",
       "      <td>10240</td>\n",
       "      <td>224</td>\n",
       "      <td>10464.000000</td>\n",
       "      <td>180.413793</td>\n",
       "    </tr>\n",
       "    <tr>\n",
       "      <th>14</th>\n",
       "      <td>62</td>\n",
       "      <td>ME</td>\n",
       "      <td>10416</td>\n",
       "      <td>2563</td>\n",
       "      <td>12979.000000</td>\n",
       "      <td>209.338710</td>\n",
       "    </tr>\n",
       "    <tr>\n",
       "      <th>15</th>\n",
       "      <td>83</td>\n",
       "      <td>ECE</td>\n",
       "      <td>17017</td>\n",
       "      <td>2268</td>\n",
       "      <td>19285.000000</td>\n",
       "      <td>232.349398</td>\n",
       "    </tr>\n",
       "  </tbody>\n",
       "</table>\n",
       "</div>"
      ],
      "text/plain": [
       "    num faculty        dept  on campus off campus         total  \\\n",
       "0             0           0          0   Average:   7257.928571   \n",
       "1             0           0          0   Median:    5966.000000   \n",
       "2             0        BMES       1432          0   1432.000000   \n",
       "3             0        CNST       2951          0   2951.000000   \n",
       "4             0        ENGR       2104         30   2134.000000   \n",
       "5            13        MINE       1095          0   1095.000000   \n",
       "6            18         CHE       2951          0   2350.000000   \n",
       "7            21         MSE       3771         75   3846.000000   \n",
       "8            25        ENGE       5194          0   5194.000000   \n",
       "9            29         AOE       7313        318   7631.000000   \n",
       "10           32         ISE       7015        118   7133.000000   \n",
       "11           43  ESM + BEAM       6606        132   6738.000000   \n",
       "12           55          CS      17257       1122  18379.000000   \n",
       "13           58         CEE      10240        224  10464.000000   \n",
       "14           62          ME      10416       2563  12979.000000   \n",
       "15           83         ECE      17017       2268  19285.000000   \n",
       "\n",
       "    SCH per faculty  \n",
       "0        200.426961  \n",
       "1        207.760000  \n",
       "2          0.000000  \n",
       "3          0.000000  \n",
       "4          0.000000  \n",
       "5         84.230769  \n",
       "6        130.555556  \n",
       "7        183.142857  \n",
       "8        207.760000  \n",
       "9        263.137931  \n",
       "10       222.906250  \n",
       "11       156.697674  \n",
       "12       334.163636  \n",
       "13       180.413793  \n",
       "14       209.338710  \n",
       "15       232.349398  "
      ]
     },
     "execution_count": 28,
     "metadata": {},
     "output_type": "execute_result"
    }
   ],
   "source": [
    "# sort data frame by values in column \"num faculty\"\n",
    "sch_data=df.sort_values(['num faculty','dept']).reset_index(drop=True)\n",
    "#try removing \".reset_index()\" and see what you get\n",
    "#or change drop=True to drop=Fals and see what happens\n",
    "sch_data"
   ]
  },
  {
   "cell_type": "code",
   "execution_count": 29,
   "metadata": {
    "hidden": true
   },
   "outputs": [
    {
     "data": {
      "text/html": [
       "<div>\n",
       "<style scoped>\n",
       "    .dataframe tbody tr th:only-of-type {\n",
       "        vertical-align: middle;\n",
       "    }\n",
       "\n",
       "    .dataframe tbody tr th {\n",
       "        vertical-align: top;\n",
       "    }\n",
       "\n",
       "    .dataframe thead th {\n",
       "        text-align: right;\n",
       "    }\n",
       "</style>\n",
       "<table border=\"1\" class=\"dataframe\">\n",
       "  <thead>\n",
       "    <tr style=\"text-align: right;\">\n",
       "      <th></th>\n",
       "      <th>num faculty</th>\n",
       "      <th>dept</th>\n",
       "      <th>on campus</th>\n",
       "      <th>off campus</th>\n",
       "      <th>total</th>\n",
       "      <th>SCH per faculty</th>\n",
       "    </tr>\n",
       "  </thead>\n",
       "  <tbody>\n",
       "    <tr>\n",
       "      <th>5</th>\n",
       "      <td>13</td>\n",
       "      <td>MINE</td>\n",
       "      <td>1095</td>\n",
       "      <td>0</td>\n",
       "      <td>1095.0</td>\n",
       "      <td>84.230769</td>\n",
       "    </tr>\n",
       "    <tr>\n",
       "      <th>6</th>\n",
       "      <td>18</td>\n",
       "      <td>CHE</td>\n",
       "      <td>2951</td>\n",
       "      <td>0</td>\n",
       "      <td>2350.0</td>\n",
       "      <td>130.555556</td>\n",
       "    </tr>\n",
       "    <tr>\n",
       "      <th>7</th>\n",
       "      <td>21</td>\n",
       "      <td>MSE</td>\n",
       "      <td>3771</td>\n",
       "      <td>75</td>\n",
       "      <td>3846.0</td>\n",
       "      <td>183.142857</td>\n",
       "    </tr>\n",
       "    <tr>\n",
       "      <th>8</th>\n",
       "      <td>25</td>\n",
       "      <td>ENGE</td>\n",
       "      <td>5194</td>\n",
       "      <td>0</td>\n",
       "      <td>5194.0</td>\n",
       "      <td>207.760000</td>\n",
       "    </tr>\n",
       "    <tr>\n",
       "      <th>9</th>\n",
       "      <td>29</td>\n",
       "      <td>AOE</td>\n",
       "      <td>7313</td>\n",
       "      <td>318</td>\n",
       "      <td>7631.0</td>\n",
       "      <td>263.137931</td>\n",
       "    </tr>\n",
       "    <tr>\n",
       "      <th>10</th>\n",
       "      <td>32</td>\n",
       "      <td>ISE</td>\n",
       "      <td>7015</td>\n",
       "      <td>118</td>\n",
       "      <td>7133.0</td>\n",
       "      <td>222.906250</td>\n",
       "    </tr>\n",
       "    <tr>\n",
       "      <th>11</th>\n",
       "      <td>43</td>\n",
       "      <td>ESM + BEAM</td>\n",
       "      <td>6606</td>\n",
       "      <td>132</td>\n",
       "      <td>6738.0</td>\n",
       "      <td>156.697674</td>\n",
       "    </tr>\n",
       "    <tr>\n",
       "      <th>12</th>\n",
       "      <td>55</td>\n",
       "      <td>CS</td>\n",
       "      <td>17257</td>\n",
       "      <td>1122</td>\n",
       "      <td>18379.0</td>\n",
       "      <td>334.163636</td>\n",
       "    </tr>\n",
       "    <tr>\n",
       "      <th>13</th>\n",
       "      <td>58</td>\n",
       "      <td>CEE</td>\n",
       "      <td>10240</td>\n",
       "      <td>224</td>\n",
       "      <td>10464.0</td>\n",
       "      <td>180.413793</td>\n",
       "    </tr>\n",
       "    <tr>\n",
       "      <th>14</th>\n",
       "      <td>62</td>\n",
       "      <td>ME</td>\n",
       "      <td>10416</td>\n",
       "      <td>2563</td>\n",
       "      <td>12979.0</td>\n",
       "      <td>209.338710</td>\n",
       "    </tr>\n",
       "    <tr>\n",
       "      <th>15</th>\n",
       "      <td>83</td>\n",
       "      <td>ECE</td>\n",
       "      <td>17017</td>\n",
       "      <td>2268</td>\n",
       "      <td>19285.0</td>\n",
       "      <td>232.349398</td>\n",
       "    </tr>\n",
       "  </tbody>\n",
       "</table>\n",
       "</div>"
      ],
      "text/plain": [
       "    num faculty        dept  on campus off campus    total  SCH per faculty\n",
       "5            13        MINE       1095          0   1095.0        84.230769\n",
       "6            18         CHE       2951          0   2350.0       130.555556\n",
       "7            21         MSE       3771         75   3846.0       183.142857\n",
       "8            25        ENGE       5194          0   5194.0       207.760000\n",
       "9            29         AOE       7313        318   7631.0       263.137931\n",
       "10           32         ISE       7015        118   7133.0       222.906250\n",
       "11           43  ESM + BEAM       6606        132   6738.0       156.697674\n",
       "12           55          CS      17257       1122  18379.0       334.163636\n",
       "13           58         CEE      10240        224  10464.0       180.413793\n",
       "14           62          ME      10416       2563  12979.0       209.338710\n",
       "15           83         ECE      17017       2268  19285.0       232.349398"
      ]
     },
     "execution_count": 29,
     "metadata": {},
     "output_type": "execute_result"
    }
   ],
   "source": [
    "# we don't need lines 0 - 4 so let's take only 5-15\n",
    "sch_data=sch_data[5:16]\n",
    "sch_data"
   ]
  },
  {
   "cell_type": "code",
   "execution_count": 32,
   "metadata": {
    "hidden": true
   },
   "outputs": [
    {
     "data": {
      "text/html": [
       "<div>\n",
       "<style scoped>\n",
       "    .dataframe tbody tr th:only-of-type {\n",
       "        vertical-align: middle;\n",
       "    }\n",
       "\n",
       "    .dataframe tbody tr th {\n",
       "        vertical-align: top;\n",
       "    }\n",
       "\n",
       "    .dataframe thead th {\n",
       "        text-align: right;\n",
       "    }\n",
       "</style>\n",
       "<table border=\"1\" class=\"dataframe\">\n",
       "  <thead>\n",
       "    <tr style=\"text-align: right;\">\n",
       "      <th></th>\n",
       "      <th>num faculty</th>\n",
       "      <th>dept</th>\n",
       "      <th>on campus</th>\n",
       "      <th>off campus</th>\n",
       "      <th>total</th>\n",
       "    </tr>\n",
       "  </thead>\n",
       "  <tbody>\n",
       "    <tr>\n",
       "      <th>0</th>\n",
       "      <td>13</td>\n",
       "      <td>MINE</td>\n",
       "      <td>1095</td>\n",
       "      <td>0</td>\n",
       "      <td>1095.0</td>\n",
       "    </tr>\n",
       "    <tr>\n",
       "      <th>1</th>\n",
       "      <td>18</td>\n",
       "      <td>CHE</td>\n",
       "      <td>2951</td>\n",
       "      <td>0</td>\n",
       "      <td>2350.0</td>\n",
       "    </tr>\n",
       "    <tr>\n",
       "      <th>2</th>\n",
       "      <td>21</td>\n",
       "      <td>MSE</td>\n",
       "      <td>3771</td>\n",
       "      <td>75</td>\n",
       "      <td>3846.0</td>\n",
       "    </tr>\n",
       "    <tr>\n",
       "      <th>3</th>\n",
       "      <td>25</td>\n",
       "      <td>ENGE</td>\n",
       "      <td>5194</td>\n",
       "      <td>0</td>\n",
       "      <td>5194.0</td>\n",
       "    </tr>\n",
       "    <tr>\n",
       "      <th>4</th>\n",
       "      <td>29</td>\n",
       "      <td>AOE</td>\n",
       "      <td>7313</td>\n",
       "      <td>318</td>\n",
       "      <td>7631.0</td>\n",
       "    </tr>\n",
       "    <tr>\n",
       "      <th>5</th>\n",
       "      <td>32</td>\n",
       "      <td>ISE</td>\n",
       "      <td>7015</td>\n",
       "      <td>118</td>\n",
       "      <td>7133.0</td>\n",
       "    </tr>\n",
       "    <tr>\n",
       "      <th>6</th>\n",
       "      <td>43</td>\n",
       "      <td>ESM + BEAM</td>\n",
       "      <td>6606</td>\n",
       "      <td>132</td>\n",
       "      <td>6738.0</td>\n",
       "    </tr>\n",
       "    <tr>\n",
       "      <th>7</th>\n",
       "      <td>55</td>\n",
       "      <td>CS</td>\n",
       "      <td>17257</td>\n",
       "      <td>1122</td>\n",
       "      <td>18379.0</td>\n",
       "    </tr>\n",
       "    <tr>\n",
       "      <th>8</th>\n",
       "      <td>58</td>\n",
       "      <td>CEE</td>\n",
       "      <td>10240</td>\n",
       "      <td>224</td>\n",
       "      <td>10464.0</td>\n",
       "    </tr>\n",
       "    <tr>\n",
       "      <th>9</th>\n",
       "      <td>62</td>\n",
       "      <td>ME</td>\n",
       "      <td>10416</td>\n",
       "      <td>2563</td>\n",
       "      <td>12979.0</td>\n",
       "    </tr>\n",
       "    <tr>\n",
       "      <th>10</th>\n",
       "      <td>83</td>\n",
       "      <td>ECE</td>\n",
       "      <td>17017</td>\n",
       "      <td>2268</td>\n",
       "      <td>19285.0</td>\n",
       "    </tr>\n",
       "  </tbody>\n",
       "</table>\n",
       "</div>"
      ],
      "text/plain": [
       "    num faculty        dept  on campus off campus    total\n",
       "0            13        MINE       1095          0   1095.0\n",
       "1            18         CHE       2951          0   2350.0\n",
       "2            21         MSE       3771         75   3846.0\n",
       "3            25        ENGE       5194          0   5194.0\n",
       "4            29         AOE       7313        318   7631.0\n",
       "5            32         ISE       7015        118   7133.0\n",
       "6            43  ESM + BEAM       6606        132   6738.0\n",
       "7            55          CS      17257       1122  18379.0\n",
       "8            58         CEE      10240        224  10464.0\n",
       "9            62          ME      10416       2563  12979.0\n",
       "10           83         ECE      17017       2268  19285.0"
      ]
     },
     "execution_count": 32,
     "metadata": {},
     "output_type": "execute_result"
    }
   ],
   "source": [
    "sch_data=sch_data.reset_index(drop=\"True\")\n",
    "sch_data"
   ]
  },
  {
   "cell_type": "code",
   "execution_count": 31,
   "metadata": {},
   "outputs": [
    {
     "data": {
      "text/html": [
       "<div>\n",
       "<style scoped>\n",
       "    .dataframe tbody tr th:only-of-type {\n",
       "        vertical-align: middle;\n",
       "    }\n",
       "\n",
       "    .dataframe tbody tr th {\n",
       "        vertical-align: top;\n",
       "    }\n",
       "\n",
       "    .dataframe thead th {\n",
       "        text-align: right;\n",
       "    }\n",
       "</style>\n",
       "<table border=\"1\" class=\"dataframe\">\n",
       "  <thead>\n",
       "    <tr style=\"text-align: right;\">\n",
       "      <th></th>\n",
       "      <th>num faculty</th>\n",
       "      <th>dept</th>\n",
       "      <th>on campus</th>\n",
       "      <th>off campus</th>\n",
       "      <th>total</th>\n",
       "    </tr>\n",
       "  </thead>\n",
       "  <tbody>\n",
       "    <tr>\n",
       "      <th>5</th>\n",
       "      <td>13</td>\n",
       "      <td>MINE</td>\n",
       "      <td>1095</td>\n",
       "      <td>0</td>\n",
       "      <td>1095.0</td>\n",
       "    </tr>\n",
       "    <tr>\n",
       "      <th>6</th>\n",
       "      <td>18</td>\n",
       "      <td>CHE</td>\n",
       "      <td>2951</td>\n",
       "      <td>0</td>\n",
       "      <td>2350.0</td>\n",
       "    </tr>\n",
       "    <tr>\n",
       "      <th>7</th>\n",
       "      <td>21</td>\n",
       "      <td>MSE</td>\n",
       "      <td>3771</td>\n",
       "      <td>75</td>\n",
       "      <td>3846.0</td>\n",
       "    </tr>\n",
       "    <tr>\n",
       "      <th>8</th>\n",
       "      <td>25</td>\n",
       "      <td>ENGE</td>\n",
       "      <td>5194</td>\n",
       "      <td>0</td>\n",
       "      <td>5194.0</td>\n",
       "    </tr>\n",
       "    <tr>\n",
       "      <th>9</th>\n",
       "      <td>29</td>\n",
       "      <td>AOE</td>\n",
       "      <td>7313</td>\n",
       "      <td>318</td>\n",
       "      <td>7631.0</td>\n",
       "    </tr>\n",
       "    <tr>\n",
       "      <th>10</th>\n",
       "      <td>32</td>\n",
       "      <td>ISE</td>\n",
       "      <td>7015</td>\n",
       "      <td>118</td>\n",
       "      <td>7133.0</td>\n",
       "    </tr>\n",
       "    <tr>\n",
       "      <th>11</th>\n",
       "      <td>43</td>\n",
       "      <td>ESM + BEAM</td>\n",
       "      <td>6606</td>\n",
       "      <td>132</td>\n",
       "      <td>6738.0</td>\n",
       "    </tr>\n",
       "    <tr>\n",
       "      <th>12</th>\n",
       "      <td>55</td>\n",
       "      <td>CS</td>\n",
       "      <td>17257</td>\n",
       "      <td>1122</td>\n",
       "      <td>18379.0</td>\n",
       "    </tr>\n",
       "    <tr>\n",
       "      <th>13</th>\n",
       "      <td>58</td>\n",
       "      <td>CEE</td>\n",
       "      <td>10240</td>\n",
       "      <td>224</td>\n",
       "      <td>10464.0</td>\n",
       "    </tr>\n",
       "    <tr>\n",
       "      <th>14</th>\n",
       "      <td>62</td>\n",
       "      <td>ME</td>\n",
       "      <td>10416</td>\n",
       "      <td>2563</td>\n",
       "      <td>12979.0</td>\n",
       "    </tr>\n",
       "    <tr>\n",
       "      <th>15</th>\n",
       "      <td>83</td>\n",
       "      <td>ECE</td>\n",
       "      <td>17017</td>\n",
       "      <td>2268</td>\n",
       "      <td>19285.0</td>\n",
       "    </tr>\n",
       "  </tbody>\n",
       "</table>\n",
       "</div>"
      ],
      "text/plain": [
       "    num faculty        dept  on campus off campus    total\n",
       "5            13        MINE       1095          0   1095.0\n",
       "6            18         CHE       2951          0   2350.0\n",
       "7            21         MSE       3771         75   3846.0\n",
       "8            25        ENGE       5194          0   5194.0\n",
       "9            29         AOE       7313        318   7631.0\n",
       "10           32         ISE       7015        118   7133.0\n",
       "11           43  ESM + BEAM       6606        132   6738.0\n",
       "12           55          CS      17257       1122  18379.0\n",
       "13           58         CEE      10240        224  10464.0\n",
       "14           62          ME      10416       2563  12979.0\n",
       "15           83         ECE      17017       2268  19285.0"
      ]
     },
     "execution_count": 31,
     "metadata": {},
     "output_type": "execute_result"
    }
   ],
   "source": [
    "# Let's just take the first 5 columns\n",
    "sch_data=sch_data.loc[:,'num faculty':'total']\n",
    "sch_data"
   ]
  },
  {
   "cell_type": "markdown",
   "metadata": {
    "hidden": true
   },
   "source": [
    "We can easily refer to a column of data by its header, for example:"
   ]
  },
  {
   "cell_type": "code",
   "execution_count": 34,
   "metadata": {
    "hidden": true
   },
   "outputs": [
    {
     "data": {
      "text/plain": [
       "0           MINE\n",
       "1            CHE\n",
       "2            MSE\n",
       "3           ENGE\n",
       "4            AOE\n",
       "5            ISE\n",
       "6     ESM + BEAM\n",
       "7             CS\n",
       "8            CEE\n",
       "9             ME\n",
       "10           ECE\n",
       "Name: dept, dtype: object"
      ]
     },
     "execution_count": 34,
     "metadata": {},
     "output_type": "execute_result"
    }
   ],
   "source": [
    "sch_data['dept']"
   ]
  },
  {
   "cell_type": "markdown",
   "metadata": {
    "hidden": true
   },
   "source": [
    "Let's take the total credit hours and divide by the total faculty then add this to our dataframe.  "
   ]
  },
  {
   "cell_type": "code",
   "execution_count": 33,
   "metadata": {},
   "outputs": [
    {
     "data": {
      "text/html": [
       "<div>\n",
       "<style scoped>\n",
       "    .dataframe tbody tr th:only-of-type {\n",
       "        vertical-align: middle;\n",
       "    }\n",
       "\n",
       "    .dataframe tbody tr th {\n",
       "        vertical-align: top;\n",
       "    }\n",
       "\n",
       "    .dataframe thead th {\n",
       "        text-align: right;\n",
       "    }\n",
       "</style>\n",
       "<table border=\"1\" class=\"dataframe\">\n",
       "  <thead>\n",
       "    <tr style=\"text-align: right;\">\n",
       "      <th></th>\n",
       "      <th>num faculty</th>\n",
       "      <th>dept</th>\n",
       "      <th>on campus</th>\n",
       "      <th>off campus</th>\n",
       "      <th>total</th>\n",
       "      <th>credit_faculty</th>\n",
       "    </tr>\n",
       "  </thead>\n",
       "  <tbody>\n",
       "    <tr>\n",
       "      <th>0</th>\n",
       "      <td>13</td>\n",
       "      <td>MINE</td>\n",
       "      <td>1095</td>\n",
       "      <td>0</td>\n",
       "      <td>1095.0</td>\n",
       "      <td>84.230769</td>\n",
       "    </tr>\n",
       "    <tr>\n",
       "      <th>1</th>\n",
       "      <td>18</td>\n",
       "      <td>CHE</td>\n",
       "      <td>2951</td>\n",
       "      <td>0</td>\n",
       "      <td>2350.0</td>\n",
       "      <td>130.555556</td>\n",
       "    </tr>\n",
       "    <tr>\n",
       "      <th>2</th>\n",
       "      <td>21</td>\n",
       "      <td>MSE</td>\n",
       "      <td>3771</td>\n",
       "      <td>75</td>\n",
       "      <td>3846.0</td>\n",
       "      <td>183.142857</td>\n",
       "    </tr>\n",
       "    <tr>\n",
       "      <th>3</th>\n",
       "      <td>25</td>\n",
       "      <td>ENGE</td>\n",
       "      <td>5194</td>\n",
       "      <td>0</td>\n",
       "      <td>5194.0</td>\n",
       "      <td>207.760000</td>\n",
       "    </tr>\n",
       "    <tr>\n",
       "      <th>4</th>\n",
       "      <td>29</td>\n",
       "      <td>AOE</td>\n",
       "      <td>7313</td>\n",
       "      <td>318</td>\n",
       "      <td>7631.0</td>\n",
       "      <td>263.137931</td>\n",
       "    </tr>\n",
       "    <tr>\n",
       "      <th>5</th>\n",
       "      <td>32</td>\n",
       "      <td>ISE</td>\n",
       "      <td>7015</td>\n",
       "      <td>118</td>\n",
       "      <td>7133.0</td>\n",
       "      <td>222.906250</td>\n",
       "    </tr>\n",
       "    <tr>\n",
       "      <th>6</th>\n",
       "      <td>43</td>\n",
       "      <td>ESM + BEAM</td>\n",
       "      <td>6606</td>\n",
       "      <td>132</td>\n",
       "      <td>6738.0</td>\n",
       "      <td>156.697674</td>\n",
       "    </tr>\n",
       "    <tr>\n",
       "      <th>7</th>\n",
       "      <td>55</td>\n",
       "      <td>CS</td>\n",
       "      <td>17257</td>\n",
       "      <td>1122</td>\n",
       "      <td>18379.0</td>\n",
       "      <td>334.163636</td>\n",
       "    </tr>\n",
       "    <tr>\n",
       "      <th>8</th>\n",
       "      <td>58</td>\n",
       "      <td>CEE</td>\n",
       "      <td>10240</td>\n",
       "      <td>224</td>\n",
       "      <td>10464.0</td>\n",
       "      <td>180.413793</td>\n",
       "    </tr>\n",
       "    <tr>\n",
       "      <th>9</th>\n",
       "      <td>62</td>\n",
       "      <td>ME</td>\n",
       "      <td>10416</td>\n",
       "      <td>2563</td>\n",
       "      <td>12979.0</td>\n",
       "      <td>209.338710</td>\n",
       "    </tr>\n",
       "    <tr>\n",
       "      <th>10</th>\n",
       "      <td>83</td>\n",
       "      <td>ECE</td>\n",
       "      <td>17017</td>\n",
       "      <td>2268</td>\n",
       "      <td>19285.0</td>\n",
       "      <td>232.349398</td>\n",
       "    </tr>\n",
       "  </tbody>\n",
       "</table>\n",
       "</div>"
      ],
      "text/plain": [
       "    num faculty        dept  on campus off campus    total  credit_faculty\n",
       "0            13        MINE       1095          0   1095.0       84.230769\n",
       "1            18         CHE       2951          0   2350.0      130.555556\n",
       "2            21         MSE       3771         75   3846.0      183.142857\n",
       "3            25        ENGE       5194          0   5194.0      207.760000\n",
       "4            29         AOE       7313        318   7631.0      263.137931\n",
       "5            32         ISE       7015        118   7133.0      222.906250\n",
       "6            43  ESM + BEAM       6606        132   6738.0      156.697674\n",
       "7            55          CS      17257       1122  18379.0      334.163636\n",
       "8            58         CEE      10240        224  10464.0      180.413793\n",
       "9            62          ME      10416       2563  12979.0      209.338710\n",
       "10           83         ECE      17017       2268  19285.0      232.349398"
      ]
     },
     "execution_count": 33,
     "metadata": {},
     "output_type": "execute_result"
    }
   ],
   "source": [
    "sch_data['credit_faculty']=sch_data['total']/sch_data['num faculty']\n",
    "sch_data"
   ]
  },
  {
   "cell_type": "markdown",
   "metadata": {
    "hidden": true
   },
   "source": [
    "#### plotting using matplotlib.pyplot,  fitting using scipy.optimize curvefit"
   ]
  },
  {
   "cell_type": "markdown",
   "metadata": {
    "hidden": true
   },
   "source": [
    "now let's plot the credit_faculty vs the num faculty"
   ]
  },
  {
   "cell_type": "code",
   "execution_count": 35,
   "metadata": {
    "hidden": true
   },
   "outputs": [
    {
     "data": {
      "image/png": "[encoded data removed]",
      "text/plain": [
       "<Figure size 432x288 with 1 Axes>"
      ]
     },
     "metadata": {
      "needs_background": "light"
     },
     "output_type": "display_data"
    }
   ],
   "source": [
    "plt.plot(sch_data['num faculty'], sch_data['credit_faculty'], 'ro')\n",
    "plt.ylabel('student credit hours per faculty')\n",
    "plt.xlabel('number of faculty in department')\n",
    "plt.show()"
   ]
  },
  {
   "cell_type": "markdown",
   "metadata": {
    "hidden": true
   },
   "source": [
    "It looks like a linear relationship exists for smaller departments.  Let's fit the data for departments with faculty less than 30."
   ]
  },
  {
   "cell_type": "code",
   "execution_count": 37,
   "metadata": {
    "hidden": true
   },
   "outputs": [
    {
     "data": {
      "image/png": "[encoded data removed]",
      "text/plain": [
       "<Figure size 432x288 with 1 Axes>"
      ]
     },
     "metadata": {
      "needs_background": "light"
     },
     "output_type": "display_data"
    }
   ],
   "source": [
    "# plt.plot(x, y, 'formatting') 'ro' means red points\n",
    "plt.plot(sch_data['num faculty'], sch_data['credit_faculty'], 'ro')\n",
    "plt.ylabel('student credit hours per faculty')\n",
    "plt.xlabel('number of faculty in department')\n",
    "plt.show()"
   ]
  },
  {
   "cell_type": "code",
   "execution_count": 40,
   "metadata": {
    "hidden": true
   },
   "outputs": [],
   "source": [
    "#read in package for curve fitting\n",
    "from scipy.optimize import curve_fit"
   ]
  },
  {
   "cell_type": "code",
   "execution_count": 43,
   "metadata": {
    "hidden": true
   },
   "outputs": [
    {
     "name": "stdout",
     "output_type": "stream",
     "text": [
      "Our fit is given by 11.11 x + -61.66\n"
     ]
    }
   ],
   "source": [
    "from scipy.optimize import curve_fit\n",
    "#define a function for the fit.  In this case just a line\n",
    "def lin(x, m, b):\n",
    "    return m*x+b\n",
    "\n",
    "best_vals, covar = curve_fit(lin, sch_slice['num faculty'], sch_slice['credit_faculty'])\n",
    "print(f'Our fit is given by {best_vals[0]:.2f} x + {best_vals[1]:.2f}')"
   ]
  },
  {
   "cell_type": "code",
   "execution_count": 44,
   "metadata": {
    "hidden": true
   },
   "outputs": [
    {
     "name": "stdout",
     "output_type": "stream",
     "text": [
      "[ 11.10513878 -61.66351949]\n"
     ]
    }
   ],
   "source": [
    "print(best_vals) #these are in order as defined in function i.e. m , b"
   ]
  },
  {
   "cell_type": "code",
   "execution_count": 45,
   "metadata": {
    "hidden": true
   },
   "outputs": [
    {
     "data": {
      "image/png": "[encoded data removed]",
      "text/plain": [
       "<Figure size 432x288 with 1 Axes>"
      ]
     },
     "metadata": {
      "needs_background": "light"
     },
     "output_type": "display_data"
    }
   ],
   "source": [
    "plt.plot(sch_slice['num faculty'], lin(sch_slice['num faculty'],11.105,-61.6635), 'k--')\n",
    "plt.plot(sch_data['num faculty'], sch_data['credit_faculty'], 'ro')\n",
    "plt.show()"
   ]
  },
  {
   "cell_type": "markdown",
   "metadata": {
    "hidden": true
   },
   "source": [
    "Let's add a horizontal line at 275"
   ]
  },
  {
   "cell_type": "code",
   "execution_count": 47,
   "metadata": {
    "hidden": true
   },
   "outputs": [
    {
     "data": {
      "image/png": "[encoded data removed]",
      "text/plain": [
       "<Figure size 432x288 with 1 Axes>"
      ]
     },
     "metadata": {
      "needs_background": "light"
     },
     "output_type": "display_data"
    }
   ],
   "source": [
    "plt.plot(sch_slice['num faculty'], lin(sch_slice['num faculty'],11.105,-61.6635), 'k--')\n",
    "plt.plot(sch_data['num faculty'], sch_data['credit_faculty'], 'ro')\n",
    "plt.axhline(y=275, linewidth=1, color='b', linestyle='-')\n",
    "plt.axis([10,70,50,400]) #specify axis limits like this\n",
    "plt.show()"
   ]
  },
  {
   "cell_type": "markdown",
   "metadata": {},
   "source": [
    "### Exporting data to excel"
   ]
  },
  {
   "cell_type": "code",
   "execution_count": 48,
   "metadata": {},
   "outputs": [
    {
     "data": {
      "text/html": [
       "<div>\n",
       "<style scoped>\n",
       "    .dataframe tbody tr th:only-of-type {\n",
       "        vertical-align: middle;\n",
       "    }\n",
       "\n",
       "    .dataframe tbody tr th {\n",
       "        vertical-align: top;\n",
       "    }\n",
       "\n",
       "    .dataframe thead th {\n",
       "        text-align: right;\n",
       "    }\n",
       "</style>\n",
       "<table border=\"1\" class=\"dataframe\">\n",
       "  <thead>\n",
       "    <tr style=\"text-align: right;\">\n",
       "      <th></th>\n",
       "      <th>num faculty</th>\n",
       "      <th>credit_faculty</th>\n",
       "    </tr>\n",
       "  </thead>\n",
       "  <tbody>\n",
       "    <tr>\n",
       "      <th>0</th>\n",
       "      <td>13</td>\n",
       "      <td>84.230769</td>\n",
       "    </tr>\n",
       "    <tr>\n",
       "      <th>1</th>\n",
       "      <td>18</td>\n",
       "      <td>130.555556</td>\n",
       "    </tr>\n",
       "    <tr>\n",
       "      <th>2</th>\n",
       "      <td>21</td>\n",
       "      <td>183.142857</td>\n",
       "    </tr>\n",
       "    <tr>\n",
       "      <th>3</th>\n",
       "      <td>25</td>\n",
       "      <td>207.760000</td>\n",
       "    </tr>\n",
       "    <tr>\n",
       "      <th>4</th>\n",
       "      <td>29</td>\n",
       "      <td>263.137931</td>\n",
       "    </tr>\n",
       "    <tr>\n",
       "      <th>5</th>\n",
       "      <td>32</td>\n",
       "      <td>222.906250</td>\n",
       "    </tr>\n",
       "    <tr>\n",
       "      <th>6</th>\n",
       "      <td>43</td>\n",
       "      <td>156.697674</td>\n",
       "    </tr>\n",
       "    <tr>\n",
       "      <th>7</th>\n",
       "      <td>55</td>\n",
       "      <td>334.163636</td>\n",
       "    </tr>\n",
       "    <tr>\n",
       "      <th>8</th>\n",
       "      <td>58</td>\n",
       "      <td>180.413793</td>\n",
       "    </tr>\n",
       "    <tr>\n",
       "      <th>9</th>\n",
       "      <td>62</td>\n",
       "      <td>209.338710</td>\n",
       "    </tr>\n",
       "    <tr>\n",
       "      <th>10</th>\n",
       "      <td>83</td>\n",
       "      <td>232.349398</td>\n",
       "    </tr>\n",
       "  </tbody>\n",
       "</table>\n",
       "</div>"
      ],
      "text/plain": [
       "    num faculty  credit_faculty\n",
       "0            13       84.230769\n",
       "1            18      130.555556\n",
       "2            21      183.142857\n",
       "3            25      207.760000\n",
       "4            29      263.137931\n",
       "5            32      222.906250\n",
       "6            43      156.697674\n",
       "7            55      334.163636\n",
       "8            58      180.413793\n",
       "9            62      209.338710\n",
       "10           83      232.349398"
      ]
     },
     "execution_count": 48,
     "metadata": {},
     "output_type": "execute_result"
    }
   ],
   "source": [
    "# .loc[rows, columns] lets us use the names of the columns and rows\n",
    "#in our case rows = \":\" which means all rows\n",
    "# columns is a list of columns to take [\"num faculty\",'credit_faculty']\n",
    "data_to_save=sch_data.loc[:,[\"num faculty\",'credit_faculty']]\n",
    "data_to_save"
   ]
  },
  {
   "cell_type": "code",
   "execution_count": 50,
   "metadata": {},
   "outputs": [],
   "source": [
    "path = r\"C:\\Users\\Sean\\OneDrive - Virginia Tech\\Documents\\Teaching\\2114 & 3114 Math I & II\\git_2114_3114\\data for practice\"\n",
    "filename='lesson 3 outfile.xlsx'\n",
    "outpath=os.path.join(path,filename)\n",
    "\n",
    "data_to_save.to_excel(outpath, index = True, header=True)\n",
    "#try changing index=True and check your output file "
   ]
  },
  {
   "cell_type": "markdown",
   "metadata": {},
   "source": [
    "Here's what my excel file looks like: "
   ]
  },
  {
   "cell_type": "markdown",
   "metadata": {},
   "source": [
    ":::{image} ../images/excel_clip.png\n",
    ":height: 400px\n",
    ":align: center\n",
    ":::"
   ]
  },
  {
   "cell_type": "markdown",
   "metadata": {
    "tags": [
     "remove-cell"
    ]
   },
   "source": [
    "<img alt=\"open google forms\" src=\"../images/excel_clip.png\" width=250px>"
   ]
  },
  {
   "cell_type": "markdown",
   "metadata": {},
   "source": [
    "## Lesson Part 2: Practice"
   ]
  },
  {
   "cell_type": "markdown",
   "metadata": {},
   "source": [
    "### Functions, List comprehensions, Random numbers, Selecting data using conditionals"
   ]
  },
  {
   "cell_type": "markdown",
   "metadata": {},
   "source": [
    "Let's look at if, elif, else statements again"
   ]
  },
  {
   "cell_type": "code",
   "execution_count": 51,
   "metadata": {},
   "outputs": [],
   "source": [
    "def myfunc(var1, var2, var3):\n",
    "    \n",
    "    #first if, else statement avoids dividing by zero\n",
    "    if var1 ==0:\n",
    "        return(0)\n",
    "    else: ratio=var3/var1\n",
    "    \n",
    "    #second if, elif, else statement\n",
    "    if ratio < 0:\n",
    "        return(50)\n",
    "    elif ratio == 0:\n",
    "        return(1)\n",
    "    elif ratio == 0.5:\n",
    "        return(60)\n",
    "    else: return(ratio)"
   ]
  },
  {
   "cell_type": "code",
   "execution_count": 52,
   "metadata": {},
   "outputs": [
    {
     "data": {
      "text/plain": [
       "array([-1.  , -0.75, -0.5 , -0.25,  0.  ,  0.25,  0.5 ,  0.75,  1.  ,\n",
       "        1.25,  1.5 ,  1.75,  2.  ,  2.25,  2.5 ,  2.75,  3.  ,  3.25,\n",
       "        3.5 ,  3.75,  4.  ])"
      ]
     },
     "execution_count": 52,
     "metadata": {},
     "output_type": "execute_result"
    }
   ],
   "source": [
    "np.linspace(-1,4,21)"
   ]
  },
  {
   "cell_type": "code",
   "execution_count": 53,
   "metadata": {},
   "outputs": [
    {
     "data": {
      "text/plain": [
       "[0, 1.5, 0.75, 60]"
      ]
     },
     "execution_count": 53,
     "metadata": {},
     "output_type": "execute_result"
    }
   ],
   "source": [
    "[myfunc(x,3,1.5) for x in [0,1,2,3]]"
   ]
  },
  {
   "cell_type": "code",
   "execution_count": 54,
   "metadata": {},
   "outputs": [
    {
     "data": {
      "image/png": "[encoded data removed]",
      "text/plain": [
       "<Figure size 432x288 with 1 Axes>"
      ]
     },
     "metadata": {
      "needs_background": "light"
     },
     "output_type": "display_data"
    }
   ],
   "source": [
    "plt.plot(np.linspace(-1,4,21), [myfunc(x,3,1.5) for x in np.linspace(-1,4,21)], 'ro')\n",
    "plt.show()"
   ]
  },
  {
   "cell_type": "markdown",
   "metadata": {},
   "source": [
    "### (P2) Let's determine if a random point between 0 and 1 in both x and y falls inside a circle with center (0.5, 0.5) and radius 0.7"
   ]
  },
  {
   "cell_type": "code",
   "execution_count": 61,
   "metadata": {},
   "outputs": [
    {
     "data": {
      "text/plain": [
       "0.2864232015977013"
      ]
     },
     "execution_count": 61,
     "metadata": {},
     "output_type": "execute_result"
    }
   ],
   "source": [
    "np.random.random()"
   ]
  },
  {
   "cell_type": "code",
   "execution_count": 55,
   "metadata": {},
   "outputs": [
    {
     "data": {
      "text/plain": [
       "array([0.70710678, 1.        , 0.58309519])"
      ]
     },
     "execution_count": 55,
     "metadata": {},
     "output_type": "execute_result"
    }
   ],
   "source": [
    "# !! important note:  I use np.array below because I'm manually converting a list but\n",
    "#  you will use np.random which will give you an array as its output\n",
    "xcoord=np.array([0, 0.5, 1]) #convert lists [] to numpy array\n",
    "ycoord=np.array([0, -0.5, 0.8])\n",
    "magnitude=np.sqrt((xcoord-0.5)**2+(ycoord-0.5)**2)\n",
    "magnitude"
   ]
  },
  {
   "cell_type": "code",
   "execution_count": 70,
   "metadata": {},
   "outputs": [
    {
     "data": {
      "image/png": "[encoded data removed]",
      "text/plain": [
       "<Figure size 432x288 with 1 Axes>"
      ]
     },
     "metadata": {
      "needs_background": "light"
     },
     "output_type": "display_data"
    }
   ],
   "source": [
    "fig, ax = plt.subplots()\n",
    "ax.plot(xcoord, ycoord, 'ro')\n",
    "ax.add_patch(plt.Circle((0.5, 0.5), 0.7, color='r', alpha=0.5))\n",
    "ax.set_aspect('equal')\n",
    "plt.show()"
   ]
  },
  {
   "cell_type": "code",
   "execution_count": 69,
   "metadata": {},
   "outputs": [],
   "source": [
    "test=magnitude<0.7\n",
    "x=xcoord[test] #take all x values where magnitude array is <0.7\n",
    "y=ycoord[test] #take all y values where magnitude array is <0.7"
   ]
  },
  {
   "cell_type": "code",
   "execution_count": 71,
   "metadata": {},
   "outputs": [
    {
     "data": {
      "image/png": "[encoded data removed]",
      "text/plain": [
       "<Figure size 432x288 with 1 Axes>"
      ]
     },
     "metadata": {
      "needs_background": "light"
     },
     "output_type": "display_data"
    }
   ],
   "source": [
    "fig, ax = plt.subplots()\n",
    "ax.plot(xcoord, ycoord, 'ro') # 'ro' means red points\n",
    "ax.plot(x, y, 'ko') #'ko' means black points\n",
    "ax.add_patch(plt.Circle((0.5, 0.5), 0.7, color='r', alpha=0.5))\n",
    "ax.set_aspect('equal')\n",
    "plt.show()"
   ]
  },
  {
   "cell_type": "code",
   "execution_count": 72,
   "metadata": {},
   "outputs": [
    {
     "data": {
      "text/plain": [
       "3"
      ]
     },
     "execution_count": 72,
     "metadata": {},
     "output_type": "execute_result"
    }
   ],
   "source": [
    "# if I want the number of points I need to find the length of my coordinates\n",
    "len(xcoord)"
   ]
  },
  {
   "cell_type": "markdown",
   "metadata": {},
   "source": [
    "## Exercises"
   ]
  },
  {
   "cell_type": "markdown",
   "metadata": {},
   "source": [
    "The problems below may require the ability to:\n",
    "* import an excel file\n",
    "* define a function\n",
    "* use if, elif, else statements\n",
    "* use numpy.array() to multiply a sequence of numbers\n",
    "* generate a random number\n",
    "* use matplotlib to make a scatter plot"
   ]
  },
  {
   "cell_type": "markdown",
   "metadata": {
    "tags": []
   },
   "source": [
    "### Problem 1: \n",
    "<hr style=\"height: 3.0px\"/>"
   ]
  },
  {
   "cell_type": "markdown",
   "metadata": {},
   "source": [
    "(a) Import the load-length data in file \"Al7075.xlsx\" The header in the excel file should give you all the information you need.  Plot the stress-strain data.  Put the stress in units of MPa.  \n",
    "\n",
    "(b) Take the first couple of data points and determine the slope by fitting a straight line to the data.  You may want to replot the first quarter or so of the original plot so that you can see how far the linear region extends.  \n",
    "\n",
    "(c) Add a line to your plot that starts at a strain of 0.002 and has the slope found previously.  Plot this line so that it intersects the stress-strain data curve and read off the yield strength.  You should only plot the first quarter or so of the original plot so that you can clearly see the yield point value.  \n",
    "\n",
    "(d) Add a horizontal line to your plot at the yield point value estimated above. Refine your estimate if your horizontal line does not pass correctly through the intersection point.  \n",
    "\n",
    "(e) Export your data to a new excel file with a name of your choosing. "
   ]
  },
  {
   "cell_type": "markdown",
   "metadata": {
    "tags": []
   },
   "source": [
    "### Problem 2: \n",
    "<hr style=\"height: 3.0px\"/>"
   ]
  },
  {
   "cell_type": "markdown",
   "metadata": {},
   "source": [
    "Write a function that given the ionic radii for a simple ceramic compound (2 elements) returns the expected coordination number.  The coordinaton numbers versus ratio of the radii can be found in Chapter 12,  Table 12.2 on page 408 in Callister 10th ed.  Your function should check if your ratio is greater than 1.0.  If it is, then take the inverse of your ratio.  You may want to consider the `if` `elif` `else` conditionals. Test your function by calculating the coordination number for NaCl.  Remember to use the ionic radii not the atomic radii.  \n",
    "\n",
    "  "
   ]
  },
  {
   "cell_type": "markdown",
   "metadata": {
    "tags": []
   },
   "source": [
    "### Problem 3: \n",
    "<hr style=\"height: 3.0px\"/>"
   ]
  },
  {
   "cell_type": "markdown",
   "metadata": {},
   "source": [
    "Pick 1000 random points in a square of edge length 2 centered at (0,0).  Determine how many of these points are contained in a circle of radius 1 centered at (0,0).  Multiply the ratio of points in the circle to the total number of points by 4, i.e. $4\\times \\frac{\\text{pts in circle}}{\\text{total num pts}}$.  Try 10,000 points.  What do you get?"
   ]
  }
 ],
 "metadata": {
  "jupytext": {
   "formats": "ipynb,md"
  },
  "kernelspec": {
   "display_name": "Python 3 (ipykernel)",
   "language": "python",
   "name": "python3"
  },
  "language_info": {
   "codemirror_mode": {
    "name": "ipython",
    "version": 3
   },
   "file_extension": ".py",
   "mimetype": "text/x-python",
   "name": "python",
   "nbconvert_exporter": "python",
   "pygments_lexer": "ipython3",
   "version": "3.9.12"
  },
  "toc": {
   "base_numbering": 1,
   "nav_menu": {},
   "number_sections": true,
   "sideBar": true,
   "skip_h1_title": false,
   "title_cell": "Table of Contents",
   "title_sidebar": "Contents",
   "toc_cell": false,
   "toc_position": {},
   "toc_section_display": true,
   "toc_window_display": false
  }
 },
 "nbformat": 4,
 "nbformat_minor": 4
}
