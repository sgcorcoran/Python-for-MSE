{
 "cells": [
  {
   "cell_type": "markdown",
   "metadata": {},
   "source": [
    "# Getting Started\n",
    "<hr style=\"height: 3.0px\"/>\n",
    "\n",
    "Make sure you follow these links to setup the Anaconda version of python on your computer: \n",
    "*  [Anaconda install](https://docs.anaconda.com/anaconda/install/index.html)\n",
    "*  [Setup your linked-in learning account](https://canvas.vt.edu/courses/148237/pages/getting-started-with-course)\n",
    "*  [Getting Started with Python](https://www.linkedin.com/learning/python-quick-start)\n",
    "\n",
    "After watching and following along with \"Getting Started with Python,\" you should be able to answer this week's homework problems.  Below are just a few additional comments and examples that might help.  "
   ]
  },
  {
   "cell_type": "markdown",
   "metadata": {},
   "source": [
    "if-else  \n",
    "f-string  \n",
    "def  \n",
    "for loop  \n",
    "import numpy  \n",
    "list comprehension  \n",
    "np.log vs np.log10\n"
   ]
  },
  {
   "cell_type": "markdown",
   "metadata": {},
   "source": [
    ":::{important}\n",
    "There are many apps for your phone that also teach python.  Linked-in learning has an app as well so you can watch our first lesson directly on your phone.  The app Python 3 Tutorials is pretty good and you can try searching for apps related to Data Science or Python Pandas.\n",
    ":::"
   ]
  },
  {
   "cell_type": "markdown",
   "metadata": {},
   "source": [
    "### Converting your jupyter notebook to pdf for submission in Canvas\n",
    "\n",
    "The menu File / Download as / pdf -- does not work!  \n",
    "\n",
    "You need to use File/Print Preview and then right click to select print.  From the print dialogue, change the printer to `Save as PDF` or `Print to PDF Annotator`.  "
   ]
  },
  {
   "cell_type": "markdown",
   "metadata": {
    "tags": [
     "remove-cell"
    ]
   },
   "source": [
    "<img alt=\"../images/print_to_pdf.png\" src=\"../images/print_to_pdf.png\" width=200>"
   ]
  },
  {
   "cell_type": "markdown",
   "metadata": {
    "tags": [
     "remove-input"
    ]
   },
   "source": [
    ":::{figure} ../images/print_to_pdf.png\n",
    ":height: 300px\n",
    ":name: figure-example\n",
    "\n",
    "In the print menu, select \"Save as PDF\" or \"Print to PDF Annotator\"\n",
    ":::"
   ]
  },
  {
   "cell_type": "markdown",
   "metadata": {},
   "source": [
    "### Importing numpy"
   ]
  },
  {
   "cell_type": "markdown",
   "metadata": {
    "tags": [
     "margin"
    ]
   },
   "source": [
    "At the top of your notebook, you should import the numpy extension to python.  You will need this for several of the problems this week.  \n",
    "\n",
    "```python\n",
    "import numpy as np\n",
    "```\n",
    "\n",
    "The \"np\" is an alias so you can type `np.sqrt()` for example rather than `numpy.sqrt()`.  "
   ]
  },
  {
   "cell_type": "markdown",
   "metadata": {},
   "source": [
    "In Canvas there is a folder called \"short lessons.\"  These can be helpful as quick reminders on how to do something.  You can also search in google or use the help menu in the jupyter notebook.  You might want to look at the short lesson \"math operations.\"  "
   ]
  },
  {
   "cell_type": "markdown",
   "metadata": {
    "tags": [
     "remove-input"
    ]
   },
   "source": [
    ":::{note}\n",
    "It is important to start keeping a notebook called \"cheat sheet\" where you place common codes that you will need over and over again or how to do certain tasks such as import an excel file, etc.  There is also an android app called \"Data Science Cheat Sheets\" that contains a nice cheat sheet for Python.\n",
    ":::"
   ]
  },
  {
   "cell_type": "code",
   "execution_count": 5,
   "metadata": {
    "tags": []
   },
   "outputs": [],
   "source": [
    "import numpy as np #we need this for all statements below that begin np. for example np.log()"
   ]
  },
  {
   "cell_type": "markdown",
   "metadata": {},
   "source": [
    "### Writing your own functions and the if-else statement\n",
    "\n",
    "Functions are extremely useful in python.  An example is given below.  The formatting is very important especially the indents.  If a line ends with a colon, the next line must be indented.  The function below also gives the formatting for the if, else conditional statement.  Again, notice the indented formatting.  "
   ]
  },
  {
   "cell_type": "code",
   "execution_count": 76,
   "metadata": {},
   "outputs": [],
   "source": [
    "def is_even(x):\n",
    "    if x%2==0:  #the mod function \"%\" gives the remainder after dividing in this case by 2\n",
    "        print( \"That number is even\")\n",
    "    else:\n",
    "        print(\"That number is odd\")"
   ]
  },
  {
   "cell_type": "code",
   "execution_count": 77,
   "metadata": {},
   "outputs": [
    {
     "name": "stdout",
     "output_type": "stream",
     "text": [
      "That number is odd\n"
     ]
    }
   ],
   "source": [
    "is_even(5)"
   ]
  },
  {
   "cell_type": "markdown",
   "metadata": {
    "tags": []
   },
   "source": [
    ":::{warning}  \n",
    "Don't use input() statements in your code.  Write functions instead for changing variables for a repeated calculation.  \n",
    ":::"
   ]
  },
  {
   "cell_type": "markdown",
   "metadata": {},
   "source": [
    "Let's just look at the if-else statement by itself.  Here we have to set x to a value before entering our if-else. Try copying the code below into your own notebook and change the value of x.  "
   ]
  },
  {
   "cell_type": "code",
   "execution_count": 45,
   "metadata": {},
   "outputs": [
    {
     "name": "stdout",
     "output_type": "stream",
     "text": [
      "No, x is not divisible by 3\n"
     ]
    }
   ],
   "source": [
    "x=5\n",
    "if x%3==0:  #the mod function here is checking if x is divisible by 3\n",
    "    print( \"Yes, x is divisible by 3\")\n",
    "else:\n",
    "    print(\"No, x is not divisible by 3\")\n"
   ]
  },
  {
   "cell_type": "markdown",
   "metadata": {},
   "source": [
    "It is very important in programming to always think logically step by step through your code.  Flow charts are a great way of visualizing what your code is doing (or what you intend your code to do).  Below is a flow chart for the if-else statement.  You can see here that the if-else is just a logical test with two outcomes -> True or False"
   ]
  },
  {
   "cell_type": "markdown",
   "metadata": {
    "tags": [
     "remove-cell"
    ]
   },
   "source": [
    "<img alt=\"../images/flow_if_else.png\" src=\"../images/flow_if_else.png\" width=350>"
   ]
  },
  {
   "cell_type": "markdown",
   "metadata": {
    "tags": [
     "remove-input"
    ]
   },
   "source": [
    "```{figure} ../images//flow_if_else.png\n",
    ":height: 325px\n",
    ":name: figure-example\n",
    "\n",
    "Visualizing the 'if-else' statement\n",
    "```"
   ]
  },
  {
   "cell_type": "markdown",
   "metadata": {},
   "source": [
    "### f-string for formatted output"
   ]
  },
  {
   "cell_type": "markdown",
   "metadata": {},
   "source": [
    "It would be nice if our output replaced \"x\" with its actual value so that our output was more helpful.  We can do this with the f-string. The f located in front of the string \" \" says to look for { } and replace the variables with values. Let's write a function to check if a number is divisible by 3 and return the number along with whether it is or is not divisible by 3.    "
   ]
  },
  {
   "cell_type": "code",
   "execution_count": 2,
   "metadata": {},
   "outputs": [],
   "source": [
    "def isdiv3(x):\n",
    "    if x%3==0:  #the mod function gives the remainder after dividing x/3\n",
    "        print(f\"Yes, {x} is divisible by 3\")  ## notice the f in front of our string \" \"\n",
    "    else: \n",
    "        print(f'No, {x} is not divisible by 3') ## notice the use of { } around our variable"
   ]
  },
  {
   "cell_type": "code",
   "execution_count": 3,
   "metadata": {},
   "outputs": [
    {
     "name": "stdout",
     "output_type": "stream",
     "text": [
      "Yes, 18 is divisible by 3\n",
      "No, 19 is not divisible by 3\n"
     ]
    }
   ],
   "source": [
    "isdiv3(18)\n",
    "isdiv3(19)"
   ]
  },
  {
   "cell_type": "markdown",
   "metadata": {},
   "source": [
    ":::{note}\n",
    "The f-string example above might be one of those things you save in your cheatsheet notebook.\n",
    ":::"
   ]
  },
  {
   "cell_type": "markdown",
   "metadata": {},
   "source": [
    "### numpy log functions"
   ]
  },
  {
   "cell_type": "markdown",
   "metadata": {},
   "source": [
    "The `numpy.log()` function is base \"e\" and `numpy.log10()` is base \"10\""
   ]
  },
  {
   "cell_type": "markdown",
   "metadata": {},
   "source": [
    "This is typically true of most programming languages.  You could also write your own functions so that you could just use ln() and log()."
   ]
  },
  {
   "cell_type": "markdown",
   "metadata": {},
   "source": [
    "We should have already run the code:  `import numpy as np` previously in this notebook.  If not, run it now.  "
   ]
  },
  {
   "cell_type": "code",
   "execution_count": 90,
   "metadata": {},
   "outputs": [],
   "source": [
    "def ln(x):\n",
    "    return np.log(x)\n",
    "    \n",
    "def log(x):\n",
    "    return np.log10(x)"
   ]
  },
  {
   "cell_type": "code",
   "execution_count": 84,
   "metadata": {},
   "outputs": [
    {
     "data": {
      "text/plain": [
       "4.605170185988092"
      ]
     },
     "execution_count": 84,
     "metadata": {},
     "output_type": "execute_result"
    }
   ],
   "source": [
    "ln(100)"
   ]
  },
  {
   "cell_type": "code",
   "execution_count": 86,
   "metadata": {},
   "outputs": [
    {
     "data": {
      "text/plain": [
       "2.0"
      ]
     },
     "execution_count": 86,
     "metadata": {},
     "output_type": "execute_result"
    }
   ],
   "source": [
    "log(100)"
   ]
  },
  {
   "cell_type": "markdown",
   "metadata": {},
   "source": [
    "Also, the constant *e* can be obtained by `np.e`"
   ]
  },
  {
   "cell_type": "code",
   "execution_count": 6,
   "metadata": {},
   "outputs": [
    {
     "data": {
      "text/plain": [
       "2.718281828459045"
      ]
     },
     "execution_count": 6,
     "metadata": {},
     "output_type": "execute_result"
    }
   ],
   "source": [
    "np.e"
   ]
  },
  {
   "cell_type": "markdown",
   "metadata": {
    "tags": []
   },
   "source": [
    "::::{margin}\n",
    ":::{admonition} author-note\n",
    "* add flashcards here for `np.log(10)`, `np.log10(10)`, `np.log10(100)`, `np.log(np.e)`, `np.e`\n",
    ":::\n",
    "::::"
   ]
  },
  {
   "cell_type": "markdown",
   "metadata": {},
   "source": [
    "### Some basic looping"
   ]
  },
  {
   "cell_type": "markdown",
   "metadata": {
    "tags": [
     "remove-cell"
    ]
   },
   "source": [
    "<img alt=\"for loop\" src=\"../images/flow_for_loop.png\" width=350>"
   ]
  },
  {
   "cell_type": "markdown",
   "metadata": {
    "tags": [
     "remove-cell"
    ]
   },
   "source": []
  },
  {
   "cell_type": "markdown",
   "metadata": {
    "tags": [
     "remove-input"
    ]
   },
   "source": [
    "::::{margin} \n",
    ":::{figure} ../images//flow_for_loop.png\n",
    ":height: 300px\n",
    ":name: figure-example\n",
    "\n",
    "Visualizing the `for` loop\n",
    ":::\n",
    "::::"
   ]
  },
  {
   "cell_type": "markdown",
   "metadata": {
    "tags": [
     "remove-output"
    ]
   },
   "source": [
    "Let's start the dicussion on looping with considering the flow chart for a basic `for` loop.  The `for` loop is given a list of items to be used one-by-one in the loop body.  This could be as simple as:  \n",
    "```python\n",
    "for x in [3,5,9]:\n",
    "    print(x)\n",
    "```  \n",
    "which would give the output:  \n",
    "3  \n",
    "5  \n",
    "9"
   ]
  },
  {
   "cell_type": "code",
   "execution_count": 8,
   "metadata": {},
   "outputs": [
    {
     "name": "stdout",
     "output_type": "stream",
     "text": [
      "9\n",
      "16\n",
      "25\n",
      "36\n",
      "49\n"
     ]
    }
   ],
   "source": [
    "for x in [3,4,5,6,7]:\n",
    "    print(x**2)"
   ]
  },
  {
   "cell_type": "markdown",
   "metadata": {},
   "source": [
    "if you would like to print a list of the results rather than the result from each iteration, then we need to store the results into a list within the loop body and use `.append()` to update the list each iteration of the for loop.  Our print statement now goes outside the for loop as shown below.  "
   ]
  },
  {
   "cell_type": "code",
   "execution_count": 9,
   "metadata": {},
   "outputs": [
    {
     "name": "stdout",
     "output_type": "stream",
     "text": [
      "[9, 16, 25, 36, 49, 64]\n"
     ]
    }
   ],
   "source": [
    "y=[] #initialize an empty list for our outputs\n",
    "for x in [3,4,5,6,7,8]:\n",
    "    y.append(x**2) # append the current value of x**2 to the list y\n",
    "print(y)"
   ]
  },
  {
   "cell_type": "markdown",
   "metadata": {},
   "source": [
    "...or maybe we want to also find the sum of the squares"
   ]
  },
  {
   "cell_type": "code",
   "execution_count": 10,
   "metadata": {},
   "outputs": [
    {
     "name": "stdout",
     "output_type": "stream",
     "text": [
      "[9, 16, 25, 36, 49, 64]\n",
      "199\n"
     ]
    }
   ],
   "source": [
    "y=[] #initialize an empty list for our outputs\n",
    "sum=0 #initialize our variable sum\n",
    "for x in [3,4,5,6,7,8]:\n",
    "    y.append(x**2) # append the current value of x**2 to the list y\n",
    "    sum=sum+x**2 # add the current value of x**2 to our sum\n",
    "print(y)\n",
    "print(sum)"
   ]
  },
  {
   "cell_type": "markdown",
   "metadata": {},
   "source": [
    "`sum=sum+x**2` works because the **right side is always calculated first** and then this value is assigned to the variable named on the left. In our case it would look like:  \n",
    "> sum = 0       initial value (outside loop)  \n",
    "\n",
    "enter loop:  sum = current value of `sum` + current value of `x**2`   \n",
    "> sum = 0 + 9   first iteration  \n",
    "> sum = 9 + 16  second iteration  \n",
    "> sum = 25 + 36 third iteration  \n",
    "\n",
    "and so on..."
   ]
  },
  {
   "cell_type": "markdown",
   "metadata": {
    "tags": []
   },
   "source": [
    "::::{margin}\n",
    ":::{admonition} author-note\n",
    "create quiz here asking students what the output for: \n",
    "\n",
    "```python\n",
    "y=[]\n",
    "for x in [3,4,5,6,7]:\n",
    "    y.append(x**2)\n",
    "    print(y)\n",
    "print(y)\n",
    "\n",
    "for x in [3,4,5,6,7]:\n",
    "    print(x**2)\n",
    "print(x)\n",
    "\n",
    "\n",
    "for x in [3,4,b,6,7]:\n",
    "    print(x**2)\n",
    "    \n",
    "for x in [3,4,5]:\n",
    "    m=m+x\n",
    "print(m)\n",
    "\n",
    "```\n",
    ":::\n",
    "::::"
   ]
  },
  {
   "cell_type": "markdown",
   "metadata": {},
   "source": [
    "### Special loop: List Comprehension"
   ]
  },
  {
   "cell_type": "markdown",
   "metadata": {},
   "source": [
    "This gives a nice compact way of defining a loop where the returned value is a list of outputs from each iteration.  \n",
    "**[** *value_to_save* **for** *iteration_var* **in** *list_of_items* **]**"
   ]
  },
  {
   "cell_type": "code",
   "execution_count": 60,
   "metadata": {},
   "outputs": [
    {
     "data": {
      "text/plain": [
       "[9, 16, 25, 36, 49]"
      ]
     },
     "execution_count": 60,
     "metadata": {},
     "output_type": "execute_result"
    }
   ],
   "source": [
    "[x**2 for x in [3,4,5,6,7]] #list comprehension style"
   ]
  },
  {
   "cell_type": "markdown",
   "metadata": {},
   "source": [
    "Compare the above code to the for loop: "
   ]
  },
  {
   "cell_type": "code",
   "execution_count": 104,
   "metadata": {},
   "outputs": [
    {
     "data": {
      "text/plain": [
       "[9, 16, 25, 36, 49]"
      ]
     },
     "execution_count": 104,
     "metadata": {},
     "output_type": "execute_result"
    }
   ],
   "source": [
    "y=[]\n",
    "for x in [3,4,5,6,7]:\n",
    "    y.append(x**2)\n",
    "y"
   ]
  },
  {
   "cell_type": "markdown",
   "metadata": {},
   "source": [
    "## Exercises"
   ]
  },
  {
   "cell_type": "markdown",
   "metadata": {},
   "source": [
    "### Problem 1:\n",
    "<hr style=\"height: 2.0px\"/>"
   ]
  },
  {
   "cell_type": "markdown",
   "metadata": {},
   "source": [
    "Prereq: \n",
    "*  [Setup your linked-in learning account](https://canvas.vt.edu/courses/127967/pages/getting-started-with-python)\n",
    "*  [Getting Started with Python](https://www.linkedin.com/learning/python-quick-start)\n",
    "\n",
    "Open a new Jupyter notebook and answer the questions below.  If a question below only requires a text response, just use a \"markup\" cell.  Include the problem statements below in your notebook. Use the [assignments link](https://canvas.vt.edu/courses/127967/assignments) in Canvas to upload a pdf version of your notebook.   \n",
    "\n",
    "1.  You learned that the two main types of data sequences in Python are the list and the tuple.  Explain in 3 sentences or less what the difference is between the two.  We will mainly use the \"list.\"  When might you want to use the tuple instead?  \n",
    "\n",
    "2.  Which of the following is an example of a list: a. (1,2,3,4,5),  b. [1,2,3,4,5], c. {1,2,3,4,5}, or d. <1,2,3,4,5> ?\n",
    "\n",
    "3.  Find the square root of 83.\n",
    "\n",
    "4.  Find a random integer between 10 and 50.  \n",
    "\n",
    "5.  Write a function that takes a numeric value (x) and returns 0 if x is less than 0, returns x if x is between 0 and 1, returns 1 if x is greater than 1.  \n",
    "\n",
    "6.  Using a For loop, multiply the sequence of numbers \"3,4,5,6,7\" by 7 and print the result of each iteration.  Your output should be 21, 28, 35, 42, 49.  \n",
    "\n",
    "7.  Write a function that takes the variables: load (in N), diameter ( in m), elastic_modulus (in GPa), and yield_strength (in MPa).  The function should return \"not elastic\" if the applied stress is greater than the yield_strength and return the strain if the applied stress is less than or equal to the yield_strength.  The strain should be calculated using Hooke's law.  Test values:  load = 5600 N, diameter = 10 mm, E = 97 GPa, and yield_strength = 150 MPa.  Answer:  strain = $7.35 \\times 10^{-4}$\n"
   ]
  },
  {
   "cell_type": "markdown",
   "metadata": {
    "tags": []
   },
   "source": [
    "### Problem 2: \n",
    "<hr style=\"height: 2.0px\"/>"
   ]
  },
  {
   "cell_type": "markdown",
   "metadata": {},
   "source": [
    "After completing \"Getting Started with Python\", take the exam and submit a copy of the certificate that you earned.  The link for the exam can be found at the bottom of the table of contents in the left panel.  "
   ]
  },
  {
   "cell_type": "markdown",
   "metadata": {
    "tags": [
     "remove-cell"
    ]
   },
   "source": [
    "<img alt=\"intro_python_startexam.png\" src=\"../images/intro_python_startexam.png\" width=250>"
   ]
  },
  {
   "cell_type": "markdown",
   "metadata": {
    "tags": [
     "remove-input"
    ]
   },
   "source": [
    ":::{image} ../images/intro_python_startexam.png\n",
    ":height: 200px\n",
    ":name: figure-example\n",
    ":::"
   ]
  }
 ],
 "metadata": {
  "jupytext": {
   "formats": "ipynb,md"
  },
  "kernelspec": {
   "display_name": "Python 3 (ipykernel)",
   "language": "python",
   "name": "python3"
  },
  "language_info": {
   "codemirror_mode": {
    "name": "ipython",
    "version": 3
   },
   "file_extension": ".py",
   "mimetype": "text/x-python",
   "name": "python",
   "nbconvert_exporter": "python",
   "pygments_lexer": "ipython3",
   "version": "3.9.12"
  }
 },
 "nbformat": 4,
 "nbformat_minor": 4
}
