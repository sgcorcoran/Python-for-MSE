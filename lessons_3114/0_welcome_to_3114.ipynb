{
 "cells": [
  {
   "cell_type": "markdown",
   "metadata": {},
   "source": [
    "# Welcome to MSE 3114\n",
    "\n",
    "<hr style=\"height: 3.0px\"/>"
   ]
  },
  {
   "cell_type": "markdown",
   "metadata": {},
   "source": [
    "Welcome back!  I hope you had some time to play around with Python over the summer.  If not, you will probably feel like you are starting all over again.  If that is the case, please take a look at  [Getting Started with Python](https://www.linkedin.com/learning/python-quick-start) for a refresher.  Your cheat sheet notebooks should also help you. Hopefully you still have one from MSE 2114 (the prerequisite to this course).   \n",
    "\n",
    "```{tableofcontents}\n",
    "```"
   ]
  },
  {
   "cell_type": "markdown",
   "metadata": {},
   "source": [
    ":::{important}\n",
    "1. Make sure your homework is formatted nicely using markdown cells and different headers as appropriate.  Use the lesson files as an example of this.  \n",
    "2. When using variable names in your homework make sure they make sense.  This means you will often have to change them from the names used in lesson examples.  For example, if the lesson import stress data from an excel file and uses the variable \"stress\" or $\\sigma$ but your homework requires you to import time data change this variable to \"time\" or \"t\" etc.  \n",
    "3. All unnecessary code and outputs should be removed before the homework is turned in.  \n",
    "4. Recall when working through a lesson, you should try changing parameters to see what the code is doing.  Don't treat the example codes I use as a black box.  You are expected to know what every line is doing.  \n",
    "5. If you cut and paste code from the lesson, but don't change variable names or remove unnecessary lines / procedures I will take off points.  Sorry.\n",
    ":::"
   ]
  },
  {
   "cell_type": "code",
   "execution_count": null,
   "metadata": {},
   "outputs": [],
   "source": []
  }
 ],
 "metadata": {
  "celltoolbar": "Edit Metadata",
  "kernelspec": {
   "display_name": "Python 3 (ipykernel)",
   "language": "python",
   "name": "python3"
  },
  "language_info": {
   "codemirror_mode": {
    "name": "ipython",
    "version": 3
   },
   "file_extension": ".py",
   "mimetype": "text/x-python",
   "name": "python",
   "nbconvert_exporter": "python",
   "pygments_lexer": "ipython3",
   "version": "3.9.12"
  }
 },
 "nbformat": 4,
 "nbformat_minor": 4
}
