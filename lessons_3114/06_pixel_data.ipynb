{
 "cells": [
  {
   "cell_type": "code",
   "execution_count": null,
   "id": "11f845ca-ae1d-4f84-8a49-27e2ad83b063",
   "metadata": {},
   "outputs": [],
   "source": []
  },
  {
   "cell_type": "code",
   "execution_count": 10,
   "id": "e0f69f49-702b-43d9-b771-9c0ff2f1f374",
   "metadata": {
    "tags": [
     "remove-cell"
    ]
   },
   "outputs": [],
   "source": [
    "# uncomment below to test code without selecting your own points\n",
    "# pos=[[97.53271352771536, 716.9389926874768],\n",
    "#  [31.26412199934971, 90.22745566207607],\n",
    "#  [192.20212999680916, 37.212582439383596],\n",
    "#  [387.2211279231423, 65.61340738011177],\n",
    "#  [633.3616107427861, 59.93324239196613],\n",
    "#  [705.3103672592973, 292.8200069059368],\n",
    "#  [873.8219285742842, 484.05222817350614],\n",
    "#  [915.4764718206854, 514.3464414436162],\n",
    "#  [1042.333489889271, 826.7555157916255],\n",
    "#  [1106.708693088255, 828.6489041210074]]"
   ]
  },
  {
   "cell_type": "code",
   "execution_count": 15,
   "id": "e44bcbd4-5b74-442f-bbbf-a5397180026d",
   "metadata": {
    "tags": [
     "remove-cell"
    ]
   },
   "outputs": [],
   "source": [
    "# uncomment below to test code without selecting your own points\n",
    "# pos=[[29.630662779471038, 88.75061150009503],\n",
    "#  [168.4974442950987, 40.918720089156636],\n",
    "#  [299.6494046154137, 51.71946976259437],\n",
    "#  [631.3867160138575, 57.891326718844425],\n",
    "#  [657.6171080779206, 147.38325258447117],\n",
    "#  [531.094040474793, 153.55510954072133],\n",
    "#  [369.08279537322755, 187.5003228000969],\n",
    "#  [187.01301516384905, 267.7344632313485],\n",
    "#  [57.40401908259656, 329.45303279384973],\n",
    "#  [1041.8152036044905, 823.2015892938593],\n",
    "#  [1106.6197016451167, 824.7445535329218]]"
   ]
  }
 ],
 "metadata": {
  "kernelspec": {
   "display_name": "Python 3 (ipykernel)",
   "language": "python",
   "name": "python3"
  },
  "language_info": {
   "codemirror_mode": {
    "name": "ipython",
    "version": 3
   },
   "file_extension": ".py",
   "mimetype": "text/x-python",
   "name": "python",
   "nbconvert_exporter": "python",
   "pygments_lexer": "ipython3",
   "version": "3.9.12"
  }
 },
 "nbformat": 4,
 "nbformat_minor": 5
}
