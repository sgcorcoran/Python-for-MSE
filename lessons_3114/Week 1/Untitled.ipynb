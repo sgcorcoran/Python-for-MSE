{
 "cells": [
  {
   "cell_type": "code",
   "execution_count": 1,
   "id": "844365c2",
   "metadata": {},
   "outputs": [],
   "source": [
    "import some_doc as sc"
   ]
  },
  {
   "cell_type": "code",
   "execution_count": 2,
   "id": "824ba9d8",
   "metadata": {
    "scrolled": true
   },
   "outputs": [
    {
     "data": {
      "text/plain": [
       "array([[144.        ,  -3.49200081,  27.14048116],\n",
       "       [ -3.49200081,   4.        ,   5.76102172],\n",
       "       [ 27.14048116,   5.76102172,   9.        ]])"
      ]
     },
     "execution_count": 2,
     "metadata": {},
     "output_type": "execute_result"
    }
   ],
   "source": [
    "sc.gmatrix(12,2,3,6,7,8)"
   ]
  },
  {
   "cell_type": "code",
   "execution_count": null,
   "id": "1f4d1edf",
   "metadata": {},
   "outputs": [],
   "source": []
  }
 ],
 "metadata": {
  "kernelspec": {
   "display_name": "Python 3",
   "language": "python",
   "name": "python3"
  },
  "language_info": {
   "codemirror_mode": {
    "name": "ipython",
    "version": 3
   },
   "file_extension": ".py",
   "mimetype": "text/x-python",
   "name": "python",
   "nbconvert_exporter": "python",
   "pygments_lexer": "ipython3",
   "version": "3.8.8"
  }
 },
 "nbformat": 4,
 "nbformat_minor": 5
}
