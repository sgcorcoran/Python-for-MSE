{
 "cells": [
  {
   "cell_type": "markdown",
   "id": "559d5018-850d-4a6d-8a69-2acaba0ed7f8",
   "metadata": {},
   "source": [
    "# Prepare for MSE 3114 next semester!"
   ]
  },
  {
   "cell_type": "markdown",
   "id": "a535b574-3f2d-4c90-9c63-fbb6d6300925",
   "metadata": {
    "tags": []
   },
   "source": [
    ":::{admonition} Learning Objectives  \n",
    "* Be able to use python next semester in MSE 3114 with minimal startup time. \n",
    ":::"
   ]
  },
  {
   "cell_type": "markdown",
   "id": "50bfc6be-4d53-4061-9615-e5b2c88a81af",
   "metadata": {},
   "source": [
    "## Lesson"
   ]
  },
  {
   "cell_type": "markdown",
   "id": "98fd888e-405b-4485-9041-7baff3ad2989",
   "metadata": {},
   "source": [
    "Having a good cheatsheet is particularly important to your continual use of python and will be especially appreciated as you work through MSE 3114 next semester.  At a minimum I would make sure your cheatsheet includes the topics listed below.  I would heavily use markdown cells and section / subsection text to organize your cheatsheet.   "
   ]
  },
  {
   "cell_type": "markdown",
   "id": "cf735092-3c93-4ade-8125-7bd9a84f9442",
   "metadata": {},
   "source": [
    "* run jupyter and open a notebook\n",
    "* use markdown cells for (see chapter 2)  \n",
    "    1. commenting  \n",
    "    2. formatting equations (see chap 6.17)  \n",
    "    3. displaying images or screen clips  \n",
    "* be able to write functions\n",
    "* be able to write basic loops: if elif else for (see chapter 1.6)\n",
    "* use list comprehensions to perform repeating tasks; generating a list of results (see chap 1.7)\n",
    "* convert lists to numpy arrays\n",
    "* be able to read csv and excel files from both a path in your own directory and directly from google drive given the file id\n",
    "* be able to take a dataframe and clean up the data:  \n",
    "    1. find the column types i.e. object, float, integer, etc. \n",
    "    2. convert a column of type object that contains numbers (and missing data) to numeric\n",
    "    3. drop columns that contain no values\n",
    "    4. drop rows that are missing at least one column entry\n",
    "* be able to create new columns based on existing columns\n",
    "* be able to rename column headers\n",
    "* be able to slice a dataframe to take multiple columns and/or rows e.g. iloc[] and loc[]\n",
    "* be able to select rows in a dataframe based on conditionals (see chap 9.3.1)\n",
    "* be able to plot data from the dataframe\n",
    "* use groupby() on a dataframe along with .mean(), .count(), .sum(), etc\n",
    "* be able to fit data using curve_fit from scipy.optimize (see chapter 3.5)\n",
    "* know when to use linspace() vs geomspace()\n",
    "* plotting data using matplotlib.pyplot\n",
    "    1. scatter plots\n",
    "    2. add text annotations\n",
    "    3. add vertical and horizontal lines\n",
    "    4. change symbol type and color\n",
    "    5. change line type and color\n",
    "    6. add axis labels and plot title\n",
    "    7. use equation formatting and greek letters in axis labels (see chap 5.1)\n",
    "* using advanced layouts for multiple plot"
   ]
  },
  {
   "cell_type": "markdown",
   "id": "e247c487-4c34-497e-83ef-e623280be00b",
   "metadata": {},
   "source": [
    "## Exercises"
   ]
  },
  {
   "cell_type": "markdown",
   "id": "d573dbbf-b194-4886-be6e-d6d38c52c34a",
   "metadata": {},
   "source": [
    "### Problem 1"
   ]
  },
  {
   "cell_type": "markdown",
   "id": "08e70205-55d3-41c9-a8de-f5255e4a6638",
   "metadata": {
    "tags": []
   },
   "source": [
    "Work on updating your cheatsheets.  Keep in mind what you are most likely to forget by next semester and make yourself a note in the cheatsheet.  Keep in mind the topics I outlined above.  Include those you will most likely forget how to do. Flip through the online text to remind yourself of topics and examples that you may need in 3114.  \n",
    "  \n",
    "(1) Turn in your cheatsheet. "
   ]
  }
 ],
 "metadata": {
  "kernelspec": {
   "display_name": "Python 3 (ipykernel)",
   "language": "python",
   "name": "python3"
  },
  "language_info": {
   "codemirror_mode": {
    "name": "ipython",
    "version": 3
   },
   "file_extension": ".py",
   "mimetype": "text/x-python",
   "name": "python",
   "nbconvert_exporter": "python",
   "pygments_lexer": "ipython3",
   "version": "3.10.9"
  },
  "widgets": {
   "application/vnd.jupyter.widget-state+json": {
    "state": {},
    "version_major": 2,
    "version_minor": 0
   }
  }
 },
 "nbformat": 4,
 "nbformat_minor": 5
}
