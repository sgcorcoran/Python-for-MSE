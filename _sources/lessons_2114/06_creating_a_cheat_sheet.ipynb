{
 "cells": [
  {
   "cell_type": "markdown",
   "id": "dbff2c7d-1d85-4cd9-a1d8-8c0bb0590080",
   "metadata": {},
   "source": [
    "# Creating a \"Cheat Sheet\""
   ]
  },
  {
   "cell_type": "markdown",
   "id": "6bc3618b-f7b1-4e81-bf72-9676023da34b",
   "metadata": {
    "tags": []
   },
   "source": [
    ":::{admonition} Learning Objectives  \n",
    "Be able to:\n",
    "* create your own cheatsheet of commands and functions\n",
    "\n",
    ":::"
   ]
  },
  {
   "cell_type": "markdown",
   "id": "dense-proxy",
   "metadata": {},
   "source": [
    "We have covered a lot of ground over that past few weeks.  One of the methods I use to help me learn python is to keep a \"cheat sheet\" of useful commands that I know I will need but may forget later.  Think about what it will be like not using python for an entire summer and then starting up again in the Fall.  You may want to keep yourself notes to help you start up again.  Below I've collected various pieces of code that we have used so far to get you started..."
   ]
  },
  {
   "cell_type": "markdown",
   "id": "3625c996-83c5-46af-8e1f-61ee501b8736",
   "metadata": {},
   "source": [
    ":::{note}  \n",
    "If you use Jupyter Lab, there is table of contents that is created automatically for an open notebook.  This is quite handy.  It uses the header styles \\#, \\#\\#, etc for the outline.  \n",
    ":::"
   ]
  },
  {
   "cell_type": "markdown",
   "id": "authentic-participant",
   "metadata": {},
   "source": [
    "---"
   ]
  },
  {
   "cell_type": "markdown",
   "id": "social-industry",
   "metadata": {},
   "source": [
    "## My Cheat Sheet"
   ]
  },
  {
   "cell_type": "markdown",
   "id": "existing-nitrogen",
   "metadata": {},
   "source": [
    "### import statements"
   ]
  },
  {
   "cell_type": "code",
   "execution_count": 1,
   "id": "boolean-offer",
   "metadata": {},
   "outputs": [],
   "source": [
    "import numpy as np\n",
    "import pandas as pd\n",
    "import matplotlib.pyplot as plt\n",
    "import matplotlib\n",
    "from pathlib import Path"
   ]
  },
  {
   "cell_type": "markdown",
   "id": "threaded-shock",
   "metadata": {},
   "source": [
    "### taking parts of lists, arrays, and dataframes"
   ]
  },
  {
   "cell_type": "markdown",
   "id": "993623fc-55a2-4717-b01c-16c46a85d033",
   "metadata": {},
   "source": [
    ":::{index} np.array, array, pd.DataFrame, DataFrame\n",
    ":::"
   ]
  },
  {
   "cell_type": "markdown",
   "id": "japanese-appraisal",
   "metadata": {},
   "source": [
    "There are different methods used to slice python lists vs numpy arrays vs pandas dataframes"
   ]
  },
  {
   "cell_type": "code",
   "execution_count": 33,
   "id": "amateur-reverse",
   "metadata": {},
   "outputs": [
    {
     "name": "stdout",
     "output_type": "stream",
     "text": [
      "These are python lists: \n"
     ]
    },
    {
     "data": {
      "text/plain": [
       "['red', 'blue', 'green', 'taupe']"
      ]
     },
     "metadata": {},
     "output_type": "display_data"
    },
    {
     "data": {
      "text/plain": [
       "[['red', 'blue', 'green', 'taupe'], ['dog', 'cat', 'mouse', 'aardvark']]"
      ]
     },
     "metadata": {},
     "output_type": "display_data"
    },
    {
     "name": "stdout",
     "output_type": "stream",
     "text": [
      "\n",
      "These are numpy arrays: \n"
     ]
    },
    {
     "data": {
      "text/plain": [
       "array(['red', 'blue', 'green', 'taupe'], dtype='<U5')"
      ]
     },
     "metadata": {},
     "output_type": "display_data"
    },
    {
     "data": {
      "text/plain": [
       "array([['red', 'blue', 'green', 'taupe'],\n",
       "       ['dog', 'cat', 'mouse', 'aardvark']], dtype='<U8')"
      ]
     },
     "metadata": {},
     "output_type": "display_data"
    },
    {
     "name": "stdout",
     "output_type": "stream",
     "text": [
      "\n",
      "This is a pandas dataframe: \n"
     ]
    },
    {
     "data": {
      "text/html": [
       "<div>\n",
       "<style scoped>\n",
       "    .dataframe tbody tr th:only-of-type {\n",
       "        vertical-align: middle;\n",
       "    }\n",
       "\n",
       "    .dataframe tbody tr th {\n",
       "        vertical-align: top;\n",
       "    }\n",
       "\n",
       "    .dataframe thead th {\n",
       "        text-align: right;\n",
       "    }\n",
       "</style>\n",
       "<table border=\"1\" class=\"dataframe\">\n",
       "  <thead>\n",
       "    <tr style=\"text-align: right;\">\n",
       "      <th></th>\n",
       "      <th>col1</th>\n",
       "      <th>col2</th>\n",
       "      <th>col3</th>\n",
       "      <th>col4</th>\n",
       "    </tr>\n",
       "  </thead>\n",
       "  <tbody>\n",
       "    <tr>\n",
       "      <th>row1</th>\n",
       "      <td>red</td>\n",
       "      <td>blue</td>\n",
       "      <td>green</td>\n",
       "      <td>taupe</td>\n",
       "    </tr>\n",
       "    <tr>\n",
       "      <th>row2</th>\n",
       "      <td>dog</td>\n",
       "      <td>cat</td>\n",
       "      <td>mouse</td>\n",
       "      <td>aardvark</td>\n",
       "    </tr>\n",
       "  </tbody>\n",
       "</table>\n",
       "</div>"
      ],
      "text/plain": [
       "     col1  col2   col3      col4\n",
       "row1  red  blue  green     taupe\n",
       "row2  dog   cat  mouse  aardvark"
      ]
     },
     "metadata": {},
     "output_type": "display_data"
    }
   ],
   "source": [
    "# defining some lists, arrays and a dataframe\n",
    "python_list=['red', 'blue','green','taupe']\n",
    "numpy_array=np.array(['red', 'blue','green','taupe'])\n",
    "list_2d=[['red', 'blue','green','taupe'],['dog','cat','mouse','aardvark']]\n",
    "numpy_array_2d=np.array([['red', 'blue','green','taupe'],['dog','cat','mouse','aardvark']])\n",
    "pandas_df=pd.DataFrame([['red', 'blue','green','taupe'],['dog','cat','mouse','aardvark']], columns=('col1','col2','col3','col4'), index=('row1','row2'))\n",
    "\n",
    "print('These are python lists: ')\n",
    "display(python_list)\n",
    "display(list_2d)\n",
    "\n",
    "print('\\nThese are numpy arrays: ')\n",
    "display(numpy_array)\n",
    "display(numpy_array_2d)\n",
    "\n",
    "print(f'\\nThis is a pandas dataframe: ')\n",
    "display(pandas_df)"
   ]
  },
  {
   "cell_type": "markdown",
   "id": "03cc27e9-bd7c-4f06-beb3-b427891879bd",
   "metadata": {},
   "source": [
    "#### python lists"
   ]
  },
  {
   "cell_type": "markdown",
   "id": "3e8f6ee5-ce9b-4cc3-a48c-cbbe118e6f62",
   "metadata": {},
   "source": [
    "We can use square brackets to take parts of a list but there is no simple way of taking more sophisticated parts such as the 2nd value in every row without writing a loop or list comprehension.  "
   ]
  },
  {
   "cell_type": "code",
   "execution_count": 50,
   "id": "lonely-arena",
   "metadata": {
    "tags": []
   },
   "outputs": [
    {
     "name": "stdout",
     "output_type": "stream",
     "text": [
      "red\n",
      "['blue', 'green', 'taupe']\n",
      "['red', 'blue', 'green', 'taupe']\n",
      "green\n"
     ]
    },
    {
     "data": {
      "text/plain": [
       "['blue', 'cat']"
      ]
     },
     "execution_count": 50,
     "metadata": {},
     "output_type": "execute_result"
    }
   ],
   "source": [
    "# slice list\n",
    "print(list[0]) # remember indices start at zero so this gives 'red'\n",
    "print(list[1:4]) # gives indice 1,2,3  or item 2,3,4 since we count from zero \n",
    "print(list_2d[0]) # 1st row\n",
    "\n",
    "# for nested lists we use list[dim1][dim2] and so on\n",
    "print(list_2d[0][2]) # 1st row and 3 column\n",
    "\n",
    "# 2nd value in every row\n",
    "[list_2d[i][1] for i in [0,1]]  #if this was an array we could write list_2d[:,2]"
   ]
  },
  {
   "cell_type": "markdown",
   "id": "a24c7c3c-15f3-40e1-a986-a534b068007c",
   "metadata": {},
   "source": [
    "#### numpy arrays"
   ]
  },
  {
   "cell_type": "code",
   "execution_count": 53,
   "id": "d167e1ba-62ab-467c-81ce-0e0e18ce1562",
   "metadata": {},
   "outputs": [
    {
     "data": {
      "text/plain": [
       "array([['red', 'blue', 'green', 'taupe'],\n",
       "       ['dog', 'cat', 'mouse', 'aardvark']], dtype='<U8')"
      ]
     },
     "execution_count": 53,
     "metadata": {},
     "output_type": "execute_result"
    }
   ],
   "source": [
    "numpy_array_2d"
   ]
  },
  {
   "cell_type": "code",
   "execution_count": 60,
   "id": "legitimate-kennedy",
   "metadata": {},
   "outputs": [
    {
     "name": "stdout",
     "output_type": "stream",
     "text": [
      "['red' 'blue' 'green' 'taupe']\n",
      "red\n",
      "green\n",
      "['blue' 'cat']\n",
      "['blue' 'green']\n",
      "['green' 'taupe']\n"
     ]
    }
   ],
   "source": [
    "# slice numpy array\n",
    "print(numpy_array)\n",
    "print(numpy_array[0]) # still starts counting from zero like list\n",
    "print(numpy_array_2d[0,2]) # now we can combine row,column in one set of braces\n",
    "# or for a range use \":\"\n",
    "print(numpy_array_2d[0:2,1])\n",
    "print(numpy_array_2d[0,1:3])\n",
    "# can even use True and False for each [row, column]\n",
    "print(numpy_array_2d[[True, False],[False, False, True, True]])"
   ]
  },
  {
   "cell_type": "markdown",
   "id": "cfc34668-5adb-410f-9f06-d218aa1d4a13",
   "metadata": {},
   "source": [
    "#### pandas dataframe"
   ]
  },
  {
   "cell_type": "code",
   "execution_count": 62,
   "id": "offshore-myanmar",
   "metadata": {},
   "outputs": [
    {
     "data": {
      "text/html": [
       "<div>\n",
       "<style scoped>\n",
       "    .dataframe tbody tr th:only-of-type {\n",
       "        vertical-align: middle;\n",
       "    }\n",
       "\n",
       "    .dataframe tbody tr th {\n",
       "        vertical-align: top;\n",
       "    }\n",
       "\n",
       "    .dataframe thead th {\n",
       "        text-align: right;\n",
       "    }\n",
       "</style>\n",
       "<table border=\"1\" class=\"dataframe\">\n",
       "  <thead>\n",
       "    <tr style=\"text-align: right;\">\n",
       "      <th></th>\n",
       "      <th>col3</th>\n",
       "    </tr>\n",
       "  </thead>\n",
       "  <tbody>\n",
       "    <tr>\n",
       "      <th>row1</th>\n",
       "      <td>green</td>\n",
       "    </tr>\n",
       "    <tr>\n",
       "      <th>row2</th>\n",
       "      <td>mouse</td>\n",
       "    </tr>\n",
       "  </tbody>\n",
       "</table>\n",
       "</div>"
      ],
      "text/plain": [
       "       col3\n",
       "row1  green\n",
       "row2  mouse"
      ]
     },
     "metadata": {},
     "output_type": "display_data"
    },
    {
     "data": {
      "text/html": [
       "<div>\n",
       "<style scoped>\n",
       "    .dataframe tbody tr th:only-of-type {\n",
       "        vertical-align: middle;\n",
       "    }\n",
       "\n",
       "    .dataframe tbody tr th {\n",
       "        vertical-align: top;\n",
       "    }\n",
       "\n",
       "    .dataframe thead th {\n",
       "        text-align: right;\n",
       "    }\n",
       "</style>\n",
       "<table border=\"1\" class=\"dataframe\">\n",
       "  <thead>\n",
       "    <tr style=\"text-align: right;\">\n",
       "      <th></th>\n",
       "      <th>col2</th>\n",
       "      <th>col4</th>\n",
       "    </tr>\n",
       "  </thead>\n",
       "  <tbody>\n",
       "    <tr>\n",
       "      <th>row1</th>\n",
       "      <td>blue</td>\n",
       "      <td>taupe</td>\n",
       "    </tr>\n",
       "    <tr>\n",
       "      <th>row2</th>\n",
       "      <td>cat</td>\n",
       "      <td>aardvark</td>\n",
       "    </tr>\n",
       "  </tbody>\n",
       "</table>\n",
       "</div>"
      ],
      "text/plain": [
       "      col2      col4\n",
       "row1  blue     taupe\n",
       "row2   cat  aardvark"
      ]
     },
     "metadata": {},
     "output_type": "display_data"
    }
   ],
   "source": [
    "# pandas dataframe to select a column use the columns name\n",
    "display(pandas_df[['col3']])\n",
    "\n",
    "# or for multiple columns\n",
    "display(pandas_df[['col2', 'col4']])\n"
   ]
  },
  {
   "cell_type": "markdown",
   "id": "a9d10bdd-2d84-42b2-ae0f-53cc114f278a",
   "metadata": {},
   "source": [
    ":::{index} loc[], pandas dataframe slicing\n",
    ":::"
   ]
  },
  {
   "cell_type": "code",
   "execution_count": 64,
   "id": "durable-statistics",
   "metadata": {},
   "outputs": [
    {
     "data": {
      "text/html": [
       "<div>\n",
       "<style scoped>\n",
       "    .dataframe tbody tr th:only-of-type {\n",
       "        vertical-align: middle;\n",
       "    }\n",
       "\n",
       "    .dataframe tbody tr th {\n",
       "        vertical-align: top;\n",
       "    }\n",
       "\n",
       "    .dataframe thead th {\n",
       "        text-align: right;\n",
       "    }\n",
       "</style>\n",
       "<table border=\"1\" class=\"dataframe\">\n",
       "  <thead>\n",
       "    <tr style=\"text-align: right;\">\n",
       "      <th></th>\n",
       "      <th>col1</th>\n",
       "      <th>col2</th>\n",
       "      <th>col3</th>\n",
       "      <th>col4</th>\n",
       "    </tr>\n",
       "  </thead>\n",
       "  <tbody>\n",
       "    <tr>\n",
       "      <th>row1</th>\n",
       "      <td>red</td>\n",
       "      <td>blue</td>\n",
       "      <td>green</td>\n",
       "      <td>taupe</td>\n",
       "    </tr>\n",
       "    <tr>\n",
       "      <th>row2</th>\n",
       "      <td>dog</td>\n",
       "      <td>cat</td>\n",
       "      <td>mouse</td>\n",
       "      <td>aardvark</td>\n",
       "    </tr>\n",
       "  </tbody>\n",
       "</table>\n",
       "</div>"
      ],
      "text/plain": [
       "     col1  col2   col3      col4\n",
       "row1  red  blue  green     taupe\n",
       "row2  dog   cat  mouse  aardvark"
      ]
     },
     "metadata": {},
     "output_type": "display_data"
    },
    {
     "data": {
      "text/plain": [
       "'cat'"
      ]
     },
     "metadata": {},
     "output_type": "display_data"
    },
    {
     "data": {
      "text/plain": [
       "col1      dog\n",
       "col3    mouse\n",
       "Name: row2, dtype: object"
      ]
     },
     "metadata": {},
     "output_type": "display_data"
    },
    {
     "data": {
      "text/html": [
       "<div>\n",
       "<style scoped>\n",
       "    .dataframe tbody tr th:only-of-type {\n",
       "        vertical-align: middle;\n",
       "    }\n",
       "\n",
       "    .dataframe tbody tr th {\n",
       "        vertical-align: top;\n",
       "    }\n",
       "\n",
       "    .dataframe thead th {\n",
       "        text-align: right;\n",
       "    }\n",
       "</style>\n",
       "<table border=\"1\" class=\"dataframe\">\n",
       "  <thead>\n",
       "    <tr style=\"text-align: right;\">\n",
       "      <th></th>\n",
       "      <th>col1</th>\n",
       "      <th>col4</th>\n",
       "    </tr>\n",
       "  </thead>\n",
       "  <tbody>\n",
       "    <tr>\n",
       "      <th>row1</th>\n",
       "      <td>red</td>\n",
       "      <td>taupe</td>\n",
       "    </tr>\n",
       "    <tr>\n",
       "      <th>row2</th>\n",
       "      <td>dog</td>\n",
       "      <td>aardvark</td>\n",
       "    </tr>\n",
       "  </tbody>\n",
       "</table>\n",
       "</div>"
      ],
      "text/plain": [
       "     col1      col4\n",
       "row1  red     taupe\n",
       "row2  dog  aardvark"
      ]
     },
     "metadata": {},
     "output_type": "display_data"
    },
    {
     "data": {
      "text/html": [
       "<div>\n",
       "<style scoped>\n",
       "    .dataframe tbody tr th:only-of-type {\n",
       "        vertical-align: middle;\n",
       "    }\n",
       "\n",
       "    .dataframe tbody tr th {\n",
       "        vertical-align: top;\n",
       "    }\n",
       "\n",
       "    .dataframe thead th {\n",
       "        text-align: right;\n",
       "    }\n",
       "</style>\n",
       "<table border=\"1\" class=\"dataframe\">\n",
       "  <thead>\n",
       "    <tr style=\"text-align: right;\">\n",
       "      <th></th>\n",
       "      <th>col2</th>\n",
       "      <th>col3</th>\n",
       "      <th>col4</th>\n",
       "    </tr>\n",
       "  </thead>\n",
       "  <tbody>\n",
       "    <tr>\n",
       "      <th>row1</th>\n",
       "      <td>blue</td>\n",
       "      <td>green</td>\n",
       "      <td>taupe</td>\n",
       "    </tr>\n",
       "    <tr>\n",
       "      <th>row2</th>\n",
       "      <td>cat</td>\n",
       "      <td>mouse</td>\n",
       "      <td>aardvark</td>\n",
       "    </tr>\n",
       "  </tbody>\n",
       "</table>\n",
       "</div>"
      ],
      "text/plain": [
       "      col2   col3      col4\n",
       "row1  blue  green     taupe\n",
       "row2   cat  mouse  aardvark"
      ]
     },
     "metadata": {},
     "output_type": "display_data"
    },
    {
     "data": {
      "text/html": [
       "<div>\n",
       "<style scoped>\n",
       "    .dataframe tbody tr th:only-of-type {\n",
       "        vertical-align: middle;\n",
       "    }\n",
       "\n",
       "    .dataframe tbody tr th {\n",
       "        vertical-align: top;\n",
       "    }\n",
       "\n",
       "    .dataframe thead th {\n",
       "        text-align: right;\n",
       "    }\n",
       "</style>\n",
       "<table border=\"1\" class=\"dataframe\">\n",
       "  <thead>\n",
       "    <tr style=\"text-align: right;\">\n",
       "      <th></th>\n",
       "      <th>col1</th>\n",
       "      <th>col2</th>\n",
       "      <th>col3</th>\n",
       "      <th>col4</th>\n",
       "    </tr>\n",
       "  </thead>\n",
       "  <tbody>\n",
       "    <tr>\n",
       "      <th>row1</th>\n",
       "      <td>red</td>\n",
       "      <td>blue</td>\n",
       "      <td>green</td>\n",
       "      <td>taupe</td>\n",
       "    </tr>\n",
       "    <tr>\n",
       "      <th>row2</th>\n",
       "      <td>dog</td>\n",
       "      <td>cat</td>\n",
       "      <td>mouse</td>\n",
       "      <td>aardvark</td>\n",
       "    </tr>\n",
       "  </tbody>\n",
       "</table>\n",
       "</div>"
      ],
      "text/plain": [
       "     col1  col2   col3      col4\n",
       "row1  red  blue  green     taupe\n",
       "row2  dog   cat  mouse  aardvark"
      ]
     },
     "metadata": {},
     "output_type": "display_data"
    }
   ],
   "source": [
    "# pandas dataframe use .loc to slice by [row index,column names]\n",
    "display(pandas_df)\n",
    "display(pandas_df.loc['row2','col2'])\n",
    "display(pandas_df.loc['row2',['col1', 'col3']]) # give list of names for multiple columns or rows\n",
    "display(pandas_df.loc[['row1','row2'],['col1', 'col4']])\n",
    "display(pandas_df.loc[['row1','row2'],'col2':'col4']) #can also use \":\" for a range or rows or columns\n",
    "display(pandas_df.loc[['row1','row2'],:]) # \":\" by itself means all.  in this case all columns"
   ]
  },
  {
   "cell_type": "code",
   "execution_count": 62,
   "id": "charged-protocol",
   "metadata": {},
   "outputs": [
    {
     "data": {
      "text/plain": [
       "row1    False\n",
       "row2     True\n",
       "Name: col2, dtype: bool"
      ]
     },
     "metadata": {},
     "output_type": "display_data"
    },
    {
     "data": {
      "text/html": [
       "<div>\n",
       "<style scoped>\n",
       "    .dataframe tbody tr th:only-of-type {\n",
       "        vertical-align: middle;\n",
       "    }\n",
       "\n",
       "    .dataframe tbody tr th {\n",
       "        vertical-align: top;\n",
       "    }\n",
       "\n",
       "    .dataframe thead th {\n",
       "        text-align: right;\n",
       "    }\n",
       "</style>\n",
       "<table border=\"1\" class=\"dataframe\">\n",
       "  <thead>\n",
       "    <tr style=\"text-align: right;\">\n",
       "      <th></th>\n",
       "      <th>col1</th>\n",
       "      <th>col2</th>\n",
       "      <th>col3</th>\n",
       "      <th>col4</th>\n",
       "    </tr>\n",
       "  </thead>\n",
       "  <tbody>\n",
       "    <tr>\n",
       "      <th>row2</th>\n",
       "      <td>dog</td>\n",
       "      <td>cat</td>\n",
       "      <td>mouse</td>\n",
       "      <td>aardvark</td>\n",
       "    </tr>\n",
       "  </tbody>\n",
       "</table>\n",
       "</div>"
      ],
      "text/plain": [
       "     col1 col2   col3      col4\n",
       "row2  dog  cat  mouse  aardvark"
      ]
     },
     "execution_count": 62,
     "metadata": {},
     "output_type": "execute_result"
    }
   ],
   "source": [
    "# to test pandas rows for a value of a specific column\n",
    "display(pandas_df['col2']=='cat')\n",
    "# then pass this to dataframe to get the row that passed the test\n",
    "pandas_df[pandas_df['col2']=='cat']"
   ]
  },
  {
   "cell_type": "code",
   "execution_count": 67,
   "id": "tight-necessity",
   "metadata": {},
   "outputs": [
    {
     "data": {
      "text/html": [
       "<div>\n",
       "<style scoped>\n",
       "    .dataframe tbody tr th:only-of-type {\n",
       "        vertical-align: middle;\n",
       "    }\n",
       "\n",
       "    .dataframe tbody tr th {\n",
       "        vertical-align: top;\n",
       "    }\n",
       "\n",
       "    .dataframe thead th {\n",
       "        text-align: right;\n",
       "    }\n",
       "</style>\n",
       "<table border=\"1\" class=\"dataframe\">\n",
       "  <thead>\n",
       "    <tr style=\"text-align: right;\">\n",
       "      <th></th>\n",
       "      <th>col1</th>\n",
       "      <th>col2</th>\n",
       "      <th>col3</th>\n",
       "      <th>col4</th>\n",
       "    </tr>\n",
       "  </thead>\n",
       "  <tbody>\n",
       "    <tr>\n",
       "      <th>row1</th>\n",
       "      <td>red</td>\n",
       "      <td>blue</td>\n",
       "      <td>green</td>\n",
       "      <td>taupe</td>\n",
       "    </tr>\n",
       "    <tr>\n",
       "      <th>row2</th>\n",
       "      <td>dog</td>\n",
       "      <td>cat</td>\n",
       "      <td>mouse</td>\n",
       "      <td>aardvark</td>\n",
       "    </tr>\n",
       "  </tbody>\n",
       "</table>\n",
       "</div>"
      ],
      "text/plain": [
       "     col1  col2   col3      col4\n",
       "row1  red  blue  green     taupe\n",
       "row2  dog   cat  mouse  aardvark"
      ]
     },
     "execution_count": 67,
     "metadata": {},
     "output_type": "execute_result"
    }
   ],
   "source": [
    "# for multiple tests separate by () and use & for 'and' or | for 'or'\n",
    "test1=pandas_df['col2']=='cat'\n",
    "test2=pandas_df['col4']=='taupe'\n",
    "test=test1 | test2  # find all rows that contain the work 'cat' or 'taupe'\n",
    "# then pass this to dataframe to get the row that passed the test\n",
    "pandas_df[test]"
   ]
  },
  {
   "cell_type": "markdown",
   "id": "acquired-camping",
   "metadata": {},
   "source": [
    "### writing your own functions"
   ]
  },
  {
   "cell_type": "markdown",
   "id": "broad-accuracy",
   "metadata": {},
   "source": [
    "Basic format:  \n",
    "\n",
    "```python\n",
    "def function_name(variable_1, variable_2, etc):\n",
    "    statement_1\n",
    "    statement_2\n",
    "    return variable #or print() statement\n",
    "```"
   ]
  },
  {
   "cell_type": "code",
   "execution_count": 11,
   "id": "devoted-generic",
   "metadata": {},
   "outputs": [],
   "source": [
    "# some examples \n",
    "\n",
    "def isdiv3(x):\n",
    "    if np.mod(x,3)==0:  #the mod function gives the remainder after dividing x/3\n",
    "        print(f\"Yes, {x} is divisible by 3\")\n",
    "    else:\n",
    "        print(f'No, {x} is not divisible by 3')\n",
    "        \n",
    "def ln(x):\n",
    "    return np.log(x)\n",
    "    \n",
    "def log(x):\n",
    "    return np.log10(x)"
   ]
  },
  {
   "cell_type": "code",
   "execution_count": 12,
   "id": "discrete-undergraduate",
   "metadata": {},
   "outputs": [
    {
     "name": "stdout",
     "output_type": "stream",
     "text": [
      "Yes, 12 is divisible by 3\n"
     ]
    }
   ],
   "source": [
    "# example use\n",
    "isdiv3(12)"
   ]
  },
  {
   "cell_type": "markdown",
   "id": "collectible-literacy",
   "metadata": {},
   "source": [
    "### arrays, testing, conditionals"
   ]
  },
  {
   "cell_type": "code",
   "execution_count": 2,
   "id": "freelance-mention",
   "metadata": {},
   "outputs": [
    {
     "data": {
      "text/plain": [
       "array([0.84974581, 0.8875687 , 0.01154035, 0.34606484, 0.72343324,\n",
       "       0.54798744, 0.89626084, 0.36678692, 0.82695073, 0.38528642,\n",
       "       0.48309394, 0.17689345, 0.66077508, 0.17767132, 0.6983905 ,\n",
       "       0.94707871, 0.09315554, 0.89162452, 0.13314569, 0.84237125])"
      ]
     },
     "execution_count": 2,
     "metadata": {},
     "output_type": "execute_result"
    }
   ],
   "source": [
    "import numpy as np\n",
    "ran_num=np.random.random(20) #20 random pts from 0 to 1\n",
    "ran_num"
   ]
  },
  {
   "cell_type": "code",
   "execution_count": 10,
   "id": "painted-illness",
   "metadata": {},
   "outputs": [
    {
     "data": {
      "text/plain": [
       "array([ True, False, False,  True,  True,  True, False,  True,  True,\n",
       "        True, False,  True,  True,  True, False,  True, False,  True,\n",
       "        True,  True])"
      ]
     },
     "execution_count": 10,
     "metadata": {},
     "output_type": "execute_result"
    }
   ],
   "source": [
    "# test the above to see which are less than or equal to 0.5\n",
    "test = ran_num<=0.5\n",
    "test"
   ]
  },
  {
   "cell_type": "code",
   "execution_count": 11,
   "id": "caroline-formation",
   "metadata": {},
   "outputs": [
    {
     "data": {
      "text/plain": [
       "array([0.41667741, 0.45799714, 0.07472815, 0.05762729, 0.38728073,\n",
       "       0.44059531, 0.24126769, 0.41307754, 0.25278991, 0.34548798,\n",
       "       0.3145106 , 0.07006855, 0.3944208 , 0.37420957])"
      ]
     },
     "execution_count": 11,
     "metadata": {},
     "output_type": "execute_result"
    }
   ],
   "source": [
    "# here are the numbers that are less than 0.5\n",
    "ran_num[test]"
   ]
  },
  {
   "cell_type": "code",
   "execution_count": 12,
   "id": "french-memorial",
   "metadata": {},
   "outputs": [
    {
     "data": {
      "text/plain": [
       "14"
      ]
     },
     "execution_count": 12,
     "metadata": {},
     "output_type": "execute_result"
    }
   ],
   "source": [
    "# how many are less than 0.5 use len()\n",
    "len(ran_num[test])"
   ]
  },
  {
   "cell_type": "markdown",
   "id": "boolean-inflation",
   "metadata": {},
   "source": [
    "#### multiple testing conditions"
   ]
  },
  {
   "cell_type": "markdown",
   "id": "collectible-healthcare",
   "metadata": {},
   "source": [
    "Below:  & means \"and\" and | means \"or\".  The | character is above the \\ character. "
   ]
  },
  {
   "cell_type": "code",
   "execution_count": 7,
   "id": "technical-treat",
   "metadata": {},
   "outputs": [
    {
     "name": "stdout",
     "output_type": "stream",
     "text": [
      "using and: \n",
      "[0.34606484 0.36678692 0.38528642 0.48309394]\n",
      "using or:\n",
      "[0.84974581 0.8875687  0.01154035 0.34606484 0.72343324 0.54798744\n",
      " 0.89626084 0.36678692 0.82695073 0.38528642 0.48309394 0.17689345\n",
      " 0.66077508 0.17767132 0.6983905  0.94707871 0.09315554 0.89162452\n",
      " 0.13314569 0.84237125]\n"
     ]
    }
   ],
   "source": [
    "# for multiple condition testing\n",
    "test1 = ran_num<=0.5\n",
    "test2 = ran_num>=0.3\n",
    "print('using and: ')\n",
    "print(ran_num[test1 & test2]) \n",
    "print('using or:')\n",
    "print(ran_num[test1 | test2])"
   ]
  },
  {
   "cell_type": "markdown",
   "id": "abstract-madrid",
   "metadata": {},
   "source": [
    "### for loop, if elif else, iteration, list comprehension"
   ]
  },
  {
   "cell_type": "code",
   "execution_count": 32,
   "id": "minimal-static",
   "metadata": {},
   "outputs": [
    {
     "data": {
      "text/plain": [
       "[9, 16, 25, 36, 49]"
      ]
     },
     "execution_count": 32,
     "metadata": {},
     "output_type": "execute_result"
    }
   ],
   "source": [
    "# using for loop\n",
    "xlist=[]\n",
    "for x in [3,4,5,6,7]:\n",
    "    xlist.append(x**2)\n",
    "xlist"
   ]
  },
  {
   "cell_type": "code",
   "execution_count": 33,
   "id": "urban-banking",
   "metadata": {},
   "outputs": [
    {
     "data": {
      "text/plain": [
       "[9, 16, 25, 36, 49]"
      ]
     },
     "execution_count": 33,
     "metadata": {},
     "output_type": "execute_result"
    }
   ],
   "source": [
    "# using list comprehension\n",
    "[x**2 for x in [3,4,5,6,7]] #list comprehension style"
   ]
  },
  {
   "cell_type": "code",
   "execution_count": 39,
   "id": "digital-baker",
   "metadata": {},
   "outputs": [
    {
     "data": {
      "text/plain": [
       "array([ 9, 16, 25, 36, 49], dtype=int32)"
      ]
     },
     "execution_count": 39,
     "metadata": {},
     "output_type": "execute_result"
    }
   ],
   "source": [
    "# using numpy array\n",
    "def square(x): \n",
    "    return(x**2)\n",
    "xlist=np.array([3,4,5,6,7])\n",
    "\n",
    "square(xlist)"
   ]
  },
  {
   "cell_type": "markdown",
   "id": "033ae4e2-f7aa-41c9-815c-fa5a9ffd9069",
   "metadata": {},
   "source": [
    ":::{index} elif, if, else\n",
    ":::"
   ]
  },
  {
   "cell_type": "code",
   "execution_count": 40,
   "id": "understanding-capital",
   "metadata": {},
   "outputs": [
    {
     "data": {
      "text/plain": [
       "[0, 1.5, 0.75, 60]"
      ]
     },
     "execution_count": 40,
     "metadata": {},
     "output_type": "execute_result"
    }
   ],
   "source": [
    "def myfunc(var1, var2, var3):\n",
    "    \n",
    "    #first if, else statement avoids dividing by zero\n",
    "    if var1 ==0:\n",
    "        return(0)\n",
    "    else: ratio=var3/var1\n",
    "    \n",
    "    #second if, elif, else statement\n",
    "    if ratio < 0:\n",
    "        return(50)\n",
    "    elif ratio == 0:\n",
    "        return(1)\n",
    "    elif ratio == 0.5:\n",
    "        return(60)\n",
    "    else: return(ratio)\n",
    "    \n",
    "np.linspace(-1,4,21)\n",
    "\n",
    "[myfunc(x,3,1.5) for x in [0,1,2,3]]"
   ]
  },
  {
   "cell_type": "markdown",
   "id": "detected-money",
   "metadata": {},
   "source": [
    "### Examples of markdown language.   \n",
    "Just double click in a cell below to see the coding.  \n",
    "Shift-Enter in a markdown cell to convert the coding. "
   ]
  },
  {
   "cell_type": "markdown",
   "id": "ruled-pleasure",
   "metadata": {},
   "source": [
    "Use `#`, `##`, `###`, etc for headings"
   ]
  },
  {
   "cell_type": "markdown",
   "id": "adult-warehouse",
   "metadata": {},
   "source": [
    "**bold text**, *italic text*, `highlighted text`"
   ]
  },
  {
   "cell_type": "markdown",
   "id": "f491d51b-715b-4186-a9e4-5b207cea6d2a",
   "metadata": {},
   "source": [
    ":::{index} greek letters\n",
    ":::"
   ]
  },
  {
   "cell_type": "markdown",
   "id": "touched-parish",
   "metadata": {},
   "source": [
    "Greek letters:  $\\mu$, $\\omega$, $\\chi$, $\\nu$, $\\psi$, $\\alpha$"
   ]
  },
  {
   "cell_type": "markdown",
   "id": "partial-momentum",
   "metadata": {},
   "source": [
    "> indented text  \n",
    "> more text  \n",
    "> use 2 spaces at the end of a sentence and then Enter to separate lines"
   ]
  },
  {
   "cell_type": "markdown",
   "id": "available-strand",
   "metadata": {},
   "source": [
    "1. numbering\n",
    "* bullets"
   ]
  },
  {
   "cell_type": "markdown",
   "id": "another-questionnaire",
   "metadata": {},
   "source": [
    "### Equations: \n",
    "(use single `$` for inline and double `$$` for centered)"
   ]
  },
  {
   "cell_type": "markdown",
   "id": "loving-trunk",
   "metadata": {},
   "source": [
    "* subscript:  $x_2 = \\mu \\times \\sigma$  \n",
    "* superscript: $x^3$ \n",
    "* fraction:  $\\frac{3 x}{2}$"
   ]
  },
  {
   "cell_type": "markdown",
   "id": "structured-system",
   "metadata": {},
   "source": [
    "$$\\int_{a}^{b} \\frac{\\sqrt[4]{a x}}{x} \\text{ d}x$$\n",
    "$$\\begin{cases}a & x = 0\\\\b & x > 0\\end{cases}$$\n",
    "\n",
    "$$\\begin{bmatrix}a & b \\\\c & d \\end{bmatrix}$$\n",
    "$\\color{red}{\\sum_a^b}$,  $\\overline{ab}$,  $\\overrightarrow{ab}$"
   ]
  },
  {
   "cell_type": "markdown",
   "id": "macro-deployment",
   "metadata": {},
   "source": [
    "### formatting output, f-string, display"
   ]
  },
  {
   "cell_type": "code",
   "execution_count": 41,
   "id": "supposed-walnut",
   "metadata": {},
   "outputs": [
    {
     "name": "stdout",
     "output_type": "stream",
     "text": [
      "3.141592653589793\n",
      "or in nicer formatting:\n",
      "Pi to the fourth decimal place is: 3.1416\n"
     ]
    }
   ],
   "source": [
    "import numpy as np\n",
    "print(np.pi)\n",
    "print('or in nicer formatting:')\n",
    "print(f'Pi to the fourth decimal place is: {np.pi:0.4f}')"
   ]
  },
  {
   "cell_type": "markdown",
   "id": "perfect-passenger",
   "metadata": {},
   "source": [
    "### Using display instead of print for nicer output of dataframes"
   ]
  },
  {
   "cell_type": "code",
   "execution_count": 8,
   "id": "metric-wallpaper",
   "metadata": {},
   "outputs": [
    {
     "name": "stdout",
     "output_type": "stream",
     "text": [
      "   0  1  2  3  4\n",
      "0  0  1  2  3  4\n",
      "1  5  6  7  8  9\n"
     ]
    },
    {
     "data": {
      "text/html": [
       "<div>\n",
       "<style scoped>\n",
       "    .dataframe tbody tr th:only-of-type {\n",
       "        vertical-align: middle;\n",
       "    }\n",
       "\n",
       "    .dataframe tbody tr th {\n",
       "        vertical-align: top;\n",
       "    }\n",
       "\n",
       "    .dataframe thead th {\n",
       "        text-align: right;\n",
       "    }\n",
       "</style>\n",
       "<table border=\"1\" class=\"dataframe\">\n",
       "  <thead>\n",
       "    <tr style=\"text-align: right;\">\n",
       "      <th></th>\n",
       "      <th>0</th>\n",
       "      <th>1</th>\n",
       "      <th>2</th>\n",
       "      <th>3</th>\n",
       "      <th>4</th>\n",
       "    </tr>\n",
       "  </thead>\n",
       "  <tbody>\n",
       "    <tr>\n",
       "      <th>0</th>\n",
       "      <td>0</td>\n",
       "      <td>1</td>\n",
       "      <td>2</td>\n",
       "      <td>3</td>\n",
       "      <td>4</td>\n",
       "    </tr>\n",
       "    <tr>\n",
       "      <th>1</th>\n",
       "      <td>5</td>\n",
       "      <td>6</td>\n",
       "      <td>7</td>\n",
       "      <td>8</td>\n",
       "      <td>9</td>\n",
       "    </tr>\n",
       "  </tbody>\n",
       "</table>\n",
       "</div>"
      ],
      "text/plain": [
       "   0  1  2  3  4\n",
       "0  0  1  2  3  4\n",
       "1  5  6  7  8  9"
      ]
     },
     "metadata": {},
     "output_type": "display_data"
    }
   ],
   "source": [
    "from IPython.display import display\n",
    "import pandas as pd\n",
    "\n",
    "pandas_df=pd.DataFrame([[0,1,2,3,4],[5,6,7,8,9]])\n",
    "print(pandas_df)\n",
    "display(pandas_df)"
   ]
  },
  {
   "cell_type": "markdown",
   "id": "purple-secret",
   "metadata": {},
   "source": [
    "### numpy"
   ]
  },
  {
   "cell_type": "code",
   "execution_count": null,
   "id": "physical-jones",
   "metadata": {},
   "outputs": [],
   "source": [
    "import numpy as np"
   ]
  },
  {
   "cell_type": "code",
   "execution_count": 8,
   "id": "effective-independence",
   "metadata": {},
   "outputs": [
    {
     "data": {
      "text/plain": [
       "0.7071067811865476"
      ]
     },
     "execution_count": 8,
     "metadata": {},
     "output_type": "execute_result"
    }
   ],
   "source": [
    "#180 degrees = pi radians\n",
    "np.cos(np.pi/4) #trig functions all expect radians not degrees"
   ]
  },
  {
   "cell_type": "code",
   "execution_count": 7,
   "id": "liberal-event",
   "metadata": {},
   "outputs": [
    {
     "data": {
      "text/plain": [
       "11.832159566199232"
      ]
     },
     "execution_count": 7,
     "metadata": {},
     "output_type": "execute_result"
    }
   ],
   "source": [
    "np.sqrt(140)"
   ]
  },
  {
   "cell_type": "code",
   "execution_count": 6,
   "id": "angry-booth",
   "metadata": {},
   "outputs": [
    {
     "data": {
      "text/plain": [
       "2.718281828459045"
      ]
     },
     "execution_count": 6,
     "metadata": {},
     "output_type": "execute_result"
    }
   ],
   "source": [
    "# exp is the constant e\n",
    "np.exp(1)"
   ]
  },
  {
   "cell_type": "code",
   "execution_count": 42,
   "id": "static-solid",
   "metadata": {},
   "outputs": [
    {
     "data": {
      "text/plain": [
       "array([    100,     137,     188,     259,     356,     489,     672,\n",
       "           923,    1268,    1743,    2395,    3290,    4520,    6210,\n",
       "          8531,   11721,   16102,   22122,   30391,   41753,   57361,\n",
       "         78804,  108263,  148735,  204335,  280721,  385662,  529831,\n",
       "        727895, 1000000])"
      ]
     },
     "execution_count": 42,
     "metadata": {},
     "output_type": "execute_result"
    }
   ],
   "source": [
    "xdata=np.geomspace(100,1e6,num=30, dtype=int) #tell it to round to the closest integer dtype=int\n",
    "xdata"
   ]
  },
  {
   "cell_type": "code",
   "execution_count": 43,
   "id": "removable-importance",
   "metadata": {},
   "outputs": [
    {
     "data": {
      "text/plain": [
       "array([    100,   34579,   69058,  103537,  138017,  172496,  206975,\n",
       "        241455,  275934,  310413,  344893,  379372,  413851,  448331,\n",
       "        482810,  517289,  551768,  586248,  620727,  655206,  689686,\n",
       "        724165,  758644,  793124,  827603,  862082,  896562,  931041,\n",
       "        965520, 1000000])"
      ]
     },
     "execution_count": 43,
     "metadata": {},
     "output_type": "execute_result"
    }
   ],
   "source": [
    "xdata=np.linspace(100,1e6,num=30, dtype=int) #tell it to round to the closest integer dtype=int\n",
    "xdata"
   ]
  },
  {
   "cell_type": "markdown",
   "id": "informal-costume",
   "metadata": {},
   "source": [
    "### pandas, dataframes"
   ]
  },
  {
   "cell_type": "markdown",
   "id": "swedish-surfing",
   "metadata": {},
   "source": [
    "####  reading, writing data: Excel, CSV"
   ]
  },
  {
   "cell_type": "markdown",
   "id": "2a10ddc7-3ed1-4f96-aa22-36a241bf3e17",
   "metadata": {},
   "source": [
    ":::{index} pandas read_excel, read_excel\n",
    ":::"
   ]
  },
  {
   "cell_type": "code",
   "execution_count": 45,
   "id": "trying-kidney",
   "metadata": {},
   "outputs": [
    {
     "data": {
      "text/html": [
       "<div>\n",
       "<style scoped>\n",
       "    .dataframe tbody tr th:only-of-type {\n",
       "        vertical-align: middle;\n",
       "    }\n",
       "\n",
       "    .dataframe tbody tr th {\n",
       "        vertical-align: top;\n",
       "    }\n",
       "\n",
       "    .dataframe thead th {\n",
       "        text-align: right;\n",
       "    }\n",
       "</style>\n",
       "<table border=\"1\" class=\"dataframe\">\n",
       "  <thead>\n",
       "    <tr style=\"text-align: right;\">\n",
       "      <th></th>\n",
       "      <th>Unnamed: 0</th>\n",
       "      <th>Unnamed: 1</th>\n",
       "      <th>Unnamed: 2</th>\n",
       "      <th>Unnamed: 3</th>\n",
       "      <th>Unnamed: 4</th>\n",
       "      <th>Unnamed: 5</th>\n",
       "      <th>Unnamed: 6</th>\n",
       "      <th>Unnamed: 7</th>\n",
       "      <th>Unnamed: 8</th>\n",
       "      <th>Unnamed: 9</th>\n",
       "      <th>Unnamed: 10</th>\n",
       "      <th>Unnamed: 11</th>\n",
       "      <th>Unnamed: 12</th>\n",
       "      <th>Unnamed: 13</th>\n",
       "      <th>Unnamed: 14</th>\n",
       "    </tr>\n",
       "  </thead>\n",
       "  <tbody>\n",
       "    <tr>\n",
       "      <th>0</th>\n",
       "      <td>NaN</td>\n",
       "      <td>NaN</td>\n",
       "      <td>NaN</td>\n",
       "      <td>NaN</td>\n",
       "      <td>NaN</td>\n",
       "      <td>NaN</td>\n",
       "      <td>NaN</td>\n",
       "      <td>NaN</td>\n",
       "      <td>NaN</td>\n",
       "      <td>NaN</td>\n",
       "      <td>NaN</td>\n",
       "      <td>NaN</td>\n",
       "      <td>NaN</td>\n",
       "      <td>NaN</td>\n",
       "      <td>NaN</td>\n",
       "    </tr>\n",
       "    <tr>\n",
       "      <th>1</th>\n",
       "      <td>NaN</td>\n",
       "      <td>NaN</td>\n",
       "      <td>NaN</td>\n",
       "      <td>NaN</td>\n",
       "      <td>NaN</td>\n",
       "      <td>NaN</td>\n",
       "      <td>NaN</td>\n",
       "      <td>NaN</td>\n",
       "      <td>NaN</td>\n",
       "      <td>NaN</td>\n",
       "      <td>NaN</td>\n",
       "      <td>NaN</td>\n",
       "      <td>NaN</td>\n",
       "      <td>NaN</td>\n",
       "      <td>NaN</td>\n",
       "    </tr>\n",
       "    <tr>\n",
       "      <th>2</th>\n",
       "      <td>NaN</td>\n",
       "      <td>NaN</td>\n",
       "      <td>NaN</td>\n",
       "      <td>NaN</td>\n",
       "      <td>NaN</td>\n",
       "      <td>NaN</td>\n",
       "      <td>NaN</td>\n",
       "      <td>NaN</td>\n",
       "      <td>NaN</td>\n",
       "      <td>NaN</td>\n",
       "      <td>NaN</td>\n",
       "      <td>NaN</td>\n",
       "      <td>NaN</td>\n",
       "      <td>NaN</td>\n",
       "      <td>NaN</td>\n",
       "    </tr>\n",
       "    <tr>\n",
       "      <th>3</th>\n",
       "      <td>NaN</td>\n",
       "      <td>NaN</td>\n",
       "      <td>NaN</td>\n",
       "      <td>NaN</td>\n",
       "      <td>NaN</td>\n",
       "      <td>NaN</td>\n",
       "      <td>NaN</td>\n",
       "      <td>NaN</td>\n",
       "      <td>NaN</td>\n",
       "      <td>NaN</td>\n",
       "      <td>NaN</td>\n",
       "      <td>NaN</td>\n",
       "      <td>NaN</td>\n",
       "      <td>NaN</td>\n",
       "      <td>NaN</td>\n",
       "    </tr>\n",
       "    <tr>\n",
       "      <th>4</th>\n",
       "      <td>NaN</td>\n",
       "      <td>NaN</td>\n",
       "      <td>NaN</td>\n",
       "      <td>NaN</td>\n",
       "      <td>NaN</td>\n",
       "      <td>NaN</td>\n",
       "      <td>NaN</td>\n",
       "      <td>NaN</td>\n",
       "      <td>NaN</td>\n",
       "      <td>NaN</td>\n",
       "      <td>NaN</td>\n",
       "      <td>NaN</td>\n",
       "      <td>NaN</td>\n",
       "      <td>NaN</td>\n",
       "      <td>NaN</td>\n",
       "    </tr>\n",
       "    <tr>\n",
       "      <th>5</th>\n",
       "      <td>NaN</td>\n",
       "      <td>NaN</td>\n",
       "      <td>NaN</td>\n",
       "      <td>NaN</td>\n",
       "      <td>NaN</td>\n",
       "      <td>NaN</td>\n",
       "      <td>Fall 2018 SCH</td>\n",
       "      <td>NaN</td>\n",
       "      <td>NaN</td>\n",
       "      <td>NaN</td>\n",
       "      <td>NaN</td>\n",
       "      <td>NaN</td>\n",
       "      <td>NaN</td>\n",
       "      <td>NaN</td>\n",
       "      <td>NaN</td>\n",
       "    </tr>\n",
       "    <tr>\n",
       "      <th>6</th>\n",
       "      <td>NaN</td>\n",
       "      <td>NaN</td>\n",
       "      <td>NaN</td>\n",
       "      <td>NaN</td>\n",
       "      <td># faculty</td>\n",
       "      <td>Dept</td>\n",
       "      <td>on campus</td>\n",
       "      <td>off campus</td>\n",
       "      <td>Total</td>\n",
       "      <td>SCH / Faculty</td>\n",
       "      <td>NaN</td>\n",
       "      <td>NaN</td>\n",
       "      <td>NaN</td>\n",
       "      <td>NaN</td>\n",
       "      <td>NaN</td>\n",
       "    </tr>\n",
       "    <tr>\n",
       "      <th>7</th>\n",
       "      <td>NaN</td>\n",
       "      <td>NaN</td>\n",
       "      <td>NaN</td>\n",
       "      <td>NaN</td>\n",
       "      <td>NaN</td>\n",
       "      <td>NaN</td>\n",
       "      <td>NaN</td>\n",
       "      <td>NaN</td>\n",
       "      <td>NaN</td>\n",
       "      <td>NaN</td>\n",
       "      <td>NaN</td>\n",
       "      <td>NaN</td>\n",
       "      <td>NaN</td>\n",
       "      <td>NaN</td>\n",
       "      <td>NaN</td>\n",
       "    </tr>\n",
       "    <tr>\n",
       "      <th>8</th>\n",
       "      <td>NaN</td>\n",
       "      <td>NaN</td>\n",
       "      <td>NaN</td>\n",
       "      <td>NaN</td>\n",
       "      <td>29</td>\n",
       "      <td>AOE</td>\n",
       "      <td>7313</td>\n",
       "      <td>318</td>\n",
       "      <td>7631</td>\n",
       "      <td>263.137931</td>\n",
       "      <td>NaN</td>\n",
       "      <td>NaN</td>\n",
       "      <td>NaN</td>\n",
       "      <td>NaN</td>\n",
       "      <td>NaN</td>\n",
       "    </tr>\n",
       "    <tr>\n",
       "      <th>9</th>\n",
       "      <td>NaN</td>\n",
       "      <td>NaN</td>\n",
       "      <td>NaN</td>\n",
       "      <td>NaN</td>\n",
       "      <td>NaN</td>\n",
       "      <td>BMES</td>\n",
       "      <td>1432</td>\n",
       "      <td>NaN</td>\n",
       "      <td>1432</td>\n",
       "      <td>NaN</td>\n",
       "      <td>NaN</td>\n",
       "      <td>NaN</td>\n",
       "      <td>NaN</td>\n",
       "      <td>NaN</td>\n",
       "      <td>NaN</td>\n",
       "    </tr>\n",
       "  </tbody>\n",
       "</table>\n",
       "</div>"
      ],
      "text/plain": [
       "   Unnamed: 0  Unnamed: 1  Unnamed: 2  Unnamed: 3 Unnamed: 4 Unnamed: 5  \\\n",
       "0         NaN         NaN         NaN         NaN        NaN        NaN   \n",
       "1         NaN         NaN         NaN         NaN        NaN        NaN   \n",
       "2         NaN         NaN         NaN         NaN        NaN        NaN   \n",
       "3         NaN         NaN         NaN         NaN        NaN        NaN   \n",
       "4         NaN         NaN         NaN         NaN        NaN        NaN   \n",
       "5         NaN         NaN         NaN         NaN        NaN        NaN   \n",
       "6         NaN         NaN         NaN         NaN  # faculty       Dept   \n",
       "7         NaN         NaN         NaN         NaN        NaN        NaN   \n",
       "8         NaN         NaN         NaN         NaN         29        AOE   \n",
       "9         NaN         NaN         NaN         NaN        NaN       BMES   \n",
       "\n",
       "      Unnamed: 6  Unnamed: 7 Unnamed: 8     Unnamed: 9  Unnamed: 10  \\\n",
       "0            NaN         NaN        NaN            NaN          NaN   \n",
       "1            NaN         NaN        NaN            NaN          NaN   \n",
       "2            NaN         NaN        NaN            NaN          NaN   \n",
       "3            NaN         NaN        NaN            NaN          NaN   \n",
       "4            NaN         NaN        NaN            NaN          NaN   \n",
       "5  Fall 2018 SCH         NaN        NaN            NaN          NaN   \n",
       "6      on campus  off campus      Total  SCH / Faculty          NaN   \n",
       "7            NaN         NaN        NaN            NaN          NaN   \n",
       "8           7313         318       7631     263.137931          NaN   \n",
       "9           1432         NaN       1432            NaN          NaN   \n",
       "\n",
       "   Unnamed: 11  Unnamed: 12  Unnamed: 13  Unnamed: 14  \n",
       "0          NaN          NaN          NaN          NaN  \n",
       "1          NaN          NaN          NaN          NaN  \n",
       "2          NaN          NaN          NaN          NaN  \n",
       "3          NaN          NaN          NaN          NaN  \n",
       "4          NaN          NaN          NaN          NaN  \n",
       "5          NaN          NaN          NaN          NaN  \n",
       "6          NaN          NaN          NaN          NaN  \n",
       "7          NaN          NaN          NaN          NaN  \n",
       "8          NaN          NaN          NaN          NaN  \n",
       "9          NaN          NaN          NaN          NaN  "
      ]
     },
     "execution_count": 45,
     "metadata": {},
     "output_type": "execute_result"
    }
   ],
   "source": [
    "import pandas as pd\n",
    "from pathlib import Path\n",
    "\n",
    "# path is for directory of file\n",
    "path=Path(r\"C:\\Users\\sgc\\Google Drive\\Teaching\\2114 & 3114 Math I & II\\git_2114_3114\\data for practice\")\n",
    "filename='Student credit hours dept numbers.xlsx'\n",
    "#fullpath puts together the directory path and filename\n",
    "fullpath=path / filename\n",
    "\n",
    "# read with pandas read_excel() or read_csv()\n",
    "raw_excel=pd.read_excel(fullpath)\n",
    "raw_excel.head(10)"
   ]
  },
  {
   "cell_type": "markdown",
   "id": "d571b613-26ea-4eaa-aa5f-f06a13158382",
   "metadata": {},
   "source": [
    ":::{index} pandas to_excel, to_excel\n",
    ":::"
   ]
  },
  {
   "cell_type": "code",
   "execution_count": null,
   "id": "electoral-commonwealth",
   "metadata": {},
   "outputs": [],
   "source": [
    "# .loc[rows, columns] lets us use the names of the columns and rows\n",
    "#in our case rows = \"6:9\" which means rows 6 through 9\n",
    "# columns is a list of columns to take [\"Unnamed: 4\",'Unnamed: 5']\n",
    "data_to_save=raw_excel.loc[6:9,[\"Unnamed: 4\",'Unnamed: 5']]\n",
    "data_to_save\n",
    "\n",
    "path=Path(r\"C:\\Users\\sgc\\Google Drive\\Teaching\\2114 & 3114 Math I & II\\git_2114_3114\\data for practice\")\n",
    "filename='lesson 3 outfile.xlsx'\n",
    "outpath=path / filename\n",
    "\n",
    "data_to_save.to_excel(outpath, index = True, header=True)\n",
    "#try changing index=True and check your output file "
   ]
  },
  {
   "cell_type": "code",
   "execution_count": 70,
   "id": "parallel-wayne",
   "metadata": {},
   "outputs": [
    {
     "data": {
      "text/html": [
       "<div>\n",
       "<style scoped>\n",
       "    .dataframe tbody tr th:only-of-type {\n",
       "        vertical-align: middle;\n",
       "    }\n",
       "\n",
       "    .dataframe tbody tr th {\n",
       "        vertical-align: top;\n",
       "    }\n",
       "\n",
       "    .dataframe thead th {\n",
       "        text-align: right;\n",
       "    }\n",
       "</style>\n",
       "<table border=\"1\" class=\"dataframe\">\n",
       "  <thead>\n",
       "    <tr style=\"text-align: right;\">\n",
       "      <th></th>\n",
       "      <th>stress MPa</th>\n",
       "      <th>strain</th>\n",
       "    </tr>\n",
       "  </thead>\n",
       "  <tbody>\n",
       "    <tr>\n",
       "      <th>0</th>\n",
       "      <td>1</td>\n",
       "      <td>5</td>\n",
       "    </tr>\n",
       "    <tr>\n",
       "      <th>1</th>\n",
       "      <td>2</td>\n",
       "      <td>6</td>\n",
       "    </tr>\n",
       "    <tr>\n",
       "      <th>2</th>\n",
       "      <td>-3</td>\n",
       "      <td>7</td>\n",
       "    </tr>\n",
       "    <tr>\n",
       "      <th>3</th>\n",
       "      <td>-4</td>\n",
       "      <td>8</td>\n",
       "    </tr>\n",
       "  </tbody>\n",
       "</table>\n",
       "</div>"
      ],
      "text/plain": [
       "   stress MPa  strain\n",
       "0           1       5\n",
       "1           2       6\n",
       "2          -3       7\n",
       "3          -4       8"
      ]
     },
     "execution_count": 70,
     "metadata": {},
     "output_type": "execute_result"
    }
   ],
   "source": [
    "# If your data is not in the format of a pandas dataframe then it \n",
    "# will have to be put in that format\n",
    "# here's an example that works with np.arrays or simple lists of data\n",
    "stress=np.array([1,2,-3,-4])\n",
    "strain=np.array([5,6,7,8])\n",
    "# stress=[1,2,3,4]  ## this works too\n",
    "# strain=[5,6,7,8]  ## this works too\n",
    "d = {'stress MPa': stress, 'strain': strain} # format here is 'column name':data array\n",
    "# you can make as many columns as you have lists of data\n",
    "df = pd.DataFrame(data=d)  # our data is now two columns in a dataframe called \"df\"\n",
    "df"
   ]
  },
  {
   "cell_type": "code",
   "execution_count": null,
   "id": "southern-retro",
   "metadata": {},
   "outputs": [],
   "source": [
    "# another way to create DataFrame\n",
    "data_pd = pd.DataFrame(zip(x,y), columns=['x data','y data'])  #zip creates an object of (x,y) pairs from our x,y series"
   ]
  },
  {
   "cell_type": "markdown",
   "id": "atomic-haven",
   "metadata": {},
   "source": [
    "#### Apply a function e.g. np.abs() to a pandas dataframe column"
   ]
  },
  {
   "cell_type": "code",
   "execution_count": 73,
   "id": "sublime-outdoors",
   "metadata": {},
   "outputs": [
    {
     "data": {
      "text/html": [
       "<div>\n",
       "<style scoped>\n",
       "    .dataframe tbody tr th:only-of-type {\n",
       "        vertical-align: middle;\n",
       "    }\n",
       "\n",
       "    .dataframe tbody tr th {\n",
       "        vertical-align: top;\n",
       "    }\n",
       "\n",
       "    .dataframe thead th {\n",
       "        text-align: right;\n",
       "    }\n",
       "</style>\n",
       "<table border=\"1\" class=\"dataframe\">\n",
       "  <thead>\n",
       "    <tr style=\"text-align: right;\">\n",
       "      <th></th>\n",
       "      <th>stress</th>\n",
       "      <th>strain</th>\n",
       "    </tr>\n",
       "  </thead>\n",
       "  <tbody>\n",
       "    <tr>\n",
       "      <th>0</th>\n",
       "      <td>1</td>\n",
       "      <td>5</td>\n",
       "    </tr>\n",
       "    <tr>\n",
       "      <th>1</th>\n",
       "      <td>2</td>\n",
       "      <td>6</td>\n",
       "    </tr>\n",
       "    <tr>\n",
       "      <th>2</th>\n",
       "      <td>-3</td>\n",
       "      <td>7</td>\n",
       "    </tr>\n",
       "    <tr>\n",
       "      <th>3</th>\n",
       "      <td>-4</td>\n",
       "      <td>8</td>\n",
       "    </tr>\n",
       "  </tbody>\n",
       "</table>\n",
       "</div>"
      ],
      "text/plain": [
       "   stress  strain\n",
       "0       1       5\n",
       "1       2       6\n",
       "2      -3       7\n",
       "3      -4       8"
      ]
     },
     "metadata": {},
     "output_type": "display_data"
    },
    {
     "data": {
      "text/html": [
       "<div>\n",
       "<style scoped>\n",
       "    .dataframe tbody tr th:only-of-type {\n",
       "        vertical-align: middle;\n",
       "    }\n",
       "\n",
       "    .dataframe tbody tr th {\n",
       "        vertical-align: top;\n",
       "    }\n",
       "\n",
       "    .dataframe thead th {\n",
       "        text-align: right;\n",
       "    }\n",
       "</style>\n",
       "<table border=\"1\" class=\"dataframe\">\n",
       "  <thead>\n",
       "    <tr style=\"text-align: right;\">\n",
       "      <th></th>\n",
       "      <th>stress</th>\n",
       "      <th>strain</th>\n",
       "    </tr>\n",
       "  </thead>\n",
       "  <tbody>\n",
       "    <tr>\n",
       "      <th>0</th>\n",
       "      <td>1</td>\n",
       "      <td>15</td>\n",
       "    </tr>\n",
       "    <tr>\n",
       "      <th>1</th>\n",
       "      <td>2</td>\n",
       "      <td>18</td>\n",
       "    </tr>\n",
       "    <tr>\n",
       "      <th>2</th>\n",
       "      <td>-3</td>\n",
       "      <td>21</td>\n",
       "    </tr>\n",
       "    <tr>\n",
       "      <th>3</th>\n",
       "      <td>-4</td>\n",
       "      <td>24</td>\n",
       "    </tr>\n",
       "  </tbody>\n",
       "</table>\n",
       "</div>"
      ],
      "text/plain": [
       "   stress  strain\n",
       "0       1      15\n",
       "1       2      18\n",
       "2      -3      21\n",
       "3      -4      24"
      ]
     },
     "metadata": {},
     "output_type": "display_data"
    },
    {
     "data": {
      "text/html": [
       "<div>\n",
       "<style scoped>\n",
       "    .dataframe tbody tr th:only-of-type {\n",
       "        vertical-align: middle;\n",
       "    }\n",
       "\n",
       "    .dataframe tbody tr th {\n",
       "        vertical-align: top;\n",
       "    }\n",
       "\n",
       "    .dataframe thead th {\n",
       "        text-align: right;\n",
       "    }\n",
       "</style>\n",
       "<table border=\"1\" class=\"dataframe\">\n",
       "  <thead>\n",
       "    <tr style=\"text-align: right;\">\n",
       "      <th></th>\n",
       "      <th>stress</th>\n",
       "      <th>strain</th>\n",
       "    </tr>\n",
       "  </thead>\n",
       "  <tbody>\n",
       "    <tr>\n",
       "      <th>0</th>\n",
       "      <td>1</td>\n",
       "      <td>3.872983</td>\n",
       "    </tr>\n",
       "    <tr>\n",
       "      <th>1</th>\n",
       "      <td>2</td>\n",
       "      <td>4.242641</td>\n",
       "    </tr>\n",
       "    <tr>\n",
       "      <th>2</th>\n",
       "      <td>-3</td>\n",
       "      <td>4.582576</td>\n",
       "    </tr>\n",
       "    <tr>\n",
       "      <th>3</th>\n",
       "      <td>-4</td>\n",
       "      <td>4.898979</td>\n",
       "    </tr>\n",
       "  </tbody>\n",
       "</table>\n",
       "</div>"
      ],
      "text/plain": [
       "   stress    strain\n",
       "0       1  3.872983\n",
       "1       2  4.242641\n",
       "2      -3  4.582576\n",
       "3      -4  4.898979"
      ]
     },
     "metadata": {},
     "output_type": "display_data"
    },
    {
     "data": {
      "text/html": [
       "<div>\n",
       "<style scoped>\n",
       "    .dataframe tbody tr th:only-of-type {\n",
       "        vertical-align: middle;\n",
       "    }\n",
       "\n",
       "    .dataframe tbody tr th {\n",
       "        vertical-align: top;\n",
       "    }\n",
       "\n",
       "    .dataframe thead th {\n",
       "        text-align: right;\n",
       "    }\n",
       "</style>\n",
       "<table border=\"1\" class=\"dataframe\">\n",
       "  <thead>\n",
       "    <tr style=\"text-align: right;\">\n",
       "      <th></th>\n",
       "      <th>stress</th>\n",
       "      <th>strain</th>\n",
       "    </tr>\n",
       "  </thead>\n",
       "  <tbody>\n",
       "    <tr>\n",
       "      <th>0</th>\n",
       "      <td>1</td>\n",
       "      <td>3.872983</td>\n",
       "    </tr>\n",
       "    <tr>\n",
       "      <th>1</th>\n",
       "      <td>2</td>\n",
       "      <td>4.242641</td>\n",
       "    </tr>\n",
       "    <tr>\n",
       "      <th>2</th>\n",
       "      <td>3</td>\n",
       "      <td>4.582576</td>\n",
       "    </tr>\n",
       "    <tr>\n",
       "      <th>3</th>\n",
       "      <td>4</td>\n",
       "      <td>4.898979</td>\n",
       "    </tr>\n",
       "  </tbody>\n",
       "</table>\n",
       "</div>"
      ],
      "text/plain": [
       "   stress    strain\n",
       "0       1  3.872983\n",
       "1       2  4.242641\n",
       "2       3  4.582576\n",
       "3       4  4.898979"
      ]
     },
     "metadata": {},
     "output_type": "display_data"
    }
   ],
   "source": [
    "import numpy as np\n",
    "from IPython.display import display\n",
    "import pandas as pd\n",
    "\n",
    "stress=[1,2,-3,-4]\n",
    "strain=[5,6,7,8]\n",
    "d = {'stress': stress, 'strain': strain} # format here is 'column name':data array\n",
    "df = pd.DataFrame(data=d)  # our data is now two columns in a dataframe called \"df\"\n",
    "display(df)\n",
    "# now lets multiply the strain by 3\n",
    "df['strain']=3*df['strain']\n",
    "display(df)\n",
    "# likewise if we want the sqrt of a column\n",
    "df['strain']=np.sqrt(df['strain'])\n",
    "display(df)\n",
    "# or the abolute value\n",
    "df['stress']=np.abs(df['stress'])\n",
    "display(df)"
   ]
  },
  {
   "cell_type": "markdown",
   "id": "economic-fundamentals",
   "metadata": {},
   "source": [
    "### cleaning data"
   ]
  },
  {
   "cell_type": "markdown",
   "id": "50290ba4-a820-4f66-8461-aca1c504510b",
   "metadata": {},
   "source": [
    ":::{index} pandas to_numeric, to_numeric, pandas info\n",
    ":::"
   ]
  },
  {
   "cell_type": "code",
   "execution_count": 44,
   "id": "conscious-mercy",
   "metadata": {},
   "outputs": [
    {
     "data": {
      "text/html": [
       "<div>\n",
       "<style scoped>\n",
       "    .dataframe tbody tr th:only-of-type {\n",
       "        vertical-align: middle;\n",
       "    }\n",
       "\n",
       "    .dataframe tbody tr th {\n",
       "        vertical-align: top;\n",
       "    }\n",
       "\n",
       "    .dataframe thead th {\n",
       "        text-align: right;\n",
       "    }\n",
       "</style>\n",
       "<table border=\"1\" class=\"dataframe\">\n",
       "  <thead>\n",
       "    <tr style=\"text-align: right;\">\n",
       "      <th></th>\n",
       "      <th>0</th>\n",
       "      <th>1</th>\n",
       "      <th>2</th>\n",
       "    </tr>\n",
       "  </thead>\n",
       "  <tbody>\n",
       "    <tr>\n",
       "      <th>0</th>\n",
       "      <td>1.0</td>\n",
       "      <td>2</td>\n",
       "      <td>3.00</td>\n",
       "    </tr>\n",
       "    <tr>\n",
       "      <th>1</th>\n",
       "      <td>4.0</td>\n",
       "      <td>-</td>\n",
       "      <td>6.00</td>\n",
       "    </tr>\n",
       "    <tr>\n",
       "      <th>2</th>\n",
       "      <td>4.5</td>\n",
       "      <td>7.8</td>\n",
       "      <td>0.01</td>\n",
       "    </tr>\n",
       "  </tbody>\n",
       "</table>\n",
       "</div>"
      ],
      "text/plain": [
       "     0    1     2\n",
       "0  1.0    2  3.00\n",
       "1  4.0    -  6.00\n",
       "2  4.5  7.8  0.01"
      ]
     },
     "metadata": {},
     "output_type": "display_data"
    },
    {
     "name": "stdout",
     "output_type": "stream",
     "text": [
      "\n",
      "**Notice that column 2 is non-numeric (object): **\n",
      "\n",
      "<class 'pandas.core.frame.DataFrame'>\n",
      "RangeIndex: 3 entries, 0 to 2\n",
      "Data columns (total 3 columns):\n",
      " #   Column  Non-Null Count  Dtype  \n",
      "---  ------  --------------  -----  \n",
      " 0   0       3 non-null      float64\n",
      " 1   1       3 non-null      object \n",
      " 2   2       3 non-null      float64\n",
      "dtypes: float64(2), object(1)\n",
      "memory usage: 200.0+ bytes\n",
      "None\n",
      "\n",
      "**Notice that column 2 is now numeric (float64): **\n",
      "\n",
      "<class 'pandas.core.frame.DataFrame'>\n",
      "RangeIndex: 3 entries, 0 to 2\n",
      "Data columns (total 3 columns):\n",
      " #   Column  Non-Null Count  Dtype  \n",
      "---  ------  --------------  -----  \n",
      " 0   0       3 non-null      float64\n",
      " 1   1       2 non-null      float64\n",
      " 2   2       3 non-null      float64\n",
      "dtypes: float64(3)\n",
      "memory usage: 200.0 bytes\n",
      "None\n"
     ]
    },
    {
     "data": {
      "text/html": [
       "<div>\n",
       "<style scoped>\n",
       "    .dataframe tbody tr th:only-of-type {\n",
       "        vertical-align: middle;\n",
       "    }\n",
       "\n",
       "    .dataframe tbody tr th {\n",
       "        vertical-align: top;\n",
       "    }\n",
       "\n",
       "    .dataframe thead th {\n",
       "        text-align: right;\n",
       "    }\n",
       "</style>\n",
       "<table border=\"1\" class=\"dataframe\">\n",
       "  <thead>\n",
       "    <tr style=\"text-align: right;\">\n",
       "      <th></th>\n",
       "      <th>0</th>\n",
       "      <th>1</th>\n",
       "      <th>2</th>\n",
       "    </tr>\n",
       "  </thead>\n",
       "  <tbody>\n",
       "    <tr>\n",
       "      <th>0</th>\n",
       "      <td>1.0</td>\n",
       "      <td>2.0</td>\n",
       "      <td>3.00</td>\n",
       "    </tr>\n",
       "    <tr>\n",
       "      <th>1</th>\n",
       "      <td>4.0</td>\n",
       "      <td>NaN</td>\n",
       "      <td>6.00</td>\n",
       "    </tr>\n",
       "    <tr>\n",
       "      <th>2</th>\n",
       "      <td>4.5</td>\n",
       "      <td>7.8</td>\n",
       "      <td>0.01</td>\n",
       "    </tr>\n",
       "  </tbody>\n",
       "</table>\n",
       "</div>"
      ],
      "text/plain": [
       "     0    1     2\n",
       "0  1.0  2.0  3.00\n",
       "1  4.0  NaN  6.00\n",
       "2  4.5  7.8  0.01"
      ]
     },
     "metadata": {},
     "output_type": "display_data"
    }
   ],
   "source": [
    "from IPython.display import display\n",
    "\n",
    "# make sure all \"data\" columns are numeric not \"object\"\n",
    "dd=pd.DataFrame([[1,2,3],[4,\"-\",6], [4.5, 7.8, 0.01]])\n",
    "display(dd)\n",
    "print()\n",
    "print('**Notice that column 2 is non-numeric (object): **')\n",
    "print()\n",
    "print(dd.info())\n",
    "print()\n",
    "# The 2nd column (column index 1) in dd is listed as \"object\" we need to convert to numeric\n",
    "# but the string \"-\" can't be converted so we use the option coerce\n",
    "# this will replace strings with NaN and everything else to numeric\n",
    "dd[1]=pd.to_numeric(dd[1], errors='coerce')\n",
    "print('**Notice that column 2 is now numeric (float64): **')\n",
    "print()\n",
    "print(dd.info())\n",
    "display(dd)"
   ]
  },
  {
   "cell_type": "code",
   "execution_count": null,
   "id": "heard-muslim",
   "metadata": {},
   "outputs": [],
   "source": [
    "# let's drop rows and columns that have no data\n",
    "df=raw_excel.dropna(how='all', axis=0) #removes rows\n",
    "# try changing 'all' to 'any' in these commands.  What is the result? \n",
    "df=df.dropna(how='all', axis=1) #now remove columns\n",
    "df"
   ]
  },
  {
   "cell_type": "code",
   "execution_count": null,
   "id": "handed-owner",
   "metadata": {},
   "outputs": [],
   "source": [
    "df=df.drop(5)\n",
    "# now lets rename our columns\n",
    "df.columns=['num faculty','dept','on campus','off campus', 'total', 'SCH per faculty']\n",
    "df"
   ]
  },
  {
   "cell_type": "code",
   "execution_count": null,
   "id": "blind-space",
   "metadata": {},
   "outputs": [],
   "source": [
    "df=df.drop(6) # we don't need the first row again now labeled \"6\"\n",
    "df=df.reset_index(drop=True) #reset row numbering\n",
    "df=df.fillna(0) #replace NaN with 0\n",
    "df"
   ]
  },
  {
   "cell_type": "code",
   "execution_count": null,
   "id": "unavailable-spanish",
   "metadata": {},
   "outputs": [],
   "source": [
    "# dropping first two columns here since I don't need them\n",
    "df=raw.drop(['Unnamed: 0','Unnamed: 0.1'],axis=1)\n",
    "df"
   ]
  },
  {
   "cell_type": "markdown",
   "id": "painful-dutch",
   "metadata": {},
   "source": [
    "### Closer look at .dropna()"
   ]
  },
  {
   "cell_type": "markdown",
   "id": "d91273c2-7d5d-4a2e-bfbd-3506e015e358",
   "metadata": {},
   "source": [
    ":::{index} pandas dropna, dropna, np.nan\n",
    ":::"
   ]
  },
  {
   "cell_type": "code",
   "execution_count": 77,
   "id": "overhead-confirmation",
   "metadata": {},
   "outputs": [
    {
     "data": {
      "text/html": [
       "<div>\n",
       "<style scoped>\n",
       "    .dataframe tbody tr th:only-of-type {\n",
       "        vertical-align: middle;\n",
       "    }\n",
       "\n",
       "    .dataframe tbody tr th {\n",
       "        vertical-align: top;\n",
       "    }\n",
       "\n",
       "    .dataframe thead th {\n",
       "        text-align: right;\n",
       "    }\n",
       "</style>\n",
       "<table border=\"1\" class=\"dataframe\">\n",
       "  <thead>\n",
       "    <tr style=\"text-align: right;\">\n",
       "      <th></th>\n",
       "      <th>stress</th>\n",
       "      <th>some empty col</th>\n",
       "      <th>strain</th>\n",
       "    </tr>\n",
       "  </thead>\n",
       "  <tbody>\n",
       "    <tr>\n",
       "      <th>0</th>\n",
       "      <td>1.0</td>\n",
       "      <td>NaN</td>\n",
       "      <td>5.0</td>\n",
       "    </tr>\n",
       "    <tr>\n",
       "      <th>1</th>\n",
       "      <td>2.0</td>\n",
       "      <td>NaN</td>\n",
       "      <td>NaN</td>\n",
       "    </tr>\n",
       "    <tr>\n",
       "      <th>2</th>\n",
       "      <td>-3.0</td>\n",
       "      <td>NaN</td>\n",
       "      <td>7.0</td>\n",
       "    </tr>\n",
       "    <tr>\n",
       "      <th>3</th>\n",
       "      <td>NaN</td>\n",
       "      <td>NaN</td>\n",
       "      <td>NaN</td>\n",
       "    </tr>\n",
       "    <tr>\n",
       "      <th>4</th>\n",
       "      <td>-4.0</td>\n",
       "      <td>NaN</td>\n",
       "      <td>8.0</td>\n",
       "    </tr>\n",
       "  </tbody>\n",
       "</table>\n",
       "</div>"
      ],
      "text/plain": [
       "   stress  some empty col  strain\n",
       "0     1.0             NaN     5.0\n",
       "1     2.0             NaN     NaN\n",
       "2    -3.0             NaN     7.0\n",
       "3     NaN             NaN     NaN\n",
       "4    -4.0             NaN     8.0"
      ]
     },
     "metadata": {},
     "output_type": "display_data"
    }
   ],
   "source": [
    "import numpy as np\n",
    "import pandas as pd\n",
    "\n",
    "# lets make a dataframe to look at\n",
    "stress=[1,2,-3,np.nan,-4]\n",
    "strain=[5,np.nan,7,np.nan,8]\n",
    "blank=[np.nan,np.nan,np.nan,np.nan,np.nan]\n",
    "d = {'stress': stress,'some empty col':blank, 'strain': strain} # format here is 'column name':data array\n",
    "df = pd.DataFrame(data=d)  # our data is now two columns in a dataframe called \"df\"\n",
    "display(df)"
   ]
  },
  {
   "cell_type": "markdown",
   "id": "roman-monkey",
   "metadata": {},
   "source": [
    "First, remember that:\n",
    ">axis=0 means to operate only on the rows  \n",
    ">axis = 1 means to operate only on the columns"
   ]
  },
  {
   "cell_type": "code",
   "execution_count": 81,
   "id": "spare-syntax",
   "metadata": {},
   "outputs": [
    {
     "data": {
      "text/html": [
       "<div>\n",
       "<style scoped>\n",
       "    .dataframe tbody tr th:only-of-type {\n",
       "        vertical-align: middle;\n",
       "    }\n",
       "\n",
       "    .dataframe tbody tr th {\n",
       "        vertical-align: top;\n",
       "    }\n",
       "\n",
       "    .dataframe thead th {\n",
       "        text-align: right;\n",
       "    }\n",
       "</style>\n",
       "<table border=\"1\" class=\"dataframe\">\n",
       "  <thead>\n",
       "    <tr style=\"text-align: right;\">\n",
       "      <th></th>\n",
       "      <th>stress</th>\n",
       "      <th>some empty col</th>\n",
       "      <th>strain</th>\n",
       "    </tr>\n",
       "  </thead>\n",
       "  <tbody>\n",
       "  </tbody>\n",
       "</table>\n",
       "</div>"
      ],
      "text/plain": [
       "Empty DataFrame\n",
       "Columns: [stress, some empty col, strain]\n",
       "Index: []"
      ]
     },
     "metadata": {},
     "output_type": "display_data"
    }
   ],
   "source": [
    "# when using dropna we have a choice of how=\"all\" or how=\"any\"\n",
    "# 'any' means that any column or row that has AT LEAST ONE \"NaN\" will be dropped\n",
    "display(df.dropna(how='any', axis=0))  # this gets rid of all our rows since every row has at least one NAN"
   ]
  },
  {
   "cell_type": "code",
   "execution_count": 82,
   "id": "global-bahamas",
   "metadata": {},
   "outputs": [
    {
     "data": {
      "text/html": [
       "<div>\n",
       "<style scoped>\n",
       "    .dataframe tbody tr th:only-of-type {\n",
       "        vertical-align: middle;\n",
       "    }\n",
       "\n",
       "    .dataframe tbody tr th {\n",
       "        vertical-align: top;\n",
       "    }\n",
       "\n",
       "    .dataframe thead th {\n",
       "        text-align: right;\n",
       "    }\n",
       "</style>\n",
       "<table border=\"1\" class=\"dataframe\">\n",
       "  <thead>\n",
       "    <tr style=\"text-align: right;\">\n",
       "      <th></th>\n",
       "      <th>stress</th>\n",
       "      <th>strain</th>\n",
       "    </tr>\n",
       "  </thead>\n",
       "  <tbody>\n",
       "    <tr>\n",
       "      <th>0</th>\n",
       "      <td>1.0</td>\n",
       "      <td>5.0</td>\n",
       "    </tr>\n",
       "    <tr>\n",
       "      <th>1</th>\n",
       "      <td>2.0</td>\n",
       "      <td>NaN</td>\n",
       "    </tr>\n",
       "    <tr>\n",
       "      <th>2</th>\n",
       "      <td>-3.0</td>\n",
       "      <td>7.0</td>\n",
       "    </tr>\n",
       "    <tr>\n",
       "      <th>3</th>\n",
       "      <td>NaN</td>\n",
       "      <td>NaN</td>\n",
       "    </tr>\n",
       "    <tr>\n",
       "      <th>4</th>\n",
       "      <td>-4.0</td>\n",
       "      <td>8.0</td>\n",
       "    </tr>\n",
       "  </tbody>\n",
       "</table>\n",
       "</div>"
      ],
      "text/plain": [
       "   stress  strain\n",
       "0     1.0     5.0\n",
       "1     2.0     NaN\n",
       "2    -3.0     7.0\n",
       "3     NaN     NaN\n",
       "4    -4.0     8.0"
      ]
     },
     "metadata": {},
     "output_type": "display_data"
    }
   ],
   "source": [
    "# 'all' means that ALL elements of a given column or row must by NaN before it is dropped\n",
    "# in this case our middle column is all Nan so we can remove it this way\n",
    "display(df.dropna(how='all', axis=1)) #removes rows"
   ]
  },
  {
   "cell_type": "code",
   "execution_count": 83,
   "id": "based-collar",
   "metadata": {},
   "outputs": [
    {
     "data": {
      "text/html": [
       "<div>\n",
       "<style scoped>\n",
       "    .dataframe tbody tr th:only-of-type {\n",
       "        vertical-align: middle;\n",
       "    }\n",
       "\n",
       "    .dataframe tbody tr th {\n",
       "        vertical-align: top;\n",
       "    }\n",
       "\n",
       "    .dataframe thead th {\n",
       "        text-align: right;\n",
       "    }\n",
       "</style>\n",
       "<table border=\"1\" class=\"dataframe\">\n",
       "  <thead>\n",
       "    <tr style=\"text-align: right;\">\n",
       "      <th></th>\n",
       "      <th>stress</th>\n",
       "      <th>some empty col</th>\n",
       "      <th>strain</th>\n",
       "    </tr>\n",
       "  </thead>\n",
       "  <tbody>\n",
       "    <tr>\n",
       "      <th>0</th>\n",
       "      <td>1.0</td>\n",
       "      <td>NaN</td>\n",
       "      <td>5.0</td>\n",
       "    </tr>\n",
       "    <tr>\n",
       "      <th>1</th>\n",
       "      <td>2.0</td>\n",
       "      <td>NaN</td>\n",
       "      <td>NaN</td>\n",
       "    </tr>\n",
       "    <tr>\n",
       "      <th>2</th>\n",
       "      <td>-3.0</td>\n",
       "      <td>NaN</td>\n",
       "      <td>7.0</td>\n",
       "    </tr>\n",
       "    <tr>\n",
       "      <th>3</th>\n",
       "      <td>NaN</td>\n",
       "      <td>NaN</td>\n",
       "      <td>NaN</td>\n",
       "    </tr>\n",
       "    <tr>\n",
       "      <th>4</th>\n",
       "      <td>-4.0</td>\n",
       "      <td>NaN</td>\n",
       "      <td>8.0</td>\n",
       "    </tr>\n",
       "  </tbody>\n",
       "</table>\n",
       "</div>"
      ],
      "text/plain": [
       "   stress  some empty col  strain\n",
       "0     1.0             NaN     5.0\n",
       "1     2.0             NaN     NaN\n",
       "2    -3.0             NaN     7.0\n",
       "3     NaN             NaN     NaN\n",
       "4    -4.0             NaN     8.0"
      ]
     },
     "metadata": {},
     "output_type": "display_data"
    },
    {
     "data": {
      "text/html": [
       "<div>\n",
       "<style scoped>\n",
       "    .dataframe tbody tr th:only-of-type {\n",
       "        vertical-align: middle;\n",
       "    }\n",
       "\n",
       "    .dataframe tbody tr th {\n",
       "        vertical-align: top;\n",
       "    }\n",
       "\n",
       "    .dataframe thead th {\n",
       "        text-align: right;\n",
       "    }\n",
       "</style>\n",
       "<table border=\"1\" class=\"dataframe\">\n",
       "  <thead>\n",
       "    <tr style=\"text-align: right;\">\n",
       "      <th></th>\n",
       "      <th>stress</th>\n",
       "      <th>strain</th>\n",
       "    </tr>\n",
       "  </thead>\n",
       "  <tbody>\n",
       "    <tr>\n",
       "      <th>0</th>\n",
       "      <td>1.0</td>\n",
       "      <td>5.0</td>\n",
       "    </tr>\n",
       "    <tr>\n",
       "      <th>1</th>\n",
       "      <td>2.0</td>\n",
       "      <td>NaN</td>\n",
       "    </tr>\n",
       "    <tr>\n",
       "      <th>2</th>\n",
       "      <td>-3.0</td>\n",
       "      <td>7.0</td>\n",
       "    </tr>\n",
       "    <tr>\n",
       "      <th>3</th>\n",
       "      <td>NaN</td>\n",
       "      <td>NaN</td>\n",
       "    </tr>\n",
       "    <tr>\n",
       "      <th>4</th>\n",
       "      <td>-4.0</td>\n",
       "      <td>8.0</td>\n",
       "    </tr>\n",
       "  </tbody>\n",
       "</table>\n",
       "</div>"
      ],
      "text/plain": [
       "   stress  strain\n",
       "0     1.0     5.0\n",
       "1     2.0     NaN\n",
       "2    -3.0     7.0\n",
       "3     NaN     NaN\n",
       "4    -4.0     8.0"
      ]
     },
     "metadata": {},
     "output_type": "display_data"
    },
    {
     "data": {
      "text/html": [
       "<div>\n",
       "<style scoped>\n",
       "    .dataframe tbody tr th:only-of-type {\n",
       "        vertical-align: middle;\n",
       "    }\n",
       "\n",
       "    .dataframe tbody tr th {\n",
       "        vertical-align: top;\n",
       "    }\n",
       "\n",
       "    .dataframe thead th {\n",
       "        text-align: right;\n",
       "    }\n",
       "</style>\n",
       "<table border=\"1\" class=\"dataframe\">\n",
       "  <thead>\n",
       "    <tr style=\"text-align: right;\">\n",
       "      <th></th>\n",
       "      <th>stress</th>\n",
       "      <th>strain</th>\n",
       "    </tr>\n",
       "  </thead>\n",
       "  <tbody>\n",
       "    <tr>\n",
       "      <th>0</th>\n",
       "      <td>1.0</td>\n",
       "      <td>5.0</td>\n",
       "    </tr>\n",
       "    <tr>\n",
       "      <th>2</th>\n",
       "      <td>-3.0</td>\n",
       "      <td>7.0</td>\n",
       "    </tr>\n",
       "    <tr>\n",
       "      <th>4</th>\n",
       "      <td>-4.0</td>\n",
       "      <td>8.0</td>\n",
       "    </tr>\n",
       "  </tbody>\n",
       "</table>\n",
       "</div>"
      ],
      "text/plain": [
       "   stress  strain\n",
       "0     1.0     5.0\n",
       "2    -3.0     7.0\n",
       "4    -4.0     8.0"
      ]
     },
     "metadata": {},
     "output_type": "display_data"
    }
   ],
   "source": [
    "#now that we got rid of the column that was all Nan we can operate on the rows \n",
    "#for the rows we want to remove ANY row that contains an NaN since that is a bad datapoint\n",
    "display(df)\n",
    "df=df.dropna(how='all', axis=1) # this removes the col and replaces the dataframe\n",
    "display(df)\n",
    "# now let's remove the rows\n",
    "display(df.dropna(how='any', axis=0))"
   ]
  },
  {
   "cell_type": "markdown",
   "id": "british-cutting",
   "metadata": {},
   "source": [
    "### data analysis"
   ]
  },
  {
   "cell_type": "markdown",
   "id": "2af5bb2d-7013-4949-8cb6-3e4662a2ce93",
   "metadata": {},
   "source": [
    ":::{index} pandas sort_values, sort_values, reset_index, pandas reset_index, pandas round\n",
    ":::"
   ]
  },
  {
   "cell_type": "code",
   "execution_count": null,
   "id": "running-genesis",
   "metadata": {},
   "outputs": [],
   "source": [
    "# sort data frame by values in column \"num faculty\"\n",
    "sch_data=df.sort_values(['num faculty','dept']).reset_index(drop=True)\n",
    "#try removing \".reset_index()\" and see what you get\n",
    "#or change drop=True to drop=Fals and see what happens\n",
    "sch_data"
   ]
  },
  {
   "cell_type": "code",
   "execution_count": null,
   "id": "experienced-protocol",
   "metadata": {},
   "outputs": [],
   "source": [
    "# we don't need lines 0 - 4 so let's take only 5-15\n",
    "sch_data=sch_data[5:16]\n",
    "sch_data"
   ]
  },
  {
   "cell_type": "code",
   "execution_count": null,
   "id": "matched-discrimination",
   "metadata": {},
   "outputs": [],
   "source": [
    "sch_data['dept']"
   ]
  },
  {
   "cell_type": "code",
   "execution_count": null,
   "id": "arbitrary-assembly",
   "metadata": {},
   "outputs": [],
   "source": [
    "sch_data['credit_faculty']=(sch_data['total']/sch_data['num faculty'])\n",
    "sch_data"
   ]
  },
  {
   "cell_type": "code",
   "execution_count": null,
   "id": "complimentary-lying",
   "metadata": {},
   "outputs": [],
   "source": [
    "#test the data for cases where the number of faculty is < 30\n",
    "test=sch_data['num faculty']<30\n",
    "#now let's select those data\n",
    "sch_slice=sch_data[test]\n",
    "sch_slice"
   ]
  },
  {
   "cell_type": "code",
   "execution_count": null,
   "id": "worthy-hotel",
   "metadata": {},
   "outputs": [],
   "source": [
    "# rounding some of the numbers so they group better\n",
    "df['LineSpeed']=df.loc[:,'LineSpeed'].round(1)\n",
    "df['ExtrTemp']=df.loc[:,'ExtrTemp'].round(0)\n",
    "df"
   ]
  },
  {
   "cell_type": "markdown",
   "id": "56444b56-bcc8-4895-85d6-1dd5821e9215",
   "metadata": {},
   "source": [
    ":::{index} pandas groupby, groupby, pandas count, pandas mean, pivot_table, pandas pivot_table\n",
    ":::"
   ]
  },
  {
   "cell_type": "code",
   "execution_count": null,
   "id": "immediate-expression",
   "metadata": {},
   "outputs": [],
   "source": [
    "# groupby collects all records for the different cities and then\n",
    "# counts how many records there are\n",
    "dfgroup=df.groupby(['City']).count()\n",
    "dfgroup\n",
    "# try the line below and see what it gives\n",
    "# dfgroup=df.groupby(['City']).size()\n",
    "# dfgroup"
   ]
  },
  {
   "cell_type": "code",
   "execution_count": null,
   "id": "rural-porcelain",
   "metadata": {},
   "outputs": [],
   "source": [
    "dfgroup.sum()"
   ]
  },
  {
   "cell_type": "code",
   "execution_count": null,
   "id": "brazilian-birth",
   "metadata": {},
   "outputs": [],
   "source": [
    "# now we are grouping by two columns\n",
    "# we first collect the Cities\n",
    "# then group within eqach city by the ExtrTemp\n",
    "# here we take the mean value in these two categories for each column\n",
    "dfmean=df.groupby(['City','ExtrTemp']).mean()\n",
    "dfmean"
   ]
  },
  {
   "cell_type": "code",
   "execution_count": null,
   "id": "pleasant-bridge",
   "metadata": {},
   "outputs": [],
   "source": [
    "# the mean value of WaterTemp in Alexandria at an ExtrTemp of 235 degrees is\n",
    "dfmean.loc[('Alexandria',235.0), 'WaterTemp']"
   ]
  },
  {
   "cell_type": "code",
   "execution_count": null,
   "id": "biblical-complex",
   "metadata": {},
   "outputs": [],
   "source": [
    "pd.pivot_table(df, values=['Measure', 'WaterTemp','LineSpeed'], index=['City', 'ExtrTemp'],\n",
    "                    aggfunc={'Measure': np.mean,\n",
    "                             'WaterTemp': [min, max, np.mean],\n",
    "                            'LineSpeed':[np.sum,np.mean,np.size]})"
   ]
  },
  {
   "cell_type": "markdown",
   "id": "naughty-storage",
   "metadata": {},
   "source": [
    "### Plotting"
   ]
  },
  {
   "cell_type": "code",
   "execution_count": null,
   "id": "commercial-xerox",
   "metadata": {},
   "outputs": [],
   "source": [
    "plt.plot(sch_data['num faculty'], sch_data['credit_faculty'], 'ro')\n",
    "plt.ylabel('student credit hours per faculty')\n",
    "plt.xlabel('number of faculty in department')\n",
    "plt.show()"
   ]
  },
  {
   "cell_type": "markdown",
   "id": "09712766-9b34-4d41-a777-147ec5bdbd6d",
   "metadata": {},
   "source": [
    ":::{index} plt.axhline, horizontal line in plot, axis limits, linspace, annotate\n",
    ":::"
   ]
  },
  {
   "cell_type": "code",
   "execution_count": null,
   "id": "entertaining-africa",
   "metadata": {},
   "outputs": [],
   "source": [
    "#define a function for the fit.  In this case just a line\n",
    "def lin(x, m, b):\n",
    "    return m*x+b\n",
    "\n",
    "plt.plot(sch_slice['num faculty'], lin(sch_slice['num faculty'],11.105,-61.6635), 'k--')\n",
    "plt.plot(sch_data['num faculty'], sch_data['credit_faculty'], 'ro')\n",
    "plt.axhline(y=275, linewidth=1, color='b', linestyle='-')\n",
    "plt.axis([10,70,50,400]) #specify axis limits like this\n",
    "plt.show()"
   ]
  },
  {
   "cell_type": "code",
   "execution_count": null,
   "id": "planned-pencil",
   "metadata": {},
   "outputs": [],
   "source": [
    "d=np.linspace(0, 50, 20) #creates 20 evenly spaced pts from 0 to 50\n",
    "x_sol=x_solution(2,9,5,d)\n",
    "plt.plot(d,x_sol,'ro')\n",
    "plt.xlabel('d')\n",
    "plt.ylabel('x solution')\n",
    "plt.annotate('$a x^2 + b x + c = d$', xy=(5, 2.5), color='b') # you can include text on your plot\n",
    "plt.annotate('$a x^2$', xy=(40, 0.5), color='b') # you can include text on your plot\n",
    "plt.show()"
   ]
  },
  {
   "cell_type": "markdown",
   "id": "matched-taxation",
   "metadata": {},
   "source": [
    "### Curve Fitting"
   ]
  },
  {
   "cell_type": "markdown",
   "id": "63722851-801d-4337-b52d-b5e530aa7ace",
   "metadata": {},
   "source": [
    ":::{index} curve fitting, data fitting, fitting data, curve_fit\n",
    ":::"
   ]
  },
  {
   "cell_type": "code",
   "execution_count": null,
   "id": "statutory-impact",
   "metadata": {},
   "outputs": [],
   "source": [
    "#read in package for curve fitting\n",
    "from scipy.optimize import curve_fit"
   ]
  },
  {
   "cell_type": "code",
   "execution_count": null,
   "id": "developing-catering",
   "metadata": {},
   "outputs": [],
   "source": [
    "#define a function for the fit.  In this case just a line\n",
    "def lin(x, m, b):\n",
    "    return m*x+b\n",
    "\n",
    "best_vals, covar = curve_fit(lin, sch_slice['num faculty'], sch_slice['credit_faculty'])\n",
    "print(f'Our fit is given by {best_vals[0]:.2f} x + {best_vals[1]:.2f}')"
   ]
  },
  {
   "cell_type": "code",
   "execution_count": null,
   "id": "living-rebound",
   "metadata": {},
   "outputs": [],
   "source": [
    "print(best_vals) #these are in order as defined in function i.e. m , b"
   ]
  },
  {
   "cell_type": "code",
   "execution_count": null,
   "id": "cubic-durham",
   "metadata": {},
   "outputs": [],
   "source": [
    "plt.plot(sch_slice['num faculty'], lin(sch_slice['num faculty'],11.105,-61.6635), 'k--')\n",
    "plt.plot(sch_data['num faculty'], sch_data['credit_faculty'], 'ro')\n",
    "plt.show()"
   ]
  },
  {
   "cell_type": "markdown",
   "id": "freelance-sellers",
   "metadata": {},
   "source": [
    "### special functions"
   ]
  },
  {
   "cell_type": "code",
   "execution_count": 9,
   "id": "acceptable-incentive",
   "metadata": {},
   "outputs": [],
   "source": [
    "from scipy import special"
   ]
  },
  {
   "cell_type": "code",
   "execution_count": 10,
   "id": "ranging-backup",
   "metadata": {
    "scrolled": true
   },
   "outputs": [
    {
     "data": {
      "text/plain": [
       "0.5204998778130465"
      ]
     },
     "execution_count": 10,
     "metadata": {},
     "output_type": "execute_result"
    }
   ],
   "source": [
    "special.erf(0.5)"
   ]
  },
  {
   "cell_type": "markdown",
   "id": "reliable-inclusion",
   "metadata": {
    "tags": []
   },
   "source": [
    "## Exercises"
   ]
  },
  {
   "cell_type": "markdown",
   "id": "78dd72d4-3678-49cc-b171-80acaaa6aa92",
   "metadata": {},
   "source": [
    "### Problem 1"
   ]
  },
  {
   "cell_type": "markdown",
   "id": "41df121b-feff-4451-bd57-1bac7fb44679",
   "metadata": {},
   "source": [
    "Start your own cheat sheet."
   ]
  },
  {
   "cell_type": "markdown",
   "id": "ac4044df-bec8-42dd-9df3-e683a8973fc1",
   "metadata": {},
   "source": [
    "### Problem 2"
   ]
  },
  {
   "cell_type": "markdown",
   "id": "touched-brass",
   "metadata": {},
   "source": [
    "1. Read in the data file: [Tafel data for 2114.xlsx](https://drive.google.com/uc?export=download&id=1p2p9uiMFOciCMFCS7ASpmgi0gDvTSMOi) \n",
    "2. Check the type of each column using .info() for e.g. your_dataframe.info()\n",
    "3. Drop columns with no values\n",
    "4. Convert the column \"Current\" to numeric (see \"cleaning data\" section above)\n",
    "5. Drop any row containing NaN -- use the option how='any' rather than how='all' (see 'cleaning data\" section above)\n",
    "6. Replace the column \"Current\" with its absolute value (np.abs())\n",
    "7. Plot the Potential on the x-axis and Current on the y-axis.  Label your axes.  Set your yscale to log.  e.g. plt.yscale('log')\n",
    "8. Replot the previous using the axis scale:  [-1.5,-0.7,1e-8,2e-5]\n",
    "9. Replot the previous on a linear scale with the axis: [-1.08,-1,0,1e-6]\n",
    "10. Take all data with a potential between -1.06 and -1.035 and fit to a line. \n",
    "11.  Replot #9 and include your fit. \n",
    "12.  Based on your fit, determine the potential where the current is zero.  \n",
    "13.  Subtract the potential found in #12 from your potential data and replot #8.  You will have to adjust your x axis scale since you just shifted your data.  \n",
    "\n",
    "You should get a plot that looks like:  "
   ]
  },
  {
   "cell_type": "markdown",
   "id": "c84e9d09-8932-4044-84e2-94218550da73",
   "metadata": {
    "tags": [
     "remove-cell"
    ]
   },
   "source": [
    "<img alt=\"../images/06_tafel.png\" src=\"../images/06_tafel.png\" width=300px>"
   ]
  },
  {
   "cell_type": "markdown",
   "id": "7fb369e8-4ec4-4514-b985-d809d7a6097c",
   "metadata": {},
   "source": [
    ":::{image}  ../images/06_tafel.png\n",
    ":width: 300px\n",
    ":align: center\n",
    ":::"
   ]
  },
  {
   "cell_type": "code",
   "execution_count": null,
   "id": "b605fc05-77d9-482e-a4f5-7c19167bc34c",
   "metadata": {},
   "outputs": [],
   "source": []
  }
 ],
 "metadata": {
  "kernelspec": {
   "display_name": "Python 3 (ipykernel)",
   "language": "python",
   "name": "python3"
  },
  "language_info": {
   "codemirror_mode": {
    "name": "ipython",
    "version": 3
   },
   "file_extension": ".py",
   "mimetype": "text/x-python",
   "name": "python",
   "nbconvert_exporter": "python",
   "pygments_lexer": "ipython3",
   "version": "3.10.9"
  },
  "toc": {
   "base_numbering": 1,
   "nav_menu": {},
   "number_sections": true,
   "sideBar": true,
   "skip_h1_title": false,
   "title_cell": "Table of Contents",
   "title_sidebar": "Contents",
   "toc_cell": true,
   "toc_position": {},
   "toc_section_display": true,
   "toc_window_display": false
  },
  "widgets": {
   "application/vnd.jupyter.widget-state+json": {
    "state": {},
    "version_major": 2,
    "version_minor": 0
   }
  }
 },
 "nbformat": 4,
 "nbformat_minor": 5
}
