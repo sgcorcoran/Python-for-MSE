{
 "cells": [
  {
   "cell_type": "markdown",
   "id": "559d5018-850d-4a6d-8a69-2acaba0ed7f8",
   "metadata": {},
   "source": [
    "# Self Review and Practice with Pandas"
   ]
  },
  {
   "cell_type": "markdown",
   "id": "a535b574-3f2d-4c90-9c63-fbb6d6300925",
   "metadata": {
    "tags": []
   },
   "source": [
    ":::{admonition} Learning Objectives  \n",
    "Be able to:\n",
    "* Read an excel file into a pandas dataframe\n",
    "* Check and correct column data types in a dataframe \n",
    "* Drop columns containing no data i.e. NaN\n",
    "* Drop rows with missing values\n",
    "* Add new columns to the dataframe\n",
    "* Plot the data\n",
    "* Perform a non-linear fit to the data and interpret the results\n",
    ":::"
   ]
  },
  {
   "cell_type": "markdown",
   "id": "50bfc6be-4d53-4061-9615-e5b2c88a81af",
   "metadata": {},
   "source": [
    "## Lesson"
   ]
  },
  {
   "cell_type": "markdown",
   "id": "98fd888e-405b-4485-9041-7baff3ad2989",
   "metadata": {},
   "source": [
    "No Lesson this week since this is practice and draws from previous lessons especially week 3 \"working with data.\"   "
   ]
  },
  {
   "cell_type": "markdown",
   "id": "e247c487-4c34-497e-83ef-e623280be00b",
   "metadata": {},
   "source": [
    "## Exercises"
   ]
  },
  {
   "cell_type": "markdown",
   "id": "d573dbbf-b194-4886-be6e-d6d38c52c34a",
   "metadata": {},
   "source": [
    "### Problem 1"
   ]
  },
  {
   "cell_type": "markdown",
   "id": "08e70205-55d3-41c9-a8de-f5255e4a6638",
   "metadata": {
    "tags": []
   },
   "source": [
    "Perform the following:  \n",
    "**a.** Read in the data file: [crystallization data: (07_data.xlsx)](https://drive.google.com/uc?export=download&id=15ZOg-M1NDafHdlCWkq5wcu2jjTSqNjb9)    \n",
    "**b.** Check the type of each column using .info()   \n",
    "**c.** Drop columns with no values (\"all\" dropna) - make sure you use the correct axis  \n",
    "**d.** Convert columns to numeric   \n",
    "**e.** Drop any row containing NaN (\"any\" dropna) - make sure you use the correct axis  \n",
    "**f.** Add a new column \"time, hrs\" by converting \"time, sec\" to hours  \n",
    "**g.** Plot the time in hours on the x-axis and crystallization fraction on the y-axis.  Label your axes.   \n",
    "**h.** Fit your data (time in hours, crystallization fraction) to the following function:  $y=1-e^{-k \\ t^n}$  \n",
    "**i.** Replot your data (color black small points) and include your fit (color red line)  \n",
    "**j.** Using your fitted function, determine the crystallization fraction after 125 hours.  "
   ]
  },
  {
   "cell_type": "markdown",
   "id": "9a4bfbc5-2c95-4991-951a-2bbc2a1a023e",
   "metadata": {},
   "source": [
    "### Problem 2 (not graded)"
   ]
  },
  {
   "cell_type": "markdown",
   "id": "8d0cd820-b89b-453f-80b5-ab13127814b5",
   "metadata": {},
   "source": [
    "Problem 1 is a typical example of what you may experience in lab, senior design, or the workplace.  If you had any trouble with Problem 1, update your cheat sheet to help for next time. "
   ]
  },
  {
   "cell_type": "code",
   "execution_count": null,
   "id": "09a56617-555e-4c9f-80a5-1cebdbd49ad1",
   "metadata": {},
   "outputs": [],
   "source": []
  }
 ],
 "metadata": {
  "kernelspec": {
   "display_name": "Python 3 (ipykernel)",
   "language": "python",
   "name": "python3"
  },
  "language_info": {
   "codemirror_mode": {
    "name": "ipython",
    "version": 3
   },
   "file_extension": ".py",
   "mimetype": "text/x-python",
   "name": "python",
   "nbconvert_exporter": "python",
   "pygments_lexer": "ipython3",
   "version": "3.10.6"
  }
 },
 "nbformat": 4,
 "nbformat_minor": 5
}
