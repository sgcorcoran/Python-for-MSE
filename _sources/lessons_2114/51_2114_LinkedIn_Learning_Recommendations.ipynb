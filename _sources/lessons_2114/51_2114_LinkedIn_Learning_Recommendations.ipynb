{
 "cells": [
  {
   "cell_type": "markdown",
   "id": "e8914881-55dc-4098-a058-1b9bfd9badb1",
   "metadata": {},
   "source": [
    "(LinkedIn-Learning-Rec-2114)=\n",
    "# LinkedIn Learning Recommendations"
   ]
  },
  {
   "cell_type": "markdown",
   "id": "e689fc0b-afca-4e0e-8645-73d518c47430",
   "metadata": {},
   "source": [
    "<p>Functions:</p>\n",
    "<ul>\n",
    "    <li><a href=\"https://www.linkedin.com/learning/python-quick-start/what-is-a-function?u=57888345\">What is a function (2 min)</a></li>\n",
    "    <li><a href=\"https://www.linkedin.com/learning/python-quick-start/built-in-functions-in-python?u=57888345\">Built in functions (4 min)</a></li>\n",
    "    <li><a href=\"https://www.linkedin.com/learning/python-quick-start/define-and-call-your-own-functions?u=57888345\">Define and call your own functions (3.5 min)</a></li>\n",
    "    <li><a href=\"https://www.linkedin.com/learning/python-quick-start/types-of-functions?u=57888345\">Types of functions (9 min)</a></li>\n",
    "</ul>\n",
    "<p>Conditionals:</p>\n",
    "<ul>\n",
    "    <li><a href=\"https://www.linkedin.com/learning/python-quick-start/if-elif-and-if-elif-else-statements?u=57888345\">if-elif and if-elif-else statement (11 min)</a></li>\n",
    "</ul>\n",
    "<p>Plotting:</p>\n",
    "<ul>\n",
    "    <li><a href=\"https://matplotlib.org/3.1.3/tutorials/introductory/sample_plots.html#sphx-glr-tutorials-introductory-sample-plots-py\">Plotting examples using matplotlib.pyplot</a></li>\n",
    "</ul>"
   ]
  },
  {
   "cell_type": "code",
   "execution_count": null,
   "id": "bf805750-4e69-422d-9fe5-ee0956cab413",
   "metadata": {},
   "outputs": [],
   "source": []
  }
 ],
 "metadata": {
  "kernelspec": {
   "display_name": "Python 3 (ipykernel)",
   "language": "python",
   "name": "python3"
  },
  "language_info": {
   "codemirror_mode": {
    "name": "ipython",
    "version": 3
   },
   "file_extension": ".py",
   "mimetype": "text/x-python",
   "name": "python",
   "nbconvert_exporter": "python",
   "pygments_lexer": "ipython3",
   "version": "3.10.6"
  }
 },
 "nbformat": 4,
 "nbformat_minor": 5
}
