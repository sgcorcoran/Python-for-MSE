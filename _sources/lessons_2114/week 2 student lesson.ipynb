{
 "cells": [
  {
   "cell_type": "markdown",
   "metadata": {},
   "source": [
    "**Week 2:**  Student lesson\n",
    "<hr style=\"height: 3.0px\"/>\n",
    "\n",
    "Prereq: Week 2 Exercises require us to know how to:\n",
    "* comment notebooks using Markdown cells \n",
    "* formatting equations in markdown cells\n",
    "* use `print()` statement with an **f-string** for better presentation of your final answer\n",
    "* use `numpy` extension for `np.sqrt()` and `np.exp()`\n",
    "* use `scipy.special` extension for `special.erf()`\n"
   ]
  },
  {
   "cell_type": "markdown",
   "metadata": {},
   "source": [
    "### markdown cells"
   ]
  },
  {
   "cell_type": "markdown",
   "metadata": {},
   "source": [
    "If you double click in any markdown cell (**for example this cell**), you can see the code I wrote to use various formatting or special characters:   \n",
    "\n",
    "**bold text**, *italic text*, `highlighted text`\n",
    "\n",
    "or python formatted text: \n",
    "```python\n",
    "print('some text')\n",
    "```\n",
    "$\\mu$\n",
    "\n",
    "when done editing a markdown cell just press shift-enter as you would for code cells.  "
   ]
  },
  {
   "cell_type": "markdown",
   "metadata": {},
   "source": [
    "If you didn't do it, you should have double clicked above to see the coding.  Then, press shift-enter in the cell when you are done.  "
   ]
  },
  {
   "cell_type": "markdown",
   "metadata": {},
   "source": [
    "### equation formatting in markdown cells"
   ]
  },
  {
   "cell_type": "markdown",
   "metadata": {},
   "source": [
    "Now equations require special formatting.  Here are some examples (***remember to double click in this cell to see the coding***):  \n",
    "\n",
    "* subscript:  $x_2$  \n",
    "* superscript: $x^3$ \n",
    "* fraction:  $\\frac{3 x}{2}$\n",
    "\n",
    "Equations start and end with a dollar sign.  Between the dollar sign is LaTeX code which we will talk about more below.  "
   ]
  },
  {
   "cell_type": "markdown",
   "metadata": {},
   "source": [
    ">If we were to try `$10^23$`, we would get $10^23$.  We need to use `{23}`.  If `{}` are missing, it is assumed that only 1 character is being superscripted.  \n",
    ">\n",
    ">proper formatting:  `$10^{23}$` gives  $10^{23}$"
   ]
  },
  {
   "cell_type": "markdown",
   "metadata": {},
   "source": [
    ">This notation is **only** for markdown cells.  Do not use it in code cells or you will get errors.  For example, we can format avagadro's number in a \"Markdown\" cell as: `$6.02\\times10^{23}$` which gives $6.02\\times10^{23}$ but in a \"Code\" cell we would write `6.02*10**23`"
   ]
  },
  {
   "cell_type": "markdown",
   "metadata": {},
   "source": [
    "The notation used between the dollar signs is LaTeX so you can go online and use a LaTeX editor to create an equation and paste the results here.  For example, a quick search gives me http://www.hostmath.com/. Here you can click on equation templates and it gives you the LaTeX code.  Just remember to paste it between `$$`.  \n",
    "\n",
    "`$\\int_{a}^{b} \\frac{\\sqrt[4]{a x}}{x} \\text{ d}x$` : \n",
    "$\\int_{a}^{b} \\frac{\\sqrt[4]{a x}}{x} \\text{ d}x$\n",
    "\n",
    "use double dollar signs `$$ $$` if you want your equation on it's own line and centered: $$\\int_{a}^{b} \\frac{\\sqrt[4]{a x}}{x} \\text{ d}x$$"
   ]
  },
  {
   "cell_type": "markdown",
   "metadata": {},
   "source": [
    "double click to see the code for the following: \n",
    "$$\\begin{cases}a & x = 0\\\\b & x > 0\\end{cases}$$\n",
    "\n",
    "$$\\begin{bmatrix}a & b \\\\c & d \\end{bmatrix}$$\n",
    "$\\color{red}{\\sum_a^b}$,  $\\overline{ab}$,  $\\overrightarrow{ab}$, $\\alpha$, $\\Delta$, $\\delta$"
   ]
  },
  {
   "cell_type": "markdown",
   "metadata": {},
   "source": [
    "### Example Problem: Let's calculate the number of atoms in a cubic meter of a bcc material given the atomic radius of 0.15 nm.  "
   ]
  },
  {
   "cell_type": "markdown",
   "metadata": {},
   "source": [
    "The volume of an bcc unit cell is given by $V_{cell}=\\left(\\frac{4 R}{\\sqrt{3}} \\right)^3$.  The bcc unit cell contains 2 atoms so we get the number of atoms per cubic meter as: \n",
    "$$\\frac{2}{\\left(\\frac{4 R}{\\sqrt{3}} \\right)^3}$$\n",
    "if R is given in meters.  "
   ]
  },
  {
   "cell_type": "code",
   "execution_count": 1,
   "metadata": {},
   "outputs": [],
   "source": [
    "import numpy as np"
   ]
  },
  {
   "cell_type": "code",
   "execution_count": 6,
   "metadata": {
    "scrolled": true
   },
   "outputs": [
    {
     "name": "stdout",
     "output_type": "stream",
     "text": [
      "4.811252243246881e+28\n",
      "or in nicer formatting:\n",
      "The number of atoms in the bcc unit cell is 4.81e+28 atoms/m^3\n"
     ]
    }
   ],
   "source": [
    "num_atoms_bcc=(2/(4*0.15*10**-9/np.sqrt(3))**3) # notice the double \"**\" for power\n",
    "print(num_atoms_bcc)\n",
    "print('or in nicer formatting:')\n",
    "print(f'The number of atoms in the bcc unit cell is {num_atoms_bcc:.3} atoms/m^3')"
   ]
  },
  {
   "cell_type": "markdown",
   "metadata": {},
   "source": [
    "### some additional help"
   ]
  },
  {
   "cell_type": "markdown",
   "metadata": {},
   "source": [
    "If you need to use functions such as the sqrt, exponential, sin, etc you will need to import numpy as \n",
    "```python\n",
    "import numpy as np\n",
    "```\n",
    "We imported this previously so we don't need to repeat that here. "
   ]
  },
  {
   "cell_type": "code",
   "execution_count": 10,
   "metadata": {},
   "outputs": [
    {
     "data": {
      "text/plain": [
       "7.38905609893065"
      ]
     },
     "execution_count": 10,
     "metadata": {},
     "output_type": "execute_result"
    }
   ],
   "source": [
    "np.exp(2)"
   ]
  },
  {
   "cell_type": "code",
   "execution_count": 11,
   "metadata": {},
   "outputs": [
    {
     "data": {
      "text/plain": [
       "12.0"
      ]
     },
     "execution_count": 11,
     "metadata": {},
     "output_type": "execute_result"
    }
   ],
   "source": [
    "np.sqrt(144)"
   ]
  },
  {
   "cell_type": "code",
   "execution_count": 7,
   "metadata": {},
   "outputs": [
    {
     "data": {
      "text/plain": [
       "0.7071067811865476"
      ]
     },
     "execution_count": 7,
     "metadata": {},
     "output_type": "execute_result"
    }
   ],
   "source": [
    "#180 degrees = pi radians\n",
    "np.cos(np.pi/4) #trig functions all expect radians not degrees"
   ]
  },
  {
   "cell_type": "markdown",
   "metadata": {},
   "source": [
    "Some special functions such as the error function requires the special extension from the scipy library.  "
   ]
  },
  {
   "cell_type": "code",
   "execution_count": 8,
   "metadata": {},
   "outputs": [],
   "source": [
    "from scipy import special"
   ]
  },
  {
   "cell_type": "code",
   "execution_count": 9,
   "metadata": {},
   "outputs": [
    {
     "data": {
      "text/plain": [
       "0.5204998778130465"
      ]
     },
     "execution_count": 9,
     "metadata": {},
     "output_type": "execute_result"
    }
   ],
   "source": [
    "special.erf(0.5)"
   ]
  },
  {
   "cell_type": "markdown",
   "metadata": {},
   "source": [
    "You will need to write your own function again this week so check the examples from last week and the video lesson but below is the basic format and an example.  \n",
    "\n",
    "```python\n",
    "def function_name(variable_1, variable_2, etc):\n",
    "    statement_1\n",
    "    statement_2\n",
    "    return variable #or print() statement\n",
    "```"
   ]
  },
  {
   "cell_type": "code",
   "execution_count": 10,
   "metadata": {},
   "outputs": [],
   "source": [
    "def atoms_per_bcc(atomic_radius): #atomic_radius in nm\n",
    "    num_atoms_bcc=(2/(4*atomic_radius*10**-9/np.sqrt(3))**3)\n",
    "    return num_atoms_bcc #atoms / m^3"
   ]
  },
  {
   "cell_type": "code",
   "execution_count": 19,
   "metadata": {},
   "outputs": [
    {
     "data": {
      "text/plain": [
       "4.811252243246881e+28"
      ]
     },
     "execution_count": 19,
     "metadata": {},
     "output_type": "execute_result"
    }
   ],
   "source": [
    "atoms_per_bcc(0.15)"
   ]
  },
  {
   "cell_type": "code",
   "execution_count": null,
   "metadata": {},
   "outputs": [],
   "source": []
  }
 ],
 "metadata": {
  "jupytext": {
   "formats": "ipynb,md"
  },
  "kernelspec": {
   "display_name": "Python 3",
   "language": "python",
   "name": "python3"
  },
  "language_info": {
   "codemirror_mode": {
    "name": "ipython",
    "version": 3
   },
   "file_extension": ".py",
   "mimetype": "text/x-python",
   "name": "python",
   "nbconvert_exporter": "python",
   "pygments_lexer": "ipython3",
   "version": "3.7.3"
  }
 },
 "nbformat": 4,
 "nbformat_minor": 2
}
