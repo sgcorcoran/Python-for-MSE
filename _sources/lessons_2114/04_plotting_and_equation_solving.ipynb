{
 "cells": [
  {
   "cell_type": "markdown",
   "metadata": {},
   "source": [
    "# Plotting and Equation Solving"
   ]
  },
  {
   "cell_type": "markdown",
   "metadata": {
    "tags": []
   },
   "source": [
    ":::{admonition} Learning Objectives  \n",
    "Be able to:\n",
    "* import libraries `numpy`, `sympy`, `matplotlib`;\n",
    "* symbolically manipulate an equation using `sympy.solve()`;\n",
    "* generate x and y data for a function using `numpy.linspace()`;\n",
    "* plot the x, y data using `matplotlib.pyplot.plot()`;\n",
    "* add horizontal lines and text to a plot; and\n",
    "* use pandas `read_csv` to open a data file\n",
    "* group (aggregate) data using pandas:  `groupby()`, `sum()`, `mean()`\n",
    ":::"
   ]
  },
  {
   "cell_type": "markdown",
   "metadata": {},
   "source": [
    "*You will need the following extensions:*"
   ]
  },
  {
   "cell_type": "markdown",
   "metadata": {},
   "source": [
    ":::{index} sympy solvers\n",
    ":::"
   ]
  },
  {
   "cell_type": "code",
   "execution_count": 1,
   "metadata": {},
   "outputs": [],
   "source": [
    "import numpy as np\n",
    "import matplotlib.pyplot as plt\n",
    "import pandas as pd\n",
    "from sympy.solvers import solve #for solving equations symbolically\n",
    "from sympy import symbols #for solving equations symbolically"
   ]
  },
  {
   "cell_type": "markdown",
   "metadata": {},
   "source": [
    "## Hints for [Problem 1](04:exercises:prob_1)"
   ]
  },
  {
   "cell_type": "markdown",
   "metadata": {},
   "source": [
    " $$  \\mathbf{\\text{% crystallinity} =  \\frac{\\rho_c (\\rho_s - \\rho_a)}{\\rho_s (\\rho_c - \\rho_a)} * 100} $$"
   ]
  },
  {
   "cell_type": "markdown",
   "metadata": {},
   "source": [
    "For this problem you will need to define a function to find the crystallinity based on the values of density as shown above.  Your function should look like: "
   ]
  },
  {
   "cell_type": "code",
   "execution_count": null,
   "metadata": {},
   "outputs": [],
   "source": [
    "def crystallinity(density_s, density_a, density_c):\n",
    "    percent_crys=   # finish this statement\n",
    "    return percent_crys\n",
    "\n",
    "crystallinity(0.925, 0.870, 0.998)  # checking your function output"
   ]
  },
  {
   "cell_type": "markdown",
   "metadata": {},
   "source": [
    "Write a function that takes percent_crystallinity, crystalline_density and amorphous_density and returns the sample density. For example,  \n",
    "\n",
    "```python\n",
    "def sample_density(percent_crystallinity, density_a, density_c):  \n",
    "     density_s=   #finish this equation\n",
    "     return density_s\n",
    "```\n",
    "\n",
    "To find the equation for the sample density, you will want to solve the crystallinity equation for the sample_density. You can do this using `sympy` after loading the following packages:  \n",
    "\n",
    "```python\n",
    "from sympy.solvers import solve #for solving equations symbolically\n",
    "from sympy import symbols #for solving equations symbolically\n",
    "```"
   ]
  },
  {
   "cell_type": "markdown",
   "metadata": {},
   "source": [
    ":::{index} solving equations, sympy, symbolic solvers, symbols, sympy.solvers.solve, solve\n",
    ":::\n",
    "\n",
    "### Example of solving an equation\n",
    "Let's say you wanted to solve the equation $a x^2 + b x + c = d$.  First, we tell python that a,b,c,d,x are symbols.  "
   ]
  },
  {
   "cell_type": "code",
   "execution_count": 3,
   "metadata": {},
   "outputs": [],
   "source": [
    "from sympy.solvers import solve #for solving equations symbolically\n",
    "from sympy import symbols #for solving equations symbolically"
   ]
  },
  {
   "cell_type": "code",
   "execution_count": 4,
   "metadata": {},
   "outputs": [],
   "source": [
    "a,b,c,d,x = symbols('a b c d x')"
   ]
  },
  {
   "cell_type": "markdown",
   "metadata": {},
   "source": [
    "Then we can use the solve command."
   ]
  },
  {
   "cell_type": "markdown",
   "metadata": {},
   "source": [
    ":::{important}  \n",
    "The equation that goes into the solve command must equal zero so we rewrite $a x^2 + b x + c = d$   as   $a x^2 + b x + c - d=0$.  Notice that we do not include the \"=0\" part in the solve function below because that is assumed.  \n",
    ":::"
   ]
  },
  {
   "cell_type": "markdown",
   "metadata": {},
   "source": [
    ":::{index} solve, sympy solve, symbols, symbolic solve\n",
    ":::"
   ]
  },
  {
   "cell_type": "code",
   "execution_count": 5,
   "metadata": {},
   "outputs": [
    {
     "data": {
      "text/plain": [
       "[(-b - sqrt(-4*a*c + 4*a*d + b**2))/(2*a),\n",
       " (-b + sqrt(-4*a*c + 4*a*d + b**2))/(2*a)]"
      ]
     },
     "execution_count": 5,
     "metadata": {},
     "output_type": "execute_result"
    }
   ],
   "source": [
    "# solve for x\n",
    "solve(a*x**2+b*x+c-d, x)"
   ]
  },
  {
   "cell_type": "code",
   "execution_count": 6,
   "metadata": {},
   "outputs": [
    {
     "data": {
      "text/plain": [
       "0.5"
      ]
     },
     "execution_count": 6,
     "metadata": {},
     "output_type": "execute_result"
    }
   ],
   "source": [
    "def x_solution(a,b,c,d):\n",
    "    return (-b + np.sqrt(-4*a*c + 4*a*d + b**2))/(2*a)\n",
    "\n",
    "x_solution(2,9,5,10)"
   ]
  },
  {
   "cell_type": "code",
   "execution_count": 7,
   "metadata": {},
   "outputs": [
    {
     "data": {
      "text/plain": [
       "0.8904617494884413"
      ]
     },
     "execution_count": 7,
     "metadata": {},
     "output_type": "execute_result"
    }
   ],
   "source": [
    "x_solution(2,9,0.4,10)"
   ]
  },
  {
   "cell_type": "markdown",
   "metadata": {},
   "source": [
    "**Let's find our x solution for different values of the parameter \"d\"**\n",
    "\n",
    ":::{index} np.linspace, linspace, list comprehension\n",
    ":::"
   ]
  },
  {
   "cell_type": "markdown",
   "metadata": {},
   "source": [
    "The `np.linspace(min, max, numpts)` creates evenly spaced points between two numbers.  The number of points you want is given by the third number."
   ]
  },
  {
   "cell_type": "code",
   "execution_count": 16,
   "metadata": {},
   "outputs": [
    {
     "name": "stdout",
     "output_type": "stream",
     "text": [
      "linspace list dd =  [0.   1.25 2.5  3.75 5.  ]\n"
     ]
    },
    {
     "data": {
      "text/plain": [
       "[-0.6492189406417879,\n",
       " -0.4646428928642874,\n",
       " -0.2974375810233365,\n",
       " -0.14346255670591024,\n",
       " 0.0]"
      ]
     },
     "execution_count": 16,
     "metadata": {},
     "output_type": "execute_result"
    }
   ],
   "source": [
    "dd=np.linspace(0,5,5) #first pt =0, last point=5, total points=5\n",
    "print('linspace list dd = ',dd)\n",
    "[x_solution(2,9,5,d) for d in dd] #list comprehension loop"
   ]
  },
  {
   "cell_type": "markdown",
   "metadata": {},
   "source": [
    "**Let's use the above method to find x solutions for 20 d values between 0 and 50.  Example annotations are also included in the plot.**  "
   ]
  },
  {
   "cell_type": "markdown",
   "metadata": {},
   "source": [
    ":::{index} annotate plots, plt.plot, plot, xlabel, ylabel, plt.show\n",
    ":::"
   ]
  },
  {
   "cell_type": "code",
   "execution_count": 17,
   "metadata": {},
   "outputs": [
    {
     "data": {
      "image/png": "[encoded data removed]",
      "text/plain": [
       "<Figure size 640x480 with 1 Axes>"
      ]
     },
     "metadata": {},
     "output_type": "display_data"
    }
   ],
   "source": [
    "d=np.linspace(0, 50, 20) #creates 20 evenly spaced d-values from 0 to 50\n",
    "x_sol=x_solution(2,9,5,d)\n",
    "plt.plot(d,x_sol,'ro')\n",
    "plt.xlabel('d')\n",
    "plt.ylabel('x solution')\n",
    "plt.annotate('$a x^2 + b x + c = d$', xy=(5, 2.5), color='b') # you can include text on your plot\n",
    "plt.annotate('$a x^2$', xy=(40, 0.5), color='b') # you can include text on your plot\n",
    "plt.show()"
   ]
  },
  {
   "cell_type": "markdown",
   "metadata": {},
   "source": [
    "## Hints for [Problem 2](04:exercises:prob_2) "
   ]
  },
  {
   "cell_type": "markdown",
   "metadata": {},
   "source": [
    "Last week we calculated the value of $\\left(4\\times \\frac{\\text{pts in circle}}{\\text{total num pts}}\\right)$ for 1000 random points.  This week you will plot the value as a function of the number of random points.  That is, you want to write a function that takes a parameter, $n$, for the total number of points and returns the value $\\left(4\\times \\frac{\\text{pts in circle}}{\\text{total num pts}}\\right)$. "
   ]
  },
  {
   "cell_type": "markdown",
   "metadata": {},
   "source": [
    "My code for 1000 random points was:  "
   ]
  },
  {
   "cell_type": "markdown",
   "metadata": {},
   "source": [
    "```python\n",
    "xcoord=(2)*np.random.random(1000)-1 #1000 random pts from -1 to 1\n",
    "ycoord=(2)*np.random.random(1000)-1 #1000 random pts from -1 to 1\n",
    "magnitude=np.sqrt(xcoord**2+ycoord**2) #length from center (0,0) to point\n",
    "mag_test=magnitude<=1\n",
    "4*len(xcoord[mag_test])/len(xcoord)\n",
    "```"
   ]
  },
  {
   "cell_type": "markdown",
   "metadata": {},
   "source": [
    "Check what `len(xcoord[magnitude<=1])` and `len(xcoord)` does in my code above.  "
   ]
  },
  {
   "cell_type": "markdown",
   "metadata": {},
   "source": [
    ":::{index} len\n",
    ":::"
   ]
  },
  {
   "cell_type": "markdown",
   "metadata": {},
   "source": [
    "Since your n value in this problem will vary from 100 to 1,000,000 (i.e. several orders of magnitude) it is better to use `geomspace()` rather than `linspace()`. `geomspace()` gives pts spaced on a log scale which is much better when our values change by orders of magnitude. \n",
    "\n",
    "*Don't forget that your function above requires an integer to be input so you will want to make sure geomspace() is giving you an integer or round your list to the nearest integer.* "
   ]
  },
  {
   "cell_type": "markdown",
   "metadata": {},
   "source": [
    ":::{index} np.geomspace, geomspace\n",
    ":::"
   ]
  },
  {
   "cell_type": "code",
   "execution_count": 23,
   "metadata": {},
   "outputs": [
    {
     "name": "stdout",
     "output_type": "stream",
     "text": [
      "geomspace: notice the nice sample of values across all magnitudes\n",
      "\n",
      "[    100     120     145     175     212     255     308     372     449\n",
      "     542     655     790     954    1151    1389    1676    2023    2442\n",
      "    2947    3556    4291    5179    6250    7543    9102   10985   13257\n",
      "   15998   19306   23299   28117   33932   40949   49417   59636   71968\n",
      "   86851  104811  126485  152641  184206  222299  268269  323745  390693\n",
      "  471486  568986  686648  828642 1000000]\n",
      "\n",
      "linspace: notice this skips from 100 to 20506 for the first point\n",
      "\n",
      "[    100   20506   40912   61318   81724  102130  122536  142942  163348\n",
      "  183755  204161  224567  244973  265379  285785  306191  326597  347004\n",
      "  367410  387816  408222  428628  449034  469440  489846  510253  530659\n",
      "  551065  571471  591877  612283  632689  653095  673502  693908  714314\n",
      "  734720  755126  775532  795938  816344  836751  857157  877563  897969\n",
      "  918375  938781  959187  979593 1000000]\n"
     ]
    }
   ],
   "source": [
    "xdata=np.geomspace(100,1e6,num=50, dtype=int) #tell it to round to the closest integer dtype=int\n",
    "print('geomspace: notice the nice sample of values across all magnitudes\\n')\n",
    "print(xdata)\n",
    "# notice the increasing step size as our numbers get larger\n",
    "# compare this to linspace\n",
    "print('\\nlinspace: notice this skips from 100 to 20506 for the first point\\n')\n",
    "print(np.linspace(100, 1e6, num=50, dtype=int))"
   ]
  },
  {
   "cell_type": "markdown",
   "metadata": {},
   "source": [
    "## Hints for [Problem 3](04:exercises:prob_3)"
   ]
  },
  {
   "cell_type": "markdown",
   "metadata": {},
   "source": [
    "Import the csv file [titanic.csv](https://drive.google.com/uc?export=download&id=1ELCvnr0WjQcglNlmxhqzsAOK8DnPaHW_) and (a) determine the percentage of woman that survived and the percentage of men that survived and (b) determine the average ticket price (Fare) for those that survived versus those that did not survive.  0 = did not survive. 1 = survived."
   ]
  },
  {
   "cell_type": "markdown",
   "metadata": {},
   "source": [
    "Last week we learned how to use pandas to import an excel file; clean imported data including dropping NAN, filling NAN, renaming columns, dropping rows, sorting, slicing, and adding new columns."
   ]
  },
  {
   "cell_type": "markdown",
   "metadata": {},
   "source": [
    "*Now we need to learn how to group (aggregate) data:  `groupby()`, `sum()`, `mean()`  \n",
    "Let's take a look at a data file containing information about the insulation thickness from a wire coat machine versus several parameters.  "
   ]
  },
  {
   "cell_type": "code",
   "execution_count": 25,
   "metadata": {},
   "outputs": [
    {
     "data": {
      "text/html": [
       "<div>\n",
       "<style scoped>\n",
       "    .dataframe tbody tr th:only-of-type {\n",
       "        vertical-align: middle;\n",
       "    }\n",
       "\n",
       "    .dataframe tbody tr th {\n",
       "        vertical-align: top;\n",
       "    }\n",
       "\n",
       "    .dataframe thead th {\n",
       "        text-align: right;\n",
       "    }\n",
       "</style>\n",
       "<table border=\"1\" class=\"dataframe\">\n",
       "  <thead>\n",
       "    <tr style=\"text-align: right;\">\n",
       "      <th></th>\n",
       "      <th>Unnamed: 0.1</th>\n",
       "      <th>Unnamed: 0</th>\n",
       "      <th>ExtrTemp</th>\n",
       "      <th>LineSpeed</th>\n",
       "      <th>WaterTemp</th>\n",
       "      <th>Measure</th>\n",
       "      <th>City</th>\n",
       "    </tr>\n",
       "  </thead>\n",
       "  <tbody>\n",
       "    <tr>\n",
       "      <th>0</th>\n",
       "      <td>0</td>\n",
       "      <td>0</td>\n",
       "      <td>234.83</td>\n",
       "      <td>55.28</td>\n",
       "      <td>26.67</td>\n",
       "      <td>170.67</td>\n",
       "      <td>Kairo</td>\n",
       "    </tr>\n",
       "    <tr>\n",
       "      <th>1</th>\n",
       "      <td>1</td>\n",
       "      <td>1</td>\n",
       "      <td>235.09</td>\n",
       "      <td>54.13</td>\n",
       "      <td>26.97</td>\n",
       "      <td>182.86</td>\n",
       "      <td>Kairo</td>\n",
       "    </tr>\n",
       "    <tr>\n",
       "      <th>2</th>\n",
       "      <td>2</td>\n",
       "      <td>2</td>\n",
       "      <td>235.09</td>\n",
       "      <td>54.33</td>\n",
       "      <td>27.46</td>\n",
       "      <td>182.74</td>\n",
       "      <td>Kairo</td>\n",
       "    </tr>\n",
       "  </tbody>\n",
       "</table>\n",
       "</div>"
      ],
      "text/plain": [
       "   Unnamed: 0.1  Unnamed: 0  ExtrTemp  LineSpeed  WaterTemp  Measure   City\n",
       "0             0           0    234.83      55.28      26.67   170.67  Kairo\n",
       "1             1           1    235.09      54.13      26.97   182.86  Kairo\n",
       "2             2           2    235.09      54.33      27.46   182.74  Kairo"
      ]
     },
     "execution_count": 25,
     "metadata": {},
     "output_type": "execute_result"
    }
   ],
   "source": [
    "# This is a direct read of the file \"raw_clean_cable_insulation.csv\" from a google drive. \n",
    "raw=pd.read_csv('https://drive.google.com/uc?id=1zmsrtUgXZhJJzERQXFKkUVoCD1zNbBSr')\n",
    "raw.head(3) #looking at only first 3 records"
   ]
  },
  {
   "cell_type": "code",
   "execution_count": 26,
   "metadata": {},
   "outputs": [
    {
     "data": {
      "text/html": [
       "<div>\n",
       "<style scoped>\n",
       "    .dataframe tbody tr th:only-of-type {\n",
       "        vertical-align: middle;\n",
       "    }\n",
       "\n",
       "    .dataframe tbody tr th {\n",
       "        vertical-align: top;\n",
       "    }\n",
       "\n",
       "    .dataframe thead th {\n",
       "        text-align: right;\n",
       "    }\n",
       "</style>\n",
       "<table border=\"1\" class=\"dataframe\">\n",
       "  <thead>\n",
       "    <tr style=\"text-align: right;\">\n",
       "      <th></th>\n",
       "      <th>ExtrTemp</th>\n",
       "      <th>LineSpeed</th>\n",
       "      <th>WaterTemp</th>\n",
       "      <th>Measure</th>\n",
       "      <th>City</th>\n",
       "    </tr>\n",
       "  </thead>\n",
       "  <tbody>\n",
       "    <tr>\n",
       "      <th>0</th>\n",
       "      <td>234.83</td>\n",
       "      <td>55.28</td>\n",
       "      <td>26.67</td>\n",
       "      <td>170.67</td>\n",
       "      <td>Kairo</td>\n",
       "    </tr>\n",
       "    <tr>\n",
       "      <th>1</th>\n",
       "      <td>235.09</td>\n",
       "      <td>54.13</td>\n",
       "      <td>26.97</td>\n",
       "      <td>182.86</td>\n",
       "      <td>Kairo</td>\n",
       "    </tr>\n",
       "    <tr>\n",
       "      <th>2</th>\n",
       "      <td>235.09</td>\n",
       "      <td>54.33</td>\n",
       "      <td>27.46</td>\n",
       "      <td>182.74</td>\n",
       "      <td>Kairo</td>\n",
       "    </tr>\n",
       "    <tr>\n",
       "      <th>3</th>\n",
       "      <td>235.05</td>\n",
       "      <td>55.00</td>\n",
       "      <td>26.83</td>\n",
       "      <td>175.49</td>\n",
       "      <td>Kairo</td>\n",
       "    </tr>\n",
       "    <tr>\n",
       "      <th>4</th>\n",
       "      <td>235.04</td>\n",
       "      <td>55.26</td>\n",
       "      <td>26.62</td>\n",
       "      <td>172.80</td>\n",
       "      <td>Kairo</td>\n",
       "    </tr>\n",
       "    <tr>\n",
       "      <th>...</th>\n",
       "      <td>...</td>\n",
       "      <td>...</td>\n",
       "      <td>...</td>\n",
       "      <td>...</td>\n",
       "      <td>...</td>\n",
       "    </tr>\n",
       "    <tr>\n",
       "      <th>9992</th>\n",
       "      <td>234.92</td>\n",
       "      <td>55.09</td>\n",
       "      <td>26.98</td>\n",
       "      <td>173.84</td>\n",
       "      <td>Cairo</td>\n",
       "    </tr>\n",
       "    <tr>\n",
       "      <th>9993</th>\n",
       "      <td>235.22</td>\n",
       "      <td>55.91</td>\n",
       "      <td>27.30</td>\n",
       "      <td>171.86</td>\n",
       "      <td>Cairo</td>\n",
       "    </tr>\n",
       "    <tr>\n",
       "      <th>9994</th>\n",
       "      <td>235.13</td>\n",
       "      <td>55.43</td>\n",
       "      <td>26.99</td>\n",
       "      <td>173.59</td>\n",
       "      <td>Cairo</td>\n",
       "    </tr>\n",
       "    <tr>\n",
       "      <th>9995</th>\n",
       "      <td>235.05</td>\n",
       "      <td>54.73</td>\n",
       "      <td>26.73</td>\n",
       "      <td>177.21</td>\n",
       "      <td>Cairo</td>\n",
       "    </tr>\n",
       "    <tr>\n",
       "      <th>9996</th>\n",
       "      <td>235.10</td>\n",
       "      <td>54.57</td>\n",
       "      <td>27.21</td>\n",
       "      <td>180.25</td>\n",
       "      <td>Cairo</td>\n",
       "    </tr>\n",
       "  </tbody>\n",
       "</table>\n",
       "<p>9997 rows × 5 columns</p>\n",
       "</div>"
      ],
      "text/plain": [
       "      ExtrTemp  LineSpeed  WaterTemp  Measure   City\n",
       "0       234.83      55.28      26.67   170.67  Kairo\n",
       "1       235.09      54.13      26.97   182.86  Kairo\n",
       "2       235.09      54.33      27.46   182.74  Kairo\n",
       "3       235.05      55.00      26.83   175.49  Kairo\n",
       "4       235.04      55.26      26.62   172.80  Kairo\n",
       "...        ...        ...        ...      ...    ...\n",
       "9992    234.92      55.09      26.98   173.84  Cairo\n",
       "9993    235.22      55.91      27.30   171.86  Cairo\n",
       "9994    235.13      55.43      26.99   173.59  Cairo\n",
       "9995    235.05      54.73      26.73   177.21  Cairo\n",
       "9996    235.10      54.57      27.21   180.25  Cairo\n",
       "\n",
       "[9997 rows x 5 columns]"
      ]
     },
     "execution_count": 26,
     "metadata": {},
     "output_type": "execute_result"
    }
   ],
   "source": [
    "# dropping first two columns here since I don't need them\n",
    "df=raw.drop(['Unnamed: 0.1','Unnamed: 0'],axis=1)\n",
    "df"
   ]
  },
  {
   "cell_type": "code",
   "execution_count": 29,
   "metadata": {},
   "outputs": [
    {
     "data": {
      "text/html": [
       "<div>\n",
       "<style scoped>\n",
       "    .dataframe tbody tr th:only-of-type {\n",
       "        vertical-align: middle;\n",
       "    }\n",
       "\n",
       "    .dataframe tbody tr th {\n",
       "        vertical-align: top;\n",
       "    }\n",
       "\n",
       "    .dataframe thead th {\n",
       "        text-align: right;\n",
       "    }\n",
       "</style>\n",
       "<table border=\"1\" class=\"dataframe\">\n",
       "  <thead>\n",
       "    <tr style=\"text-align: right;\">\n",
       "      <th></th>\n",
       "      <th>ExtrTemp</th>\n",
       "      <th>LineSpeed</th>\n",
       "      <th>WaterTemp</th>\n",
       "      <th>Measure</th>\n",
       "      <th>City</th>\n",
       "    </tr>\n",
       "  </thead>\n",
       "  <tbody>\n",
       "    <tr>\n",
       "      <th>0</th>\n",
       "      <td>235.0</td>\n",
       "      <td>55.3</td>\n",
       "      <td>26.67</td>\n",
       "      <td>170.67</td>\n",
       "      <td>Kairo</td>\n",
       "    </tr>\n",
       "    <tr>\n",
       "      <th>1</th>\n",
       "      <td>235.0</td>\n",
       "      <td>54.1</td>\n",
       "      <td>26.97</td>\n",
       "      <td>182.86</td>\n",
       "      <td>Kairo</td>\n",
       "    </tr>\n",
       "    <tr>\n",
       "      <th>2</th>\n",
       "      <td>235.0</td>\n",
       "      <td>54.3</td>\n",
       "      <td>27.46</td>\n",
       "      <td>182.74</td>\n",
       "      <td>Kairo</td>\n",
       "    </tr>\n",
       "    <tr>\n",
       "      <th>3</th>\n",
       "      <td>235.0</td>\n",
       "      <td>55.0</td>\n",
       "      <td>26.83</td>\n",
       "      <td>175.49</td>\n",
       "      <td>Kairo</td>\n",
       "    </tr>\n",
       "    <tr>\n",
       "      <th>4</th>\n",
       "      <td>235.0</td>\n",
       "      <td>55.3</td>\n",
       "      <td>26.62</td>\n",
       "      <td>172.80</td>\n",
       "      <td>Kairo</td>\n",
       "    </tr>\n",
       "    <tr>\n",
       "      <th>...</th>\n",
       "      <td>...</td>\n",
       "      <td>...</td>\n",
       "      <td>...</td>\n",
       "      <td>...</td>\n",
       "      <td>...</td>\n",
       "    </tr>\n",
       "    <tr>\n",
       "      <th>9992</th>\n",
       "      <td>235.0</td>\n",
       "      <td>55.1</td>\n",
       "      <td>26.98</td>\n",
       "      <td>173.84</td>\n",
       "      <td>Cairo</td>\n",
       "    </tr>\n",
       "    <tr>\n",
       "      <th>9993</th>\n",
       "      <td>235.0</td>\n",
       "      <td>55.9</td>\n",
       "      <td>27.30</td>\n",
       "      <td>171.86</td>\n",
       "      <td>Cairo</td>\n",
       "    </tr>\n",
       "    <tr>\n",
       "      <th>9994</th>\n",
       "      <td>235.0</td>\n",
       "      <td>55.4</td>\n",
       "      <td>26.99</td>\n",
       "      <td>173.59</td>\n",
       "      <td>Cairo</td>\n",
       "    </tr>\n",
       "    <tr>\n",
       "      <th>9995</th>\n",
       "      <td>235.0</td>\n",
       "      <td>54.7</td>\n",
       "      <td>26.73</td>\n",
       "      <td>177.21</td>\n",
       "      <td>Cairo</td>\n",
       "    </tr>\n",
       "    <tr>\n",
       "      <th>9996</th>\n",
       "      <td>235.0</td>\n",
       "      <td>54.6</td>\n",
       "      <td>27.21</td>\n",
       "      <td>180.25</td>\n",
       "      <td>Cairo</td>\n",
       "    </tr>\n",
       "  </tbody>\n",
       "</table>\n",
       "<p>9997 rows × 5 columns</p>\n",
       "</div>"
      ],
      "text/plain": [
       "      ExtrTemp  LineSpeed  WaterTemp  Measure   City\n",
       "0        235.0       55.3      26.67   170.67  Kairo\n",
       "1        235.0       54.1      26.97   182.86  Kairo\n",
       "2        235.0       54.3      27.46   182.74  Kairo\n",
       "3        235.0       55.0      26.83   175.49  Kairo\n",
       "4        235.0       55.3      26.62   172.80  Kairo\n",
       "...        ...        ...        ...      ...    ...\n",
       "9992     235.0       55.1      26.98   173.84  Cairo\n",
       "9993     235.0       55.9      27.30   171.86  Cairo\n",
       "9994     235.0       55.4      26.99   173.59  Cairo\n",
       "9995     235.0       54.7      26.73   177.21  Cairo\n",
       "9996     235.0       54.6      27.21   180.25  Cairo\n",
       "\n",
       "[9997 rows x 5 columns]"
      ]
     },
     "execution_count": 29,
     "metadata": {},
     "output_type": "execute_result"
    }
   ],
   "source": [
    "# rounding some of the numbers so they group better\n",
    "# i.e. 234.92 and 235.22 etc should all just be 235.  \n",
    "# you won't need to do this for the titanic data\n",
    "df['LineSpeed']=df.loc[:,'LineSpeed'].round(1)\n",
    "df['ExtrTemp']=df.loc[:,'ExtrTemp'].round(0)\n",
    "df"
   ]
  },
  {
   "cell_type": "markdown",
   "metadata": {},
   "source": [
    "1. Let's find the percentage of Measurements made in Alexandria vs the total number of measurements.  \n",
    "2. Let's also find the average WaterTemp for all measurements made in Alexandria at an ExtrTemp of 235.0  "
   ]
  },
  {
   "cell_type": "code",
   "execution_count": 33,
   "metadata": {
    "scrolled": true
   },
   "outputs": [
    {
     "data": {
      "text/html": [
       "<div>\n",
       "<style scoped>\n",
       "    .dataframe tbody tr th:only-of-type {\n",
       "        vertical-align: middle;\n",
       "    }\n",
       "\n",
       "    .dataframe tbody tr th {\n",
       "        vertical-align: top;\n",
       "    }\n",
       "\n",
       "    .dataframe thead th {\n",
       "        text-align: right;\n",
       "    }\n",
       "</style>\n",
       "<table border=\"1\" class=\"dataframe\">\n",
       "  <thead>\n",
       "    <tr style=\"text-align: right;\">\n",
       "      <th></th>\n",
       "      <th>ExtrTemp</th>\n",
       "      <th>LineSpeed</th>\n",
       "      <th>WaterTemp</th>\n",
       "      <th>Measure</th>\n",
       "    </tr>\n",
       "    <tr>\n",
       "      <th>City</th>\n",
       "      <th></th>\n",
       "      <th></th>\n",
       "      <th></th>\n",
       "      <th></th>\n",
       "    </tr>\n",
       "  </thead>\n",
       "  <tbody>\n",
       "    <tr>\n",
       "      <th>Alexandria</th>\n",
       "      <td>5520</td>\n",
       "      <td>5520</td>\n",
       "      <td>5520</td>\n",
       "      <td>5520</td>\n",
       "    </tr>\n",
       "    <tr>\n",
       "      <th>CAI</th>\n",
       "      <td>17</td>\n",
       "      <td>17</td>\n",
       "      <td>17</td>\n",
       "      <td>17</td>\n",
       "    </tr>\n",
       "    <tr>\n",
       "      <th>Cairo</th>\n",
       "      <td>4413</td>\n",
       "      <td>4413</td>\n",
       "      <td>4413</td>\n",
       "      <td>4413</td>\n",
       "    </tr>\n",
       "    <tr>\n",
       "      <th>Kairo</th>\n",
       "      <td>47</td>\n",
       "      <td>47</td>\n",
       "      <td>47</td>\n",
       "      <td>47</td>\n",
       "    </tr>\n",
       "  </tbody>\n",
       "</table>\n",
       "</div>"
      ],
      "text/plain": [
       "            ExtrTemp  LineSpeed  WaterTemp  Measure\n",
       "City                                               \n",
       "Alexandria      5520       5520       5520     5520\n",
       "CAI               17         17         17       17\n",
       "Cairo           4413       4413       4413     4413\n",
       "Kairo             47         47         47       47"
      ]
     },
     "execution_count": 33,
     "metadata": {},
     "output_type": "execute_result"
    }
   ],
   "source": [
    "# groupby collects all records for the different cities and then\n",
    "# .count() counts how many records there are in each city grouping\n",
    "dfgroup=df.groupby(['City']).count()\n",
    "dfgroup"
   ]
  },
  {
   "cell_type": "code",
   "execution_count": 34,
   "metadata": {},
   "outputs": [
    {
     "data": {
      "text/plain": [
       "ExtrTemp     9997\n",
       "LineSpeed    9997\n",
       "WaterTemp    9997\n",
       "Measure      9997\n",
       "dtype: int64"
      ]
     },
     "execution_count": 34,
     "metadata": {},
     "output_type": "execute_result"
    }
   ],
   "source": [
    "# using .sum() we can get the total number of records in each column\n",
    "# by default .sum() sums down columns\n",
    "dfgroup.sum()"
   ]
  },
  {
   "cell_type": "code",
   "execution_count": 35,
   "metadata": {},
   "outputs": [
    {
     "data": {
      "text/plain": [
       "55.21656496949085"
      ]
     },
     "execution_count": 35,
     "metadata": {},
     "output_type": "execute_result"
    }
   ],
   "source": [
    "# calculating percent of records in Alexandria vs total of 9997\n",
    "# using .loc[] to pull from dataframe \"dfgroup.loc[row, column]\"\n",
    "dfgroup.loc['Alexandria','Measure']/9997*100 #percent"
   ]
  },
  {
   "cell_type": "code",
   "execution_count": 36,
   "metadata": {},
   "outputs": [
    {
     "data": {
      "text/html": [
       "<div>\n",
       "<style scoped>\n",
       "    .dataframe tbody tr th:only-of-type {\n",
       "        vertical-align: middle;\n",
       "    }\n",
       "\n",
       "    .dataframe tbody tr th {\n",
       "        vertical-align: top;\n",
       "    }\n",
       "\n",
       "    .dataframe thead th {\n",
       "        text-align: right;\n",
       "    }\n",
       "</style>\n",
       "<table border=\"1\" class=\"dataframe\">\n",
       "  <thead>\n",
       "    <tr style=\"text-align: right;\">\n",
       "      <th></th>\n",
       "      <th></th>\n",
       "      <th>LineSpeed</th>\n",
       "      <th>WaterTemp</th>\n",
       "      <th>Measure</th>\n",
       "    </tr>\n",
       "    <tr>\n",
       "      <th>City</th>\n",
       "      <th>ExtrTemp</th>\n",
       "      <th></th>\n",
       "      <th></th>\n",
       "      <th></th>\n",
       "    </tr>\n",
       "  </thead>\n",
       "  <tbody>\n",
       "    <tr>\n",
       "      <th rowspan=\"3\" valign=\"top\">Alexandria</th>\n",
       "      <th>234.0</th>\n",
       "      <td>54.894118</td>\n",
       "      <td>27.056471</td>\n",
       "      <td>170.712353</td>\n",
       "    </tr>\n",
       "    <tr>\n",
       "      <th>235.0</th>\n",
       "      <td>55.003924</td>\n",
       "      <td>26.999927</td>\n",
       "      <td>175.425584</td>\n",
       "    </tr>\n",
       "    <tr>\n",
       "      <th>236.0</th>\n",
       "      <td>55.115152</td>\n",
       "      <td>27.000606</td>\n",
       "      <td>180.169091</td>\n",
       "    </tr>\n",
       "    <tr>\n",
       "      <th>CAI</th>\n",
       "      <th>235.0</th>\n",
       "      <td>55.176471</td>\n",
       "      <td>26.965882</td>\n",
       "      <td>174.288235</td>\n",
       "    </tr>\n",
       "    <tr>\n",
       "      <th rowspan=\"3\" valign=\"top\">Cairo</th>\n",
       "      <th>234.0</th>\n",
       "      <td>54.980645</td>\n",
       "      <td>27.035806</td>\n",
       "      <td>169.769032</td>\n",
       "    </tr>\n",
       "    <tr>\n",
       "      <th>235.0</th>\n",
       "      <td>54.994089</td>\n",
       "      <td>26.993054</td>\n",
       "      <td>175.444202</td>\n",
       "    </tr>\n",
       "    <tr>\n",
       "      <th>236.0</th>\n",
       "      <td>55.014706</td>\n",
       "      <td>27.005294</td>\n",
       "      <td>181.228824</td>\n",
       "    </tr>\n",
       "    <tr>\n",
       "      <th>Kairo</th>\n",
       "      <th>235.0</th>\n",
       "      <td>55.093617</td>\n",
       "      <td>26.941915</td>\n",
       "      <td>174.370426</td>\n",
       "    </tr>\n",
       "  </tbody>\n",
       "</table>\n",
       "</div>"
      ],
      "text/plain": [
       "                     LineSpeed  WaterTemp     Measure\n",
       "City       ExtrTemp                                  \n",
       "Alexandria 234.0     54.894118  27.056471  170.712353\n",
       "           235.0     55.003924  26.999927  175.425584\n",
       "           236.0     55.115152  27.000606  180.169091\n",
       "CAI        235.0     55.176471  26.965882  174.288235\n",
       "Cairo      234.0     54.980645  27.035806  169.769032\n",
       "           235.0     54.994089  26.993054  175.444202\n",
       "           236.0     55.014706  27.005294  181.228824\n",
       "Kairo      235.0     55.093617  26.941915  174.370426"
      ]
     },
     "execution_count": 36,
     "metadata": {},
     "output_type": "execute_result"
    }
   ],
   "source": [
    "# now we are grouping by two columns\n",
    "# we first collect the Cities\n",
    "# then group within each city by the ExtrTemp (extruder temperature)\n",
    "# here we take the mean or average value in these two categories for each column\n",
    "dfmean=df.groupby(['City','ExtrTemp']).mean()\n",
    "dfmean"
   ]
  },
  {
   "cell_type": "code",
   "execution_count": 37,
   "metadata": {},
   "outputs": [
    {
     "data": {
      "text/plain": [
       "26.999926645883"
      ]
     },
     "execution_count": 37,
     "metadata": {},
     "output_type": "execute_result"
    }
   ],
   "source": [
    "# the mean value of WaterTemp in Alexandria at an ExtrTemp of 235 degrees is\n",
    "# note row is ('Alexandria',235.0) and the column we want is 'WaterTemp'\n",
    "dfmean.loc[('Alexandria',235.0), 'WaterTemp']"
   ]
  },
  {
   "cell_type": "markdown",
   "metadata": {},
   "source": [
    "### Pivot Table"
   ]
  },
  {
   "cell_type": "markdown",
   "metadata": {},
   "source": [
    "For a lot more control, we could use pivot_table to specify different aggregation functions for each column of values we want to analyze.  You should be able to do what you want with groupby() but the pivot_table is a more manual way to specify many options.  "
   ]
  },
  {
   "cell_type": "markdown",
   "metadata": {},
   "source": [
    ":::{index} pd.pivot_table, pivot_table\n",
    ":::"
   ]
  },
  {
   "cell_type": "code",
   "execution_count": 41,
   "metadata": {},
   "outputs": [
    {
     "data": {
      "text/html": [
       "<style type=\"text/css\">\n",
       "</style>\n",
       "<table id=\"T_06bc1\">\n",
       "  <thead>\n",
       "    <tr>\n",
       "      <th class=\"blank\" >&nbsp;</th>\n",
       "      <th class=\"blank level0\" >&nbsp;</th>\n",
       "      <th id=\"T_06bc1_level0_col0\" class=\"col_heading level0 col0\" colspan=\"3\">LineSpeed</th>\n",
       "      <th id=\"T_06bc1_level0_col3\" class=\"col_heading level0 col3\" >Measure</th>\n",
       "      <th id=\"T_06bc1_level0_col4\" class=\"col_heading level0 col4\" colspan=\"3\">WaterTemp</th>\n",
       "    </tr>\n",
       "    <tr>\n",
       "      <th class=\"blank\" >&nbsp;</th>\n",
       "      <th class=\"blank level1\" >&nbsp;</th>\n",
       "      <th id=\"T_06bc1_level1_col0\" class=\"col_heading level1 col0\" >mean</th>\n",
       "      <th id=\"T_06bc1_level1_col1\" class=\"col_heading level1 col1\" >size</th>\n",
       "      <th id=\"T_06bc1_level1_col2\" class=\"col_heading level1 col2\" >sum</th>\n",
       "      <th id=\"T_06bc1_level1_col3\" class=\"col_heading level1 col3\" >mean</th>\n",
       "      <th id=\"T_06bc1_level1_col4\" class=\"col_heading level1 col4\" >max</th>\n",
       "      <th id=\"T_06bc1_level1_col5\" class=\"col_heading level1 col5\" >mean</th>\n",
       "      <th id=\"T_06bc1_level1_col6\" class=\"col_heading level1 col6\" >min</th>\n",
       "    </tr>\n",
       "    <tr>\n",
       "      <th class=\"index_name level0\" >City</th>\n",
       "      <th class=\"index_name level1\" >ExtrTemp</th>\n",
       "      <th class=\"blank col0\" >&nbsp;</th>\n",
       "      <th class=\"blank col1\" >&nbsp;</th>\n",
       "      <th class=\"blank col2\" >&nbsp;</th>\n",
       "      <th class=\"blank col3\" >&nbsp;</th>\n",
       "      <th class=\"blank col4\" >&nbsp;</th>\n",
       "      <th class=\"blank col5\" >&nbsp;</th>\n",
       "      <th class=\"blank col6\" >&nbsp;</th>\n",
       "    </tr>\n",
       "  </thead>\n",
       "  <tbody>\n",
       "    <tr>\n",
       "      <th id=\"T_06bc1_level0_row0\" class=\"row_heading level0 row0\" rowspan=\"3\">Alexandria</th>\n",
       "      <th id=\"T_06bc1_level1_row0\" class=\"row_heading level1 row0\" >234.000000</th>\n",
       "      <td id=\"T_06bc1_row0_col0\" class=\"data row0 col0\" >54.894118</td>\n",
       "      <td id=\"T_06bc1_row0_col1\" class=\"data row0 col1\" >34</td>\n",
       "      <td id=\"T_06bc1_row0_col2\" class=\"data row0 col2\" >1866.400000</td>\n",
       "      <td id=\"T_06bc1_row0_col3\" class=\"data row0 col3\" >170.712353</td>\n",
       "      <td id=\"T_06bc1_row0_col4\" class=\"data row0 col4\" >27.560000</td>\n",
       "      <td id=\"T_06bc1_row0_col5\" class=\"data row0 col5\" >27.056471</td>\n",
       "      <td id=\"T_06bc1_row0_col6\" class=\"data row0 col6\" >26.520000</td>\n",
       "    </tr>\n",
       "    <tr>\n",
       "      <th id=\"T_06bc1_level1_row1\" class=\"row_heading level1 row1\" >235.000000</th>\n",
       "      <td id=\"T_06bc1_row1_col0\" class=\"data row1 col0\" >55.003924</td>\n",
       "      <td id=\"T_06bc1_row1_col1\" class=\"data row1 col1\" >5453</td>\n",
       "      <td id=\"T_06bc1_row1_col2\" class=\"data row1 col2\" >299936.400000</td>\n",
       "      <td id=\"T_06bc1_row1_col3\" class=\"data row1 col3\" >175.425584</td>\n",
       "      <td id=\"T_06bc1_row1_col4\" class=\"data row1 col4\" >27.700000</td>\n",
       "      <td id=\"T_06bc1_row1_col5\" class=\"data row1 col5\" >26.999927</td>\n",
       "      <td id=\"T_06bc1_row1_col6\" class=\"data row1 col6\" >26.150000</td>\n",
       "    </tr>\n",
       "    <tr>\n",
       "      <th id=\"T_06bc1_level1_row2\" class=\"row_heading level1 row2\" >236.000000</th>\n",
       "      <td id=\"T_06bc1_row2_col0\" class=\"data row2 col0\" >55.115152</td>\n",
       "      <td id=\"T_06bc1_row2_col1\" class=\"data row2 col1\" >33</td>\n",
       "      <td id=\"T_06bc1_row2_col2\" class=\"data row2 col2\" >1818.800000</td>\n",
       "      <td id=\"T_06bc1_row2_col3\" class=\"data row2 col3\" >180.169091</td>\n",
       "      <td id=\"T_06bc1_row2_col4\" class=\"data row2 col4\" >27.440000</td>\n",
       "      <td id=\"T_06bc1_row2_col5\" class=\"data row2 col5\" >27.000606</td>\n",
       "      <td id=\"T_06bc1_row2_col6\" class=\"data row2 col6\" >26.420000</td>\n",
       "    </tr>\n",
       "    <tr>\n",
       "      <th id=\"T_06bc1_level0_row3\" class=\"row_heading level0 row3\" >CAI</th>\n",
       "      <th id=\"T_06bc1_level1_row3\" class=\"row_heading level1 row3\" >235.000000</th>\n",
       "      <td id=\"T_06bc1_row3_col0\" class=\"data row3 col0\" >55.176471</td>\n",
       "      <td id=\"T_06bc1_row3_col1\" class=\"data row3 col1\" >17</td>\n",
       "      <td id=\"T_06bc1_row3_col2\" class=\"data row3 col2\" >938.000000</td>\n",
       "      <td id=\"T_06bc1_row3_col3\" class=\"data row3 col3\" >174.288235</td>\n",
       "      <td id=\"T_06bc1_row3_col4\" class=\"data row3 col4\" >27.330000</td>\n",
       "      <td id=\"T_06bc1_row3_col5\" class=\"data row3 col5\" >26.965882</td>\n",
       "      <td id=\"T_06bc1_row3_col6\" class=\"data row3 col6\" >26.440000</td>\n",
       "    </tr>\n",
       "    <tr>\n",
       "      <th id=\"T_06bc1_level0_row4\" class=\"row_heading level0 row4\" rowspan=\"3\">Cairo</th>\n",
       "      <th id=\"T_06bc1_level1_row4\" class=\"row_heading level1 row4\" >234.000000</th>\n",
       "      <td id=\"T_06bc1_row4_col0\" class=\"data row4 col0\" >54.980645</td>\n",
       "      <td id=\"T_06bc1_row4_col1\" class=\"data row4 col1\" >31</td>\n",
       "      <td id=\"T_06bc1_row4_col2\" class=\"data row4 col2\" >1704.400000</td>\n",
       "      <td id=\"T_06bc1_row4_col3\" class=\"data row4 col3\" >169.769032</td>\n",
       "      <td id=\"T_06bc1_row4_col4\" class=\"data row4 col4\" >27.410000</td>\n",
       "      <td id=\"T_06bc1_row4_col5\" class=\"data row4 col5\" >27.035806</td>\n",
       "      <td id=\"T_06bc1_row4_col6\" class=\"data row4 col6\" >26.580000</td>\n",
       "    </tr>\n",
       "    <tr>\n",
       "      <th id=\"T_06bc1_level1_row5\" class=\"row_heading level1 row5\" >235.000000</th>\n",
       "      <td id=\"T_06bc1_row5_col0\" class=\"data row5 col0\" >54.994089</td>\n",
       "      <td id=\"T_06bc1_row5_col1\" class=\"data row5 col1\" >4348</td>\n",
       "      <td id=\"T_06bc1_row5_col2\" class=\"data row5 col2\" >239114.300000</td>\n",
       "      <td id=\"T_06bc1_row5_col3\" class=\"data row5 col3\" >175.444202</td>\n",
       "      <td id=\"T_06bc1_row5_col4\" class=\"data row5 col4\" >27.660000</td>\n",
       "      <td id=\"T_06bc1_row5_col5\" class=\"data row5 col5\" >26.993054</td>\n",
       "      <td id=\"T_06bc1_row5_col6\" class=\"data row5 col6\" >26.290000</td>\n",
       "    </tr>\n",
       "    <tr>\n",
       "      <th id=\"T_06bc1_level1_row6\" class=\"row_heading level1 row6\" >236.000000</th>\n",
       "      <td id=\"T_06bc1_row6_col0\" class=\"data row6 col0\" >55.014706</td>\n",
       "      <td id=\"T_06bc1_row6_col1\" class=\"data row6 col1\" >34</td>\n",
       "      <td id=\"T_06bc1_row6_col2\" class=\"data row6 col2\" >1870.500000</td>\n",
       "      <td id=\"T_06bc1_row6_col3\" class=\"data row6 col3\" >181.228824</td>\n",
       "      <td id=\"T_06bc1_row6_col4\" class=\"data row6 col4\" >27.300000</td>\n",
       "      <td id=\"T_06bc1_row6_col5\" class=\"data row6 col5\" >27.005294</td>\n",
       "      <td id=\"T_06bc1_row6_col6\" class=\"data row6 col6\" >26.700000</td>\n",
       "    </tr>\n",
       "    <tr>\n",
       "      <th id=\"T_06bc1_level0_row7\" class=\"row_heading level0 row7\" >Kairo</th>\n",
       "      <th id=\"T_06bc1_level1_row7\" class=\"row_heading level1 row7\" >235.000000</th>\n",
       "      <td id=\"T_06bc1_row7_col0\" class=\"data row7 col0\" >55.093617</td>\n",
       "      <td id=\"T_06bc1_row7_col1\" class=\"data row7 col1\" >47</td>\n",
       "      <td id=\"T_06bc1_row7_col2\" class=\"data row7 col2\" >2589.400000</td>\n",
       "      <td id=\"T_06bc1_row7_col3\" class=\"data row7 col3\" >174.370426</td>\n",
       "      <td id=\"T_06bc1_row7_col4\" class=\"data row7 col4\" >27.460000</td>\n",
       "      <td id=\"T_06bc1_row7_col5\" class=\"data row7 col5\" >26.941915</td>\n",
       "      <td id=\"T_06bc1_row7_col6\" class=\"data row7 col6\" >26.380000</td>\n",
       "    </tr>\n",
       "  </tbody>\n",
       "</table>\n"
      ],
      "text/plain": [
       "<pandas.io.formats.style.Styler at 0x1adf71c3340>"
      ]
     },
     "execution_count": 41,
     "metadata": {},
     "output_type": "execute_result"
    }
   ],
   "source": [
    "pd.pivot_table(df, values=['Measure', 'WaterTemp','LineSpeed'], index=['City', 'ExtrTemp'],\n",
    "                    aggfunc={'Measure': np.mean,\n",
    "                             'WaterTemp': [min, max, np.mean],\n",
    "                            'LineSpeed':[np.sum,np.mean,np.size]}).style"
   ]
  },
  {
   "cell_type": "markdown",
   "metadata": {},
   "source": [
    "## Exercises"
   ]
  },
  {
   "cell_type": "markdown",
   "metadata": {},
   "source": [
    "(04:exercises:prob_1)=\n",
    "### Problem 1: "
   ]
  },
  {
   "cell_type": "markdown",
   "metadata": {},
   "source": [
    "*Computations of the Density and Percent Crystallinity of Polyethylene (Callister 10th ed., section 14.11)*\n",
    "        \n",
    "The % crystallinity is given by:\n",
    "\n",
    " $$  \\mathbf{\\text{% crystallinity} =  \\frac{\\rho_c (\\rho_s - \\rho_a)}{\\rho_s (\\rho_c - \\rho_a)} * 100} $$\n",
    "\n",
    "(1) Write a function that calculates the percent crystallinity of a branched polyethylene sample $\\rho_s$ that has a density of  $0.925\\ 𝑔\\ 𝑐𝑚^{-3}$ . The density of a totally amorphous material $\\rho_a$ is  $0.870 \\ 𝑔\\ 𝑐𝑚^{-3}$  and the density of a totally crystalline $\\rho_c$ material is  $0.998 \\ 𝑔\\ 𝑐𝑚^{-3}$ .\n",
    "\n",
    "(2) Calculate the sample density $\\rho_s$ versus % crystallinity and reproduce the plot below (including the horizontal lines and text). To find the equation for the sample density use the solve commands from `sympy` to solve the above crystallinity equation for $\\rho_s$. An example of using solve can be found in this lesson.  \n",
    "\n",
    "(3) Export your data to an excel file. "
   ]
  },
  {
   "cell_type": "markdown",
   "metadata": {},
   "source": [
    ":::{image} ../images/04_2114_prob_1.png\n",
    ":width: 400px\n",
    ":align: center\n",
    ":::"
   ]
  },
  {
   "cell_type": "markdown",
   "metadata": {
    "tags": [
     "remove-cell"
    ]
   },
   "source": [
    "<img alt=\"../images/04_2114_prob_1.png\" src=\"../images/04_2114_prob_1.png\" width=400px>"
   ]
  },
  {
   "cell_type": "markdown",
   "metadata": {},
   "source": [
    "(04:exercises:prob_2)=\n",
    "### Problem 2:"
   ]
  },
  {
   "cell_type": "markdown",
   "metadata": {},
   "source": [
    "Write a function that finds \"x\" random points in a square of edge length 2 centered at (0,0). Determines how many of these points are contained in a circle of radius 1 centered at (0,0). Returns the value $\\left(4\\times \\frac{\\text{pts in circle}}{\\text{total num pts}}\\right)$.  Plot the value $\\left(4\\times \\frac{\\text{pts in circle}}{\\text{total num pts}}\\right)$ versus number of points, x. **Your x should vary between 100 and 1e6**.  Also include a horizontal line at the value of pi on your plot.  "
   ]
  },
  {
   "cell_type": "markdown",
   "metadata": {},
   "source": [
    "(04:exercises:prob_3)=\n",
    "### Problem 3: "
   ]
  },
  {
   "cell_type": "markdown",
   "metadata": {},
   "source": [
    "Import the csv file \"titanic.csv\" and (a) determine the percentage of woman that survived and the percentage of men that survived and (b) determine the average ticket price (Fare) for those that survived versus those that did not survive.  0 = did not survive. 1 = survived.  "
   ]
  },
  {
   "cell_type": "code",
   "execution_count": null,
   "metadata": {},
   "outputs": [],
   "source": []
  }
 ],
 "metadata": {
  "jupytext": {
   "formats": "ipynb,md"
  },
  "kernelspec": {
   "display_name": "Python 3 (ipykernel)",
   "language": "python",
   "name": "python3"
  },
  "language_info": {
   "codemirror_mode": {
    "name": "ipython",
    "version": 3
   },
   "file_extension": ".py",
   "mimetype": "text/x-python",
   "name": "python",
   "nbconvert_exporter": "python",
   "pygments_lexer": "ipython3",
   "version": "3.10.9"
  },
  "toc": {
   "base_numbering": 1,
   "nav_menu": {},
   "number_sections": true,
   "sideBar": true,
   "skip_h1_title": false,
   "title_cell": "Table of Contents",
   "title_sidebar": "Contents",
   "toc_cell": false,
   "toc_position": {},
   "toc_section_display": true,
   "toc_window_display": false
  },
  "widgets": {
   "application/vnd.jupyter.widget-state+json": {
    "state": {},
    "version_major": 2,
    "version_minor": 0
   }
  }
 },
 "nbformat": 4,
 "nbformat_minor": 4
}
