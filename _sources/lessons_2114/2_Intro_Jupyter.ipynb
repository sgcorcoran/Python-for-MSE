{
 "cells": [
  {
   "cell_type": "markdown",
   "metadata": {},
   "source": [
    "# Intro to the Jupyter Notebook\n",
    "<hr style=\"height: 3.0px\"/>"
   ]
  },
  {
   "cell_type": "markdown",
   "metadata": {},
   "source": [
    "Prereq: Week 2 Exercises require us to know how to:\n",
    "* comment notebooks using Markdown cells \n",
    "* formatting equations in markdown cells\n",
    "* use `print()` statement with an **f-string** for better presentation of your final answer\n",
    "* use `numpy` extension for `np.sqrt()` and `np.exp()`\n",
    "* use `scipy.special` extension for `special.erf()`"
   ]
  },
  {
   "cell_type": "markdown",
   "metadata": {
    "tags": []
   },
   "source": [
    "## Markdown cells"
   ]
  },
  {
   "cell_type": "markdown",
   "metadata": {},
   "source": [
    "<img alt=\"markdown_basic.png\" src=\"../images/markdown_basic.png\" width=650>"
   ]
  },
  {
   "cell_type": "markdown",
   "metadata": {},
   "source": [
    "If you type the code shown above in a markdown cell and press Shift-Enter, the code will be replaced with a formatted version shown below.  "
   ]
  },
  {
   "cell_type": "markdown",
   "metadata": {},
   "source": [
    "If you download the jupyter notebook (*.ipynb) version of this lesson and double click in any markdown cell (**for example this cell**), you can see the code I wrote to use various formatting and special characters:   \n",
    "\n",
    "**bold text**, *italic text*, `highlighted text`\n",
    "\n",
    "or python formatted text: \n",
    "```python\n",
    "print('some text')\n",
    "```\n",
    "$\\mu$\n",
    "\n",
    "when done editing a markdown cell just press shift-enter as you would for code cells.  "
   ]
  },
  {
   "cell_type": "markdown",
   "metadata": {},
   "source": [
    "Make a new Markdown cell in a notebook and type:  \n",
    "```python\n",
    "`$\\psi$`\n",
    "```\n",
    "Press shift-enter.  What did you get?  "
   ]
  },
  {
   "cell_type": "markdown",
   "metadata": {},
   "source": [
    "## Equation formatting in markdown cells"
   ]
  },
  {
   "cell_type": "markdown",
   "metadata": {},
   "source": [
    "Now equations require special formatting.  Here are some examples (***remember to double click in this cell to see the coding***):  \n",
    "\n",
    "* subscript:  $x_2$ is given by `$x_2$`\n",
    "* superscript: $x^3$ is given by `$x^3$`\n",
    "* fraction:  $\\frac{3 x}{2}$ is given by `$\\frac{3 x}{2}$`\n",
    "\n",
    "Equations start and end with a dollar sign.  Between the dollar sign is LaTeX code which we will talk about more below.  "
   ]
  },
  {
   "cell_type": "markdown",
   "metadata": {},
   "source": [
    ">If we were to try `$10^23$`, we would get $10^23$.  We need to use `{23}`.  If `{}` are missing, it is assumed that only 1 character is being superscripted.  \n",
    ">\n",
    ">proper formatting:  `$10^{23}$` gives  $10^{23}$"
   ]
  },
  {
   "cell_type": "markdown",
   "metadata": {},
   "source": [
    ">This notation is **only** for markdown cells.  Do not use it in code cells or you will get errors.  For example, we can format avagadro's number in a \"Markdown\" cell as: `$6.02\\times10^{23}$` which gives $6.02\\times10^{23}$ but in a \"Code\" cell we would write `6.02*10**23`"
   ]
  },
  {
   "cell_type": "markdown",
   "metadata": {},
   "source": [
    "The notation used between the dollar signs is LaTeX so you can go online and use a LaTeX editor to create an equation and paste the results here.  For example, a quick search gives me http://www.hostmath.com/. Here you can click on equation templates and it gives you the LaTeX code.  Just remember to paste it between `$$`.  \n",
    "\n",
    "`$\\int_{a}^{b} \\frac{\\sqrt[4]{a x}}{x} \\text{ d}x$` : \n",
    "$\\int_{a}^{b} \\frac{\\sqrt[4]{a x}}{x} \\text{ d}x$\n",
    "\n",
    "use double dollar signs `$$ $$` if you want your equation on it's own line and centered: $$\\int_{a}^{b} \\frac{\\sqrt[4]{a x}}{x} \\text{ d}x$$"
   ]
  },
  {
   "cell_type": "markdown",
   "metadata": {},
   "source": [
    "double click to see the code for the following: \n",
    "$$\\begin{cases}a & x = 0\\\\b & x > 0\\end{cases}$$\n",
    "\n",
    "$$\\begin{bmatrix}a & b \\\\c & d \\end{bmatrix}$$\n",
    "${\\sum_a^b} $,  $\\overline{ab}$,  $\\overrightarrow{ab}$, $\\Huge\\alpha$, $\\Delta$, $\\Large\\delta$"
   ]
  },
  {
   "cell_type": "markdown",
   "metadata": {},
   "source": [
    "## Example Problem: Atoms in BCC"
   ]
  },
  {
   "cell_type": "markdown",
   "metadata": {},
   "source": [
    "Let's calculate the number of atoms in a cubic meter of a bcc material given the atomic radius of 0.15 nm.  "
   ]
  },
  {
   "cell_type": "markdown",
   "metadata": {},
   "source": [
    "The volume of an bcc unit cell is given by $V_{cell}=\\left(\\frac{4 R}{\\sqrt{3}} \\right)^3$.  The bcc unit cell contains 2 atoms so we get the number of atoms per cubic meter as: \n",
    "$$\\frac{2}{\\left(\\frac{4 R}{\\sqrt{3}} \\right)^3}$$\n",
    "if R is given in meters.  "
   ]
  },
  {
   "cell_type": "code",
   "execution_count": 7,
   "metadata": {},
   "outputs": [],
   "source": [
    "import numpy as np"
   ]
  },
  {
   "cell_type": "code",
   "execution_count": 9,
   "metadata": {},
   "outputs": [
    {
     "name": "stdout",
     "output_type": "stream",
     "text": [
      "4.811252243246881e+28\n",
      "The number of atoms in the bcc unit cell is 4.81e+28 atoms/m^3\n"
     ]
    }
   ],
   "source": [
    "num_atoms_bcc=(2/(4*0.15*10**-9/np.sqrt(3))**3) # notice the double \"**\" for power\n",
    "print(num_atoms_bcc)\n",
    "# or with nicer formatting & limiting answer to 2 decimal places\n",
    "print(f'The number of atoms in the bcc unit cell is {num_atoms_bcc:.2e} atoms/m^3')"
   ]
  },
  {
   "cell_type": "markdown",
   "metadata": {},
   "source": [
    "## Some additional help"
   ]
  },
  {
   "cell_type": "markdown",
   "metadata": {},
   "source": [
    "If you need to use functions such as the sqrt, exponential, sin, etc you will need to import numpy as \n",
    "```python\n",
    "import numpy as np\n",
    "```\n",
    "We imported this previously so we don't need to repeat that here. "
   ]
  },
  {
   "cell_type": "code",
   "execution_count": 4,
   "metadata": {},
   "outputs": [
    {
     "data": {
      "text/plain": [
       "7.38905609893065"
      ]
     },
     "execution_count": 4,
     "metadata": {},
     "output_type": "execute_result"
    }
   ],
   "source": [
    "np.exp(2)"
   ]
  },
  {
   "cell_type": "code",
   "execution_count": 11,
   "metadata": {},
   "outputs": [
    {
     "data": {
      "text/plain": [
       "12.0"
      ]
     },
     "execution_count": 11,
     "metadata": {},
     "output_type": "execute_result"
    }
   ],
   "source": [
    "np.sqrt(144)"
   ]
  },
  {
   "cell_type": "code",
   "execution_count": 10,
   "metadata": {},
   "outputs": [
    {
     "data": {
      "text/plain": [
       "0.7071067811865476"
      ]
     },
     "execution_count": 10,
     "metadata": {},
     "output_type": "execute_result"
    }
   ],
   "source": [
    "#180 degrees = pi radians\n",
    "# so 45 degrees would be Pi/4\n",
    "np.cos(np.pi/4) #trig functions all expect radians not degrees"
   ]
  },
  {
   "cell_type": "markdown",
   "metadata": {},
   "source": [
    "Some special functions such as the error function requires the special extension from the scipy library.  "
   ]
  },
  {
   "cell_type": "code",
   "execution_count": 11,
   "metadata": {},
   "outputs": [],
   "source": [
    "from scipy import special"
   ]
  },
  {
   "cell_type": "code",
   "execution_count": 12,
   "metadata": {},
   "outputs": [
    {
     "data": {
      "text/plain": [
       "0.5204998778130465"
      ]
     },
     "execution_count": 12,
     "metadata": {},
     "output_type": "execute_result"
    }
   ],
   "source": [
    "special.erf(0.5)"
   ]
  },
  {
   "cell_type": "markdown",
   "metadata": {},
   "source": [
    "You will need to write your own function again this week so check the examples from last week and the video lesson but below is the basic format and an example.  \n",
    "\n",
    "```python\n",
    "def function_name(variable_1, variable_2, etc):\n",
    "    statement_1\n",
    "    statement_2\n",
    "    return variable #or print() statement\n",
    "```"
   ]
  },
  {
   "cell_type": "code",
   "execution_count": 34,
   "metadata": {},
   "outputs": [],
   "source": [
    "def atoms_per_bcc(atomic_radius): #atomic_radius in nm\n",
    "    num_atoms_bcc=(2/(4*atomic_radius*10**-9/np.sqrt(3))**3)\n",
    "    return num_atoms_bcc  #return units = atoms/m^3"
   ]
  },
  {
   "cell_type": "code",
   "execution_count": 35,
   "metadata": {
    "tags": []
   },
   "outputs": [
    {
     "data": {
      "text/plain": [
       "4.811252243246881e+28"
      ]
     },
     "execution_count": 35,
     "metadata": {},
     "output_type": "execute_result"
    }
   ],
   "source": [
    "atoms_per_bcc(0.15)"
   ]
  },
  {
   "cell_type": "markdown",
   "metadata": {},
   "source": [
    "## FAQ"
   ]
  },
  {
   "cell_type": "markdown",
   "metadata": {},
   "source": [
    "1.  In the function definition above you used \"return\" but in other examples we used \"print.\"  What is the difference?"
   ]
  },
  {
   "cell_type": "markdown",
   "metadata": {},
   "source": [
    "> In the above example if we replace return() with print() and tried to use that output in an additional calculation, we would get an error.  For example:  \n",
    "```python\n",
    "def atoms_per_bcc(atomic_radius): #atomic_radius in nm\n",
    "    num_atoms_bcc=(2/(4*atomic_radius*10**-9/np.sqrt(3))**3)\n",
    "    print(num_atoms_bcc)\n",
    "    \n",
    "6*atoms_per_bcc(0.15) \n",
    "```\n",
    "gives a TypeError.  We are trying to multiply a print output by a number.  `return()` on the otherhand gives a numerical output that we can assign to variables or use in calculations, etc. "
   ]
  },
  {
   "cell_type": "markdown",
   "metadata": {},
   "source": [
    "## Exercises"
   ]
  },
  {
   "cell_type": "markdown",
   "metadata": {},
   "source": [
    "The problems below may require the ability to: \n",
    "* comment notebooks using Markdown cells\n",
    "* write equations in Markdown cells using `$LaTeX$` \n",
    "* use `print()` statement and **f-string** for better presentation of your final answer\n",
    "* use `numpy` extension\n",
    "* use `scipy.special` extension\n",
    "\n",
    "**Don't forget:** \n",
    "1. Include the original problem statement in your jupyter notebook.  \n",
    "2. Use Markdown to indicate the equations used. These should be nicely formatted, i.e. superscripts, subscripts, greek letters, etc.  \n",
    "3. Present your final answer using a `return()` statement and include a comment to indicate units. "
   ]
  },
  {
   "cell_type": "markdown",
   "metadata": {},
   "source": [
    "### Problem 1:\n",
    "<hr style=\"height: 2.0px\"/>"
   ]
  },
  {
   "cell_type": "markdown",
   "metadata": {
    "tags": []
   },
   "source": [
    "NaCl has a cubic unit cell with an edge length equivalent to $2 r_{Na^{+}} + 2 r_{Cl^{-}}$.  If the ionic radii are 0.102 and 0.181 nm respectively, compute the volume of the unit cell.  Remember to use a Markdown cell to write the final equation you are using.\n",
    ">Remember in Python exponents used in calculations are written `**` and not as `^`.  "
   ]
  },
  {
   "cell_type": "markdown",
   "metadata": {},
   "source": [
    "### Problem 2:\n",
    "<hr style=\"height: 2.0px\"/>"
   ]
  },
  {
   "cell_type": "markdown",
   "metadata": {},
   "source": [
    "If the atomic weights of Na and Cl are 22.99 and 35.45 $g/mol$ respectively and the unit cell contains $4 Na^+$ and $4 Cl^-$ ions, compute the density of NaCl in units of $g/cm^3$.  Use $6.022 \\times 10^{23}$ for Avagadro's number.  \n",
    "\n"
   ]
  },
  {
   "cell_type": "markdown",
   "metadata": {},
   "source": [
    "### Problem 3:\n",
    "<hr style=\"height: 2.0px\"/>"
   ]
  },
  {
   "cell_type": "markdown",
   "metadata": {},
   "source": [
    "Calculate the number of Schottky defects per cubic meter in potassium chloride at 500 $^{\\circ}$C. The energy required to form each Schottky defect is 2.6 eV and the density for KCl at 500 $^{\\circ}$C is 1.955 $g/cm^3$. The atomic weight for K and Cl is 39.10 and 35.45 g/mol respectively.\n",
    ">This problem will require the numpy package. Use the statement: `import numpy as np` then you can use `np.exp()`.\n",
    "\n"
   ]
  },
  {
   "cell_type": "markdown",
   "metadata": {},
   "source": [
    "### Problem 4:\n",
    "<hr style=\"height: 2.0px\"/>"
   ]
  },
  {
   "cell_type": "markdown",
   "metadata": {},
   "source": [
    "We want to harden the steel surface of a plate by carburization.  Our setup is such that the surface concentration of carbon is 1.20 wt%, the initial carbon in our steel sample is 0.2 wt%, at our processing temperature the diffusion coefficient is $1.6 \\times 10^{-11}$ $m^2 / s$, and our carburizing time is 5 hours.  Will the concentration at a depth of 0.5 mm exceed our target value of 0.80 wt%?  \n",
    "> This problem will require the scipy.special package. Use the statement: `from scipy import special` then you can use `special.erf()`.  \n",
    "\n"
   ]
  },
  {
   "cell_type": "markdown",
   "metadata": {},
   "source": [
    "### Problem 5:\n",
    "<hr style=\"height: 2.0px\"/>"
   ]
  },
  {
   "cell_type": "markdown",
   "metadata": {},
   "source": [
    "Define a function called unitcell_density where given: edgelength, num_atoms_1, num_atoms_2, A1, and A2, the function returns the density in units of $g/cm^3$. Your function can assume a cubic unit cell.  Use your function to repeat problem (2) above.  Use comments to indicate what units are expected for the input variables.  \n",
    "\n"
   ]
  },
  {
   "cell_type": "markdown",
   "metadata": {},
   "source": [
    "### Problem 6:\n",
    "<hr style=\"height: 2.0px\"/>"
   ]
  },
  {
   "cell_type": "markdown",
   "metadata": {},
   "source": [
    "Does your function in the previous problem work for single element materials?  Try using it to find the density of gold given the atomic radius of 0.1442 nm and the atomic weight of 196.96 g/mol. Recall that the edge length for fcc gold is given by $2 R \\sqrt{2}$ and the fcc unit cell contains a total of 4 atoms. Your answer should be given in units of $g/cm^3$.  "
   ]
  }
 ],
 "metadata": {
  "jupytext": {
   "formats": "ipynb,md"
  },
  "kernelspec": {
   "display_name": "Python 3 (ipykernel)",
   "language": "python",
   "name": "python3"
  },
  "language_info": {
   "codemirror_mode": {
    "name": "ipython",
    "version": 3
   },
   "file_extension": ".py",
   "mimetype": "text/x-python",
   "name": "python",
   "nbconvert_exporter": "python",
   "pygments_lexer": "ipython3",
   "version": "3.9.12"
  }
 },
 "nbformat": 4,
 "nbformat_minor": 4
}
