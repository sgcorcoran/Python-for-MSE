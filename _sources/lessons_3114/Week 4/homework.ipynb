{
 "cells": [
  {
   "cell_type": "markdown",
   "metadata": {},
   "source": [
    "**Week 4: Due Thursday Sept 16 11:59pm**\n",
    "<hr style=\"height: 3.0px\"/>\n",
    "\n",
    "**Problem 1:**  Reproduce the shapes found in the image file \"week 4 shapes.png\". \n",
    "1. Each shape outline should be colored as in the image file.\n",
    "2. Reduce your point size by plotting \".\" rather than \"o\" for the point type.\n",
    "3. Add labels to the x & y axes e.g. \"x-pixel coordinate\", \"y-pixel coordinate\" \n",
    "4. Set your x & y min,max values to correspond to the original image file dimensions.  You might have to look back to 2114 for this step.  \n"
   ]
  },
  {
   "cell_type": "code",
   "execution_count": null,
   "metadata": {},
   "outputs": [],
   "source": []
  }
 ],
 "metadata": {
  "jupytext": {
   "formats": "ipynb,md"
  },
  "kernelspec": {
   "display_name": "Python 3 (ipykernel)",
   "language": "python",
   "name": "python3"
  },
  "language_info": {
   "codemirror_mode": {
    "name": "ipython",
    "version": 3
   },
   "file_extension": ".py",
   "mimetype": "text/x-python",
   "name": "python",
   "nbconvert_exporter": "python",
   "pygments_lexer": "ipython3",
   "version": "3.8.11"
  }
 },
 "nbformat": 4,
 "nbformat_minor": 4
}
