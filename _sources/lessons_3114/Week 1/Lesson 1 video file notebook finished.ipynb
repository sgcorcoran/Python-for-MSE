{
 "cells": [
  {
   "cell_type": "markdown",
   "metadata": {},
   "source": [
    "## Creating your own functions for import"
   ]
  },
  {
   "cell_type": "markdown",
   "metadata": {},
   "source": [
    "### Our example comes from crystallography and will require some matrix manipulation so let's \n",
    "#### 1. take a refresher on matrices\n",
    "#### 2. look at creating and testing a function\n",
    "#### 3. copy function to a text file *.py for import"
   ]
  },
  {
   "cell_type": "markdown",
   "metadata": {},
   "source": [
    "When dealing with matrices, you will want to use the numpy.linalg module. You can read the documentation here: https://numpy.org/doc/stable/reference/routines.linalg.html"
   ]
  },
  {
   "cell_type": "code",
   "execution_count": 38,
   "metadata": {},
   "outputs": [],
   "source": [
    "import numpy as np  #the linalg module would then be np.linalg"
   ]
  },
  {
   "cell_type": "markdown",
   "metadata": {},
   "source": [
    "#### defining a matrix as a numpy array"
   ]
  },
  {
   "cell_type": "code",
   "execution_count": 19,
   "metadata": {},
   "outputs": [
    {
     "name": "stdout",
     "output_type": "stream",
     "text": [
      "[[11 21 31]\n",
      " [41 51 61]\n",
      " [71 81 91]]\n"
     ]
    },
    {
     "data": {
      "text/plain": [
       "array([[1, 2, 3],\n",
       "       [4, 5, 6],\n",
       "       [7, 8, 9]])"
      ]
     },
     "execution_count": 19,
     "metadata": {},
     "output_type": "execute_result"
    }
   ],
   "source": [
    "A=np.array([[1,2,3],[4,5,6],[7,8,9]])\n",
    "B=np.array([[11,21,31],[41,51,61],[71,81,91]])\n",
    "print(B)\n",
    "A"
   ]
  },
  {
   "cell_type": "markdown",
   "metadata": {},
   "source": [
    "#### multiplying matrices np.dot()"
   ]
  },
  {
   "cell_type": "code",
   "execution_count": 21,
   "metadata": {},
   "outputs": [
    {
     "data": {
      "text/plain": [
       "array([[ 306,  366,  426],\n",
       "       [ 675,  825,  975],\n",
       "       [1044, 1284, 1524]])"
      ]
     },
     "execution_count": 21,
     "metadata": {},
     "output_type": "execute_result"
    }
   ],
   "source": [
    "np.dot(A,B)"
   ]
  },
  {
   "attachments": {
    "image-2.png": {
     "image/png": "[encoded data removed]"
    }
   },
   "cell_type": "markdown",
   "metadata": {},
   "source": [
    "#### example:  gmatrix used in crystallography\n",
    "\n",
    "| | |\n",
    "|-|-|\n",
    "|![image-2.png](attachment:image-2.png)  |$$ g=\\begin{bmatrix}a^{2} & ab \\cos{(\\gamma)}&ac \\cos (\\beta) \\\\ab \\cos(\\gamma) & b^2 & bc \\cos (\\alpha) \\\\ ac  \\cos(\\beta) & bc \\cos(\\alpha)&c^2 \\end{bmatrix}$$|\n"
   ]
  },
  {
   "cell_type": "markdown",
   "metadata": {},
   "source": [
    "#### simple case: gmatrix for white tin (tetragonal)\n",
    "a = b = 0.583 nm\n",
    "c = 0.318 nm\n",
    "$\\alpha = \\beta = \\gamma = 90^{\\circ}$"
   ]
  },
  {
   "cell_type": "code",
   "execution_count": 22,
   "metadata": {},
   "outputs": [
    {
     "data": {
      "text/plain": [
       "array([[0.339889, 0.      , 0.      ],\n",
       "       [0.      , 0.339889, 0.      ],\n",
       "       [0.      , 0.      , 0.101124]])"
      ]
     },
     "execution_count": 22,
     "metadata": {},
     "output_type": "execute_result"
    }
   ],
   "source": [
    "g=np.array([[0.583**2, 0,0],[0,0.583**2, 0],[0,0,0.318**2]])\n",
    "g"
   ]
  },
  {
   "cell_type": "markdown",
   "metadata": {},
   "source": [
    "#### Volume of the unit cell for Tin = sqrt of determinant of $g$"
   ]
  },
  {
   "cell_type": "code",
   "execution_count": 23,
   "metadata": {},
   "outputs": [
    {
     "data": {
      "text/plain": [
       "0.10808470199999998"
      ]
     },
     "execution_count": 23,
     "metadata": {},
     "output_type": "execute_result"
    }
   ],
   "source": [
    "0.583*0.583*0.318"
   ]
  },
  {
   "cell_type": "code",
   "execution_count": 24,
   "metadata": {},
   "outputs": [
    {
     "data": {
      "text/plain": [
       "0.108084702"
      ]
     },
     "execution_count": 24,
     "metadata": {},
     "output_type": "execute_result"
    }
   ],
   "source": [
    "np.sqrt(np.linalg.det(g))"
   ]
  },
  {
   "cell_type": "markdown",
   "metadata": {},
   "source": [
    "#### Gmatrix for any a, b, c, $\\alpha, \\beta, \\gamma$"
   ]
  },
  {
   "cell_type": "code",
   "execution_count": 49,
   "metadata": {},
   "outputs": [],
   "source": [
    "def gmatrix(a,b,c,alpha,beta,gamma):\n",
    "    alpha=np.deg2rad(alpha)\n",
    "    beta=np.deg2rad(beta)\n",
    "    gamma=np.deg2rad(gamma)\n",
    "    g=np.array([\n",
    "    [a*a, a*b*np.cos(gamma), a*c*np.cos(beta)],\n",
    "    [b*a*np.cos(gamma), b*b, b*c*np.cos(alpha)], \n",
    "    [c*a*np.cos(beta),c*b*np.cos(alpha),c*c]\n",
    "    ])\n",
    "    return(g)\n",
    "    "
   ]
  },
  {
   "cell_type": "code",
   "execution_count": 50,
   "metadata": {},
   "outputs": [
    {
     "data": {
      "text/plain": [
       "array([[1.0000000e+00, 1.2246468e-16, 1.8369702e-16],\n",
       "       [1.2246468e-16, 4.0000000e+00, 3.6739404e-16],\n",
       "       [1.8369702e-16, 3.6739404e-16, 9.0000000e+00]])"
      ]
     },
     "execution_count": 50,
     "metadata": {},
     "output_type": "execute_result"
    }
   ],
   "source": [
    "gmatrix(1,2,3, 90,90,90)"
   ]
  },
  {
   "cell_type": "markdown",
   "metadata": {},
   "source": [
    "#### Write the function & test"
   ]
  },
  {
   "cell_type": "code",
   "execution_count": 51,
   "metadata": {},
   "outputs": [],
   "source": [
    "def vuc(a,b,c,alpha, beta, gamma):\n",
    "    alpha=np.deg2rad(alpha)\n",
    "    beta=np.deg2rad(beta)\n",
    "    gamma=np.deg2rad(gamma)\n",
    "    g=np.array([\n",
    "    [a*a, a*b*np.cos(gamma), a*c*np.cos(beta)],\n",
    "    [b*a*np.cos(gamma), b*b, b*c*np.cos(alpha)], \n",
    "    [c*a*np.cos(beta),c*b*np.cos(alpha),c*c]\n",
    "    ])\n",
    "    vol=np.sqrt(np.linalg.det(g))\n",
    "    return(vol)\n",
    "    "
   ]
  },
  {
   "cell_type": "code",
   "execution_count": 52,
   "metadata": {},
   "outputs": [
    {
     "data": {
      "text/plain": [
       "6.0"
      ]
     },
     "execution_count": 52,
     "metadata": {},
     "output_type": "execute_result"
    }
   ],
   "source": [
    "vuc(1,2,3, 90,90,90)"
   ]
  },
  {
   "cell_type": "markdown",
   "metadata": {},
   "source": [
    "#### Put it all in one cell, test again after restarting Kernel, copy to text file *.py"
   ]
  },
  {
   "cell_type": "code",
   "execution_count": 37,
   "metadata": {},
   "outputs": [],
   "source": [
    "\"\"\"\n",
    "Unit Cell Volume\n",
    "\n",
    "The following function calculates the volume of a unit cell of any crystal system \n",
    "given the lattice parameters a,b,c,alpha,beta,gamma\n",
    "\"\"\"\n",
    "\n",
    "import numpy as np\n",
    "\n",
    "def vuc(a,b,c,alpha, beta, gamma):\n",
    "    alpha=np.deg2rad(alpha)\n",
    "    beta=np.deg2rad(beta)\n",
    "    gamma=np.deg2rad(gamma)\n",
    "    g=np.array([\n",
    "    [a*a, a*b*np.cos(gamma), a*c*np.cos(beta)],\n",
    "    [b*a*np.cos(gamma), b*b, b*c*np.cos(alpha)], \n",
    "    [c*a*np.cos(beta),c*b*np.cos(alpha),c*c]\n",
    "    ])\n",
    "    vol=np.sqrt(np.linalg.det(g))\n",
    "    return(vol)"
   ]
  },
  {
   "cell_type": "code",
   "execution_count": 38,
   "metadata": {},
   "outputs": [
    {
     "data": {
      "text/plain": [
       "6.0"
      ]
     },
     "execution_count": 38,
     "metadata": {},
     "output_type": "execute_result"
    }
   ],
   "source": [
    "vuc(1,2,3, 90,90,90)"
   ]
  },
  {
   "cell_type": "markdown",
   "metadata": {},
   "source": [
    "Now copy the above cell into a file \"your\".py  \n",
    "\"your\" = whatever name you pick."
   ]
  },
  {
   "cell_type": "markdown",
   "metadata": {},
   "source": [
    "Now go and import your .py file in another notebook and see if it works!"
   ]
  },
  {
   "cell_type": "code",
   "execution_count": null,
   "metadata": {},
   "outputs": [],
   "source": []
  }
 ],
 "metadata": {
  "jupytext": {
   "formats": "ipynb,md"
  },
  "kernelspec": {
   "display_name": "Python 3 (ipykernel)",
   "language": "python",
   "name": "python3"
  },
  "language_info": {
   "codemirror_mode": {
    "name": "ipython",
    "version": 3
   },
   "file_extension": ".py",
   "mimetype": "text/x-python",
   "name": "python",
   "nbconvert_exporter": "python",
   "pygments_lexer": "ipython3",
   "version": "3.8.11"
  }
 },
 "nbformat": 4,
 "nbformat_minor": 4
}
