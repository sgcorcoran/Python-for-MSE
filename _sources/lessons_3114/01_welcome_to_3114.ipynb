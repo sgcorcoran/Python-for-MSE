{
 "cells": [
  {
   "cell_type": "markdown",
   "metadata": {},
   "source": [
    "# Welcome to MSE 3114\n",
    "\n",
    "<hr style=\"height: 3.0px\"/>"
   ]
  },
  {
   "cell_type": "markdown",
   "metadata": {},
   "source": [
    "Welcome back!  I hope you had some time to play around with Python over the summer.  If not, you will probably feel like you are starting all over again.  If that is the case, please take a look at  [Getting Started with Python](https://www.linkedin.com/learning/python-quick-start) for a refresher.  A list of recommended LinkedIn Learning videos can also be found in the [Appendix](LinkedIn-Learning-Rec).  Your cheat sheet notebooks should also help you. Hopefully you still have one from MSE 2114 (the prerequisite to this course)."
   ]
  },
  {
   "cell_type": "markdown",
   "metadata": {
    "tags": [
     "remove-cell"
    ]
   },
   "source": [
    "************* UPDATE CANVAS SITE LINK BELOW *************"
   ]
  },
  {
   "cell_type": "markdown",
   "metadata": {},
   "source": [
    ":::{important}\n",
    "1. See our [course Canvas site](https://canvas.vt.edu/courses/179081) for information on homework requirements, due dates, course expectations, grading, regrading, and announcements. \n",
    ":::"
   ]
  },
  {
   "cell_type": "markdown",
   "metadata": {
    "tags": []
   },
   "source": [
    "(3114-welcome-update)=\n",
    "## Updating Anaconda"
   ]
  },
  {
   "cell_type": "markdown",
   "metadata": {},
   "source": [
    "Directions for updating Anaconda is shown below and can also be found on the Anaconda web site (https://www.anaconda.com/blog/keeping-anaconda-date).  If you have any problems, you can always try a reinstall (https://www.anaconda.com/products/distribution) of Anaconda"
   ]
  },
  {
   "cell_type": "markdown",
   "metadata": {},
   "source": [
    "First open Anaconda Navigator  \n",
    ":::{image} ../images/Screenshot135220.png\n",
    ":height: 100px\n",
    ":::"
   ]
  },
  {
   "cell_type": "markdown",
   "metadata": {
    "tags": [
     "remove-cell"
    ]
   },
   "source": [
    "<img alt=\"../images/Screenshot135220.png\" src=\"../images/Screenshot135220.png\" height=100px>"
   ]
  },
  {
   "cell_type": "markdown",
   "metadata": {},
   "source": [
    "Then launch the command prompt  \n",
    ":::{image} ../images/jupyLab_command_prompt.png\n",
    ":height: 200px\n",
    ":::"
   ]
  },
  {
   "cell_type": "markdown",
   "metadata": {
    "tags": [
     "remove-cell"
    ]
   },
   "source": [
    "<img alt=\"../images/jupyLab_command_prompt.png\" src=\"../images/jupyLab_command_prompt.png\" width=250px>"
   ]
  },
  {
   "cell_type": "markdown",
   "metadata": {},
   "source": [
    "At the prompt, type `conda update --all` and press Enter  \n",
    ":::{image} ../images/update.png\n",
    ":height: 100px\n",
    ":::  \n"
   ]
  },
  {
   "cell_type": "markdown",
   "metadata": {
    "tags": [
     "remove-cell"
    ]
   },
   "source": [
    "<img alt=\"../images/update.png\" src=\"../images/update.png\" width=250px>"
   ]
  },
  {
   "cell_type": "markdown",
   "metadata": {},
   "source": [
    "  \n",
    "  \n",
    "Problems?  see: https://www.anaconda.com/blog/keeping-anaconda-date "
   ]
  }
 ],
 "metadata": {
  "celltoolbar": "Edit Metadata",
  "kernelspec": {
   "display_name": "Python 3 (ipykernel)",
   "language": "python",
   "name": "python3"
  },
  "language_info": {
   "codemirror_mode": {
    "name": "ipython",
    "version": 3
   },
   "file_extension": ".py",
   "mimetype": "text/x-python",
   "name": "python",
   "nbconvert_exporter": "python",
   "pygments_lexer": "ipython3",
   "version": "3.10.9"
  },
  "widgets": {
   "application/vnd.jupyter.widget-state+json": {
    "state": {},
    "version_major": 2,
    "version_minor": 0
   }
  }
 },
 "nbformat": 4,
 "nbformat_minor": 4
}
