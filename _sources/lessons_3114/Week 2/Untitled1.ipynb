{
 "cells": [
  {
   "cell_type": "code",
   "execution_count": 1,
   "id": "d471a67a",
   "metadata": {},
   "outputs": [],
   "source": [
    "import numpy as np\n",
    "import pandas as pd\n",
    "import matplotlib.pyplot as plt\n",
    "\n",
    "def ln(x):\n",
    "    return(np.log(x))\n",
    "\n",
    "def xyplt(filename, xcolumn_position, ycolumn_position, labelx, labely):\n",
    "    raw=pd.read_excel(filename)\n",
    "    plt.plot(raw.iloc[:,xcolumn_position],raw.iloc[:,ycolumn_position],'^b')\n",
    "    plt.xlabel(labelx)\n",
    "    plt.ylabel(labely)\n",
    "    plt.show()"
   ]
  },
  {
   "cell_type": "code",
   "execution_count": 2,
   "id": "2a432dfe",
   "metadata": {},
   "outputs": [
    {
     "data": {
      "text/plain": [
       "1.0986122886681098"
      ]
     },
     "execution_count": 2,
     "metadata": {},
     "output_type": "execute_result"
    }
   ],
   "source": [
    "ln(3)"
   ]
  },
  {
   "cell_type": "code",
   "execution_count": null,
   "id": "d2c37e79",
   "metadata": {},
   "outputs": [],
   "source": []
  }
 ],
 "metadata": {
  "kernelspec": {
   "display_name": "Python 3",
   "language": "python",
   "name": "python3"
  },
  "language_info": {
   "codemirror_mode": {
    "name": "ipython",
    "version": 3
   },
   "file_extension": ".py",
   "mimetype": "text/x-python",
   "name": "python",
   "nbconvert_exporter": "python",
   "pygments_lexer": "ipython3",
   "version": "3.8.8"
  }
 },
 "nbformat": 4,
 "nbformat_minor": 5
}
