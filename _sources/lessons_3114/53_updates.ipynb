{
 "cells": [
  {
   "cell_type": "markdown",
   "id": "0b4bb1a4-d617-4fe3-a4bc-0c12da0cc411",
   "metadata": {},
   "source": [
    "# Updates & FAQ"
   ]
  },
  {
   "cell_type": "markdown",
   "id": "1481d865-d2c6-44ed-8611-26e9d8a407f0",
   "metadata": {},
   "source": [
    "## Chap 05: matplotlib advanced layouts"
   ]
  },
  {
   "cell_type": "markdown",
   "id": "dd37dfa2-78af-473c-8127-1cd7aa73b2d0",
   "metadata": {},
   "source": [
    "### Adding pandas plots to subplots layout"
   ]
  },
  {
   "cell_type": "markdown",
   "id": "b39e0b68-e335-4a1f-92a6-0d17869ba428",
   "metadata": {},
   "source": [
    "Let's create a dataframe to plot. "
   ]
  },
  {
   "cell_type": "code",
   "execution_count": 15,
   "id": "da387569-57c8-4bdd-b1f6-477dfe074514",
   "metadata": {},
   "outputs": [
    {
     "data": {
      "text/html": [
       "<div>\n",
       "<style scoped>\n",
       "    .dataframe tbody tr th:only-of-type {\n",
       "        vertical-align: middle;\n",
       "    }\n",
       "\n",
       "    .dataframe tbody tr th {\n",
       "        vertical-align: top;\n",
       "    }\n",
       "\n",
       "    .dataframe thead th {\n",
       "        text-align: right;\n",
       "    }\n",
       "</style>\n",
       "<table border=\"1\" class=\"dataframe\">\n",
       "  <thead>\n",
       "    <tr style=\"text-align: right;\">\n",
       "      <th></th>\n",
       "      <th>length</th>\n",
       "      <th>width</th>\n",
       "      <th>species</th>\n",
       "    </tr>\n",
       "  </thead>\n",
       "  <tbody>\n",
       "    <tr>\n",
       "      <th>0</th>\n",
       "      <td>5.1</td>\n",
       "      <td>3.5</td>\n",
       "      <td>0</td>\n",
       "    </tr>\n",
       "    <tr>\n",
       "      <th>1</th>\n",
       "      <td>4.9</td>\n",
       "      <td>3.0</td>\n",
       "      <td>0</td>\n",
       "    </tr>\n",
       "    <tr>\n",
       "      <th>2</th>\n",
       "      <td>7.0</td>\n",
       "      <td>3.2</td>\n",
       "      <td>1</td>\n",
       "    </tr>\n",
       "    <tr>\n",
       "      <th>3</th>\n",
       "      <td>6.4</td>\n",
       "      <td>3.2</td>\n",
       "      <td>1</td>\n",
       "    </tr>\n",
       "    <tr>\n",
       "      <th>4</th>\n",
       "      <td>5.9</td>\n",
       "      <td>3.0</td>\n",
       "      <td>2</td>\n",
       "    </tr>\n",
       "  </tbody>\n",
       "</table>\n",
       "</div>"
      ],
      "text/plain": [
       "   length  width  species\n",
       "0     5.1    3.5        0\n",
       "1     4.9    3.0        0\n",
       "2     7.0    3.2        1\n",
       "3     6.4    3.2        1\n",
       "4     5.9    3.0        2"
      ]
     },
     "execution_count": 15,
     "metadata": {},
     "output_type": "execute_result"
    }
   ],
   "source": [
    "import pandas as pd\n",
    "import numpy as np\n",
    "import matplotlib.pyplot as plt\n",
    "\n",
    "############ here is an arbitrary dataframe to plot\n",
    "df = pd.DataFrame([[5.1, 3.5, 0], [4.9, 3.0, 0], [7.0, 3.2, 1],\n",
    "                    [6.4, 3.2, 1], [5.9, 3.0, 2]],\n",
    "                   columns=['length', 'width', 'species'])\n",
    "df"
   ]
  },
  {
   "cell_type": "markdown",
   "id": "454eefe3-e54c-4bfa-a629-7c7eaeb8b81f",
   "metadata": {},
   "source": [
    ":::{important}  \n",
    "The format for matplotlib plots is:  \n",
    "**axes_name**.plot_type(xdata, ydata, options) e.g., `axes1.scatter(x=df['length'], y=df['width'],'k.')`  \n",
    "The format for pandas plots is:  \n",
    "dataframe.plot.type(ax=**axes_name**, options) e.g., `df.plot.bar(ax=axes2)`  \n",
    "Example code is given below. Notice the placement for the axes name in matplotlib vs pandas.  \n",
    ":::"
   ]
  },
  {
   "cell_type": "code",
   "execution_count": 17,
   "id": "2a60b0f0-b0c6-47c8-be78-456fb520cfff",
   "metadata": {},
   "outputs": [
    {
     "data": {
      "image/png": "[encoded data removed]",
      "text/plain": [
       "<Figure size 576x288 with 2 Axes>"
      ]
     },
     "metadata": {
      "needs_background": "light"
     },
     "output_type": "display_data"
    }
   ],
   "source": [
    "############# plotting side by side\n",
    "fig, (axes1, axes2) = plt.subplots(nrows=1, ncols=2,figsize=(8, 4))\n",
    "\n",
    "########## matplotlib scatter plot\n",
    "axes1.scatter(x=df['length'], y=df['width'], marker='o', c='r', edgecolor='b')\n",
    "axes1.set_title('Title text here...')\n",
    "axes1.set_xlabel('x')\n",
    "axes1.set_ylabel('y')\n",
    "\n",
    "########### pandas bar plot\n",
    "df.plot.bar(ax=axes2) #note the difference in format compared to scatter above\n",
    "axes2.set_title('Title text here...')\n",
    "axes2.yaxis.tick_right()\n",
    "axes2.set_xlabel('x')\n",
    "axes2.set_ylabel('y')\n",
    "axes2.yaxis.set_label_position(\"right\")\n",
    "\n",
    "fig.tight_layout()"
   ]
  },
  {
   "cell_type": "code",
   "execution_count": null,
   "id": "a9a9d0ab-9663-4159-ade3-ea5955d9fecf",
   "metadata": {},
   "outputs": [],
   "source": []
  }
 ],
 "metadata": {
  "kernelspec": {
   "display_name": "Python 3 (ipykernel)",
   "language": "python",
   "name": "python3"
  },
  "language_info": {
   "codemirror_mode": {
    "name": "ipython",
    "version": 3
   },
   "file_extension": ".py",
   "mimetype": "text/x-python",
   "name": "python",
   "nbconvert_exporter": "python",
   "pygments_lexer": "ipython3",
   "version": "3.9.12"
  }
 },
 "nbformat": 4,
 "nbformat_minor": 5
}
