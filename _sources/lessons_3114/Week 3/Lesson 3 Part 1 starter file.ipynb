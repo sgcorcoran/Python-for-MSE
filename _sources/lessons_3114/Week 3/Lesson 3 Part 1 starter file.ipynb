{
 "cells": [
  {
   "cell_type": "markdown",
   "metadata": {},
   "source": [
    "<div style=\"text-align: right\"> Starter File </div> "
   ]
  },
  {
   "cell_type": "markdown",
   "metadata": {},
   "source": [
    "## Week 3 Lesson starter file\n",
    "\n",
    "#### Examples of using .groupby on pandas DataFrame data with bar and pie charts"
   ]
  },
  {
   "cell_type": "markdown",
   "metadata": {},
   "source": [
    "### See video lesson:  \n",
    "https://www.youtube.com/watch?v=UzZn_9c89LI&list=PL66uKvacDNIfFjQR8mu4M-dv_gQphK5qg&index=6 "
   ]
  },
  {
   "cell_type": "code",
   "execution_count": null,
   "metadata": {},
   "outputs": [],
   "source": [
    "import numpy as np\n",
    "import matplotlib.pyplot as plt\n",
    "import pandas as pd\n",
    "\n",
    "plt.style.use('seaborn-colorblind')\n",
    "\n",
    "path = 'titanic.csv'\n",
    "raw=pd.read_csv(path)\n",
    "\n",
    "# taking a subset of the data.  We could now make simple scatter plots of one column vs another as shown previously\n",
    "data=raw.loc[:,['Survived', 'Pclass','Sex','Age','Fare']]\n",
    "data.head(8)"
   ]
  },
  {
   "cell_type": "markdown",
   "metadata": {},
   "source": [
    "Basic format for finding average:  \n",
    "By **one** column:      `data.groupby().mean()`  \n",
    "By **two** columns:     `data.groupby().mean().unstack()`  \n",
    "By ***three*** columns: `data.groupby().mean().unstack().unstack()`  \n",
    "etc...\n",
    "\n",
    "Basic format for counting numbers:  \n",
    "By **one** column:      `data.groupby().count()`  \n",
    "By **two** columns:     `data.groupby().count().unstack()`  \n",
    "By ***three*** columns: `data.groupby().count().unstack().unstack()`  \n",
    "etc..."
   ]
  },
  {
   "cell_type": "markdown",
   "metadata": {},
   "source": [
    "1. What is the average ticket price paid by those that died vs survived? Present a bar graph.  "
   ]
  },
  {
   "cell_type": "code",
   "execution_count": null,
   "metadata": {},
   "outputs": [],
   "source": []
  },
  {
   "cell_type": "code",
   "execution_count": null,
   "metadata": {
    "scrolled": false
   },
   "outputs": [],
   "source": []
  },
  {
   "cell_type": "markdown",
   "metadata": {},
   "source": [
    "2. What is the average age of male and female passengers in 1st, 2nd, and 3rd class? Present a grouped bar chart. "
   ]
  },
  {
   "cell_type": "code",
   "execution_count": null,
   "metadata": {},
   "outputs": [],
   "source": []
  },
  {
   "cell_type": "code",
   "execution_count": null,
   "metadata": {},
   "outputs": [],
   "source": []
  },
  {
   "cell_type": "markdown",
   "metadata": {},
   "source": [
    "What is the number of male and female passengers vs ticket class that died vs survived? Present a grouped bar chart.  "
   ]
  },
  {
   "cell_type": "code",
   "execution_count": null,
   "metadata": {},
   "outputs": [],
   "source": []
  },
  {
   "cell_type": "code",
   "execution_count": null,
   "metadata": {},
   "outputs": [],
   "source": []
  },
  {
   "cell_type": "code",
   "execution_count": null,
   "metadata": {},
   "outputs": [],
   "source": []
  }
 ],
 "metadata": {
  "jupytext": {
   "formats": "ipynb,md"
  },
  "kernelspec": {
   "display_name": "Python 3",
   "language": "python",
   "name": "python3"
  },
  "language_info": {
   "codemirror_mode": {
    "name": "ipython",
    "version": 3
   },
   "file_extension": ".py",
   "mimetype": "text/x-python",
   "name": "python",
   "nbconvert_exporter": "python",
   "pygments_lexer": "ipython3",
   "version": "3.8.8"
  }
 },
 "nbformat": 4,
 "nbformat_minor": 4
}
