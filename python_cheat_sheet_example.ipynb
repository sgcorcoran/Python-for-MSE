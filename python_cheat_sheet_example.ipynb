{
 "cells": [
  {
   "cell_type": "markdown",
   "metadata": {},
   "source": [
    "# Example Python Cheat Sheet template"
   ]
  },
  {
   "cell_type": "markdown",
   "metadata": {},
   "source": [
    "Double click in the cell below to see how I made this Table of Contents.  For example, the first bullet below is written: ```* [import statements](#import-statements)``` the first part in the square brackets is what you see in the bullet list, the second part links to a markdown cell starting with some number of \"#\" and named \"import statements\".  You must include the dash instead of spaces in this statement. "
   ]
  },
  {
   "cell_type": "markdown",
   "metadata": {},
   "source": [
    "#### Table of Contents\n",
    "* [import statements](#import-statements)\n",
    "* [navigation](#navigation-within-notebook)\n",
    "* [defining my own function](#defining-my-own-function)\n",
    "* [list comprehensions](#list-comprehensions)\n",
    "* [f-string](#f-string)\n",
    "* [random numbers](#random-numbers)\n",
    "* [starred expressions](#starred-expressions)\n",
    "* [equations](#equations)\n",
    "* [markdown](#markdown)\n",
    "* [dataframes](#dataframes)\n",
    "* [reading & writing excel files](#reading-&-writing-excel)\n",
    "* [plotting](#plotting)\n",
    "* [curve fitting](#curve-fitting)\n"
   ]
  },
  {
   "cell_type": "markdown",
   "metadata": {},
   "source": [
    "#### import statements"
   ]
  },
  {
   "cell_type": "markdown",
   "metadata": {},
   "source": [
    "typical import statements\n",
    "```python\n",
    "import numpy as np\n",
    "import pandas as pd\n",
    "from pandas import Series, DataFrame\n",
    "import matplotlib.pyplot as plt\n",
    "```\n",
    "\n",
    "to use special.erf()\n",
    "```python\n",
    "from scipy import special\n",
    "```\n",
    "\n",
    "for curve fitting to data\n",
    "```python\n",
    "from scipy.optimize import curve_fit\n",
    "```"
   ]
  },
  {
   "cell_type": "markdown",
   "metadata": {},
   "source": [
    "#### navigation within notebook"
   ]
  },
  {
   "cell_type": "markdown",
   "metadata": {},
   "source": [
    "For referring to a specific section in a notebook just simply add to table of contents:\n",
    "```python\n",
    "[link text](#entire-text-of-section-with-hyphen-for-spaces)\n",
    "```"
   ]
  },
  {
   "cell_type": "markdown",
   "metadata": {},
   "source": [
    "#### defining my own function"
   ]
  },
  {
   "cell_type": "markdown",
   "metadata": {},
   "source": [
    "#### list comprehensions"
   ]
  },
  {
   "cell_type": "code",
   "execution_count": null,
   "metadata": {},
   "outputs": [],
   "source": [
    "[7*x for x in [3,4,5,6,7] if x<=6 and x>3] #list comprehension style with conditional"
   ]
  },
  {
   "cell_type": "markdown",
   "metadata": {},
   "source": [
    "#### f-string"
   ]
  },
  {
   "cell_type": "markdown",
   "metadata": {},
   "source": [
    "#### random numbers"
   ]
  },
  {
   "cell_type": "markdown",
   "metadata": {},
   "source": [
    "###### starred expressions"
   ]
  },
  {
   "cell_type": "markdown",
   "metadata": {},
   "source": [
    "#### equations"
   ]
  },
  {
   "cell_type": "markdown",
   "metadata": {},
   "source": [
    "$$\\rho=\\frac{\\sum n A}{N_A V_{cell}}$$\n",
    "\n",
    "$$N_{schot} = N_{sites}\\ e^{\\frac{-Q}{2 k_b T}}$$\n",
    "\n",
    "$$N_{sites}=\\frac{\\rho N_A}{A} $$\n",
    "\n",
    "$$\\frac{C_{x,t}-C_0}{C_s-C_0}=1-Erf\\left(\\frac{x}{2 \\sqrt{D t}}\\right)$$\n",
    "\n"
   ]
  },
  {
   "cell_type": "markdown",
   "metadata": {},
   "source": [
    "#### markdown"
   ]
  },
  {
   "cell_type": "markdown",
   "metadata": {},
   "source": [
    "#### dataframes"
   ]
  },
  {
   "cell_type": "markdown",
   "metadata": {},
   "source": [
    "#### reading & writing excel"
   ]
  },
  {
   "cell_type": "markdown",
   "metadata": {},
   "source": [
    "#### curve fitting"
   ]
  },
  {
   "cell_type": "markdown",
   "metadata": {},
   "source": [
    "#### plotting"
   ]
  },
  {
   "cell_type": "markdown",
   "metadata": {},
   "source": [
    "[back to top](#Table-of-Contents)"
   ]
  },
  {
   "cell_type": "code",
   "execution_count": null,
   "metadata": {},
   "outputs": [],
   "source": []
  }
 ],
 "metadata": {
  "jupytext": {
   "formats": "ipynb,md"
  },
  "kernelspec": {
   "display_name": "Python 3",
   "language": "python",
   "name": "python3"
  },
  "language_info": {
   "codemirror_mode": {
    "name": "ipython",
    "version": 3
   },
   "file_extension": ".py",
   "mimetype": "text/x-python",
   "name": "python",
   "nbconvert_exporter": "python",
   "pygments_lexer": "ipython3",
   "version": "3.7.3"
  }
 },
 "nbformat": 4,
 "nbformat_minor": 2
}
