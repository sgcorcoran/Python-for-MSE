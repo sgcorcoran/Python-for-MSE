{
 "cells": [
  {
   "cell_type": "markdown",
   "metadata": {},
   "source": [
    "# Reviewing essential concepts of numpy"
   ]
  },
  {
   "cell_type": "markdown",
   "metadata": {
    "tags": []
   },
   "source": [
    ":::{admonition} Learning Objectives  \n",
    "Be able to:\n",
    "* appreciate the advantage of using numpy arrays\n",
    "* create numpy arrays: `np.array()` and intrinsic creation\n",
    "* use various numpy essentials such as `np.linspace()`, `np.zeros()`, `np.ones()`, `np.geomspace()`, `np.arange()`\n",
    "* mainuplate numpy data types e.g. `np.astype()`\n",
    ":::"
   ]
  },
  {
   "cell_type": "markdown",
   "metadata": {},
   "source": [
    "*You will need the following extensions:*"
   ]
  },
  {
   "cell_type": "code",
   "execution_count": 1,
   "metadata": {
    "tags": []
   },
   "outputs": [],
   "source": [
    "import numpy as np\n",
    "import matplotlib.pyplot as pl"
   ]
  },
  {
   "cell_type": "markdown",
   "metadata": {},
   "source": [
    "Suggested video lessons:"
   ]
  },
  {
   "cell_type": "markdown",
   "metadata": {},
   "source": [
    ":::{index} numpy arrays\n",
    ":::"
   ]
  },
  {
   "cell_type": "markdown",
   "metadata": {},
   "source": [
    "Why use numpy arrays (7 min):  https://www.linkedin.com/learning/numpy-data-science-essential-training/create-arrays-from-python-structures?u=57888345"
   ]
  },
  {
   "cell_type": "markdown",
   "metadata": {},
   "source": [
    "Array creation (7 min): https://www.linkedin.com/learning/numpy-data-science-essential-training/intrinsic-creation-using-numpy-methods?u=57888345"
   ]
  },
  {
   "cell_type": "markdown",
   "metadata": {},
   "source": [
    ":::{index} numpy data types\n",
    ":::"
   ]
  },
  {
   "cell_type": "markdown",
   "metadata": {},
   "source": [
    ":::{index} np.linspace , np.zeros , np.ones, linspace, ones, zeros\n",
    ":::"
   ]
  },
  {
   "cell_type": "markdown",
   "metadata": {},
   "source": [
    "linspace(), zeros(), ones() and numpy data types (9 min): https://www.linkedin.com/learning/numpy-data-science-essential-training/linspace-zeros-ones-data-types?u=57888345"
   ]
  },
  {
   "cell_type": "markdown",
   "metadata": {
    "tags": []
   },
   "source": [
    "## Calculating and Plotting the anisotropy of the thermal expansion coefficient"
   ]
  },
  {
   "cell_type": "markdown",
   "metadata": {},
   "source": [
    "Let's take a look at the anisotropy of thermal expansion in a crystal of zinc. We will take the z-axis to be perpendicular to the close-packed planes.  In the x-y plane, the thermal expansion is isotropic but in the x-z or y-z plane zinc is highly anisotropic.  The thermal expansion in a [uvw] direction can be found from:  \n",
    "$\\alpha_{uvw} = \\alpha_x\\times(n_x^2+n_y^2)+\\alpha_z\\times n_z^2$  \n",
    "where $n_x, n_y, n_z$ are the x,y,z components of the unit vector $\\frac{[u v w]}{\\sqrt{u^2+v^2+w^2}}$ i.e.  \n",
    "$(n_x, n_y, n_z)=\\frac{(u,v,w)}{\\sqrt{u^2+v^2+w^2}}$. \n",
    "\n"
   ]
  },
  {
   "cell_type": "code",
   "execution_count": 3,
   "metadata": {},
   "outputs": [],
   "source": [
    "import numpy as np\n",
    "import matplotlib.pyplot as plt"
   ]
  },
  {
   "cell_type": "markdown",
   "metadata": {},
   "source": [
    "### Let's look at an example for zinc\n",
    "For zinc $\\alpha_{x}=14\\times 10^{-6} \\ \\ {^\\circ C}^{-1}$ and $\\alpha_{z}=55\\times 10^{-6} \\ \\ {^\\circ} C^{-1}$"
   ]
  },
  {
   "cell_type": "markdown",
   "metadata": {},
   "source": [
    "First let's write a function to find the unit vector in a direction [u v w]"
   ]
  },
  {
   "cell_type": "code",
   "execution_count": 5,
   "metadata": {},
   "outputs": [],
   "source": [
    "def unitvec(u,v,w):\n",
    "    mag=np.sqrt()  # 1(a) finish this line\n",
    "    return [u,v,w]/mag"
   ]
  },
  {
   "cell_type": "code",
   "execution_count": 6,
   "metadata": {},
   "outputs": [
    {
     "name": "stdout",
     "output_type": "stream",
     "text": [
      "[1. 0. 0.]\n",
      "[0.70710678 0.70710678 0.        ]\n",
      "[0.57735027 0.57735027 0.57735027]\n"
     ]
    }
   ],
   "source": [
    "# let's test some values for our function unitvec()\n",
    "print(unitvec(1,0,0))\n",
    "print(unitvec(1,1,0))\n",
    "print(unitvec(1,1,1))"
   ]
  },
  {
   "cell_type": "code",
   "execution_count": 7,
   "metadata": {},
   "outputs": [
    {
     "name": "stdout",
     "output_type": "stream",
     "text": [
      "unit vector in direction [012] is: [0.         0.4472136  0.89442719]\n",
      "therefore nx is just the first value = 0.0\n",
      "ny the second = 0.4472135954999579\n",
      "and nz the third = 0.8944271909999159\n"
     ]
    }
   ],
   "source": [
    "# What would the values of nx, ny, and nz be for the direction [uvw] = [012]\n",
    "print(f'unit vector in direction [012] is: {unitvec(0,1,2)}')\n",
    "print(f'therefore nx is just the first value = {unitvec(0,1,2)[0]}')\n",
    "print(f'ny the second = {unitvec(0,1,2)[1]}')\n",
    "print(f'and nz the third = {unitvec(0,1,2)[2]}')"
   ]
  },
  {
   "cell_type": "markdown",
   "metadata": {},
   "source": [
    "Substituting into $\\alpha_{012}$ (with $\\alpha_x = 14$ and $\\alpha_z=55$)  \n",
    "$\\alpha_{uvw} = 14\\times(n_x^2+n_y^2)+55\\times n_z^2$  \n",
    "gives the thermal expansion in the [012] direction"
   ]
  },
  {
   "cell_type": "code",
   "execution_count": 8,
   "metadata": {},
   "outputs": [
    {
     "data": {
      "text/plain": [
       "46.79999995797073"
      ]
     },
     "execution_count": 8,
     "metadata": {},
     "output_type": "execute_result"
    }
   ],
   "source": [
    "14*(0**2+0.4472136**2)+55*0.89442719**2  #in units 10^-6 C^-1"
   ]
  },
  {
   "cell_type": "code",
   "execution_count": 9,
   "metadata": {},
   "outputs": [],
   "source": [
    "# write a def to find alpha\n",
    "def alpha(nx,ny,nz,ax,az):\n",
    "    α_uvw =    # 1(b) finish this line\n",
    "    return α_uvw"
   ]
  },
  {
   "cell_type": "code",
   "execution_count": 10,
   "metadata": {},
   "outputs": [
    {
     "data": {
      "text/plain": [
       "46.79999999999999"
      ]
     },
     "execution_count": 10,
     "metadata": {},
     "output_type": "execute_result"
    }
   ],
   "source": [
    "# let's find alpha in a couple of additional directions\n",
    "#first let's confirm our answer above [012] that we did above\n",
    "uvw012=unitvec(0,1,2)\n",
    "alpha(uvw012[0],uvw012[1],uvw012[2], 14, 55)"
   ]
  },
  {
   "cell_type": "markdown",
   "metadata": {},
   "source": [
    "Let's now consider calculating $\\alpha$ in a number of directions"
   ]
  },
  {
   "cell_type": "code",
   "execution_count": 14,
   "metadata": {},
   "outputs": [],
   "source": [
    "directions=[[0,1,2], [0,0,1], [0,1,0], [0,1,1]]"
   ]
  },
  {
   "cell_type": "markdown",
   "metadata": {},
   "source": [
    "This is a list of [uvw] directions.  How do we find just the u-values for each direction, i.e. [0,0,0,0] in this case.  We could try `directions[0]` but this give [0,1,2].  We could try `directions[0:3,0]` but this gives an error. We can use a for loop:"
   ]
  },
  {
   "cell_type": "code",
   "execution_count": 17,
   "metadata": {},
   "outputs": [
    {
     "data": {
      "text/plain": [
       "[0, 0, 0, 0]"
      ]
     },
     "execution_count": 17,
     "metadata": {},
     "output_type": "execute_result"
    }
   ],
   "source": [
    "uvalues=[]\n",
    "for uvw in directions:\n",
    "    uvalues.append(uvw[0])\n",
    "uvalues"
   ]
  },
  {
   "cell_type": "markdown",
   "metadata": {},
   "source": [
    "A simpler way is to use numpy arrays and not python lists.  "
   ]
  },
  {
   "cell_type": "code",
   "execution_count": 18,
   "metadata": {},
   "outputs": [
    {
     "data": {
      "text/plain": [
       "array([[0, 1, 2],\n",
       "       [0, 0, 1],\n",
       "       [0, 1, 0],\n",
       "       [0, 1, 1]])"
      ]
     },
     "execution_count": 18,
     "metadata": {},
     "output_type": "execute_result"
    }
   ],
   "source": [
    "directions_array=np.array(directions)\n",
    "directions_array"
   ]
  },
  {
   "cell_type": "markdown",
   "metadata": {},
   "source": [
    "Now the uvalues can be found simply as `directions_array[0:4,0]`. Recall the format is `variable[row_start:row_end+1, column_start:column_end+1]` or if we only want the first value (column) in each direction we just have: `variable[row_start:row_end+1, 0]` without the colon."
   ]
  },
  {
   "cell_type": "code",
   "execution_count": 25,
   "metadata": {},
   "outputs": [
    {
     "data": {
      "text/plain": [
       "array([0, 0, 0, 0])"
      ]
     },
     "execution_count": 25,
     "metadata": {},
     "output_type": "execute_result"
    }
   ],
   "source": [
    "uvalues=directions_array[0:4, 0] # remember that the format here is [rows, columns]\n",
    "uvalues"
   ]
  },
  {
   "cell_type": "code",
   "execution_count": 22,
   "metadata": {},
   "outputs": [],
   "source": [
    "#shorthand if we want all rows and say 2nd column v_values"
   ]
  },
  {
   "cell_type": "code",
   "execution_count": 24,
   "metadata": {},
   "outputs": [
    {
     "data": {
      "text/plain": [
       "array([1, 0, 1, 1])"
      ]
     },
     "execution_count": 24,
     "metadata": {},
     "output_type": "execute_result"
    }
   ],
   "source": [
    "directions_array[:,1] #2nd column is 1 since we start counting from zero"
   ]
  },
  {
   "cell_type": "markdown",
   "metadata": {},
   "source": [
    "Recall our directions array: "
   ]
  },
  {
   "cell_type": "code",
   "execution_count": 29,
   "metadata": {},
   "outputs": [
    {
     "data": {
      "text/plain": [
       "array([[0, 1, 2],\n",
       "       [0, 0, 1],\n",
       "       [0, 1, 0],\n",
       "       [0, 1, 1]])"
      ]
     },
     "execution_count": 29,
     "metadata": {},
     "output_type": "execute_result"
    }
   ],
   "source": [
    "directions_array"
   ]
  },
  {
   "cell_type": "markdown",
   "metadata": {},
   "source": [
    "We can substitute each of these directions into our `unitvec(u,v,w)` function using a for loop: "
   ]
  },
  {
   "cell_type": "markdown",
   "metadata": {},
   "source": [
    ":::{index} append\n",
    ":::"
   ]
  },
  {
   "cell_type": "code",
   "execution_count": 34,
   "metadata": {},
   "outputs": [
    {
     "data": {
      "text/plain": [
       "[array([0.        , 0.4472136 , 0.89442719]),\n",
       " array([0., 0., 1.]),\n",
       " array([0., 1., 0.]),\n",
       " array([0.        , 0.70710678, 0.70710678])]"
      ]
     },
     "execution_count": 34,
     "metadata": {},
     "output_type": "execute_result"
    }
   ],
   "source": [
    "unitvec_array=[]\n",
    "for x,y,z in directions_array:\n",
    "    unitvec_array.append(unitvec(x,y,z))\n",
    "unitvec_array"
   ]
  },
  {
   "cell_type": "markdown",
   "metadata": {},
   "source": [
    "or in much more compact form using list comprehensions: "
   ]
  },
  {
   "cell_type": "code",
   "execution_count": 93,
   "metadata": {},
   "outputs": [
    {
     "data": {
      "text/plain": [
       "array([[0.        , 0.4472136 , 0.89442719],\n",
       "       [0.        , 0.        , 1.        ],\n",
       "       [0.        , 1.        , 0.        ],\n",
       "       [0.        , 0.70710678, 0.70710678]])"
      ]
     },
     "execution_count": 93,
     "metadata": {},
     "output_type": "execute_result"
    }
   ],
   "source": [
    "unitvec_array=np.array([unitvec(u,v,w) for u,v,w in directions_array])\n",
    "unitvec_array"
   ]
  },
  {
   "cell_type": "markdown",
   "metadata": {},
   "source": [
    "Now to find the thermal expansion in each direction: "
   ]
  },
  {
   "cell_type": "code",
   "execution_count": 94,
   "metadata": {},
   "outputs": [
    {
     "data": {
      "text/plain": [
       "[46.79999999999999, 55.0, 14.0, 34.49999999999999]"
      ]
     },
     "execution_count": 94,
     "metadata": {},
     "output_type": "execute_result"
    }
   ],
   "source": [
    "#corresponding expansion coeff.\n",
    "alphalist= [alpha(u,v,w, 14, 55) for u,v,w in unitvec_array]\n",
    "alphalist"
   ]
  },
  {
   "cell_type": "markdown",
   "metadata": {},
   "source": [
    "Now we take each value alpha and multiply the corresponding [uvw] unit direction.  "
   ]
  },
  {
   "cell_type": "code",
   "execution_count": 97,
   "metadata": {},
   "outputs": [
    {
     "data": {
      "text/plain": [
       "array([[ 0.        , 20.92959627, 41.85919254],\n",
       "       [ 0.        ,  0.        , 55.        ],\n",
       "       [ 0.        , 14.        ,  0.        ],\n",
       "       [ 0.        , 24.39518395, 24.39518395]])"
      ]
     },
     "execution_count": 97,
     "metadata": {},
     "output_type": "execute_result"
    }
   ],
   "source": [
    "alpha_vec=np.array([unitvec_array[i]*alphalist[i] for i in np.arange(len(unitvec_array))])\n",
    "alpha_vec"
   ]
  },
  {
   "cell_type": "code",
   "execution_count": 98,
   "metadata": {},
   "outputs": [
    {
     "data": {
      "image/png": "[encoded data removed]",
      "text/plain": [
       "<Figure size 640x480 with 1 Axes>"
      ]
     },
     "metadata": {},
     "output_type": "display_data"
    }
   ],
   "source": [
    "xdata=alpha_vec[:,1]\n",
    "ydata=alpha_vec[:,2]\n",
    "# plot direction (v_unit,w_unit)*alphalist\n",
    "fig, ax = plt.subplots()\n",
    "ax.plot(xdata, ydata, 'ro')\n",
    "ax.set_xlabel('v')\n",
    "ax.set_ylabel('w')\n",
    "ax.set_aspect(1)\n",
    "plt.show()"
   ]
  },
  {
   "cell_type": "markdown",
   "metadata": {},
   "source": [
    "::: {note}  \n",
    "If you imagine a vector from (0,0) to any point in the figure above. The length of that vector is equal to the thermal expansion coefficient in that direction.  \n",
    ":::"
   ]
  },
  {
   "cell_type": "markdown",
   "metadata": {},
   "source": [
    "There are many ways to improve the visual appeal of our plot.  "
   ]
  },
  {
   "cell_type": "markdown",
   "metadata": {},
   "source": [
    ":::{index} equations in plot labels, LaTeX in plot labels, plt.subplots, plot, set_aspect, set_xlabel, set_title, arrow\n",
    ":::"
   ]
  },
  {
   "cell_type": "code",
   "execution_count": 92,
   "metadata": {},
   "outputs": [
    {
     "data": {
      "image/png": "[encoded data removed]",
      "text/plain": [
       "<Figure size 640x480 with 1 Axes>"
      ]
     },
     "metadata": {},
     "output_type": "display_data"
    }
   ],
   "source": [
    "# main plot of xdata, ydata defined previously\n",
    "fig, ax = plt.subplots()\n",
    "ax.plot(xdata, ydata, 'bo') # 'bo' means blue point\n",
    "ax.set_aspect('equal')  # aspect ratio set equal so that scales on x and y are equal\n",
    "\n",
    "# comment out the line below when you don't know the axes limits\n",
    "ax.axis([0,30,0,60]) # setting plot axes [xmin, xmax, ymin, ymax]\n",
    "\n",
    "# add title and label axes\n",
    "ax.set_title('Thermal expansion coeff')\n",
    "ax.set_xlabel(r'$10^{-6}\\ ^\\circ C^{-1}$', fontsize=14) \n",
    "ax.set_ylabel(r'$10^{-6}\\ ^\\circ C^{-1}$', fontsize=14)\n",
    "\n",
    "# add arrows (xstart, ystart, change in x, change in y)\n",
    "# arrow(startx,starty,length_in_x, length_in_y)\n",
    "ax.arrow(0,0,34.5*unitvec(0,1,1)[1], 34.5*unitvec(0,1,1)[2], length_includes_head=True,width=0.5,head_length=4, head_width=3)\n",
    "\n",
    "# add text xy=[xcoord,ycoord] use plot axis values to place text\n",
    "ax.annotate('[011]',xy=[17,27])\n",
    "\n",
    "# put it all together\n",
    "plt.show()"
   ]
  },
  {
   "cell_type": "markdown",
   "metadata": {},
   "source": [
    "## Exercises"
   ]
  },
  {
   "cell_type": "markdown",
   "metadata": {},
   "source": [
    "### Problem 1"
   ]
  },
  {
   "cell_type": "markdown",
   "metadata": {},
   "source": [
    "In the lesson above, there are two lines of code that need to be completed for this notebook to execute.  They are labeled \"1(a) finish this line\" and \"1(b) finish this line\".  Complete the code for these two and write below.  \n",
    "(a)  \n",
    "(b)  "
   ]
  },
  {
   "cell_type": "markdown",
   "metadata": {},
   "source": [
    "### Problem 2"
   ]
  },
  {
   "cell_type": "markdown",
   "metadata": {},
   "source": [
    "Plot the thermal expansion coefficient for zinc in the v,w plane as shown in the lesson but this time pick 500 random directions of the form [0 v w] where v and w should correspond to both negative and positive values.  You can simply use the random() function as you did last lesson to choose numbers between -1 and 1 for both v and w.  After this, don't forget to then turn these directions into unit directions as shown in the lesson.  Note the symmetry you get about (0,0) in your final plot.  \n",
    "\n",
    "Hint: Get your notebook working for just a few points before you try to run it with 500 values. "
   ]
  },
  {
   "cell_type": "markdown",
   "metadata": {},
   "source": [
    "### Problem 3"
   ]
  },
  {
   "cell_type": "markdown",
   "metadata": {},
   "source": [
    "Your choice.  Solve a problem from one of your other classes either currently or in the past.  You can extend the problem if it is too simple.  Your answer should include enough commenting to make sure the problem is understood.  Equations should be typed out using the dollar sign math in the markdown cells and you should include some type of plot relevant to the problem. Make sure you label the plot axes and add a title to your plot.  "
   ]
  },
  {
   "cell_type": "code",
   "execution_count": null,
   "metadata": {},
   "outputs": [],
   "source": []
  }
 ],
 "metadata": {
  "jupytext": {
   "formats": "ipynb,md"
  },
  "kernelspec": {
   "display_name": "Python 3 (ipykernel)",
   "language": "python",
   "name": "python3"
  },
  "language_info": {
   "codemirror_mode": {
    "name": "ipython",
    "version": 3
   },
   "file_extension": ".py",
   "mimetype": "text/x-python",
   "name": "python",
   "nbconvert_exporter": "python",
   "pygments_lexer": "ipython3",
   "version": "3.10.9"
  },
  "toc": {
   "base_numbering": 1,
   "nav_menu": {},
   "number_sections": true,
   "sideBar": true,
   "skip_h1_title": false,
   "title_cell": "Table of Contents",
   "title_sidebar": "Contents",
   "toc_cell": false,
   "toc_position": {},
   "toc_section_display": true,
   "toc_window_display": false
  },
  "widgets": {
   "application/vnd.jupyter.widget-state+json": {
    "state": {},
    "version_major": 2,
    "version_minor": 0
   }
  }
 },
 "nbformat": 4,
 "nbformat_minor": 4
}