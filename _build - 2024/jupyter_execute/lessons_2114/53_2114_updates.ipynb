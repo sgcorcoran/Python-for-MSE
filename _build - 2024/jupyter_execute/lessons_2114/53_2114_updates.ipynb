{
 "cells": [
  {
   "cell_type": "markdown",
   "id": "0b4bb1a4-d617-4fe3-a4bc-0c12da0cc411",
   "metadata": {},
   "source": [
    "# Updates & FAQ"
   ]
  }
 ],
 "metadata": {
  "kernelspec": {
   "display_name": "Python 3 (ipykernel)",
   "language": "python",
   "name": "python3"
  },
  "language_info": {
   "codemirror_mode": {
    "name": "ipython",
    "version": 3
   },
   "file_extension": ".py",
   "mimetype": "text/x-python",
   "name": "python",
   "nbconvert_exporter": "python",
   "pygments_lexer": "ipython3",
   "version": "3.10.6"
  }
 },
 "nbformat": 4,
 "nbformat_minor": 5
}