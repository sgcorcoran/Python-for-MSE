{
 "cells": [
  {
   "cell_type": "markdown",
   "id": "7369ab1d-0123-4c93-8415-8d468a672f19",
   "metadata": {},
   "source": [
    "# MSE 2114 Data Files"
   ]
  },
  {
   "cell_type": "markdown",
   "id": "9072e26a-d436-4876-b9a1-7b9d35b5f724",
   "metadata": {},
   "source": [
    "## Download links"
   ]
  },
  {
   "cell_type": "markdown",
   "id": "84d40d37-467d-45bc-b04c-6f00e33a0ce5",
   "metadata": {},
   "source": [
    "Files are stored in google drive and can be downloaded using the links in the list below.  "
   ]
  },
  {
   "cell_type": "markdown",
   "id": "8bce2322-8609-4082-9ec6-30871c391575",
   "metadata": {},
   "source": [
    "Files in the order in which they show up in the textbook. \n",
    "\n",
    "|    Data Set Download Link   |    File Type     |   File ID  |\n",
    "| :-------------------------- | :------------   | :---------- |\n",
    "|[Titanic Data Set (csv file)](https://drive.google.com/uc?export=download&id=1ELCvnr0WjQcglNlmxhqzsAOK8DnPaHW_) |csv |  1ELCvnr0WjQcglNlmxhqzsAOK8DnPaHW_ |\n",
    "| | | |\n",
    "| | | |\n",
    "| | | |\n",
    "---"
   ]
  },
  {
   "cell_type": "markdown",
   "id": "74faaa42-345e-4b8c-b408-205f3085047a",
   "metadata": {},
   "source": [
    "(Appendix_2114_Data_Files_direct)=\n",
    "## Direct read code"
   ]
  },
  {
   "cell_type": "markdown",
   "id": "7a499226-d72b-4300-b0f2-055b94f60de7",
   "metadata": {},
   "source": [
    "The data can also be downloaded directly into your notebook using the file url in place of the file path in our read statements.  Examples for different types of files are shown below.  "
   ]
  },
  {
   "cell_type": "markdown",
   "id": "bd7ae97b-0273-4491-881b-f18eaa1cf698",
   "metadata": {},
   "source": [
    "Remember to make sure that you have run: `import pandas as pd` also these files **must already be shared** on google drive. \n",
    "\n",
    "* Excel file:  \n",
    "`pd.read_excel(\"https://drive.google.com/uc?id=14uBqZM8ekl1RoFgx3nwCJM7fe9N144RI\")`  \n",
    "* CSV file:  \n",
    "`pd.read_csv(\"https://drive.google.com/uc?id=1ELCvnr0WjQcglNlmxhqzsAOK8DnPaHW_)`  \n",
    "* Compressed (ZIP) CSV file:  \n",
    "`pd.read_csv(\"https://drive.google.com/uc?id=1uBJd4eIZgYL38YyG4AZsbpGvBuH9KCsQ\",compression='zip')`  \n",
    "* Google Sheet e.g. google form data responses:\n",
    "`pd.read_csv(https://docs.google.com/spreadsheets/d/13PLZ2N8txdPGn9P19VINPAMDup7ExLsh_Dso9_qLw0c/export?format=csv)`\n"
   ]
  },
  {
   "cell_type": "code",
   "execution_count": null,
   "id": "7ce308d7-15d4-4c50-bd11-1720f832e2cd",
   "metadata": {},
   "outputs": [],
   "source": []
  }
 ],
 "metadata": {
  "kernelspec": {
   "display_name": "Python 3 (ipykernel)",
   "language": "python",
   "name": "python3"
  },
  "language_info": {
   "codemirror_mode": {
    "name": "ipython",
    "version": 3
   },
   "file_extension": ".py",
   "mimetype": "text/x-python",
   "name": "python",
   "nbconvert_exporter": "python",
   "pygments_lexer": "ipython3",
   "version": "3.10.6"
  }
 },
 "nbformat": 4,
 "nbformat_minor": 5
}
