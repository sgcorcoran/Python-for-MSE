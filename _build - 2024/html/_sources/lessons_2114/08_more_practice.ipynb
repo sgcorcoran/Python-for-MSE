{
 "cells": [
  {
   "cell_type": "markdown",
   "metadata": {},
   "source": [
    "# More Practice\n",
    "\n"
   ]
  },
  {
   "cell_type": "markdown",
   "metadata": {
    "tags": []
   },
   "source": [
    ":::{admonition} Learning Objectives  \n",
    "Be able to:\n",
    "* Read an excel file into a pandas dataframe\n",
    "* Check and correct column data types in a dataframe \n",
    "* Drop columns containing no data i.e. NaN\n",
    "* Drop rows with missing values\n",
    "* Add new columns to the dataframe\n",
    "* Select data based on the values in one of the columns\n",
    "* Plot the data using matplotlib.pyplot\n",
    "* Perform a non-linear fit to the data using scipy.optimize.curve_fit and interpret the results  \n",
    "  \n",
    "Applications:  \n",
    "* Energy between two atoms versus separation distance (Callister, Chapter 2 Bonding)\n",
    "* Elastic modulus of tubular shaft in bending (Callister, 9th ed. Example 16.1) \n",
    "* Concrete data set (\"github.com/maajdl/Yeh-concrete-data-sklearn\")  \n",
    "  \n",
    "Date files needed: \n",
    "* [06_Tafel_data.xlsx](https://drive.google.com/uc?export=download&id=1p2p9uiMFOciCMFCS7ASpmgi0gDvTSMOi)\n",
    "* [08_bond_energy_data.xlsx](https://drive.google.com/uc?export=download&id=1nvC9doMoIfS39OKmE6SswhLvZhhO6ANU)\n",
    "* [08_concrete_data_Yeh.csv](https://drive.google.com/uc?export=download&id=1qgxD7kCX2_ppsRioi3fyxte-s4rgyt12)  \n",
    ":::"
   ]
  },
  {
   "cell_type": "code",
   "execution_count": 7,
   "metadata": {},
   "outputs": [],
   "source": [
    "import numpy as np\n",
    "import matplotlib.pyplot as plt\n",
    "import pandas as pd\n",
    "from pathlib import Path\n",
    "from scipy.optimize import curve_fit"
   ]
  },
  {
   "cell_type": "markdown",
   "metadata": {},
   "source": [
    "## Exercises"
   ]
  },
  {
   "cell_type": "markdown",
   "metadata": {},
   "source": [
    "### Problem 1"
   ]
  },
  {
   "cell_type": "markdown",
   "metadata": {},
   "source": [
    "Using pandas, read the data file  [06_Tafel_data.xlsx](https://drive.google.com/uc?export=download&id=1p2p9uiMFOciCMFCS7ASpmgi0gDvTSMOi) into a variable called 'raw_data'.  \n",
    "(a) execute `raw_data.iloc[2:7,1:3]` and then  \n",
    "(b) explain in plain language what the above command did. Comment on how `.iloc[]` differs from `.loc[]`  \n",
    "(c) write the equivalent command as in (a) but now using `.loc[]` rather than `.iloc[]`  "
   ]
  },
  {
   "cell_type": "markdown",
   "metadata": {},
   "source": [
    "### Problem 2"
   ]
  },
  {
   "cell_type": "markdown",
   "metadata": {},
   "source": [
    "(a) Plot the data in the file [08_bond_energy_data.xlsx](https://drive.google.com/uc?export=download&id=1nvC9doMoIfS39OKmE6SswhLvZhhO6ANU) and  (b) Find the best fit to the data using the function: $$E = -\\frac{A}{r}+\\frac{B}{r^{\\ n}}$$ and add this to your plot. For this equation, the Bond Energy is in eV and the atom separation, r, is in nm.  You need to define your own function beginning `def bondEnergy(r, A, B, n):` (c) Use the pandas function `.min()` to find the equilibrium bond energy, $E_0$, and then the corresponding equilibrium atom spacing, $r_0$.  Add a horizontal and vertical line to your plot at these values, respectively.  "
   ]
  },
  {
   "cell_type": "markdown",
   "metadata": {},
   "source": [
    "### Problem 3"
   ]
  },
  {
   "cell_type": "markdown",
   "metadata": {},
   "source": [
    "(a) The longitudinal modulus of elasticity of a tubular shaft measured in bending is given by: $$E = \\frac{4 F L^3}{3 \\pi \\Delta y\\ (d_0^4-d_i^4)}$$ where F is the applied load (1000 N), L is the distance between support points in the 3-point bend test (1.0 m), $\\Delta y$ is the deflection at the half-way point (0.35 mm), $d_0$ is the outer diameter (70 mm) and $d_i$ is the inner diameter (50 mm). Write a function (starting out with `def mod(F,L,Δy,d_o,d_i):`) to calculate the longitudinal modulus of elasticity. Calculate the longitudinal modulus of elasticity. Use print with an f-string to include the units with your answer and limit your answer to 2 decimals.  \n",
    "  \n",
    "(b) Write a function for the beam deflection starting with `def deflec(di,do,L,F, E):`.  For the same setup as above if the modulus is 200 GPa, plot the deflection, $\\Delta y$, as a function of the inner diameter where $20\\ mm \\leq d_i \\leq 60\\ mm$.  Make sure you label your axes.  Use small blue points.  "
   ]
  },
  {
   "cell_type": "markdown",
   "metadata": {},
   "source": [
    "### Problem 4"
   ]
  },
  {
   "cell_type": "markdown",
   "metadata": {},
   "source": [
    "Read the data file: [08_concrete_data_Yeh.csv](https://drive.google.com/uc?export=download&id=1qgxD7kCX2_ppsRioi3fyxte-s4rgyt12)\n",
    "\n",
    "1.  Find the density of each concrete sample by adding together the data: cement, slag, flyash, water, superplasticizer, courseaggregate, and fineaggregate.  \n",
    "2.  Plot the compressive strength vs age for the concrete samples that have a density between 2450 and 2452.5.  Label your axes and use green points. "
   ]
  }
 ],
 "metadata": {
  "jupytext": {
   "formats": "ipynb,md"
  },
  "kernelspec": {
   "display_name": "Python 3 (ipykernel)",
   "language": "python",
   "name": "python3"
  },
  "language_info": {
   "codemirror_mode": {
    "name": "ipython",
    "version": 3
   },
   "file_extension": ".py",
   "mimetype": "text/x-python",
   "name": "python",
   "nbconvert_exporter": "python",
   "pygments_lexer": "ipython3",
   "version": "3.10.9"
  },
  "toc": {
   "base_numbering": 1,
   "nav_menu": {},
   "number_sections": true,
   "sideBar": true,
   "skip_h1_title": false,
   "title_cell": "Table of Contents",
   "title_sidebar": "Contents",
   "toc_cell": false,
   "toc_position": {},
   "toc_section_display": true,
   "toc_window_display": false
  }
 },
 "nbformat": 4,
 "nbformat_minor": 4
}
